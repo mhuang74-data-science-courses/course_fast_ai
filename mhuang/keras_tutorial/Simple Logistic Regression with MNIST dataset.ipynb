{
 "cells": [
  {
   "cell_type": "code",
   "execution_count": 1,
   "metadata": {
    "collapsed": false
   },
   "outputs": [
    {
     "name": "stderr",
     "output_type": "stream",
     "text": [
      "Using Theano backend.\n",
      "WARNING (theano.sandbox.cuda): CUDA is installed, but device gpu is not available  (error: Unable to get the number of gpus available: unknown error)\n"
     ]
    }
   ],
   "source": [
    "from keras.models import Sequential\n",
    "from keras.layers import Dense\n",
    "from keras.optimizers import SGD\n",
    "from keras.datasets import mnist\n",
    "from keras.utils import np_utils"
   ]
  },
  {
   "cell_type": "code",
   "execution_count": 2,
   "metadata": {
    "collapsed": true
   },
   "outputs": [],
   "source": [
    "batch_size = 128\n",
    "nb_classes = 10\n",
    "nb_epoch = 100"
   ]
  },
  {
   "cell_type": "markdown",
   "metadata": {},
   "source": [
    "## Load MNIST dataset"
   ]
  },
  {
   "cell_type": "code",
   "execution_count": 3,
   "metadata": {
    "collapsed": false
   },
   "outputs": [],
   "source": [
    "(X_train_raw, Y_train_raw), (X_test_raw, Y_test_raw) = mnist.load_data()"
   ]
  },
  {
   "cell_type": "markdown",
   "metadata": {},
   "source": [
    "### Reshape Data from image matrix to array & normalize\n"
   ]
  },
  {
   "cell_type": "code",
   "execution_count": 4,
   "metadata": {
    "collapsed": false
   },
   "outputs": [],
   "source": [
    "X_train = X_train_raw.reshape(X_train_raw.shape[0], X_train_raw.shape[1]*X_train_raw.shape[2]).astype('float32')\n",
    "X_train /= 255.\n",
    "\n",
    "X_test = X_test_raw.reshape(X_test_raw.shape[0], X_test_raw.shape[1]*X_test_raw.shape[2]).astype('float32')\n",
    "X_test /= 255."
   ]
  },
  {
   "cell_type": "code",
   "execution_count": 5,
   "metadata": {
    "collapsed": false
   },
   "outputs": [],
   "source": [
    "Y_train = np_utils.to_categorical(Y_train_raw)\n",
    "\n",
    "Y_test = np_utils.to_categorical(Y_test_raw)"
   ]
  },
  {
   "cell_type": "markdown",
   "metadata": {},
   "source": [
    "## Logistic Regression Model"
   ]
  },
  {
   "cell_type": "code",
   "execution_count": 6,
   "metadata": {
    "collapsed": false
   },
   "outputs": [
    {
     "name": "stdout",
     "output_type": "stream",
     "text": [
      "____________________________________________________________________________________________________\n",
      "Layer (type)                     Output Shape          Param #     Connected to                     \n",
      "====================================================================================================\n",
      "dense_1 (Dense)                  (None, 10)            7850        dense_input_1[0][0]              \n",
      "====================================================================================================\n",
      "Total params: 7850\n",
      "____________________________________________________________________________________________________\n"
     ]
    }
   ],
   "source": [
    "model = Sequential()\n",
    "model.add(Dense(output_dim=10, input_shape=(784,), init='normal', activation='softmax'))\n",
    "model.compile(optimizer=SGD(lr=0.05), loss='categorical_crossentropy', metrics=['accuracy'])\n",
    "model.summary()"
   ]
  },
  {
   "cell_type": "markdown",
   "metadata": {},
   "source": [
    "## Train"
   ]
  },
  {
   "cell_type": "code",
   "execution_count": 7,
   "metadata": {
    "collapsed": false
   },
   "outputs": [
    {
     "name": "stdout",
     "output_type": "stream",
     "text": [
      "Train on 48000 samples, validate on 12000 samples\n",
      "Epoch 1/100\n",
      "48000/48000 [==============================] - 0s - loss: 0.7782 - acc: 0.8177 - val_loss: 0.4723 - val_acc: 0.8848\n",
      "Epoch 2/100\n",
      "48000/48000 [==============================] - 0s - loss: 0.4609 - acc: 0.8788 - val_loss: 0.3957 - val_acc: 0.8995\n",
      "Epoch 3/100\n",
      "48000/48000 [==============================] - 0s - loss: 0.4076 - acc: 0.8895 - val_loss: 0.3656 - val_acc: 0.9033\n",
      "Epoch 4/100\n",
      "48000/48000 [==============================] - 0s - loss: 0.3807 - acc: 0.8956 - val_loss: 0.3477 - val_acc: 0.9069\n",
      "Epoch 5/100\n",
      "48000/48000 [==============================] - 0s - loss: 0.3640 - acc: 0.8994 - val_loss: 0.3355 - val_acc: 0.9101\n",
      "Epoch 6/100\n",
      "48000/48000 [==============================] - 0s - loss: 0.3519 - acc: 0.9031 - val_loss: 0.3269 - val_acc: 0.9105\n",
      "Epoch 7/100\n",
      "48000/48000 [==============================] - 0s - loss: 0.3427 - acc: 0.9041 - val_loss: 0.3207 - val_acc: 0.9117\n",
      "Epoch 8/100\n",
      "48000/48000 [==============================] - 0s - loss: 0.3355 - acc: 0.9066 - val_loss: 0.3147 - val_acc: 0.9140\n",
      "Epoch 9/100\n",
      "48000/48000 [==============================] - 0s - loss: 0.3295 - acc: 0.9077 - val_loss: 0.3103 - val_acc: 0.9158\n",
      "Epoch 10/100\n",
      "48000/48000 [==============================] - 0s - loss: 0.3245 - acc: 0.9095 - val_loss: 0.3069 - val_acc: 0.9152\n",
      "Epoch 11/100\n",
      "48000/48000 [==============================] - 0s - loss: 0.3202 - acc: 0.9106 - val_loss: 0.3039 - val_acc: 0.9162\n",
      "Epoch 12/100\n",
      "48000/48000 [==============================] - 0s - loss: 0.3164 - acc: 0.9119 - val_loss: 0.3013 - val_acc: 0.9162\n",
      "Epoch 13/100\n",
      "48000/48000 [==============================] - 0s - loss: 0.3131 - acc: 0.9129 - val_loss: 0.2993 - val_acc: 0.9167\n",
      "Epoch 14/100\n",
      "48000/48000 [==============================] - 0s - loss: 0.3102 - acc: 0.9138 - val_loss: 0.2967 - val_acc: 0.9176\n",
      "Epoch 15/100\n",
      "48000/48000 [==============================] - 0s - loss: 0.3076 - acc: 0.9144 - val_loss: 0.2944 - val_acc: 0.9181\n",
      "Epoch 16/100\n",
      "48000/48000 [==============================] - 0s - loss: 0.3051 - acc: 0.9151 - val_loss: 0.2931 - val_acc: 0.9195\n",
      "Epoch 17/100\n",
      "48000/48000 [==============================] - 0s - loss: 0.3029 - acc: 0.9157 - val_loss: 0.2917 - val_acc: 0.9194\n",
      "Epoch 18/100\n",
      "48000/48000 [==============================] - 0s - loss: 0.3011 - acc: 0.9162 - val_loss: 0.2898 - val_acc: 0.9198\n",
      "Epoch 19/100\n",
      "48000/48000 [==============================] - 0s - loss: 0.2989 - acc: 0.9169 - val_loss: 0.2884 - val_acc: 0.9205\n",
      "Epoch 20/100\n",
      "48000/48000 [==============================] - 0s - loss: 0.2974 - acc: 0.9169 - val_loss: 0.2876 - val_acc: 0.9199\n",
      "Epoch 21/100\n",
      "48000/48000 [==============================] - 0s - loss: 0.2958 - acc: 0.9179 - val_loss: 0.2868 - val_acc: 0.9202\n",
      "Epoch 22/100\n",
      "48000/48000 [==============================] - 0s - loss: 0.2943 - acc: 0.9186 - val_loss: 0.2854 - val_acc: 0.9209\n",
      "Epoch 23/100\n",
      "48000/48000 [==============================] - 0s - loss: 0.2929 - acc: 0.9183 - val_loss: 0.2846 - val_acc: 0.9208\n",
      "Epoch 24/100\n",
      "48000/48000 [==============================] - 0s - loss: 0.2915 - acc: 0.9192 - val_loss: 0.2838 - val_acc: 0.9212\n",
      "Epoch 25/100\n",
      "48000/48000 [==============================] - 0s - loss: 0.2904 - acc: 0.9193 - val_loss: 0.2828 - val_acc: 0.9218\n",
      "Epoch 26/100\n",
      "48000/48000 [==============================] - 0s - loss: 0.2892 - acc: 0.9194 - val_loss: 0.2821 - val_acc: 0.9217\n",
      "Epoch 27/100\n",
      "48000/48000 [==============================] - 0s - loss: 0.2881 - acc: 0.9199 - val_loss: 0.2814 - val_acc: 0.9216\n",
      "Epoch 28/100\n",
      "48000/48000 [==============================] - 0s - loss: 0.2870 - acc: 0.9203 - val_loss: 0.2807 - val_acc: 0.9228\n",
      "Epoch 29/100\n",
      "48000/48000 [==============================] - 0s - loss: 0.2860 - acc: 0.9206 - val_loss: 0.2802 - val_acc: 0.9227\n",
      "Epoch 30/100\n",
      "48000/48000 [==============================] - 0s - loss: 0.2850 - acc: 0.9206 - val_loss: 0.2798 - val_acc: 0.9219\n",
      "Epoch 31/100\n",
      "48000/48000 [==============================] - 0s - loss: 0.2842 - acc: 0.9212 - val_loss: 0.2797 - val_acc: 0.9216\n",
      "Epoch 32/100\n",
      "48000/48000 [==============================] - 0s - loss: 0.2834 - acc: 0.9214 - val_loss: 0.2785 - val_acc: 0.9237\n",
      "Epoch 33/100\n",
      "48000/48000 [==============================] - 0s - loss: 0.2825 - acc: 0.9213 - val_loss: 0.2779 - val_acc: 0.9231\n",
      "Epoch 34/100\n",
      "48000/48000 [==============================] - 0s - loss: 0.2817 - acc: 0.9219 - val_loss: 0.2773 - val_acc: 0.9232\n",
      "Epoch 35/100\n",
      "48000/48000 [==============================] - 0s - loss: 0.2809 - acc: 0.9218 - val_loss: 0.2770 - val_acc: 0.9230\n",
      "Epoch 36/100\n",
      "48000/48000 [==============================] - 0s - loss: 0.2802 - acc: 0.9218 - val_loss: 0.2764 - val_acc: 0.9235\n",
      "Epoch 37/100\n",
      "48000/48000 [==============================] - 0s - loss: 0.2795 - acc: 0.9221 - val_loss: 0.2768 - val_acc: 0.9227\n",
      "Epoch 38/100\n",
      "48000/48000 [==============================] - 0s - loss: 0.2787 - acc: 0.9228 - val_loss: 0.2762 - val_acc: 0.9237\n",
      "Epoch 39/100\n",
      "48000/48000 [==============================] - 0s - loss: 0.2781 - acc: 0.9227 - val_loss: 0.2757 - val_acc: 0.9232\n",
      "Epoch 40/100\n",
      "48000/48000 [==============================] - 0s - loss: 0.2776 - acc: 0.9226 - val_loss: 0.2753 - val_acc: 0.9222\n",
      "Epoch 41/100\n",
      "48000/48000 [==============================] - 0s - loss: 0.2768 - acc: 0.9229 - val_loss: 0.2751 - val_acc: 0.9237\n",
      "Epoch 42/100\n",
      "48000/48000 [==============================] - 0s - loss: 0.2764 - acc: 0.9234 - val_loss: 0.2744 - val_acc: 0.9238\n",
      "Epoch 43/100\n",
      "48000/48000 [==============================] - 0s - loss: 0.2758 - acc: 0.9233 - val_loss: 0.2741 - val_acc: 0.9230\n",
      "Epoch 44/100\n",
      "48000/48000 [==============================] - 0s - loss: 0.2752 - acc: 0.9236 - val_loss: 0.2740 - val_acc: 0.9234\n",
      "Epoch 45/100\n",
      "48000/48000 [==============================] - 0s - loss: 0.2748 - acc: 0.9237 - val_loss: 0.2733 - val_acc: 0.9242\n",
      "Epoch 46/100\n",
      "48000/48000 [==============================] - 0s - loss: 0.2742 - acc: 0.9240 - val_loss: 0.2730 - val_acc: 0.9246\n",
      "Epoch 47/100\n",
      "48000/48000 [==============================] - 0s - loss: 0.2736 - acc: 0.9236 - val_loss: 0.2729 - val_acc: 0.9241\n",
      "Epoch 48/100\n",
      "48000/48000 [==============================] - 0s - loss: 0.2732 - acc: 0.9239 - val_loss: 0.2730 - val_acc: 0.9238\n",
      "Epoch 49/100\n",
      "48000/48000 [==============================] - 0s - loss: 0.2727 - acc: 0.9243 - val_loss: 0.2727 - val_acc: 0.9241\n",
      "Epoch 50/100\n",
      "48000/48000 [==============================] - 0s - loss: 0.2722 - acc: 0.9243 - val_loss: 0.2721 - val_acc: 0.9237\n",
      "Epoch 51/100\n",
      "48000/48000 [==============================] - 0s - loss: 0.2718 - acc: 0.9245 - val_loss: 0.2726 - val_acc: 0.9247\n",
      "Epoch 52/100\n",
      "48000/48000 [==============================] - 0s - loss: 0.2714 - acc: 0.9244 - val_loss: 0.2720 - val_acc: 0.9237\n",
      "Epoch 53/100\n",
      "48000/48000 [==============================] - 0s - loss: 0.2709 - acc: 0.9247 - val_loss: 0.2716 - val_acc: 0.9240\n",
      "Epoch 54/100\n",
      "48000/48000 [==============================] - 0s - loss: 0.2705 - acc: 0.9250 - val_loss: 0.2718 - val_acc: 0.9244\n",
      "Epoch 55/100\n",
      "48000/48000 [==============================] - 0s - loss: 0.2701 - acc: 0.9251 - val_loss: 0.2714 - val_acc: 0.9243\n",
      "Epoch 56/100\n",
      "48000/48000 [==============================] - 0s - loss: 0.2697 - acc: 0.9251 - val_loss: 0.2712 - val_acc: 0.9253\n",
      "Epoch 57/100\n",
      "48000/48000 [==============================] - 0s - loss: 0.2694 - acc: 0.9248 - val_loss: 0.2710 - val_acc: 0.9245\n",
      "Epoch 58/100\n",
      "48000/48000 [==============================] - 0s - loss: 0.2689 - acc: 0.9251 - val_loss: 0.2707 - val_acc: 0.9249\n",
      "Epoch 59/100\n",
      "48000/48000 [==============================] - 0s - loss: 0.2685 - acc: 0.9252 - val_loss: 0.2712 - val_acc: 0.9251\n",
      "Epoch 60/100\n",
      "48000/48000 [==============================] - 0s - loss: 0.2681 - acc: 0.9256 - val_loss: 0.2705 - val_acc: 0.9243\n",
      "Epoch 61/100\n",
      "48000/48000 [==============================] - 0s - loss: 0.2678 - acc: 0.9255 - val_loss: 0.2705 - val_acc: 0.9252\n",
      "Epoch 62/100\n",
      "48000/48000 [==============================] - 0s - loss: 0.2675 - acc: 0.9252 - val_loss: 0.2702 - val_acc: 0.9253\n",
      "Epoch 63/100\n",
      "48000/48000 [==============================] - 0s - loss: 0.2672 - acc: 0.9256 - val_loss: 0.2700 - val_acc: 0.9253\n",
      "Epoch 64/100\n",
      "48000/48000 [==============================] - 0s - loss: 0.2668 - acc: 0.9253 - val_loss: 0.2703 - val_acc: 0.9251\n",
      "Epoch 65/100\n",
      "48000/48000 [==============================] - 0s - loss: 0.2665 - acc: 0.9257 - val_loss: 0.2698 - val_acc: 0.9256\n",
      "Epoch 66/100\n",
      "48000/48000 [==============================] - 0s - loss: 0.2661 - acc: 0.9260 - val_loss: 0.2699 - val_acc: 0.9253\n",
      "Epoch 67/100\n",
      "48000/48000 [==============================] - 0s - loss: 0.2659 - acc: 0.9259 - val_loss: 0.2695 - val_acc: 0.9261\n",
      "Epoch 68/100\n",
      "48000/48000 [==============================] - 0s - loss: 0.2655 - acc: 0.9261 - val_loss: 0.2694 - val_acc: 0.9253\n",
      "Epoch 69/100\n",
      "48000/48000 [==============================] - 0s - loss: 0.2653 - acc: 0.9262 - val_loss: 0.2691 - val_acc: 0.9256\n",
      "Epoch 70/100\n",
      "48000/48000 [==============================] - 0s - loss: 0.2650 - acc: 0.9260 - val_loss: 0.2689 - val_acc: 0.9269\n",
      "Epoch 71/100\n",
      "48000/48000 [==============================] - 0s - loss: 0.2647 - acc: 0.9261 - val_loss: 0.2692 - val_acc: 0.9257\n",
      "Epoch 72/100\n",
      "48000/48000 [==============================] - 0s - loss: 0.2644 - acc: 0.9264 - val_loss: 0.2686 - val_acc: 0.9263\n",
      "Epoch 73/100\n",
      "48000/48000 [==============================] - 0s - loss: 0.2641 - acc: 0.9264 - val_loss: 0.2693 - val_acc: 0.9256\n",
      "Epoch 74/100\n",
      "48000/48000 [==============================] - 0s - loss: 0.2639 - acc: 0.9264 - val_loss: 0.2686 - val_acc: 0.9263\n",
      "Epoch 75/100\n",
      "48000/48000 [==============================] - 0s - loss: 0.2635 - acc: 0.9268 - val_loss: 0.2687 - val_acc: 0.9260\n",
      "Epoch 76/100\n",
      "48000/48000 [==============================] - 0s - loss: 0.2634 - acc: 0.9261 - val_loss: 0.2686 - val_acc: 0.9258\n",
      "Epoch 77/100\n",
      "48000/48000 [==============================] - 0s - loss: 0.2630 - acc: 0.9264 - val_loss: 0.2688 - val_acc: 0.9266\n",
      "Epoch 78/100\n",
      "48000/48000 [==============================] - 0s - loss: 0.2628 - acc: 0.9269 - val_loss: 0.2682 - val_acc: 0.9264\n",
      "Epoch 79/100\n",
      "48000/48000 [==============================] - 0s - loss: 0.2625 - acc: 0.9271 - val_loss: 0.2680 - val_acc: 0.9263\n",
      "Epoch 80/100\n",
      "48000/48000 [==============================] - 0s - loss: 0.2623 - acc: 0.9270 - val_loss: 0.2682 - val_acc: 0.9268\n",
      "Epoch 81/100\n",
      "48000/48000 [==============================] - 0s - loss: 0.2620 - acc: 0.9269 - val_loss: 0.2680 - val_acc: 0.9263\n",
      "Epoch 82/100\n",
      "48000/48000 [==============================] - 0s - loss: 0.2619 - acc: 0.9268 - val_loss: 0.2675 - val_acc: 0.9269\n",
      "Epoch 83/100\n",
      "48000/48000 [==============================] - 0s - loss: 0.2615 - acc: 0.9271 - val_loss: 0.2676 - val_acc: 0.9263\n",
      "Epoch 84/100\n",
      "48000/48000 [==============================] - 0s - loss: 0.2612 - acc: 0.9273 - val_loss: 0.2682 - val_acc: 0.9258\n",
      "Epoch 85/100\n",
      "48000/48000 [==============================] - 0s - loss: 0.2610 - acc: 0.9270 - val_loss: 0.2682 - val_acc: 0.9261\n",
      "Epoch 86/100\n",
      "48000/48000 [==============================] - 0s - loss: 0.2608 - acc: 0.9268 - val_loss: 0.2677 - val_acc: 0.9267\n",
      "Epoch 87/100\n",
      "48000/48000 [==============================] - 0s - loss: 0.2606 - acc: 0.9274 - val_loss: 0.2671 - val_acc: 0.9271\n",
      "Epoch 88/100\n",
      "48000/48000 [==============================] - 0s - loss: 0.2603 - acc: 0.9275 - val_loss: 0.2673 - val_acc: 0.9273\n",
      "Epoch 89/100\n",
      "48000/48000 [==============================] - 0s - loss: 0.2602 - acc: 0.9271 - val_loss: 0.2677 - val_acc: 0.9261\n",
      "Epoch 90/100\n",
      "48000/48000 [==============================] - 0s - loss: 0.2599 - acc: 0.9275 - val_loss: 0.2678 - val_acc: 0.9258\n",
      "Epoch 91/100\n",
      "48000/48000 [==============================] - 0s - loss: 0.2598 - acc: 0.9274 - val_loss: 0.2675 - val_acc: 0.9268\n",
      "Epoch 92/100\n",
      "48000/48000 [==============================] - 0s - loss: 0.2596 - acc: 0.9279 - val_loss: 0.2672 - val_acc: 0.9266\n",
      "Epoch 93/100\n",
      "48000/48000 [==============================] - 0s - loss: 0.2593 - acc: 0.9276 - val_loss: 0.2678 - val_acc: 0.9276\n",
      "Epoch 94/100\n",
      "48000/48000 [==============================] - 0s - loss: 0.2591 - acc: 0.9276 - val_loss: 0.2675 - val_acc: 0.9269\n",
      "Epoch 95/100\n",
      "48000/48000 [==============================] - 0s - loss: 0.2589 - acc: 0.9278 - val_loss: 0.2672 - val_acc: 0.9267\n",
      "Epoch 96/100\n",
      "48000/48000 [==============================] - 0s - loss: 0.2587 - acc: 0.9282 - val_loss: 0.2667 - val_acc: 0.9273\n",
      "Epoch 97/100\n",
      "48000/48000 [==============================] - 0s - loss: 0.2585 - acc: 0.9281 - val_loss: 0.2665 - val_acc: 0.9268\n",
      "Epoch 98/100\n",
      "48000/48000 [==============================] - 0s - loss: 0.2584 - acc: 0.9277 - val_loss: 0.2668 - val_acc: 0.9268\n",
      "Epoch 99/100\n",
      "48000/48000 [==============================] - 0s - loss: 0.2582 - acc: 0.9281 - val_loss: 0.2671 - val_acc: 0.9267\n",
      "Epoch 100/100\n",
      "48000/48000 [==============================] - 0s - loss: 0.2580 - acc: 0.9280 - val_loss: 0.2667 - val_acc: 0.9268\n"
     ]
    }
   ],
   "source": [
    "history = model.fit(X_train, Y_train, nb_epoch=nb_epoch, batch_size=batch_size, validation_split=0.2, verbose=1)"
   ]
  },
  {
   "cell_type": "markdown",
   "metadata": {},
   "source": [
    "## Evaluate"
   ]
  },
  {
   "cell_type": "code",
   "execution_count": 8,
   "metadata": {
    "collapsed": false
   },
   "outputs": [
    {
     "name": "stdout",
     "output_type": "stream",
     "text": [
      " 8704/10000 [=========================>....] - ETA: 0sSummary: Loss over the test dataset: 0.27, Accuracy: 0.93\n"
     ]
    }
   ],
   "source": [
    "evaluation = model.evaluate(X_test, Y_test, verbose=1)\n",
    "print('Summary: Loss over the test dataset: %.2f, Accuracy: %.2f' % (evaluation[0], evaluation[1]))"
   ]
  },
  {
   "cell_type": "markdown",
   "metadata": {},
   "source": [
    "## Predict"
   ]
  },
  {
   "cell_type": "code",
   "execution_count": 9,
   "metadata": {
    "collapsed": false
   },
   "outputs": [],
   "source": [
    "test_predictions = model.predict(X_test)\n",
    "test_prediction_ids = test_predictions.argmax(axis=1)"
   ]
  },
  {
   "cell_type": "markdown",
   "metadata": {},
   "source": [
    "## Plot some predictions"
   ]
  },
  {
   "cell_type": "code",
   "execution_count": 10,
   "metadata": {
    "collapsed": false
   },
   "outputs": [],
   "source": [
    "from matplotlib import pyplot as plt\n",
    "import numpy as np\n",
    "def plots(ims, figsize=(12,6), rows=1, interp=False, titles=None):\n",
    "    f = plt.figure(figsize=figsize)\n",
    "    for i in range(len(ims)):\n",
    "        sp = f.add_subplot(rows, len(ims)//rows, i+1)\n",
    "        if titles is not None:\n",
    "            sp.set_title(titles[i], fontsize=6)\n",
    "        plt.imshow(ims[i], interpolation=None if interp else 'none')"
   ]
  },
  {
   "cell_type": "code",
   "execution_count": 11,
   "metadata": {
    "collapsed": false
   },
   "outputs": [],
   "source": [
    "n_view = 4\n",
    "\n",
    "idx = np.random.permutation(range(0,len(X_test)))[:n_view]\n",
    "\n",
    "imgs = X_test[idx,:].reshape(n_view, X_train_raw.shape[1], X_train_raw.shape[2])\n",
    "titles = test_prediction_ids[idx]"
   ]
  },
  {
   "cell_type": "code",
   "execution_count": 12,
   "metadata": {
    "collapsed": false,
    "scrolled": true
   },
   "outputs": [
    {
     "data": {
      "image/png": "[encoded data removed]",
      "text/plain": [
       "<matplotlib.figure.Figure at 0x7f3ef92cf890>"
      ]
     },
     "metadata": {},
     "output_type": "display_data"
    }
   ],
   "source": [
    "plots(imgs, titles=titles)\n",
    "plt.show()"
   ]
  },
  {
   "cell_type": "code",
   "execution_count": null,
   "metadata": {
    "collapsed": false
   },
   "outputs": [],
   "source": []
  }
 ],
 "metadata": {
  "anaconda-cloud": {},
  "kernelspec": {
   "display_name": "Python [conda root]",
   "language": "python",
   "name": "conda-root-py"
  },
  "language_info": {
   "codemirror_mode": {
    "name": "ipython",
    "version": 2
   },
   "file_extension": ".py",
   "mimetype": "text/x-python",
   "name": "python",
   "nbconvert_exporter": "python",
   "pygments_lexer": "ipython2",
   "version": "2.7.12"
  }
 },
 "nbformat": 4,
 "nbformat_minor": 1
}
