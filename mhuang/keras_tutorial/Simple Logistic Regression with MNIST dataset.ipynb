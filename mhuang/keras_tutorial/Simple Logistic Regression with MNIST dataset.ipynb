{
 "cells": [
  {
   "cell_type": "code",
   "execution_count": 1,
   "metadata": {
    "collapsed": false
   },
   "outputs": [
    {
     "name": "stderr",
     "output_type": "stream",
     "text": [
      "Using Theano backend.\n",
      "WARNING (theano.sandbox.cuda): CUDA is installed, but device gpu is not available  (error: Unable to get the number of gpus available: unknown error)\n"
     ]
    }
   ],
   "source": [
    "from keras.models import Sequential\n",
    "from keras.layers import Dense\n",
    "from keras.optimizers import SGD\n",
    "from keras.datasets import mnist\n",
    "from keras.utils import np_utils"
   ]
  },
  {
   "cell_type": "code",
   "execution_count": 2,
   "metadata": {
    "collapsed": true
   },
   "outputs": [],
   "source": [
    "batch_size = 128\n",
    "nb_classes = 10\n",
    "nb_epoch = 100"
   ]
  },
  {
   "cell_type": "markdown",
   "metadata": {},
   "source": [
    "## Load MNIST dataset"
   ]
  },
  {
   "cell_type": "code",
   "execution_count": 3,
   "metadata": {
    "collapsed": false
   },
   "outputs": [],
   "source": [
    "(X_train_raw, Y_train_raw), (X_test_raw, Y_test_raw) = mnist.load_data()"
   ]
  },
  {
   "cell_type": "markdown",
   "metadata": {},
   "source": [
    "### Reshape Data from image matrix to array & normalize\n"
   ]
  },
  {
   "cell_type": "code",
   "execution_count": 4,
   "metadata": {
    "collapsed": false
   },
   "outputs": [],
   "source": [
    "X_train = X_train_raw.reshape(X_train_raw.shape[0], X_train_raw.shape[1]*X_train_raw.shape[2]).astype('float32')\n",
    "X_train /= 255.\n",
    "\n",
    "X_test = X_test_raw.reshape(X_test_raw.shape[0], X_test_raw.shape[1]*X_test_raw.shape[2]).astype('float32')\n",
    "X_test /= 255."
   ]
  },
  {
   "cell_type": "code",
   "execution_count": 5,
   "metadata": {
    "collapsed": false
   },
   "outputs": [],
   "source": [
    "Y_train = np_utils.to_categorical(Y_train_raw)\n",
    "\n",
    "Y_test = np_utils.to_categorical(Y_test_raw)"
   ]
  },
  {
   "cell_type": "markdown",
   "metadata": {},
   "source": [
    "## Logistic Regression Model"
   ]
  },
  {
   "cell_type": "code",
   "execution_count": 6,
   "metadata": {
    "collapsed": false
   },
   "outputs": [
    {
     "name": "stdout",
     "output_type": "stream",
     "text": [
      "____________________________________________________________________________________________________\n",
      "Layer (type)                     Output Shape          Param #     Connected to                     \n",
      "====================================================================================================\n",
      "dense_1 (Dense)                  (None, 10)            7850        dense_input_1[0][0]              \n",
      "====================================================================================================\n",
      "Total params: 7850\n",
      "____________________________________________________________________________________________________\n"
     ]
    }
   ],
   "source": [
    "model = Sequential()\n",
    "model.add(Dense(output_dim=10, input_shape=(784,), init='normal', activation='softmax'))\n",
    "model.compile(optimizer=SGD(lr=0.05), loss='categorical_crossentropy', metrics=['accuracy'])\n",
    "model.summary()"
   ]
  },
  {
   "cell_type": "markdown",
   "metadata": {},
   "source": [
    "## Train"
   ]
  },
  {
   "cell_type": "code",
   "execution_count": 7,
   "metadata": {
    "collapsed": false
   },
   "outputs": [
    {
     "name": "stdout",
     "output_type": "stream",
     "text": [
      "Epoch 1/100\n",
      "60000/60000 [==============================] - 0s - loss: 0.7217 - acc: 0.8284     \n",
      "Epoch 2/100\n",
      "60000/60000 [==============================] - 0s - loss: 0.4325 - acc: 0.8847     \n",
      "Epoch 3/100\n",
      "60000/60000 [==============================] - 0s - loss: 0.3861 - acc: 0.8949     \n",
      "Epoch 4/100\n",
      "60000/60000 [==============================] - 0s - loss: 0.3626 - acc: 0.8998     \n",
      "Epoch 5/100\n",
      "60000/60000 [==============================] - 0s - loss: 0.3476 - acc: 0.9035     \n",
      "Epoch 6/100\n",
      "60000/60000 [==============================] - 0s - loss: 0.3372 - acc: 0.9064     \n",
      "Epoch 7/100\n",
      "60000/60000 [==============================] - 0s - loss: 0.3289 - acc: 0.9082     \n",
      "Epoch 8/100\n",
      "60000/60000 [==============================] - 0s - loss: 0.3225 - acc: 0.9096     \n",
      "Epoch 9/100\n",
      "60000/60000 [==============================] - 0s - loss: 0.3171 - acc: 0.9114     \n",
      "Epoch 10/100\n",
      "60000/60000 [==============================] - 0s - loss: 0.3128 - acc: 0.9121     \n",
      "Epoch 11/100\n",
      "60000/60000 [==============================] - 0s - loss: 0.3088 - acc: 0.9142     \n",
      "Epoch 12/100\n",
      "60000/60000 [==============================] - 0s - loss: 0.3056 - acc: 0.9149     \n",
      "Epoch 13/100\n",
      "60000/60000 [==============================] - 0s - loss: 0.3026 - acc: 0.9153     \n",
      "Epoch 14/100\n",
      "60000/60000 [==============================] - 0s - loss: 0.3000 - acc: 0.9168     \n",
      "Epoch 15/100\n",
      "60000/60000 [==============================] - 0s - loss: 0.2977 - acc: 0.9169     \n",
      "Epoch 16/100\n",
      "60000/60000 [==============================] - 0s - loss: 0.2956 - acc: 0.9175     \n",
      "Epoch 17/100\n",
      "60000/60000 [==============================] - 0s - loss: 0.2937 - acc: 0.9183     \n",
      "Epoch 18/100\n",
      "60000/60000 [==============================] - 0s - loss: 0.2919 - acc: 0.9188     \n",
      "Epoch 19/100\n",
      "60000/60000 [==============================] - 0s - loss: 0.2902 - acc: 0.9192     \n",
      "Epoch 20/100\n",
      "60000/60000 [==============================] - 0s - loss: 0.2887 - acc: 0.9196     \n",
      "Epoch 21/100\n",
      "60000/60000 [==============================] - 0s - loss: 0.2873 - acc: 0.9199     \n",
      "Epoch 22/100\n",
      "60000/60000 [==============================] - 0s - loss: 0.2860 - acc: 0.9203     \n",
      "Epoch 23/100\n",
      "60000/60000 [==============================] - 0s - loss: 0.2847 - acc: 0.9210     \n",
      "Epoch 24/100\n",
      "60000/60000 [==============================] - 0s - loss: 0.2836 - acc: 0.9215     \n",
      "Epoch 25/100\n",
      "60000/60000 [==============================] - 0s - loss: 0.2826 - acc: 0.9216     \n",
      "Epoch 26/100\n",
      "60000/60000 [==============================] - 0s - loss: 0.2815 - acc: 0.9220     \n",
      "Epoch 27/100\n",
      "60000/60000 [==============================] - 0s - loss: 0.2805 - acc: 0.9224     \n",
      "Epoch 28/100\n",
      "60000/60000 [==============================] - 0s - loss: 0.2797 - acc: 0.9225     \n",
      "Epoch 29/100\n",
      "60000/60000 [==============================] - 0s - loss: 0.2788 - acc: 0.9224     \n",
      "Epoch 30/100\n",
      "60000/60000 [==============================] - 0s - loss: 0.2779 - acc: 0.9228     \n",
      "Epoch 31/100\n",
      "60000/60000 [==============================] - 0s - loss: 0.2770 - acc: 0.9232     \n",
      "Epoch 32/100\n",
      "60000/60000 [==============================] - 0s - loss: 0.2763 - acc: 0.9233     \n",
      "Epoch 33/100\n",
      "60000/60000 [==============================] - 0s - loss: 0.2756 - acc: 0.9233     \n",
      "Epoch 34/100\n",
      "60000/60000 [==============================] - 0s - loss: 0.2749 - acc: 0.9238     \n",
      "Epoch 35/100\n",
      "60000/60000 [==============================] - 0s - loss: 0.2743 - acc: 0.9235     \n",
      "Epoch 36/100\n",
      "60000/60000 [==============================] - 0s - loss: 0.2736 - acc: 0.9239     \n",
      "Epoch 37/100\n",
      "60000/60000 [==============================] - 0s - loss: 0.2730 - acc: 0.9241     \n",
      "Epoch 38/100\n",
      "60000/60000 [==============================] - 0s - loss: 0.2725 - acc: 0.9249     \n",
      "Epoch 39/100\n",
      "60000/60000 [==============================] - 0s - loss: 0.2718 - acc: 0.9245     \n",
      "Epoch 40/100\n",
      "60000/60000 [==============================] - 0s - loss: 0.2712 - acc: 0.9247     \n",
      "Epoch 41/100\n",
      "60000/60000 [==============================] - 0s - loss: 0.2708 - acc: 0.9247     \n",
      "Epoch 42/100\n",
      "60000/60000 [==============================] - 0s - loss: 0.2701 - acc: 0.9254     \n",
      "Epoch 43/100\n",
      "60000/60000 [==============================] - 0s - loss: 0.2696 - acc: 0.9251     \n",
      "Epoch 44/100\n",
      "60000/60000 [==============================] - 0s - loss: 0.2692 - acc: 0.9253     \n",
      "Epoch 45/100\n",
      "60000/60000 [==============================] - 0s - loss: 0.2688 - acc: 0.9257     \n",
      "Epoch 46/100\n",
      "60000/60000 [==============================] - 0s - loss: 0.2683 - acc: 0.9255     \n",
      "Epoch 47/100\n",
      "60000/60000 [==============================] - 0s - loss: 0.2679 - acc: 0.9258     \n",
      "Epoch 48/100\n",
      "60000/60000 [==============================] - 0s - loss: 0.2674 - acc: 0.9259     \n",
      "Epoch 49/100\n",
      "60000/60000 [==============================] - 0s - loss: 0.2671 - acc: 0.9259     \n",
      "Epoch 50/100\n",
      "60000/60000 [==============================] - 0s - loss: 0.2665 - acc: 0.9262     \n",
      "Epoch 51/100\n",
      "60000/60000 [==============================] - 0s - loss: 0.2662 - acc: 0.9264     \n",
      "Epoch 52/100\n",
      "60000/60000 [==============================] - 0s - loss: 0.2658 - acc: 0.9267     \n",
      "Epoch 53/100\n",
      "60000/60000 [==============================] - 0s - loss: 0.2654 - acc: 0.9262     \n",
      "Epoch 54/100\n",
      "60000/60000 [==============================] - 0s - loss: 0.2651 - acc: 0.9265     \n",
      "Epoch 55/100\n",
      "60000/60000 [==============================] - 0s - loss: 0.2648 - acc: 0.9269     \n",
      "Epoch 56/100\n",
      "60000/60000 [==============================] - 0s - loss: 0.2643 - acc: 0.9270     \n",
      "Epoch 57/100\n",
      "60000/60000 [==============================] - 0s - loss: 0.2640 - acc: 0.9271     \n",
      "Epoch 58/100\n",
      "60000/60000 [==============================] - 0s - loss: 0.2636 - acc: 0.9268     \n",
      "Epoch 59/100\n",
      "60000/60000 [==============================] - 0s - loss: 0.2634 - acc: 0.9271     \n",
      "Epoch 60/100\n",
      "60000/60000 [==============================] - 0s - loss: 0.2631 - acc: 0.9272     \n",
      "Epoch 61/100\n",
      "60000/60000 [==============================] - 0s - loss: 0.2628 - acc: 0.9272     \n",
      "Epoch 62/100\n",
      "60000/60000 [==============================] - 0s - loss: 0.2624 - acc: 0.9276     \n",
      "Epoch 63/100\n",
      "60000/60000 [==============================] - 0s - loss: 0.2620 - acc: 0.9274     \n",
      "Epoch 64/100\n",
      "60000/60000 [==============================] - 0s - loss: 0.2617 - acc: 0.9277     \n",
      "Epoch 65/100\n",
      "60000/60000 [==============================] - 0s - loss: 0.2616 - acc: 0.9276     \n",
      "Epoch 66/100\n",
      "60000/60000 [==============================] - 0s - loss: 0.2612 - acc: 0.9275     \n",
      "Epoch 67/100\n",
      "60000/60000 [==============================] - 0s - loss: 0.2609 - acc: 0.9280     \n",
      "Epoch 68/100\n",
      "60000/60000 [==============================] - 0s - loss: 0.2607 - acc: 0.9280     \n",
      "Epoch 69/100\n",
      "60000/60000 [==============================] - 0s - loss: 0.2605 - acc: 0.9280     \n",
      "Epoch 70/100\n",
      "60000/60000 [==============================] - 0s - loss: 0.2602 - acc: 0.9278     \n",
      "Epoch 71/100\n",
      "60000/60000 [==============================] - 0s - loss: 0.2599 - acc: 0.9282     \n",
      "Epoch 72/100\n",
      "60000/60000 [==============================] - 0s - loss: 0.2596 - acc: 0.9281     \n",
      "Epoch 73/100\n",
      "60000/60000 [==============================] - 0s - loss: 0.2594 - acc: 0.9284     \n",
      "Epoch 74/100\n",
      "60000/60000 [==============================] - 0s - loss: 0.2591 - acc: 0.9286     \n",
      "Epoch 75/100\n",
      "60000/60000 [==============================] - 0s - loss: 0.2588 - acc: 0.9286     \n",
      "Epoch 76/100\n",
      "60000/60000 [==============================] - 0s - loss: 0.2586 - acc: 0.9289     \n",
      "Epoch 77/100\n",
      "60000/60000 [==============================] - 0s - loss: 0.2585 - acc: 0.9289     \n",
      "Epoch 78/100\n",
      "60000/60000 [==============================] - 0s - loss: 0.2582 - acc: 0.9288     \n",
      "Epoch 79/100\n",
      "60000/60000 [==============================] - 0s - loss: 0.2581 - acc: 0.9289     \n",
      "Epoch 80/100\n",
      "60000/60000 [==============================] - 0s - loss: 0.2579 - acc: 0.9288     \n",
      "Epoch 81/100\n",
      "60000/60000 [==============================] - 0s - loss: 0.2576 - acc: 0.9287     \n",
      "Epoch 82/100\n",
      "60000/60000 [==============================] - 0s - loss: 0.2575 - acc: 0.9287     \n",
      "Epoch 83/100\n",
      "60000/60000 [==============================] - 0s - loss: 0.2573 - acc: 0.9289     \n",
      "Epoch 84/100\n",
      "60000/60000 [==============================] - 0s - loss: 0.2570 - acc: 0.9294     \n",
      "Epoch 85/100\n",
      "60000/60000 [==============================] - 0s - loss: 0.2567 - acc: 0.9293     \n",
      "Epoch 86/100\n",
      "60000/60000 [==============================] - 0s - loss: 0.2566 - acc: 0.9291     \n",
      "Epoch 87/100\n",
      "60000/60000 [==============================] - 0s - loss: 0.2564 - acc: 0.9294     \n",
      "Epoch 88/100\n",
      "60000/60000 [==============================] - 0s - loss: 0.2562 - acc: 0.9296     \n",
      "Epoch 89/100\n",
      "60000/60000 [==============================] - 0s - loss: 0.2560 - acc: 0.9293     \n",
      "Epoch 90/100\n",
      "60000/60000 [==============================] - 0s - loss: 0.2558 - acc: 0.9295     \n",
      "Epoch 91/100\n",
      "60000/60000 [==============================] - 0s - loss: 0.2556 - acc: 0.9297     \n",
      "Epoch 92/100\n",
      "60000/60000 [==============================] - 0s - loss: 0.2554 - acc: 0.9298     \n",
      "Epoch 93/100\n",
      "60000/60000 [==============================] - 0s - loss: 0.2552 - acc: 0.9292     \n",
      "Epoch 94/100\n",
      "60000/60000 [==============================] - 0s - loss: 0.2551 - acc: 0.9293     \n",
      "Epoch 95/100\n",
      "60000/60000 [==============================] - 0s - loss: 0.2549 - acc: 0.9298     \n",
      "Epoch 96/100\n",
      "60000/60000 [==============================] - 0s - loss: 0.2547 - acc: 0.9299     \n",
      "Epoch 97/100\n",
      "60000/60000 [==============================] - 0s - loss: 0.2546 - acc: 0.9297     \n",
      "Epoch 98/100\n",
      "60000/60000 [==============================] - 0s - loss: 0.2544 - acc: 0.9299     \n",
      "Epoch 99/100\n",
      "60000/60000 [==============================] - 0s - loss: 0.2541 - acc: 0.9301     \n",
      "Epoch 100/100\n",
      "60000/60000 [==============================] - 0s - loss: 0.2540 - acc: 0.9300     \n"
     ]
    }
   ],
   "source": [
    "history = model.fit(X_train, Y_train, nb_epoch=nb_epoch, batch_size=batch_size, verbose=1)"
   ]
  },
  {
   "cell_type": "markdown",
   "metadata": {},
   "source": [
    "## Evaluate"
   ]
  },
  {
   "cell_type": "code",
   "execution_count": 8,
   "metadata": {
    "collapsed": false
   },
   "outputs": [
    {
     "name": "stdout",
     "output_type": "stream",
     "text": [
      " 9888/10000 [============================>.] - ETA: 0sSummary: Loss over the test dataset: 0.27, Accuracy: 0.93\n"
     ]
    }
   ],
   "source": [
    "evaluation = model.evaluate(X_test, Y_test, verbose=1)\n",
    "print('Summary: Loss over the test dataset: %.2f, Accuracy: %.2f' % (evaluation[0], evaluation[1]))"
   ]
  },
  {
   "cell_type": "markdown",
   "metadata": {},
   "source": [
    "## Predict"
   ]
  },
  {
   "cell_type": "code",
   "execution_count": 10,
   "metadata": {
    "collapsed": false
   },
   "outputs": [],
   "source": [
    "test_predictions = model.predict(X_test)\n",
    "test_prediction_ids = test_predictions.argmax(axis=1)"
   ]
  },
  {
   "cell_type": "markdown",
   "metadata": {},
   "source": [
    "## Plot some predictions"
   ]
  },
  {
   "cell_type": "code",
   "execution_count": 11,
   "metadata": {
    "collapsed": false
   },
   "outputs": [],
   "source": [
    "from matplotlib import pyplot as plt\n",
    "import numpy as np\n",
    "def plots(ims, figsize=(12,6), rows=1, interp=False, titles=None):\n",
    "    f = plt.figure(figsize=figsize)\n",
    "    for i in range(len(ims)):\n",
    "        sp = f.add_subplot(rows, len(ims)//rows, i+1)\n",
    "        if titles is not None:\n",
    "            sp.set_title(titles[i], fontsize=6)\n",
    "        plt.imshow(ims[i], interpolation=None if interp else 'none')"
   ]
  },
  {
   "cell_type": "code",
   "execution_count": 21,
   "metadata": {
    "collapsed": false
   },
   "outputs": [],
   "source": [
    "n_view = 4\n",
    "\n",
    "idx = np.random.permutation(range(0,len(X_test)))[:n_view]\n",
    "\n",
    "imgs = X_test[idx,:].reshape(n_view, X_train_raw.shape[1], X_train_raw.shape[2])\n",
    "titles = test_prediction_ids[idx]"
   ]
  },
  {
   "cell_type": "code",
   "execution_count": 22,
   "metadata": {
    "collapsed": false
   },
   "outputs": [],
   "source": [
    "plots(imgs, titles=titles)"
   ]
  },
  {
   "cell_type": "code",
   "execution_count": 23,
   "metadata": {
    "collapsed": false
   },
   "outputs": [
    {
     "data": {
      "image/png": "[encoded data removed]",
      "text/plain": [
       "<matplotlib.figure.Figure at 0x7f967ff15290>"
      ]
     },
     "metadata": {},
     "output_type": "display_data"
    }
   ],
   "source": [
    "plt.show()"
   ]
  }
 ],
 "metadata": {
  "anaconda-cloud": {},
  "kernelspec": {
   "display_name": "Python [conda root]",
   "language": "python",
   "name": "conda-root-py"
  },
  "language_info": {
   "codemirror_mode": {
    "name": "ipython",
    "version": 2
   },
   "file_extension": ".py",
   "mimetype": "text/x-python",
   "name": "python",
   "nbconvert_exporter": "python",
   "pygments_lexer": "ipython2",
   "version": "2.7.12"
  }
 },
 "nbformat": 4,
 "nbformat_minor": 1
}
