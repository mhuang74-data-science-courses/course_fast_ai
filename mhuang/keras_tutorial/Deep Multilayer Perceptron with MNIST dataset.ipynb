{
 "cells": [
  {
   "cell_type": "code",
   "execution_count": 1,
   "metadata": {
    "collapsed": false
   },
   "outputs": [
    {
     "name": "stderr",
     "output_type": "stream",
     "text": [
      "Using Theano backend.\n",
      "WARNING (theano.sandbox.cuda): CUDA is installed, but device gpu is not available  (error: Unable to get the number of gpus available: unknown error)\n"
     ]
    }
   ],
   "source": [
    "from keras.models import Sequential\n",
    "from keras.layers import Dense, Activation, Dropout\n",
    "from keras.optimizers import SGD, RMSprop\n",
    "from keras.datasets import mnist\n",
    "from keras.utils import np_utils"
   ]
  },
  {
   "cell_type": "code",
   "execution_count": 2,
   "metadata": {
    "collapsed": true
   },
   "outputs": [],
   "source": [
    "batch_size = 128\n",
    "nb_classes = 10\n",
    "nb_epoch = 100"
   ]
  },
  {
   "cell_type": "markdown",
   "metadata": {},
   "source": [
    "## Load MNIST dataset"
   ]
  },
  {
   "cell_type": "code",
   "execution_count": 3,
   "metadata": {
    "collapsed": false
   },
   "outputs": [],
   "source": [
    "(X_train_raw, Y_train_raw), (X_test_raw, Y_test_raw) = mnist.load_data()"
   ]
  },
  {
   "cell_type": "markdown",
   "metadata": {},
   "source": [
    "### Reshape Data from image matrix to array & normalize\n"
   ]
  },
  {
   "cell_type": "code",
   "execution_count": 4,
   "metadata": {
    "collapsed": false
   },
   "outputs": [],
   "source": [
    "X_train = X_train_raw.reshape(X_train_raw.shape[0], X_train_raw.shape[1]*X_train_raw.shape[2]).astype('float32')\n",
    "X_train /= 255.\n",
    "\n",
    "X_test = X_test_raw.reshape(X_test_raw.shape[0], X_test_raw.shape[1]*X_test_raw.shape[2]).astype('float32')\n",
    "X_test /= 255."
   ]
  },
  {
   "cell_type": "code",
   "execution_count": 5,
   "metadata": {
    "collapsed": false
   },
   "outputs": [],
   "source": [
    "Y_train = np_utils.to_categorical(Y_train_raw)\n",
    "\n",
    "Y_test = np_utils.to_categorical(Y_test_raw)"
   ]
  },
  {
   "cell_type": "markdown",
   "metadata": {},
   "source": [
    "## Deep Multilayer Perceptron Model"
   ]
  },
  {
   "cell_type": "code",
   "execution_count": 6,
   "metadata": {
    "collapsed": false
   },
   "outputs": [
    {
     "name": "stdout",
     "output_type": "stream",
     "text": [
      "____________________________________________________________________________________________________\n",
      "Layer (type)                     Output Shape          Param #     Connected to                     \n",
      "====================================================================================================\n",
      "dense_1 (Dense)                  (None, 625)           490625      dense_input_1[0][0]              \n",
      "____________________________________________________________________________________________________\n",
      "activation_1 (Activation)        (None, 625)           0           dense_1[0][0]                    \n",
      "____________________________________________________________________________________________________\n",
      "dropout_1 (Dropout)              (None, 625)           0           activation_1[0][0]               \n",
      "____________________________________________________________________________________________________\n",
      "dense_2 (Dense)                  (None, 625)           391250      dropout_1[0][0]                  \n",
      "____________________________________________________________________________________________________\n",
      "activation_2 (Activation)        (None, 625)           0           dense_2[0][0]                    \n",
      "____________________________________________________________________________________________________\n",
      "dropout_2 (Dropout)              (None, 625)           0           activation_2[0][0]               \n",
      "____________________________________________________________________________________________________\n",
      "dense_3 (Dense)                  (None, 10)            6260        dropout_2[0][0]                  \n",
      "____________________________________________________________________________________________________\n",
      "activation_3 (Activation)        (None, 10)            0           dense_3[0][0]                    \n",
      "====================================================================================================\n",
      "Total params: 888135\n",
      "____________________________________________________________________________________________________\n"
     ]
    }
   ],
   "source": [
    "model = Sequential()\n",
    "model.add(Dense(output_dim=625, input_shape=(784,), init='normal'))\n",
    "model.add(Activation('relu'))\n",
    "model.add(Dropout(0.2))\n",
    "model.add(Dense(output_dim=625, input_shape=(625,), init='normal'))\n",
    "model.add(Activation('relu'))\n",
    "model.add(Dropout(0.5))\n",
    "model.add(Dense(output_dim=10, input_shape=(625,), init='normal'))\n",
    "model.add(Activation('softmax'))\n",
    "          \n",
    "model.compile(optimizer=RMSprop(lr=0.001), loss='categorical_crossentropy', metrics=['accuracy'])\n",
    "model.summary()"
   ]
  },
  {
   "cell_type": "markdown",
   "metadata": {},
   "source": [
    "## Train"
   ]
  },
  {
   "cell_type": "code",
   "execution_count": 7,
   "metadata": {
    "collapsed": false
   },
   "outputs": [],
   "source": [
    "history = model.fit(X_train, Y_train, nb_epoch=nb_epoch, batch_size=batch_size, validation_split=0.15, verbose=0)"
   ]
  },
  {
   "cell_type": "code",
   "execution_count": 8,
   "metadata": {
    "collapsed": false
   },
   "outputs": [
    {
     "data": {
      "text/plain": [
       "{'acc': [0.91264705884222885,\n",
       "  0.96356862746033012,\n",
       "  0.9750980392437355,\n",
       "  0.98005882354811125,\n",
       "  0.98294117648928769,\n",
       "  0.98594117647993795,\n",
       "  0.98754901961719288,\n",
       "  0.98909803923438577,\n",
       "  0.9892549019701341,\n",
       "  0.99035294118582029,\n",
       "  0.99154901960784314,\n",
       "  0.99186274509803918,\n",
       "  0.9925686274509804,\n",
       "  0.99219607843137259,\n",
       "  0.99299999999999999,\n",
       "  0.99366666667601644,\n",
       "  0.99398039215686274,\n",
       "  0.99403921568627451,\n",
       "  0.99407843137254903,\n",
       "  0.9948039215686274,\n",
       "  0.9945686274509804,\n",
       "  0.99517647058823533,\n",
       "  0.99543137254901959,\n",
       "  0.99543137254901959,\n",
       "  0.99515686274509807,\n",
       "  0.99556862746033015,\n",
       "  0.99529411764705877,\n",
       "  0.99550980392156863,\n",
       "  0.99607843137254903,\n",
       "  0.99625490196078437,\n",
       "  0.99588235295052618,\n",
       "  0.99588235294117644,\n",
       "  0.99621568627450985,\n",
       "  0.99613725490196081,\n",
       "  0.99617647058823533,\n",
       "  0.99629411764705877,\n",
       "  0.99670588235294122,\n",
       "  0.99660784314660467,\n",
       "  0.9966666666666667,\n",
       "  0.99674509803921574,\n",
       "  0.99678431372549015,\n",
       "  0.99703921568627452,\n",
       "  0.99649019607843137,\n",
       "  0.9969215686368007,\n",
       "  0.99682352941176466,\n",
       "  0.99625490196078437,\n",
       "  0.99696078431372548,\n",
       "  0.99731372549019603,\n",
       "  0.99682352941176466,\n",
       "  0.99682352941176466,\n",
       "  0.9969019607843137,\n",
       "  0.99768627450980396,\n",
       "  0.99672549020542822,\n",
       "  0.99719607843137259,\n",
       "  0.99703921568627452,\n",
       "  0.99701960784313726,\n",
       "  0.9966666666666667,\n",
       "  0.99668627450980396,\n",
       "  0.99698039215686274,\n",
       "  0.99747058823529411,\n",
       "  0.99705882352941178,\n",
       "  0.99717647058823533,\n",
       "  0.99729411764705878,\n",
       "  0.99717647058823533,\n",
       "  0.99731372549019603,\n",
       "  0.99743137254901959,\n",
       "  0.99705882352941178,\n",
       "  0.99733333334268304,\n",
       "  0.99739215686274507,\n",
       "  0.99756862745098041,\n",
       "  0.99715686275444781,\n",
       "  0.99733333333333329,\n",
       "  0.99703921568627452,\n",
       "  0.99768627452850345,\n",
       "  0.99686274509803918,\n",
       "  0.99741176471523207,\n",
       "  0.99737254901960781,\n",
       "  0.99711764705882355,\n",
       "  0.99747058823529411,\n",
       "  0.99713725490196081,\n",
       "  0.99731372549019603,\n",
       "  0.99696078432307522,\n",
       "  0.99749019607843137,\n",
       "  0.99758823529411766,\n",
       "  0.99764705882352944,\n",
       "  0.99749019607843137,\n",
       "  0.99778431372549015,\n",
       "  0.99768627450980396,\n",
       "  0.99774509803921574,\n",
       "  0.99725490196078437,\n",
       "  0.99731372549019603,\n",
       "  0.99752941176470589,\n",
       "  0.99778431372549015,\n",
       "  0.99778431372549015,\n",
       "  0.99752941176470589,\n",
       "  0.99758823530346741,\n",
       "  0.99811764705882355,\n",
       "  0.99758823529411766,\n",
       "  0.99725490196078437,\n",
       "  0.99750980392156863],\n",
       " 'loss': [0.28638584234784631,\n",
       "  0.11967334761455947,\n",
       "  0.084671656348833849,\n",
       "  0.070176241046073395,\n",
       "  0.05902651883866273,\n",
       "  0.048900898315450726,\n",
       "  0.044032995809234823,\n",
       "  0.038382127788575256,\n",
       "  0.03713757086147134,\n",
       "  0.035203747944833309,\n",
       "  0.032253435618969997,\n",
       "  0.02963683882472562,\n",
       "  0.027640225277131641,\n",
       "  0.029956170944823408,\n",
       "  0.025964153118869838,\n",
       "  0.022707292868700973,\n",
       "  0.023578798492425394,\n",
       "  0.022647547298814078,\n",
       "  0.023912302909663185,\n",
       "  0.021778196519157422,\n",
       "  0.023131212761312352,\n",
       "  0.021879568169857807,\n",
       "  0.020383440496418118,\n",
       "  0.022287703343510729,\n",
       "  0.019824525670783012,\n",
       "  0.020412832291393346,\n",
       "  0.020863037176883974,\n",
       "  0.019895719953073935,\n",
       "  0.017809507083480818,\n",
       "  0.018196838545455309,\n",
       "  0.020418798622352744,\n",
       "  0.020692992592717046,\n",
       "  0.019977927068815272,\n",
       "  0.01945346930634111,\n",
       "  0.021254862987214008,\n",
       "  0.018703096915048244,\n",
       "  0.015752356476554766,\n",
       "  0.018125332985420042,\n",
       "  0.017956731787241713,\n",
       "  0.015694715938059423,\n",
       "  0.016653300871112275,\n",
       "  0.016878802221542939,\n",
       "  0.0188261965162221,\n",
       "  0.017510753901642282,\n",
       "  0.017106172698326493,\n",
       "  0.02057236166316697,\n",
       "  0.017080343296211355,\n",
       "  0.016095653912715339,\n",
       "  0.01837812359387777,\n",
       "  0.017907087504624632,\n",
       "  0.016470849929055772,\n",
       "  0.015148461173166296,\n",
       "  0.019688751430469876,\n",
       "  0.017069812639440754,\n",
       "  0.017419451484543862,\n",
       "  0.015769660062118319,\n",
       "  0.018833078756546776,\n",
       "  0.017151527110000675,\n",
       "  0.018201511961865185,\n",
       "  0.014524886356780842,\n",
       "  0.0177220954175469,\n",
       "  0.018023803294962677,\n",
       "  0.017710498700079565,\n",
       "  0.017629973111102527,\n",
       "  0.017432747612777865,\n",
       "  0.017269656849976587,\n",
       "  0.016424600856528616,\n",
       "  0.019505574155707125,\n",
       "  0.017005141767896893,\n",
       "  0.017541910658113065,\n",
       "  0.01934924647157063,\n",
       "  0.016800845692756534,\n",
       "  0.020104315101556851,\n",
       "  0.01706045606389571,\n",
       "  0.021084306121184098,\n",
       "  0.016087797361764744,\n",
       "  0.017385432824969245,\n",
       "  0.021299810927708177,\n",
       "  0.019188275474379207,\n",
       "  0.019039185604656481,\n",
       "  0.020696226036692206,\n",
       "  0.020364724162601322,\n",
       "  0.018079472922622235,\n",
       "  0.016547908177260488,\n",
       "  0.017597902632577447,\n",
       "  0.018508797654989216,\n",
       "  0.015432682796480617,\n",
       "  0.017206728860895408,\n",
       "  0.017297678877140333,\n",
       "  0.019529810522726156,\n",
       "  0.018270185655559296,\n",
       "  0.019080356869973187,\n",
       "  0.015342871659781083,\n",
       "  0.015855229160468335,\n",
       "  0.018399815659494768,\n",
       "  0.017396940682911866,\n",
       "  0.015210073000010873,\n",
       "  0.019806479958283382,\n",
       "  0.021588584363440782,\n",
       "  0.019490311628383578],\n",
       " 'val_acc': [0.9655555555555555,\n",
       "  0.97266666666666668,\n",
       "  0.97377777777777774,\n",
       "  0.97722222222222221,\n",
       "  0.97966666666666669,\n",
       "  0.98066666666666669,\n",
       "  0.97799999999999998,\n",
       "  0.97999999999999998,\n",
       "  0.98066666666666669,\n",
       "  0.98022222222222222,\n",
       "  0.98255555555555552,\n",
       "  0.98244444444444445,\n",
       "  0.97999999999999998,\n",
       "  0.97888888888888892,\n",
       "  0.98255555555555552,\n",
       "  0.98177777777777775,\n",
       "  0.98055555555555551,\n",
       "  0.98244444444444445,\n",
       "  0.98066666666666669,\n",
       "  0.98088888888888892,\n",
       "  0.98366666666666669,\n",
       "  0.98266666666666669,\n",
       "  0.98233333333333328,\n",
       "  0.98355555555555552,\n",
       "  0.98211111111111116,\n",
       "  0.98377777777777775,\n",
       "  0.98288888888888892,\n",
       "  0.98166666666666669,\n",
       "  0.98222222222222222,\n",
       "  0.98144444444444445,\n",
       "  0.98088888888888892,\n",
       "  0.98277777777777775,\n",
       "  0.98322222222222222,\n",
       "  0.98155555555555551,\n",
       "  0.98244444444444445,\n",
       "  0.98177777777777775,\n",
       "  0.98244444444444445,\n",
       "  0.98444444444444446,\n",
       "  0.98166666666666669,\n",
       "  0.98344444444444445,\n",
       "  0.98411111111111116,\n",
       "  0.98244444444444445,\n",
       "  0.98266666666666669,\n",
       "  0.98433333333333328,\n",
       "  0.98377777777777775,\n",
       "  0.98322222222222222,\n",
       "  0.98366666666666669,\n",
       "  0.98211111111111116,\n",
       "  0.98388888888888892,\n",
       "  0.98322222222222222,\n",
       "  0.98366666666666669,\n",
       "  0.98511111111111116,\n",
       "  0.98255555555555552,\n",
       "  0.98311111111111116,\n",
       "  0.98477777777777775,\n",
       "  0.98466666666666669,\n",
       "  0.98355555555555552,\n",
       "  0.98411111111111116,\n",
       "  0.98277777777777775,\n",
       "  0.98355555555555552,\n",
       "  0.98299999999999998,\n",
       "  0.98288888888888892,\n",
       "  0.98355555555555552,\n",
       "  0.98233333333333328,\n",
       "  0.98322222222222222,\n",
       "  0.98433333333333328,\n",
       "  0.98388888888888892,\n",
       "  0.98455555555555552,\n",
       "  0.98344444444444445,\n",
       "  0.98466666666666669,\n",
       "  0.98299999999999998,\n",
       "  0.98188888888888892,\n",
       "  0.98388888888888892,\n",
       "  0.98366666666666669,\n",
       "  0.98388888888888892,\n",
       "  0.98333333333333328,\n",
       "  0.98277777777777775,\n",
       "  0.98444444444444446,\n",
       "  0.98377777777777775,\n",
       "  0.98488888888888892,\n",
       "  0.98411111111111116,\n",
       "  0.98322222222222222,\n",
       "  0.98477777777777775,\n",
       "  0.98366666666666669,\n",
       "  0.98466666666666669,\n",
       "  0.98422222222222222,\n",
       "  0.98366666666666669,\n",
       "  0.98399999999999999,\n",
       "  0.98411111111111116,\n",
       "  0.98411111111111116,\n",
       "  0.98366666666666669,\n",
       "  0.98322222222222222,\n",
       "  0.98422222222222222,\n",
       "  0.98488888888888892,\n",
       "  0.98533333333333328,\n",
       "  0.98466666666666669,\n",
       "  0.98555555555555552,\n",
       "  0.98422222222222222,\n",
       "  0.98333333333333328,\n",
       "  0.98522222222222222],\n",
       " 'val_loss': [0.1115988346238931,\n",
       "  0.095348101352600176,\n",
       "  0.1031596207636305,\n",
       "  0.088766812262021835,\n",
       "  0.082412043574731794,\n",
       "  0.092827210239755611,\n",
       "  0.10096790414018,\n",
       "  0.10005429950327946,\n",
       "  0.10221657145805613,\n",
       "  0.11188326870974723,\n",
       "  0.094995210763256843,\n",
       "  0.10331324945148178,\n",
       "  0.11441191834095581,\n",
       "  0.11869989678958787,\n",
       "  0.10405248191382079,\n",
       "  0.11386528970722364,\n",
       "  0.12382331632466276,\n",
       "  0.11734531301606699,\n",
       "  0.12507693357169783,\n",
       "  0.12291954896773744,\n",
       "  0.11965394045888984,\n",
       "  0.12243381061431143,\n",
       "  0.13947108450636131,\n",
       "  0.12903358643828228,\n",
       "  0.13713013307040839,\n",
       "  0.1249067835021391,\n",
       "  0.14161931731146818,\n",
       "  0.15418511338037796,\n",
       "  0.15357086800675263,\n",
       "  0.16249510832800343,\n",
       "  0.14974550526340849,\n",
       "  0.15157681767144546,\n",
       "  0.14932039326801941,\n",
       "  0.15732482765694744,\n",
       "  0.15164383864186309,\n",
       "  0.16169048673761796,\n",
       "  0.16644615311299019,\n",
       "  0.14793683082646633,\n",
       "  0.17055529849216616,\n",
       "  0.15695938021360178,\n",
       "  0.14536969619774112,\n",
       "  0.15892712630936923,\n",
       "  0.1490968282617465,\n",
       "  0.15861015196063621,\n",
       "  0.15519790802300815,\n",
       "  0.14903925793804679,\n",
       "  0.1595627258168926,\n",
       "  0.17107664212054044,\n",
       "  0.15511788124196296,\n",
       "  0.1531680548227552,\n",
       "  0.1526746124026003,\n",
       "  0.15405975835274638,\n",
       "  0.17287099137431647,\n",
       "  0.17132033849158371,\n",
       "  0.15416111234099222,\n",
       "  0.15865649119896832,\n",
       "  0.16894427116805921,\n",
       "  0.16590280320714015,\n",
       "  0.16615259401834964,\n",
       "  0.16638136569974776,\n",
       "  0.17233396213017158,\n",
       "  0.1796882445419643,\n",
       "  0.16897716740256918,\n",
       "  0.18279860593454622,\n",
       "  0.16741993196685251,\n",
       "  0.17121665690074897,\n",
       "  0.17033397179864698,\n",
       "  0.16437377611660106,\n",
       "  0.1707351237574935,\n",
       "  0.16332820448422278,\n",
       "  0.18404268505659724,\n",
       "  0.18151841933560378,\n",
       "  0.16822392839777156,\n",
       "  0.17702052454737152,\n",
       "  0.17127233576766235,\n",
       "  0.18783752989852337,\n",
       "  0.18389600405542181,\n",
       "  0.18287957526968526,\n",
       "  0.17002768851762373,\n",
       "  0.16299387699721496,\n",
       "  0.17963807516824176,\n",
       "  0.1880132229478271,\n",
       "  0.17485790828410128,\n",
       "  0.17725347052336984,\n",
       "  0.17508873013660423,\n",
       "  0.17983980949046563,\n",
       "  0.18477395260582555,\n",
       "  0.18981364870609593,\n",
       "  0.19231960833404108,\n",
       "  0.18227260066012468,\n",
       "  0.18181509298253337,\n",
       "  0.19505570229474747,\n",
       "  0.18182116396579726,\n",
       "  0.1783272331292643,\n",
       "  0.17379288110742391,\n",
       "  0.173081065764673,\n",
       "  0.1693346398485297,\n",
       "  0.19339211245985891,\n",
       "  0.18882115187701315,\n",
       "  0.1786820853021196]}"
      ]
     },
     "execution_count": 8,
     "metadata": {},
     "output_type": "execute_result"
    }
   ],
   "source": [
    "history.history"
   ]
  },
  {
   "cell_type": "markdown",
   "metadata": {},
   "source": [
    "## Evaluate"
   ]
  },
  {
   "cell_type": "code",
   "execution_count": 9,
   "metadata": {
    "collapsed": false
   },
   "outputs": [
    {
     "name": "stdout",
     "output_type": "stream",
     "text": [
      " 9984/10000 [============================>.] - ETA: 0sSummary: Loss over the test dataset: 0.19, Accuracy: 0.98\n"
     ]
    }
   ],
   "source": [
    "evaluation = model.evaluate(X_test, Y_test, verbose=1)\n",
    "print('Summary: Loss over the test dataset: %.2f, Accuracy: %.2f' % (evaluation[0], evaluation[1]))"
   ]
  },
  {
   "cell_type": "markdown",
   "metadata": {},
   "source": [
    "## Predict"
   ]
  },
  {
   "cell_type": "code",
   "execution_count": 10,
   "metadata": {
    "collapsed": false
   },
   "outputs": [],
   "source": [
    "test_predictions = model.predict(X_test)\n",
    "test_prediction_ids = test_predictions.argmax(axis=1)"
   ]
  },
  {
   "cell_type": "markdown",
   "metadata": {},
   "source": [
    "## Plot some predictions"
   ]
  },
  {
   "cell_type": "code",
   "execution_count": 11,
   "metadata": {
    "collapsed": false
   },
   "outputs": [],
   "source": [
    "from matplotlib import pyplot as plt\n",
    "import numpy as np\n",
    "def plots(ims, figsize=(12,6), rows=1, interp=False, titles=None):\n",
    "    f = plt.figure(figsize=figsize)\n",
    "    for i in range(len(ims)):\n",
    "        sp = f.add_subplot(rows, len(ims)//rows, i+1)\n",
    "        if titles is not None:\n",
    "            sp.set_title(titles[i], fontsize=6)\n",
    "        plt.imshow(ims[i], interpolation=None if interp else 'none')"
   ]
  },
  {
   "cell_type": "code",
   "execution_count": 12,
   "metadata": {
    "collapsed": false
   },
   "outputs": [],
   "source": [
    "n_view = 4\n",
    "\n",
    "idx = np.random.permutation(range(0,len(X_test)))[:n_view]\n",
    "\n",
    "imgs = X_test[idx,:].reshape(n_view, X_train_raw.shape[1], X_train_raw.shape[2])\n",
    "titles = test_prediction_ids[idx]"
   ]
  },
  {
   "cell_type": "code",
   "execution_count": 13,
   "metadata": {
    "collapsed": false,
    "scrolled": true
   },
   "outputs": [
    {
     "data": {
      "image/png": "[encoded data removed]",
      "text/plain": [
       "<matplotlib.figure.Figure at 0x7f0abcf78cd0>"
      ]
     },
     "metadata": {},
     "output_type": "display_data"
    }
   ],
   "source": [
    "plots(imgs, titles=titles)\n",
    "plt.show()"
   ]
  },
  {
   "cell_type": "markdown",
   "metadata": {},
   "source": [
    "## Examine wrong predictions\n"
   ]
  },
  {
   "cell_type": "code",
   "execution_count": 14,
   "metadata": {
    "collapsed": true
   },
   "outputs": [],
   "source": [
    "# convert category vector into category label\n",
    "Y_test_ids = Y_test.argmax(axis=1)\n",
    "\n",
    "# compare the predicted and actual category labels to find error predictions\n",
    "errors = np.array(Y_test_ids) - np.array(test_prediction_ids)\n",
    "\n",
    "# gather all the wrong prediction indices\n",
    "errors_idx = np.nonzero(errors)[0]"
   ]
  },
  {
   "cell_type": "code",
   "execution_count": 23,
   "metadata": {
    "collapsed": false
   },
   "outputs": [],
   "source": [
    "n_view = 4\n",
    "\n",
    "random_idx = np.random.permutation(range(0,len(errors_idx)))[:n_view]\n",
    "\n",
    "# grab a sampling of error indices \n",
    "random_errors_idx = errors_idx[random_idx]\n",
    "\n",
    "# and prepare their images and labels\n",
    "imgs = X_test[random_errors_idx,:].reshape(n_view, X_train_raw.shape[1], X_train_raw.shape[2])\n",
    "titles = test_prediction_ids[random_errors_idx]"
   ]
  },
  {
   "cell_type": "code",
   "execution_count": 24,
   "metadata": {
    "collapsed": false
   },
   "outputs": [
    {
     "data": {
      "image/png": "[encoded data removed]",
      "text/plain": [
       "<matplotlib.figure.Figure at 0x7f0ab4db2090>"
      ]
     },
     "metadata": {},
     "output_type": "display_data"
    }
   ],
   "source": [
    "plots(imgs, titles=titles)\n",
    "plt.show()"
   ]
  },
  {
   "cell_type": "code",
   "execution_count": 20,
   "metadata": {
    "collapsed": false
   },
   "outputs": [
    {
     "data": {
      "text/plain": [
       "0.0162"
      ]
     },
     "execution_count": 20,
     "metadata": {},
     "output_type": "execute_result"
    }
   ],
   "source": [
    "len(errors_idx) / 10000.\n"
   ]
  }
 ],
 "metadata": {
  "anaconda-cloud": {},
  "kernelspec": {
   "display_name": "Python [conda root]",
   "language": "python",
   "name": "conda-root-py"
  },
  "language_info": {
   "codemirror_mode": {
    "name": "ipython",
    "version": 2
   },
   "file_extension": ".py",
   "mimetype": "text/x-python",
   "name": "python",
   "nbconvert_exporter": "python",
   "pygments_lexer": "ipython2",
   "version": "2.7.12"
  }
 },
 "nbformat": 4,
 "nbformat_minor": 1
}
