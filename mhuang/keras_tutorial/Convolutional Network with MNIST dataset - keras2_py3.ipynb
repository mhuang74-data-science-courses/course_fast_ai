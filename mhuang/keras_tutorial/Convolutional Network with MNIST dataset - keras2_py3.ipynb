{
 "cells": [
  {
   "cell_type": "code",
   "execution_count": 1,
   "metadata": {
    "collapsed": false,
    "scrolled": true
   },
   "outputs": [
    {
     "name": "stderr",
     "output_type": "stream",
     "text": [
      "Using TensorFlow backend.\n"
     ]
    }
   ],
   "source": [
    "from keras.models import Sequential\n",
    "from keras.layers import Dense, Flatten, Conv2D, MaxPooling2D, Activation, Dropout\n",
    "from keras.optimizers import RMSprop\n",
    "from keras.datasets import mnist\n",
    "from keras.utils import np_utils\n",
    "from keras import initializers\n",
    "from keras import backend as K\n",
    "from keras.callbacks import TensorBoard\n",
    "import keras"
   ]
  },
  {
   "cell_type": "markdown",
   "metadata": {},
   "source": [
    "## training params"
   ]
  },
  {
   "cell_type": "code",
   "execution_count": 19,
   "metadata": {
    "collapsed": true
   },
   "outputs": [],
   "source": [
    "\n",
    "batch_size = 128\n",
    "epochs = 10\n",
    "\n",
    "pool_size = (2, 2)                    # size of poolin area for max pooling\n",
    "prob_drop_conv = 0.2                  # drop probability for dropout @ conv layer\n",
    "prob_drop_hidden = 0.5                # drop probability for dropout @ fc layer"
   ]
  },
  {
   "cell_type": "markdown",
   "metadata": {},
   "source": [
    "## data params"
   ]
  },
  {
   "cell_type": "code",
   "execution_count": 3,
   "metadata": {
    "collapsed": true
   },
   "outputs": [],
   "source": [
    "# data params\n",
    "nb_classes = 10\n"
   ]
  },
  {
   "cell_type": "markdown",
   "metadata": {},
   "source": [
    "## Load MNIST dataset"
   ]
  },
  {
   "cell_type": "code",
   "execution_count": 4,
   "metadata": {
    "collapsed": false
   },
   "outputs": [
    {
     "name": "stdout",
     "output_type": "stream",
     "text": [
      "X_train_raw original shape: (60000, 28, 28)\n"
     ]
    }
   ],
   "source": [
    "(X_train_raw, Y_train_raw), (X_test_raw, Y_test_raw) = mnist.load_data()\n",
    "print('X_train_raw original shape:', X_train_raw.shape)"
   ]
  },
  {
   "cell_type": "markdown",
   "metadata": {},
   "source": [
    "### Reshape Data from image matrix to array & normalize\n"
   ]
  },
  {
   "cell_type": "code",
   "execution_count": 5,
   "metadata": {
    "collapsed": false
   },
   "outputs": [
    {
     "name": "stdout",
     "output_type": "stream",
     "text": [
      "X_train shape:  (60000, 28, 28, 1)\n",
      "X_test shape:  (10000, 28, 28, 1)\n",
      "input_shape:  (28, 28, 1)\n"
     ]
    }
   ],
   "source": [
    "if K.image_dim_ordering() == 'th':\n",
    "\n",
    "    # Theano\n",
    "    X_train = X_train_raw.reshape(X_train_raw.shape[0], 1, X_train_raw.shape[1], X_train_raw.shape[2]).astype('float32')\n",
    "    X_train /= 255.\n",
    "\n",
    "    X_test = X_test_raw.reshape(X_test_raw.shape[0], 1, X_test_raw.shape[1], X_test_raw.shape[2]).astype('float32')\n",
    "    X_test /= 255.\n",
    "    \n",
    "    input_shape = (1, X_train_raw.shape[1], X_train_raw.shape[2])\n",
    "    \n",
    "else:\n",
    "    \n",
    "    # TensorFlow\n",
    "    X_train = X_train_raw.reshape(X_train_raw.shape[0], X_train_raw.shape[1], X_train_raw.shape[2], 1).astype('float32')\n",
    "    X_train /= 255.\n",
    "\n",
    "    X_test = X_test_raw.reshape(X_test_raw.shape[0], X_test_raw.shape[1], X_test_raw.shape[2], 1).astype('float32')\n",
    "    X_test /= 255.\n",
    "    \n",
    "    input_shape = (X_train_raw.shape[1], X_train_raw.shape[2], 1)\n",
    "    \n",
    "print('X_train shape: ', X_train.shape)\n",
    "print('X_test shape: ', X_test.shape)\n",
    "print('input_shape: ', input_shape)"
   ]
  },
  {
   "cell_type": "code",
   "execution_count": 6,
   "metadata": {
    "collapsed": true
   },
   "outputs": [],
   "source": [
    "Y_train = np_utils.to_categorical(Y_train_raw)\n",
    "\n",
    "Y_test = np_utils.to_categorical(Y_test_raw)"
   ]
  },
  {
   "cell_type": "markdown",
   "metadata": {},
   "source": [
    "## Convolutional Network model"
   ]
  },
  {
   "cell_type": "code",
   "execution_count": 7,
   "metadata": {
    "collapsed": false
   },
   "outputs": [
    {
     "name": "stdout",
     "output_type": "stream",
     "text": [
      "_________________________________________________________________\n",
      "Layer (type)                 Output Shape              Param #   \n",
      "=================================================================\n",
      "conv2d_1 (Conv2D)            (None, 28, 28, 32)        320       \n",
      "_________________________________________________________________\n",
      "activation_1 (Activation)    (None, 28, 28, 32)        0         \n",
      "_________________________________________________________________\n",
      "max_pooling2d_1 (MaxPooling2 (None, 14, 14, 32)        0         \n",
      "_________________________________________________________________\n",
      "dropout_1 (Dropout)          (None, 14, 14, 32)        0         \n",
      "_________________________________________________________________\n",
      "conv2d_2 (Conv2D)            (None, 14, 14, 64)        18496     \n",
      "_________________________________________________________________\n",
      "activation_2 (Activation)    (None, 14, 14, 64)        0         \n",
      "_________________________________________________________________\n",
      "max_pooling2d_2 (MaxPooling2 (None, 7, 7, 64)          0         \n",
      "_________________________________________________________________\n",
      "dropout_2 (Dropout)          (None, 7, 7, 64)          0         \n",
      "_________________________________________________________________\n",
      "conv2d_3 (Conv2D)            (None, 7, 7, 128)         73856     \n",
      "_________________________________________________________________\n",
      "activation_3 (Activation)    (None, 7, 7, 128)         0         \n",
      "_________________________________________________________________\n",
      "max_pooling2d_3 (MaxPooling2 (None, 4, 4, 128)         0         \n",
      "_________________________________________________________________\n",
      "flatten_1 (Flatten)          (None, 2048)              0         \n",
      "_________________________________________________________________\n",
      "dropout_3 (Dropout)          (None, 2048)              0         \n",
      "_________________________________________________________________\n",
      "dense_1 (Dense)              (None, 625)               1280625   \n",
      "_________________________________________________________________\n",
      "activation_4 (Activation)    (None, 625)               0         \n",
      "_________________________________________________________________\n",
      "dropout_4 (Dropout)          (None, 625)               0         \n",
      "_________________________________________________________________\n",
      "dense_2 (Dense)              (None, 10)                6260      \n",
      "_________________________________________________________________\n",
      "activation_5 (Activation)    (None, 10)                0         \n",
      "=================================================================\n",
      "Total params: 1,379,557\n",
      "Trainable params: 1,379,557\n",
      "Non-trainable params: 0\n",
      "_________________________________________________________________\n"
     ]
    }
   ],
   "source": [
    "model = Sequential()\n",
    "\n",
    "# conv1 layer\n",
    "model.add(Conv2D(32, (3,3), padding='same', kernel_initializer='random_normal', input_shape=input_shape))\n",
    "model.add(Activation('relu'))\n",
    "model.add(MaxPooling2D(pool_size=pool_size, strides=(2, 2), padding='same'))\n",
    "model.add(Dropout(prob_drop_conv))\n",
    "\n",
    "# conv2 layer\n",
    "model.add(Conv2D(64, (3,3), padding='same', kernel_initializer='random_normal'))\n",
    "model.add(Activation('relu'))\n",
    "model.add(MaxPooling2D(pool_size=pool_size, strides=(2, 2), padding='same'))\n",
    "model.add(Dropout(prob_drop_conv))\n",
    "\n",
    "# conv3 layer\n",
    "model.add(Conv2D(128, (3,3), padding='same', kernel_initializer='random_normal'))\n",
    "model.add(Activation('relu'))\n",
    "model.add(MaxPooling2D(pool_size=pool_size, strides=(2, 2), padding='same'))\n",
    "model.add(Flatten())\n",
    "model.add(Dropout(prob_drop_conv))\n",
    "\n",
    "# fc1 layer\n",
    "# why is it 625 here??\n",
    "model.add(Dense(units=625, kernel_initializer='random_normal'))\n",
    "model.add(Activation('relu'))\n",
    "model.add(Dropout(prob_drop_hidden))\n",
    "\n",
    "# fc2 layer\n",
    "model.add(Dense(units=10, kernel_initializer='random_normal'))\n",
    "model.add(Activation('softmax'))\n",
    "          \n",
    "model.compile(optimizer=RMSprop(lr=0.001, rho=0.9), loss='categorical_crossentropy', metrics=['accuracy'])\n",
    "model.summary()"
   ]
  },
  {
   "cell_type": "markdown",
   "metadata": {},
   "source": [
    "## Train"
   ]
  },
  {
   "cell_type": "code",
   "execution_count": 20,
   "metadata": {
    "collapsed": true
   },
   "outputs": [],
   "source": [
    "tensorboard_callback = TensorBoard(log_dir='./logs/mnist_tensorboard', histogram_freq=1, write_graph=True, write_grads=True, batch_size=2*batch_size, write_images=True)"
   ]
  },
  {
   "cell_type": "code",
   "execution_count": 8,
   "metadata": {
    "collapsed": false
   },
   "outputs": [
    {
     "name": "stdout",
     "output_type": "stream",
     "text": [
      "Train on 51000 samples, validate on 9000 samples\n",
      "Epoch 1/20\n",
      "51000/51000 [==============================] - 9s 170us/step - loss: 0.2961 - acc: 0.9029 - val_loss: 0.0618 - val_acc: 0.9818\n",
      "Epoch 2/20\n",
      "51000/51000 [==============================] - 8s 154us/step - loss: 0.0787 - acc: 0.9748 - val_loss: 0.0394 - val_acc: 0.9883\n",
      "Epoch 3/20\n",
      "51000/51000 [==============================] - 8s 154us/step - loss: 0.0577 - acc: 0.9828 - val_loss: 0.0321 - val_acc: 0.9908\n",
      "Epoch 4/20\n",
      "51000/51000 [==============================] - 8s 152us/step - loss: 0.0480 - acc: 0.9852 - val_loss: 0.0345 - val_acc: 0.9917\n",
      "Epoch 5/20\n",
      "51000/51000 [==============================] - 8s 154us/step - loss: 0.0413 - acc: 0.9869 - val_loss: 0.0266 - val_acc: 0.9924\n",
      "Epoch 6/20\n",
      "51000/51000 [==============================] - 8s 155us/step - loss: 0.0363 - acc: 0.9889 - val_loss: 0.0277 - val_acc: 0.9923\n",
      "Epoch 7/20\n",
      "51000/51000 [==============================] - 8s 152us/step - loss: 0.0337 - acc: 0.9895 - val_loss: 0.0277 - val_acc: 0.9926\n",
      "Epoch 8/20\n",
      "51000/51000 [==============================] - 8s 155us/step - loss: 0.0316 - acc: 0.9901 - val_loss: 0.0279 - val_acc: 0.9919\n",
      "Epoch 9/20\n",
      "51000/51000 [==============================] - 8s 155us/step - loss: 0.0273 - acc: 0.9912 - val_loss: 0.0288 - val_acc: 0.9916\n",
      "Epoch 10/20\n",
      "51000/51000 [==============================] - 8s 152us/step - loss: 0.0284 - acc: 0.9909 - val_loss: 0.0263 - val_acc: 0.9932\n",
      "Epoch 11/20\n",
      "51000/51000 [==============================] - 8s 155us/step - loss: 0.0277 - acc: 0.9915 - val_loss: 0.0229 - val_acc: 0.9932\n",
      "Epoch 12/20\n",
      "51000/51000 [==============================] - 8s 154us/step - loss: 0.0252 - acc: 0.9921 - val_loss: 0.0243 - val_acc: 0.9929\n",
      "Epoch 13/20\n",
      "51000/51000 [==============================] - 8s 152us/step - loss: 0.0238 - acc: 0.9925 - val_loss: 0.0286 - val_acc: 0.9940\n",
      "Epoch 14/20\n",
      "51000/51000 [==============================] - 8s 154us/step - loss: 0.0229 - acc: 0.9930 - val_loss: 0.0357 - val_acc: 0.9911\n",
      "Epoch 15/20\n",
      "51000/51000 [==============================] - 8s 154us/step - loss: 0.0241 - acc: 0.9932 - val_loss: 0.0263 - val_acc: 0.9926\n",
      "Epoch 16/20\n",
      "51000/51000 [==============================] - 8s 152us/step - loss: 0.0237 - acc: 0.9930 - val_loss: 0.0256 - val_acc: 0.9936\n",
      "Epoch 17/20\n",
      "51000/51000 [==============================] - 8s 155us/step - loss: 0.0226 - acc: 0.9934 - val_loss: 0.0223 - val_acc: 0.9939\n",
      "Epoch 18/20\n",
      "51000/51000 [==============================] - 8s 155us/step - loss: 0.0227 - acc: 0.9930 - val_loss: 0.0229 - val_acc: 0.9938\n",
      "Epoch 19/20\n",
      "51000/51000 [==============================] - 8s 152us/step - loss: 0.0223 - acc: 0.9936 - val_loss: 0.0232 - val_acc: 0.9943\n",
      "Epoch 20/20\n",
      "51000/51000 [==============================] - 8s 154us/step - loss: 0.0233 - acc: 0.9933 - val_loss: 0.0318 - val_acc: 0.9937\n"
     ]
    }
   ],
   "source": [
    "history = model.fit(X_train, Y_train, epochs=epochs, batch_size=batch_size, shuffle=True, validation_split=0.15, verbose=1, callbacks=[tensorboard_callback])"
   ]
  },
  {
   "cell_type": "code",
   "execution_count": 9,
   "metadata": {
    "collapsed": false
   },
   "outputs": [
    {
     "data": {
      "text/plain": [
       "{'acc': [0.90288235295987596,\n",
       "  0.9748235294211145,\n",
       "  0.98276470588235298,\n",
       "  0.98521568628385958,\n",
       "  0.98686274511673866,\n",
       "  0.98888235294117643,\n",
       "  0.98954901960784314,\n",
       "  0.99013725491131055,\n",
       "  0.99123529412699685,\n",
       "  0.99094117647058821,\n",
       "  0.99149019607843136,\n",
       "  0.99211764705882355,\n",
       "  0.99249019608778111,\n",
       "  0.99300000000934974,\n",
       "  0.99315686274509807,\n",
       "  0.99296078432307522,\n",
       "  0.99341176470588233,\n",
       "  0.99300000000934974,\n",
       "  0.99360784313725492,\n",
       "  0.99325490196078436],\n",
       " 'loss': [0.29611120167666788,\n",
       "  0.078699115976399073,\n",
       "  0.057676971705228675,\n",
       "  0.047984794721883883,\n",
       "  0.041334370381107516,\n",
       "  0.036325947018815023,\n",
       "  0.033719214828575358,\n",
       "  0.031594835260481229,\n",
       "  0.027289767437413626,\n",
       "  0.028425582074395873,\n",
       "  0.027705100986102193,\n",
       "  0.025189072179480219,\n",
       "  0.023814203491251844,\n",
       "  0.022920476152890307,\n",
       "  0.024120990171736363,\n",
       "  0.023694442669404486,\n",
       "  0.022636981999830288,\n",
       "  0.022696842450785504,\n",
       "  0.022348561818492325,\n",
       "  0.023340939320943447],\n",
       " 'val_acc': [0.98177777777777775,\n",
       "  0.98833333333333329,\n",
       "  0.99077777777777776,\n",
       "  0.9916666666666667,\n",
       "  0.99244444444444446,\n",
       "  0.99233333333333329,\n",
       "  0.99255555555555552,\n",
       "  0.99188888888888893,\n",
       "  0.99155555555555552,\n",
       "  0.99322222222222223,\n",
       "  0.99322222222222223,\n",
       "  0.99288888888888893,\n",
       "  0.99399999999999999,\n",
       "  0.99111111111111116,\n",
       "  0.99255555555555552,\n",
       "  0.99355555555555553,\n",
       "  0.99388888888888893,\n",
       "  0.99377777777777776,\n",
       "  0.99433333333333329,\n",
       "  0.9936666666666667],\n",
       " 'val_loss': [0.061782891711427104,\n",
       "  0.039394593818320167,\n",
       "  0.032071596077332891,\n",
       "  0.034466146401362495,\n",
       "  0.026579708110955027,\n",
       "  0.0277303982693702,\n",
       "  0.027685387018861043,\n",
       "  0.027920551358372906,\n",
       "  0.028822461673029466,\n",
       "  0.026335498253226331,\n",
       "  0.022875775587292285,\n",
       "  0.024300065866354595,\n",
       "  0.028574808834636416,\n",
       "  0.035689743587161905,\n",
       "  0.026315343158127183,\n",
       "  0.025561283069708021,\n",
       "  0.022274130357325905,\n",
       "  0.02287834788351837,\n",
       "  0.02321921986035563,\n",
       "  0.031786691451111036]}"
      ]
     },
     "execution_count": 9,
     "metadata": {},
     "output_type": "execute_result"
    }
   ],
   "source": [
    "history.history"
   ]
  },
  {
   "cell_type": "markdown",
   "metadata": {},
   "source": [
    "## Evaluate"
   ]
  },
  {
   "cell_type": "code",
   "execution_count": 10,
   "metadata": {
    "collapsed": false
   },
   "outputs": [
    {
     "name": "stdout",
     "output_type": "stream",
     "text": [
      "10000/10000 [==============================] - 0s 46us/step\n",
      "Summary: Loss over the test dataset: 0.02, Accuracy: 0.99\n"
     ]
    }
   ],
   "source": [
    "evaluation = model.evaluate(X_test, Y_test, batch_size=2*batch_size, verbose=1)\n",
    "print('Summary: Loss over the test dataset: %.2f, Accuracy: %.4f' % (evaluation[0], evaluation[1]))"
   ]
  },
  {
   "cell_type": "markdown",
   "metadata": {},
   "source": [
    "## Predict"
   ]
  },
  {
   "cell_type": "code",
   "execution_count": 11,
   "metadata": {
    "collapsed": true
   },
   "outputs": [],
   "source": [
    "test_predictions = model.predict(X_test)\n",
    "test_prediction_ids = test_predictions.argmax(axis=1)"
   ]
  },
  {
   "cell_type": "markdown",
   "metadata": {},
   "source": [
    "## Plot some predictions"
   ]
  },
  {
   "cell_type": "code",
   "execution_count": 12,
   "metadata": {
    "collapsed": true
   },
   "outputs": [],
   "source": [
    "from matplotlib import pyplot as plt\n",
    "import numpy as np\n",
    "def plots(ims, figsize=(12,6), rows=1, interp=False, titles=None):\n",
    "    f = plt.figure(figsize=figsize)\n",
    "    for i in range(len(ims)):\n",
    "        sp = f.add_subplot(rows, len(ims)//rows, i+1)\n",
    "        if titles is not None:\n",
    "            sp.set_title(titles[i], fontsize=12)\n",
    "        plt.imshow(ims[i], interpolation=None if interp else 'none')"
   ]
  },
  {
   "cell_type": "code",
   "execution_count": 13,
   "metadata": {
    "collapsed": true
   },
   "outputs": [],
   "source": [
    "n_view = 4\n",
    "\n",
    "idx = np.random.permutation(range(0,len(X_test)))[:n_view]\n",
    "\n",
    "imgs = X_test[idx,:].reshape(n_view, X_train_raw.shape[1], X_train_raw.shape[2])\n",
    "titles = test_prediction_ids[idx]"
   ]
  },
  {
   "cell_type": "code",
   "execution_count": 14,
   "metadata": {
    "collapsed": false,
    "scrolled": true
   },
   "outputs": [
    {
     "data": {
      "image/png": "[encoded data removed]",
      "text/plain": [
       "<matplotlib.figure.Figure at 0x7f0eb098e748>"
      ]
     },
     "metadata": {},
     "output_type": "display_data"
    }
   ],
   "source": [
    "plots(imgs, titles=titles)\n",
    "plt.show()"
   ]
  },
  {
   "cell_type": "markdown",
   "metadata": {},
   "source": [
    "## Examine wrong predictions\n"
   ]
  },
  {
   "cell_type": "code",
   "execution_count": 15,
   "metadata": {
    "collapsed": true
   },
   "outputs": [],
   "source": [
    "# convert category vector into category label\n",
    "Y_test_ids = Y_test.argmax(axis=1)\n",
    "\n",
    "# compare the predicted and actual category labels to find error predictions\n",
    "errors = np.array(Y_test_ids) - np.array(test_prediction_ids)\n",
    "\n",
    "# gather all the wrong prediction indices\n",
    "errors_idx = np.nonzero(errors)[0]"
   ]
  },
  {
   "cell_type": "code",
   "execution_count": 16,
   "metadata": {
    "collapsed": true
   },
   "outputs": [],
   "source": [
    "n_view = 4\n",
    "\n",
    "random_idx = np.random.permutation(range(0,len(errors_idx)))[:n_view]\n",
    "\n",
    "# grab a sampling of error indices \n",
    "random_errors_idx = errors_idx[random_idx]\n",
    "\n",
    "# and prepare their images and labels\n",
    "imgs = X_test[random_errors_idx,:].reshape(n_view, X_train_raw.shape[1], X_train_raw.shape[2])\n",
    "titles = test_prediction_ids[random_errors_idx]"
   ]
  },
  {
   "cell_type": "code",
   "execution_count": 17,
   "metadata": {
    "collapsed": false,
    "scrolled": true
   },
   "outputs": [
    {
     "data": {
      "image/png": "[encoded data removed]",
      "text/plain": [
       "<matplotlib.figure.Figure at 0x7f0e526d4630>"
      ]
     },
     "metadata": {},
     "output_type": "display_data"
    }
   ],
   "source": [
    "plots(imgs, titles=titles)\n",
    "plt.show()"
   ]
  },
  {
   "cell_type": "code",
   "execution_count": 18,
   "metadata": {
    "collapsed": false
   },
   "outputs": [
    {
     "data": {
      "text/plain": [
       "0.0056"
      ]
     },
     "execution_count": 18,
     "metadata": {},
     "output_type": "execute_result"
    }
   ],
   "source": [
    "len(errors_idx) / 10000.\n"
   ]
  }
 ],
 "metadata": {
  "anaconda-cloud": {},
  "kernelspec": {
   "display_name": "Python [conda env:gpu_keras2_tf16_py36]",
   "language": "python",
   "name": "conda-env-gpu_keras2_tf16_py36-py"
  },
  "language_info": {
   "codemirror_mode": {
    "name": "ipython",
    "version": 3
   },
   "file_extension": ".py",
   "mimetype": "text/x-python",
   "name": "python",
   "nbconvert_exporter": "python",
   "pygments_lexer": "ipython3",
   "version": "3.6.4"
  }
 },
 "nbformat": 4,
 "nbformat_minor": 1
}
