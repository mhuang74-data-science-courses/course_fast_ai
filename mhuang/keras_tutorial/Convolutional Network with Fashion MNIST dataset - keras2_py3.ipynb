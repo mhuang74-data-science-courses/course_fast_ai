{
 "cells": [
  {
   "cell_type": "code",
   "execution_count": 1,
   "metadata": {
    "collapsed": false,
    "scrolled": true
   },
   "outputs": [
    {
     "name": "stderr",
     "output_type": "stream",
     "text": [
      "Using TensorFlow backend.\n"
     ]
    }
   ],
   "source": [
    "from keras.datasets import fashion_mnist\n",
    "\n",
    "from keras.models import Sequential\n",
    "from keras.layers import Dense, Flatten, Conv2D, MaxPooling2D, Activation, Dropout, InputLayer, BatchNormalization\n",
    "from keras.optimizers import RMSprop, Adam\n",
    "from keras.utils import np_utils\n",
    "from keras import initializers\n",
    "from keras import backend as K\n",
    "from keras.callbacks import TensorBoard\n",
    "import keras"
   ]
  },
  {
   "cell_type": "markdown",
   "metadata": {},
   "source": [
    "## training params"
   ]
  },
  {
   "cell_type": "code",
   "execution_count": 2,
   "metadata": {
    "collapsed": true
   },
   "outputs": [],
   "source": [
    "\n",
    "batch_size = 256\n",
    "epochs = 8\n",
    "\n",
    "pool_size = (2, 2)                    # size of poolin area for max pooling\n",
    "prob_drop_conv = 0.25                  # drop probability for dropout @ conv layer\n",
    "prob_drop_hidden = 0.5                # drop probability for dropout @ fc layer"
   ]
  },
  {
   "cell_type": "markdown",
   "metadata": {},
   "source": [
    "## data params"
   ]
  },
  {
   "cell_type": "code",
   "execution_count": 3,
   "metadata": {
    "collapsed": false
   },
   "outputs": [],
   "source": [
    "# Create dictionary of target classes\n",
    "label_dict = {\n",
    " 0: 'T-shirt/top',\n",
    " 1: 'Trouser',\n",
    " 2: 'Pullover',\n",
    " 3: 'Dress',\n",
    " 4: 'Coat',\n",
    " 5: 'Sandal',\n",
    " 6: 'Shirt',\n",
    " 7: 'Sneaker',\n",
    " 8: 'Bag',\n",
    " 9: 'Ankle boot'\n",
    "}\n",
    "\n",
    "# data params\n",
    "nb_classes = len(label_dict)"
   ]
  },
  {
   "cell_type": "markdown",
   "metadata": {},
   "source": [
    "## Load MNIST dataset"
   ]
  },
  {
   "cell_type": "code",
   "execution_count": 4,
   "metadata": {
    "collapsed": false
   },
   "outputs": [
    {
     "name": "stdout",
     "output_type": "stream",
     "text": [
      "X_train_raw original shape: (60000, 28, 28)\n"
     ]
    }
   ],
   "source": [
    "(X_train_raw, Y_train_raw), (X_test_raw, Y_test_raw) = fashion_mnist.load_data()\n",
    "print('X_train_raw original shape:', X_train_raw.shape)"
   ]
  },
  {
   "cell_type": "markdown",
   "metadata": {},
   "source": [
    "### Reshape Data from image matrix to array & normalize\n"
   ]
  },
  {
   "cell_type": "code",
   "execution_count": 5,
   "metadata": {
    "collapsed": false
   },
   "outputs": [
    {
     "name": "stdout",
     "output_type": "stream",
     "text": [
      "X_train shape:  (60000, 28, 28, 1)\n",
      "X_test shape:  (10000, 28, 28, 1)\n",
      "input_shape:  (28, 28, 1)\n"
     ]
    }
   ],
   "source": [
    "if K.image_dim_ordering() == 'th':\n",
    "\n",
    "    # Theano\n",
    "    X_train = X_train_raw.reshape(X_train_raw.shape[0], 1, X_train_raw.shape[1], X_train_raw.shape[2]).astype('float32')\n",
    "    X_train /= 255.\n",
    "\n",
    "    X_test = X_test_raw.reshape(X_test_raw.shape[0], 1, X_test_raw.shape[1], X_test_raw.shape[2]).astype('float32')\n",
    "    X_test /= 255.\n",
    "    \n",
    "    input_shape = (1, X_train_raw.shape[1], X_train_raw.shape[2])\n",
    "    \n",
    "else:\n",
    "    \n",
    "    # TensorFlow\n",
    "    X_train = X_train_raw.reshape(X_train_raw.shape[0], X_train_raw.shape[1], X_train_raw.shape[2], 1).astype('float32')\n",
    "    X_train /= 255.\n",
    "\n",
    "    X_test = X_test_raw.reshape(X_test_raw.shape[0], X_test_raw.shape[1], X_test_raw.shape[2], 1).astype('float32')\n",
    "    X_test /= 255.\n",
    "    \n",
    "    input_shape = (X_train_raw.shape[1], X_train_raw.shape[2], 1)\n",
    "    \n",
    "print('X_train shape: ', X_train.shape)\n",
    "print('X_test shape: ', X_test.shape)\n",
    "print('input_shape: ', input_shape)"
   ]
  },
  {
   "cell_type": "code",
   "execution_count": 6,
   "metadata": {
    "collapsed": true
   },
   "outputs": [],
   "source": [
    "Y_train = np_utils.to_categorical(Y_train_raw)\n",
    "\n",
    "Y_test = np_utils.to_categorical(Y_test_raw)"
   ]
  },
  {
   "cell_type": "markdown",
   "metadata": {},
   "source": [
    "## Convolutional Network model"
   ]
  },
  {
   "cell_type": "code",
   "execution_count": 7,
   "metadata": {
    "collapsed": false
   },
   "outputs": [
    {
     "name": "stdout",
     "output_type": "stream",
     "text": [
      "_________________________________________________________________\n",
      "Layer (type)                 Output Shape              Param #   \n",
      "=================================================================\n",
      "input_1 (InputLayer)         (None, 28, 28, 1)         0         \n",
      "_________________________________________________________________\n",
      "batch_normalization_1 (Batch (None, 28, 28, 1)         4         \n",
      "_________________________________________________________________\n",
      "conv2d_1 (Conv2D)            (None, 28, 28, 32)        320       \n",
      "_________________________________________________________________\n",
      "activation_1 (Activation)    (None, 28, 28, 32)        0         \n",
      "_________________________________________________________________\n",
      "max_pooling2d_1 (MaxPooling2 (None, 14, 14, 32)        0         \n",
      "_________________________________________________________________\n",
      "dropout_1 (Dropout)          (None, 14, 14, 32)        0         \n",
      "_________________________________________________________________\n",
      "conv2d_2 (Conv2D)            (None, 14, 14, 64)        18496     \n",
      "_________________________________________________________________\n",
      "activation_2 (Activation)    (None, 14, 14, 64)        0         \n",
      "_________________________________________________________________\n",
      "max_pooling2d_2 (MaxPooling2 (None, 7, 7, 64)          0         \n",
      "_________________________________________________________________\n",
      "dropout_2 (Dropout)          (None, 7, 7, 64)          0         \n",
      "_________________________________________________________________\n",
      "conv2d_3 (Conv2D)            (None, 7, 7, 128)         73856     \n",
      "_________________________________________________________________\n",
      "activation_3 (Activation)    (None, 7, 7, 128)         0         \n",
      "_________________________________________________________________\n",
      "max_pooling2d_3 (MaxPooling2 (None, 4, 4, 128)         0         \n",
      "_________________________________________________________________\n",
      "flatten_1 (Flatten)          (None, 2048)              0         \n",
      "_________________________________________________________________\n",
      "dropout_3 (Dropout)          (None, 2048)              0         \n",
      "_________________________________________________________________\n",
      "dense_1 (Dense)              (None, 250)               512250    \n",
      "_________________________________________________________________\n",
      "activation_4 (Activation)    (None, 250)               0         \n",
      "_________________________________________________________________\n",
      "dropout_4 (Dropout)          (None, 250)               0         \n",
      "_________________________________________________________________\n",
      "dense_2 (Dense)              (None, 10)                2510      \n",
      "_________________________________________________________________\n",
      "activation_5 (Activation)    (None, 10)                0         \n",
      "=================================================================\n",
      "Total params: 607,436\n",
      "Trainable params: 607,434\n",
      "Non-trainable params: 2\n",
      "_________________________________________________________________\n"
     ]
    }
   ],
   "source": [
    "model = Sequential()\n",
    "\n",
    "# input layer\n",
    "model.add(InputLayer(input_shape=input_shape))\n",
    "\n",
    "# batch normalization\n",
    "model.add(BatchNormalization())\n",
    "\n",
    "# conv1 layer\n",
    "model.add(Conv2D(32, (3,3), padding='same', kernel_initializer='random_normal'))\n",
    "model.add(Activation('relu'))\n",
    "model.add(MaxPooling2D(pool_size=pool_size, strides=(2, 2), padding='same'))\n",
    "model.add(Dropout(prob_drop_conv))\n",
    "\n",
    "# conv2 layer\n",
    "model.add(Conv2D(64, (3,3), padding='same', kernel_initializer='random_normal'))\n",
    "model.add(Activation('relu'))\n",
    "model.add(MaxPooling2D(pool_size=pool_size, strides=(2, 2), padding='same'))\n",
    "model.add(Dropout(prob_drop_conv))\n",
    "\n",
    "# conv3 layer\n",
    "model.add(Conv2D(128, (3,3), padding='same', kernel_initializer='random_normal'))\n",
    "model.add(Activation('relu'))\n",
    "model.add(MaxPooling2D(pool_size=pool_size, strides=(2, 2), padding='same'))\n",
    "model.add(Flatten())\n",
    "model.add(Dropout(prob_drop_conv))\n",
    "\n",
    "# fc1 layer\n",
    "# why is it 625 here??\n",
    "model.add(Dense(units=250, kernel_initializer='random_normal'))\n",
    "model.add(Activation('relu'))\n",
    "model.add(Dropout(prob_drop_hidden))\n",
    "\n",
    "# fc2 layer\n",
    "model.add(Dense(units=10, kernel_initializer='random_normal'))\n",
    "model.add(Activation('softmax'))\n",
    "          \n",
    "model.compile(optimizer=RMSprop(lr=0.001, rho=0.9), loss='categorical_crossentropy', metrics=['accuracy'])\n",
    "model.summary()"
   ]
  },
  {
   "cell_type": "markdown",
   "metadata": {},
   "source": [
    "## Train"
   ]
  },
  {
   "cell_type": "code",
   "execution_count": 8,
   "metadata": {
    "collapsed": true
   },
   "outputs": [],
   "source": [
    "import time\n",
    "timestamp = time.strftime(\"%Y%m%d-%H%m%S\")\n",
    "log_dir = './logs/mnist_tensorboard/' + timestamp\n",
    "tensorboard_callback = TensorBoard(log_dir=log_dir, histogram_freq=1, write_graph=True, write_grads=True, batch_size=2*batch_size, write_images=True)"
   ]
  },
  {
   "cell_type": "code",
   "execution_count": 9,
   "metadata": {
    "collapsed": false,
    "scrolled": true
   },
   "outputs": [
    {
     "name": "stdout",
     "output_type": "stream",
     "text": [
      "Train on 48000 samples, validate on 12000 samples\n",
      "Epoch 1/8\n",
      "48000/48000 [==============================] - 109s 2ms/step - loss: 0.7991 - acc: 0.7009 - val_loss: 0.4567 - val_acc: 0.8308\n",
      "Epoch 2/8\n",
      "48000/48000 [==============================] - 109s 2ms/step - loss: 0.4567 - acc: 0.8331 - val_loss: 0.3822 - val_acc: 0.8643\n",
      "Epoch 3/8\n",
      "48000/48000 [==============================] - 109s 2ms/step - loss: 0.3865 - acc: 0.8593 - val_loss: 0.3238 - val_acc: 0.8802\n",
      "Epoch 4/8\n",
      "48000/48000 [==============================] - 109s 2ms/step - loss: 0.3478 - acc: 0.8745 - val_loss: 0.3008 - val_acc: 0.8897\n",
      "Epoch 5/8\n",
      "48000/48000 [==============================] - 108s 2ms/step - loss: 0.3222 - acc: 0.8813 - val_loss: 0.2800 - val_acc: 0.8974\n",
      "Epoch 6/8\n",
      "48000/48000 [==============================] - 109s 2ms/step - loss: 0.3050 - acc: 0.8892 - val_loss: 0.2709 - val_acc: 0.8991\n",
      "Epoch 7/8\n",
      "48000/48000 [==============================] - 108s 2ms/step - loss: 0.2892 - acc: 0.8939 - val_loss: 0.2808 - val_acc: 0.8987\n",
      "Epoch 8/8\n",
      "48000/48000 [==============================] - 108s 2ms/step - loss: 0.2761 - acc: 0.8983 - val_loss: 0.2504 - val_acc: 0.9094\n"
     ]
    }
   ],
   "source": [
    "history = model.fit(X_train, Y_train, epochs=epochs, batch_size=batch_size, shuffle=True, validation_split=0.20, verbose=1, callbacks=[tensorboard_callback])"
   ]
  },
  {
   "cell_type": "code",
   "execution_count": 10,
   "metadata": {
    "collapsed": false
   },
   "outputs": [
    {
     "data": {
      "text/plain": [
       "{'acc': [0.70093749999999999,\n",
       "  0.833125,\n",
       "  0.85933333333333328,\n",
       "  0.87454166666666666,\n",
       "  0.88124999999999998,\n",
       "  0.88918750000000002,\n",
       "  0.89389583333333333,\n",
       "  0.89829166666666671],\n",
       " 'loss': [0.79913396501541134,\n",
       "  0.45672871184349062,\n",
       "  0.38653107881546023,\n",
       "  0.34780076233545937,\n",
       "  0.3221922086874644,\n",
       "  0.30497291398048398,\n",
       "  0.28922519199053448,\n",
       "  0.27610360217094421],\n",
       " 'val_acc': [0.83075000047683711,\n",
       "  0.86425000015894571,\n",
       "  0.88024999999999998,\n",
       "  0.88966666634877523,\n",
       "  0.89741666650772089,\n",
       "  0.89908333381017047,\n",
       "  0.89866666618982949,\n",
       "  0.9094166668256124],\n",
       " 'val_loss': [0.45668641042709351,\n",
       "  0.38215421509742736,\n",
       "  0.32379930730660755,\n",
       "  0.30084017403920493,\n",
       "  0.28000442421436311,\n",
       "  0.27086218162377673,\n",
       "  0.28081694467862445,\n",
       "  0.25036343904336295]}"
      ]
     },
     "execution_count": 10,
     "metadata": {},
     "output_type": "execute_result"
    }
   ],
   "source": [
    "history.history"
   ]
  },
  {
   "cell_type": "markdown",
   "metadata": {},
   "source": [
    "## Evaluate"
   ]
  },
  {
   "cell_type": "code",
   "execution_count": 11,
   "metadata": {
    "collapsed": false
   },
   "outputs": [
    {
     "name": "stdout",
     "output_type": "stream",
     "text": [
      "10000/10000 [==============================] - 6s 628us/step\n",
      "Summary: Loss over the test dataset: 0.2670, Accuracy: 0.9006\n"
     ]
    }
   ],
   "source": [
    "evaluation = model.evaluate(X_test, Y_test, batch_size=2*batch_size, verbose=1)\n",
    "print('Summary: Loss over the test dataset: %.4f, Accuracy: %.4f' % (evaluation[0], evaluation[1]))"
   ]
  },
  {
   "cell_type": "markdown",
   "metadata": {},
   "source": [
    "## Predict"
   ]
  },
  {
   "cell_type": "code",
   "execution_count": 12,
   "metadata": {
    "collapsed": true
   },
   "outputs": [],
   "source": [
    "test_predictions = model.predict(X_test)\n",
    "test_prediction_ids = test_predictions.argmax(axis=1)"
   ]
  },
  {
   "cell_type": "markdown",
   "metadata": {},
   "source": [
    "## Plot some predictions"
   ]
  },
  {
   "cell_type": "code",
   "execution_count": 13,
   "metadata": {
    "collapsed": true
   },
   "outputs": [],
   "source": [
    "from matplotlib import pyplot as plt\n",
    "import numpy as np\n",
    "def plots(ims, figsize=(12,1), dpi=150, rows=1, interp=False, titles=None):\n",
    "    f = plt.figure(figsize=figsize, dpi=dpi)\n",
    "    for i in range(len(ims)):\n",
    "        sp = f.add_subplot(rows, len(ims)//rows, i+1)\n",
    "        if titles is not None:\n",
    "            sp.set_title(titles[i], fontsize=8)\n",
    "        plt.imshow(ims[i], interpolation=None if interp else 'none', cmap='gray')"
   ]
  },
  {
   "cell_type": "code",
   "execution_count": 14,
   "metadata": {
    "collapsed": false
   },
   "outputs": [],
   "source": [
    "n_view = 10\n",
    "\n",
    "idx = np.random.permutation(range(0,len(X_test)))[:n_view]\n",
    "\n",
    "imgs = X_test[idx,:].reshape(n_view, X_train_raw.shape[1], X_train_raw.shape[2])\n",
    "titles = [label_dict.get(key) for key in test_prediction_ids[idx]]"
   ]
  },
  {
   "cell_type": "code",
   "execution_count": 15,
   "metadata": {
    "collapsed": false,
    "scrolled": true
   },
   "outputs": [
    {
     "data": {
      "image/png": "[encoded data removed]",
      "text/plain": [
       "<matplotlib.figure.Figure at 0x7ffa6eb69cc0>"
      ]
     },
     "metadata": {},
     "output_type": "display_data"
    }
   ],
   "source": [
    "plots(imgs, titles=titles)\n",
    "plt.show()"
   ]
  },
  {
   "cell_type": "markdown",
   "metadata": {},
   "source": [
    "## Examine wrong predictions\n"
   ]
  },
  {
   "cell_type": "code",
   "execution_count": 16,
   "metadata": {
    "collapsed": true
   },
   "outputs": [],
   "source": [
    "# convert category vector into category label\n",
    "Y_test_ids = Y_test.argmax(axis=1)\n",
    "\n",
    "# compare the predicted and actual category labels to find error predictions\n",
    "errors = np.array(Y_test_ids) - np.array(test_prediction_ids)\n",
    "\n",
    "# gather all the wrong prediction indices\n",
    "errors_idx = np.nonzero(errors)[0]"
   ]
  },
  {
   "cell_type": "code",
   "execution_count": 17,
   "metadata": {
    "collapsed": true
   },
   "outputs": [],
   "source": [
    "n_view = 10\n",
    "\n",
    "random_idx = np.random.permutation(range(0,len(errors_idx)))[:n_view]\n",
    "\n",
    "# grab a sampling of error indices \n",
    "random_errors_idx = errors_idx[random_idx]\n",
    "\n",
    "# and prepare their images and labels\n",
    "imgs = X_test[random_errors_idx,:].reshape(n_view, X_test_raw.shape[1], X_test_raw.shape[2])\n",
    "\n",
    "# convert category_id to label string\n",
    "prediction_titles = [label_dict.get(category_id) for category_id in test_prediction_ids[random_errors_idx]]\n",
    "correct_titles = [label_dict.get(category_id) for category_id in Y_test_ids[random_errors_idx]]\n",
    "\n",
    "# construct title string as \"predicted>actual\"\n",
    "title_tuples = zip(prediction_titles, correct_titles)\n",
    "titles = ['>'.join(t) for t in title_tuples]"
   ]
  },
  {
   "cell_type": "code",
   "execution_count": 18,
   "metadata": {
    "collapsed": false,
    "scrolled": false
   },
   "outputs": [
    {
     "data": {
      "image/png": "[encoded data removed]",
      "text/plain": [
       "<matplotlib.figure.Figure at 0x7ffa6c1c0898>"
      ]
     },
     "metadata": {},
     "output_type": "display_data"
    }
   ],
   "source": [
    "plots(imgs, titles=titles)\n",
    "plt.show()"
   ]
  },
  {
   "cell_type": "code",
   "execution_count": 19,
   "metadata": {
    "collapsed": false
   },
   "outputs": [
    {
     "data": {
      "text/plain": [
       "0.0994"
      ]
     },
     "execution_count": 19,
     "metadata": {},
     "output_type": "execute_result"
    }
   ],
   "source": [
    "len(errors_idx) / 10000.\n"
   ]
  },
  {
   "cell_type": "code",
   "execution_count": null,
   "metadata": {
    "collapsed": true
   },
   "outputs": [],
   "source": []
  }
 ],
 "metadata": {
  "anaconda-cloud": {},
  "kernelspec": {
   "display_name": "Python [conda env:gpu_keras2_tf16_py36]",
   "language": "python",
   "name": "conda-env-gpu_keras2_tf16_py36-py"
  },
  "language_info": {
   "codemirror_mode": {
    "name": "ipython",
    "version": 3
   },
   "file_extension": ".py",
   "mimetype": "text/x-python",
   "name": "python",
   "nbconvert_exporter": "python",
   "pygments_lexer": "ipython3",
   "version": "3.6.4"
  }
 },
 "nbformat": 4,
 "nbformat_minor": 1
}
