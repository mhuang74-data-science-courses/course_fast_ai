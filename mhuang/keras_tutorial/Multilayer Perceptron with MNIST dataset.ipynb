{
 "cells": [
  {
   "cell_type": "code",
   "execution_count": 1,
   "metadata": {
    "collapsed": false
   },
   "outputs": [
    {
     "name": "stderr",
     "output_type": "stream",
     "text": [
      "Using Theano backend.\n",
      "WARNING (theano.sandbox.cuda): CUDA is installed, but device gpu is not available  (error: Unable to get the number of gpus available: unknown error)\n"
     ]
    }
   ],
   "source": [
    "from keras.models import Sequential\n",
    "from keras.layers import Dense\n",
    "from keras.optimizers import SGD\n",
    "from keras.datasets import mnist\n",
    "from keras.utils import np_utils"
   ]
  },
  {
   "cell_type": "code",
   "execution_count": 2,
   "metadata": {
    "collapsed": true
   },
   "outputs": [],
   "source": [
    "batch_size = 128\n",
    "nb_classes = 10\n",
    "nb_epoch = 100"
   ]
  },
  {
   "cell_type": "markdown",
   "metadata": {},
   "source": [
    "## Load MNIST dataset"
   ]
  },
  {
   "cell_type": "code",
   "execution_count": 3,
   "metadata": {
    "collapsed": false
   },
   "outputs": [],
   "source": [
    "(X_train_raw, Y_train_raw), (X_test_raw, Y_test_raw) = mnist.load_data()"
   ]
  },
  {
   "cell_type": "markdown",
   "metadata": {},
   "source": [
    "### Reshape Data from image matrix to array & normalize\n"
   ]
  },
  {
   "cell_type": "code",
   "execution_count": 4,
   "metadata": {
    "collapsed": false
   },
   "outputs": [],
   "source": [
    "X_train = X_train_raw.reshape(X_train_raw.shape[0], X_train_raw.shape[1]*X_train_raw.shape[2]).astype('float32')\n",
    "X_train /= 255.\n",
    "\n",
    "X_test = X_test_raw.reshape(X_test_raw.shape[0], X_test_raw.shape[1]*X_test_raw.shape[2]).astype('float32')\n",
    "X_test /= 255."
   ]
  },
  {
   "cell_type": "code",
   "execution_count": 5,
   "metadata": {
    "collapsed": false
   },
   "outputs": [],
   "source": [
    "Y_train = np_utils.to_categorical(Y_train_raw)\n",
    "\n",
    "Y_test = np_utils.to_categorical(Y_test_raw)"
   ]
  },
  {
   "cell_type": "markdown",
   "metadata": {},
   "source": [
    "## Multilayer Perceptron Model"
   ]
  },
  {
   "cell_type": "code",
   "execution_count": 6,
   "metadata": {
    "collapsed": false
   },
   "outputs": [
    {
     "name": "stdout",
     "output_type": "stream",
     "text": [
      "____________________________________________________________________________________________________\n",
      "Layer (type)                     Output Shape          Param #     Connected to                     \n",
      "====================================================================================================\n",
      "dense_1 (Dense)                  (None, 625)           490625      dense_input_1[0][0]              \n",
      "____________________________________________________________________________________________________\n",
      "dense_2 (Dense)                  (None, 625)           391250      dense_1[0][0]                    \n",
      "____________________________________________________________________________________________________\n",
      "dense_3 (Dense)                  (None, 10)            6260        dense_2[0][0]                    \n",
      "====================================================================================================\n",
      "Total params: 888135\n",
      "____________________________________________________________________________________________________\n"
     ]
    }
   ],
   "source": [
    "model = Sequential()\n",
    "model.add(Dense(output_dim=625, input_shape=(784,), init='normal', activation='sigmoid'))\n",
    "model.add(Dense(output_dim=625, input_shape=(625,), init='normal', activation='sigmoid'))\n",
    "model.add(Dense(output_dim=10, input_shape=(625,), init='normal', activation='softmax'))\n",
    "model.compile(optimizer=SGD(lr=0.05), loss='categorical_crossentropy', metrics=['accuracy'])\n",
    "model.summary()"
   ]
  },
  {
   "cell_type": "markdown",
   "metadata": {},
   "source": [
    "## Train"
   ]
  },
  {
   "cell_type": "code",
   "execution_count": 7,
   "metadata": {
    "collapsed": false
   },
   "outputs": [],
   "source": [
    "history = model.fit(X_train, Y_train, nb_epoch=nb_epoch, batch_size=batch_size, validation_split=0.15, verbose=0)"
   ]
  },
  {
   "cell_type": "code",
   "execution_count": 8,
   "metadata": {
    "collapsed": false
   },
   "outputs": [
    {
     "data": {
      "text/plain": [
       "{'acc': [0.37596078433242497,\n",
       "  0.74311764704947381,\n",
       "  0.82894117644253895,\n",
       "  0.85907843135384954,\n",
       "  0.87494117647058822,\n",
       "  0.88294117646123849,\n",
       "  0.88980392155927768,\n",
       "  0.89360784313725494,\n",
       "  0.89717647056018601,\n",
       "  0.90052941175535617,\n",
       "  0.90268627449110439,\n",
       "  0.90441176470588236,\n",
       "  0.90654901962654266,\n",
       "  0.90784313722685273,\n",
       "  0.90919607840332328,\n",
       "  0.90998039213816329,\n",
       "  0.9114509803734574,\n",
       "  0.91239215684404562,\n",
       "  0.91323529412699678,\n",
       "  0.91411764704947374,\n",
       "  0.91494117649863749,\n",
       "  0.91599999997195081,\n",
       "  0.91639215685339537,\n",
       "  0.91731372547149659,\n",
       "  0.91829411761900959,\n",
       "  0.91899999998130055,\n",
       "  0.91970588233424166,\n",
       "  0.92017647058823526,\n",
       "  0.92135294114842137,\n",
       "  0.92111764708687283,\n",
       "  0.9223725490289576,\n",
       "  0.9230196078244377,\n",
       "  0.92345098038280715,\n",
       "  0.92419607842202278,\n",
       "  0.92452941179275516,\n",
       "  0.92570588233424167,\n",
       "  0.92613725491131049,\n",
       "  0.92719607845007201,\n",
       "  0.92739215687209486,\n",
       "  0.92790196077496401,\n",
       "  0.92860784316530409,\n",
       "  0.92937254904765709,\n",
       "  0.93003921569562431,\n",
       "  0.93074509806726491,\n",
       "  0.93078431371614045,\n",
       "  0.93200000001869954,\n",
       "  0.93278431370679071,\n",
       "  0.93303921569562431,\n",
       "  0.93392156862745102,\n",
       "  0.93470588237164065,\n",
       "  0.93609803921568624,\n",
       "  0.9361372549113105,\n",
       "  0.93696078429502594,\n",
       "  0.93782352938371549,\n",
       "  0.9386470588048299,\n",
       "  0.93915686276379751,\n",
       "  0.93972549021477791,\n",
       "  0.94054901963589244,\n",
       "  0.94127450980392158,\n",
       "  0.94199999997195072,\n",
       "  0.9424509804108564,\n",
       "  0.94329411767510807,\n",
       "  0.94323529414569629,\n",
       "  0.94449019609713092,\n",
       "  0.94592156859940169,\n",
       "  0.94633333335203285,\n",
       "  0.94662745100844137,\n",
       "  0.94674509806726492,\n",
       "  0.94815686276379751,\n",
       "  0.94784313722685276,\n",
       "  0.94835294119517011,\n",
       "  0.94956862742293113,\n",
       "  0.94996078428567621,\n",
       "  0.950862745107389,\n",
       "  0.95096078433242504,\n",
       "  0.95196078431372544,\n",
       "  0.95170588236229092,\n",
       "  0.95266666664796718,\n",
       "  0.95364705883287915,\n",
       "  0.95392156861810118,\n",
       "  0.95435294119517011,\n",
       "  0.95431372549019611,\n",
       "  0.9552549019327351,\n",
       "  0.95527450977587236,\n",
       "  0.95609803923438574,\n",
       "  0.95637254903830737,\n",
       "  0.95680392159667671,\n",
       "  0.95752941179275508,\n",
       "  0.95794117646123844,\n",
       "  0.95843137256771915,\n",
       "  0.95917647056018607,\n",
       "  0.95933333333333337,\n",
       "  0.95976470590105245,\n",
       "  0.9601960784407223,\n",
       "  0.96017647060693478,\n",
       "  0.96127450982262108,\n",
       "  0.96117647057888556,\n",
       "  0.96174509804856545,\n",
       "  0.9622941176564086,\n",
       "  0.9624313725770689],\n",
       " 'loss': [2.017742988287234,\n",
       "  1.1048415606442619,\n",
       "  0.67536485597199081,\n",
       "  0.5302277474029391,\n",
       "  0.45989058223425172,\n",
       "  0.41963812663040911,\n",
       "  0.39303316691342521,\n",
       "  0.37502082517100316,\n",
       "  0.36060735207912969,\n",
       "  0.34945759216009403,\n",
       "  0.34074611934026083,\n",
       "  0.33360470207064757,\n",
       "  0.32678704912989748,\n",
       "  0.32060652874965295,\n",
       "  0.31643563247661965,\n",
       "  0.31092837351911207,\n",
       "  0.30688947734645766,\n",
       "  0.30339919175821189,\n",
       "  0.30051068553737564,\n",
       "  0.29663529317051757,\n",
       "  0.29446411904166725,\n",
       "  0.29120670262972514,\n",
       "  0.28823545450322768,\n",
       "  0.28572700676029805,\n",
       "  0.28320506249689587,\n",
       "  0.28046644095813528,\n",
       "  0.27862899266972263,\n",
       "  0.27603912881776399,\n",
       "  0.27367121541733835,\n",
       "  0.27163839388594907,\n",
       "  0.26918610875279297,\n",
       "  0.26693646900326595,\n",
       "  0.26495374359336554,\n",
       "  0.26281559404204874,\n",
       "  0.26034938132996654,\n",
       "  0.25814388090956447,\n",
       "  0.25624481401723975,\n",
       "  0.25364095742795983,\n",
       "  0.25176939663933773,\n",
       "  0.24913482590750152,\n",
       "  0.24700383167407092,\n",
       "  0.24473606686031116,\n",
       "  0.24234670489208371,\n",
       "  0.23999822276947544,\n",
       "  0.23825156531614416,\n",
       "  0.23620815056679295,\n",
       "  0.23320953701991662,\n",
       "  0.23057468690825444,\n",
       "  0.22816143193899416,\n",
       "  0.22590508710403068,\n",
       "  0.22346853319453258,\n",
       "  0.22129208940968795,\n",
       "  0.2190648347419851,\n",
       "  0.21657930307061066,\n",
       "  0.21398963175100438,\n",
       "  0.21162147131620668,\n",
       "  0.20943710333459517,\n",
       "  0.20702544540283727,\n",
       "  0.20458959460258483,\n",
       "  0.20220405407045403,\n",
       "  0.19989571463944866,\n",
       "  0.19800919787322774,\n",
       "  0.19572153277490653,\n",
       "  0.19349702073078529,\n",
       "  0.19083973678420571,\n",
       "  0.18886035517851513,\n",
       "  0.1869058983746697,\n",
       "  0.18464325351808586,\n",
       "  0.18229551414064332,\n",
       "  0.18005028676986695,\n",
       "  0.17807589128555035,\n",
       "  0.17600489261571098,\n",
       "  0.17405199021217871,\n",
       "  0.171883704977877,\n",
       "  0.17016362407511357,\n",
       "  0.16809179520782302,\n",
       "  0.16661843168384888,\n",
       "  0.16440932708160549,\n",
       "  0.16268927817601783,\n",
       "  0.16060201753822029,\n",
       "  0.15899354727829204,\n",
       "  0.15724858654772533,\n",
       "  0.15561183723047667,\n",
       "  0.15380565656867681,\n",
       "  0.15205641924166211,\n",
       "  0.15042331891433866,\n",
       "  0.14897733105163949,\n",
       "  0.14715744656207513,\n",
       "  0.14545776937989627,\n",
       "  0.14413658302321153,\n",
       "  0.14242471876097659,\n",
       "  0.14081248353041856,\n",
       "  0.13941482732225866,\n",
       "  0.13799235967911927,\n",
       "  0.13664197465485217,\n",
       "  0.13500157592810835,\n",
       "  0.13378184425597098,\n",
       "  0.13211898949917625,\n",
       "  0.13088050262951384,\n",
       "  0.12942923037444845],\n",
       " 'val_acc': [0.49377777772479586,\n",
       "  0.80566666656070285,\n",
       "  0.86311111100514726,\n",
       "  0.88500000005298196,\n",
       "  0.89344444439146253,\n",
       "  0.90011111105812924,\n",
       "  0.89933333328035148,\n",
       "  0.90266666661368478,\n",
       "  0.90277777788374158,\n",
       "  0.90811111121707488,\n",
       "  0.90755555566151935,\n",
       "  0.91211111121707489,\n",
       "  0.91422222232818606,\n",
       "  0.91555555566151936,\n",
       "  0.91666666677263053,\n",
       "  0.92033333343929713,\n",
       "  0.91800000010596383,\n",
       "  0.92066666677263043,\n",
       "  0.9194444445504083,\n",
       "  0.92200000010596384,\n",
       "  0.92255555566151937,\n",
       "  0.9241111112170749,\n",
       "  0.92344444455040831,\n",
       "  0.92200000010596384,\n",
       "  0.92322222232818607,\n",
       "  0.92500000010596384,\n",
       "  0.91533333343929713,\n",
       "  0.92500000010596384,\n",
       "  0.92500000010596384,\n",
       "  0.92722222232818607,\n",
       "  0.9291111112170749,\n",
       "  0.92866666677263043,\n",
       "  0.93000000010596384,\n",
       "  0.93088888899485267,\n",
       "  0.93022222232818608,\n",
       "  0.92855555566151937,\n",
       "  0.93233333343929714,\n",
       "  0.93288888899485267,\n",
       "  0.93388888899485267,\n",
       "  0.93277777788374161,\n",
       "  0.93377777788374161,\n",
       "  0.93366666677263044,\n",
       "  0.93466666677263044,\n",
       "  0.93422222232818608,\n",
       "  0.9324444445504082,\n",
       "  0.93611111121707491,\n",
       "  0.93911111121707491,\n",
       "  0.93822222222222218,\n",
       "  0.94211111111111112,\n",
       "  0.93955555566151938,\n",
       "  0.93733333343929714,\n",
       "  0.94299999999999995,\n",
       "  0.94144444455040821,\n",
       "  0.94355555555555559,\n",
       "  0.94266666666666665,\n",
       "  0.94388888899485268,\n",
       "  0.94444444444444442,\n",
       "  0.94711111111111113,\n",
       "  0.94466666666666665,\n",
       "  0.94677777788374162,\n",
       "  0.94944444444444442,\n",
       "  0.94766666666666666,\n",
       "  0.94966666666666666,\n",
       "  0.94977777777777783,\n",
       "  0.95222222222222219,\n",
       "  0.94944444444444442,\n",
       "  0.95333333333333337,\n",
       "  0.95133333333333336,\n",
       "  0.95322222222222219,\n",
       "  0.95344444444444443,\n",
       "  0.95377777777777772,\n",
       "  0.95411111111111113,\n",
       "  0.95277777777777772,\n",
       "  0.9535555555555556,\n",
       "  0.95544444444444443,\n",
       "  0.95477777777777773,\n",
       "  0.9558888888888889,\n",
       "  0.9565555555555556,\n",
       "  0.9575555555555556,\n",
       "  0.95444444444444443,\n",
       "  0.95811111111111114,\n",
       "  0.95733333333333337,\n",
       "  0.95833333333333337,\n",
       "  0.95477777777777773,\n",
       "  0.95744444444444443,\n",
       "  0.95833333333333337,\n",
       "  0.96077777777777773,\n",
       "  0.95899999999999996,\n",
       "  0.95999999999999996,\n",
       "  0.95999999999999996,\n",
       "  0.9602222222222222,\n",
       "  0.96133333333333337,\n",
       "  0.9598888888888889,\n",
       "  0.96166666666666667,\n",
       "  0.96199999999999997,\n",
       "  0.9622222222222222,\n",
       "  0.96244444444444444,\n",
       "  0.96155555555555561,\n",
       "  0.96155555555555561,\n",
       "  0.9602222222222222],\n",
       " 'val_loss': [1.5981391702228123,\n",
       "  0.76685329447852235,\n",
       "  0.53667614322238499,\n",
       "  0.4380465261671278,\n",
       "  0.39083554959297179,\n",
       "  0.36333610643280878,\n",
       "  0.34392882569630939,\n",
       "  0.32888132209248011,\n",
       "  0.32631164707077875,\n",
       "  0.30812083374129401,\n",
       "  0.31017301425668931,\n",
       "  0.29807226129372916,\n",
       "  0.29367968336741129,\n",
       "  0.28463274053732557,\n",
       "  0.28298978345923953,\n",
       "  0.27663475668430326,\n",
       "  0.2768278643025292,\n",
       "  0.27226299157407546,\n",
       "  0.27403043414486777,\n",
       "  0.26774881390730537,\n",
       "  0.26198598251077865,\n",
       "  0.25918092493216199,\n",
       "  0.26075457150406306,\n",
       "  0.26521240503920451,\n",
       "  0.25799188037713366,\n",
       "  0.25722820917765299,\n",
       "  0.27965625566244123,\n",
       "  0.25327773465712866,\n",
       "  0.25379923242330549,\n",
       "  0.24807801659901937,\n",
       "  0.24576900669601229,\n",
       "  0.24491287290387684,\n",
       "  0.24014027570353613,\n",
       "  0.2380675696598159,\n",
       "  0.24268884568081961,\n",
       "  0.24549759211142858,\n",
       "  0.23378783701525793,\n",
       "  0.23303367825349172,\n",
       "  0.22865976464748383,\n",
       "  0.22895594848526848,\n",
       "  0.23084816038608552,\n",
       "  0.22255881419446732,\n",
       "  0.22433183681302601,\n",
       "  0.2270545442700386,\n",
       "  0.23771230440007315,\n",
       "  0.21830118574698765,\n",
       "  0.21542971148755816,\n",
       "  0.21639162351025476,\n",
       "  0.20893603638145658,\n",
       "  0.21038890960481432,\n",
       "  0.21135411471128462,\n",
       "  0.20362062004208564,\n",
       "  0.20568429662121668,\n",
       "  0.20053710849748718,\n",
       "  0.20427218540840678,\n",
       "  0.19760137271881104,\n",
       "  0.19597461858060625,\n",
       "  0.19351988474196857,\n",
       "  0.19851181710759799,\n",
       "  0.18979576708210838,\n",
       "  0.18540177167786492,\n",
       "  0.18539176110426586,\n",
       "  0.18591624352004793,\n",
       "  0.18185123705863954,\n",
       "  0.17882283890578482,\n",
       "  0.1829497113260958,\n",
       "  0.17391665610339907,\n",
       "  0.17748056233591503,\n",
       "  0.17139855400058959,\n",
       "  0.17411781345142258,\n",
       "  0.16864104440146022,\n",
       "  0.16938632094197803,\n",
       "  0.16831438637442059,\n",
       "  0.16559219344456991,\n",
       "  0.16264487048321299,\n",
       "  0.1642016183336576,\n",
       "  0.16003579320510228,\n",
       "  0.15951047012541028,\n",
       "  0.15639426459868749,\n",
       "  0.16301386678881116,\n",
       "  0.15691967966490322,\n",
       "  0.1531442495038112,\n",
       "  0.15276649650269084,\n",
       "  0.15855704052580727,\n",
       "  0.15025193544560009,\n",
       "  0.1491652324464586,\n",
       "  0.14667726133267084,\n",
       "  0.14515207418468262,\n",
       "  0.14493780256973374,\n",
       "  0.14553855063186752,\n",
       "  0.14515124347143704,\n",
       "  0.14074105774197312,\n",
       "  0.1427354746626483,\n",
       "  0.13821460784806144,\n",
       "  0.13793486673136551,\n",
       "  0.13785388081934716,\n",
       "  0.13611727090345488,\n",
       "  0.13411722013354302,\n",
       "  0.13585323834750387,\n",
       "  0.13946190218296317]}"
      ]
     },
     "execution_count": 8,
     "metadata": {},
     "output_type": "execute_result"
    }
   ],
   "source": [
    "history.history"
   ]
  },
  {
   "cell_type": "markdown",
   "metadata": {},
   "source": [
    "## Evaluate"
   ]
  },
  {
   "cell_type": "code",
   "execution_count": 9,
   "metadata": {
    "collapsed": false
   },
   "outputs": [
    {
     "name": "stdout",
     "output_type": "stream",
     "text": [
      "10000/10000 [==============================] - 0s     \n",
      "Summary: Loss over the test dataset: 0.15, Accuracy: 0.96\n"
     ]
    }
   ],
   "source": [
    "evaluation = model.evaluate(X_test, Y_test, verbose=1)\n",
    "print('Summary: Loss over the test dataset: %.2f, Accuracy: %.2f' % (evaluation[0], evaluation[1]))"
   ]
  },
  {
   "cell_type": "markdown",
   "metadata": {},
   "source": [
    "## Predict"
   ]
  },
  {
   "cell_type": "code",
   "execution_count": 10,
   "metadata": {
    "collapsed": false
   },
   "outputs": [],
   "source": [
    "test_predictions = model.predict(X_test)\n",
    "test_prediction_ids = test_predictions.argmax(axis=1)"
   ]
  },
  {
   "cell_type": "markdown",
   "metadata": {},
   "source": [
    "## Plot some predictions"
   ]
  },
  {
   "cell_type": "code",
   "execution_count": 11,
   "metadata": {
    "collapsed": false
   },
   "outputs": [],
   "source": [
    "from matplotlib import pyplot as plt\n",
    "import numpy as np\n",
    "def plots(ims, figsize=(12,6), rows=1, interp=False, titles=None):\n",
    "    f = plt.figure(figsize=figsize)\n",
    "    for i in range(len(ims)):\n",
    "        sp = f.add_subplot(rows, len(ims)//rows, i+1)\n",
    "        if titles is not None:\n",
    "            sp.set_title(titles[i], fontsize=6)\n",
    "        plt.imshow(ims[i], interpolation=None if interp else 'none')"
   ]
  },
  {
   "cell_type": "code",
   "execution_count": 91,
   "metadata": {
    "collapsed": false
   },
   "outputs": [],
   "source": [
    "n_view = 4\n",
    "\n",
    "idx = np.random.permutation(range(0,len(X_test)))[:n_view]\n",
    "\n",
    "imgs = X_test[idx,:].reshape(n_view, X_train_raw.shape[1], X_train_raw.shape[2])\n",
    "titles = test_prediction_ids[idx]"
   ]
  },
  {
   "cell_type": "code",
   "execution_count": 92,
   "metadata": {
    "collapsed": false,
    "scrolled": true
   },
   "outputs": [
    {
     "data": {
      "image/png": "[encoded data removed]",
      "text/plain": [
       "<matplotlib.figure.Figure at 0x7f02343a3c90>"
      ]
     },
     "metadata": {},
     "output_type": "display_data"
    }
   ],
   "source": [
    "plots(imgs, titles=titles)\n",
    "plt.show()"
   ]
  },
  {
   "cell_type": "markdown",
   "metadata": {},
   "source": [
    "## Examine wrong predictions\n"
   ]
  },
  {
   "cell_type": "code",
   "execution_count": 80,
   "metadata": {
    "collapsed": true
   },
   "outputs": [],
   "source": [
    "# convert category vector into category label\n",
    "Y_test_ids = Y_test.argmax(axis=1)\n",
    "\n",
    "# compare the predicted and actual category labels to find error predictions\n",
    "errors = np.array(Y_test_ids) - np.array(test_prediction_ids)\n",
    "\n",
    "# gather all the wrong prediction indices\n",
    "errors_idx = np.nonzero(errors)[0]"
   ]
  },
  {
   "cell_type": "code",
   "execution_count": 93,
   "metadata": {
    "collapsed": false
   },
   "outputs": [],
   "source": [
    "n_view = 4\n",
    "\n",
    "random_idx = np.random.permutation(range(0,len(errors_idx)))[:n_view]\n",
    "\n",
    "# grab a sampling of error indices \n",
    "random_errors_idx = errors_idx[random_idx]\n",
    "\n",
    "# and prepare their images and labels\n",
    "imgs = X_test[random_errors_idx,:].reshape(n_view, X_train_raw.shape[1], X_train_raw.shape[2])\n",
    "titles = test_prediction_ids[random_errors_idx]"
   ]
  },
  {
   "cell_type": "code",
   "execution_count": 94,
   "metadata": {
    "collapsed": false
   },
   "outputs": [
    {
     "data": {
      "image/png": "[encoded data removed]",
      "text/plain": [
       "<matplotlib.figure.Figure at 0x7f02263bad90>"
      ]
     },
     "metadata": {},
     "output_type": "display_data"
    }
   ],
   "source": [
    "plots(imgs, titles=titles)\n",
    "plt.show()"
   ]
  }
 ],
 "metadata": {
  "anaconda-cloud": {},
  "kernelspec": {
   "display_name": "Python [conda root]",
   "language": "python",
   "name": "conda-root-py"
  },
  "language_info": {
   "codemirror_mode": {
    "name": "ipython",
    "version": 2
   },
   "file_extension": ".py",
   "mimetype": "text/x-python",
   "name": "python",
   "nbconvert_exporter": "python",
   "pygments_lexer": "ipython2",
   "version": "2.7.12"
  }
 },
 "nbformat": 4,
 "nbformat_minor": 1
}
