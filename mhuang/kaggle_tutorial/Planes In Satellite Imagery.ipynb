{
 "cells": [
  {
   "cell_type": "markdown",
   "metadata": {},
   "source": [
    "## boilerplate imports"
   ]
  },
  {
   "cell_type": "code",
   "execution_count": 1,
   "metadata": {},
   "outputs": [],
   "source": [
    "import pandas as pd\n",
    "import matplotlib.pyplot as plt\n",
    "import seaborn as sns\n",
    "import numpy as np\n",
    "from scipy.stats import norm\n",
    "from sklearn.preprocessing import StandardScaler\n",
    "from scipy import stats\n",
    "from scipy import misc\n",
    "import warnings\n",
    "warnings.filterwarnings('ignore')\n",
    "%matplotlib inline"
   ]
  },
  {
   "cell_type": "markdown",
   "metadata": {},
   "source": [
    "## Download data "
   ]
  },
  {
   "cell_type": "code",
   "execution_count": 2,
   "metadata": {},
   "outputs": [],
   "source": [
    "IMAGE_ROOT = \"/home/mhuang/data/planes_satellite\"\n",
    "IMAGE_PATH = IMAGE_ROOT + \"/images\"\n",
    "\n",
    "DATA_BUNDLE_FILENAME = \"planesnet_bundle.zip\"\n",
    "DATA_IMAGES_FILENAME = \"planesnet.zip\""
   ]
  },
  {
   "cell_type": "code",
   "execution_count": 3,
   "metadata": {},
   "outputs": [],
   "source": [
    "!rm -rf $IMAGE_ROOT"
   ]
  },
  {
   "cell_type": "code",
   "execution_count": 4,
   "metadata": {},
   "outputs": [],
   "source": [
    "!mkdir -p $IMAGE_ROOT"
   ]
  },
  {
   "cell_type": "markdown",
   "metadata": {},
   "source": [
    "### get data from kaggle datasets"
   ]
  },
  {
   "cell_type": "markdown",
   "metadata": {},
   "source": [
    "For some reason can't download using Kaggle's \"Download\" link. So download via link beload and try to grab the latest cloud download link.\n",
    "\n",
    "https://www.kaggle.com/rhammell/planesnet/data"
   ]
  },
  {
   "cell_type": "code",
   "execution_count": 5,
   "metadata": {},
   "outputs": [
    {
     "name": "stdout",
     "output_type": "stream",
     "text": [
      "  % Total    % Received % Xferd  Average Speed   Time    Time     Time  Current\n",
      "                                 Dload  Upload   Total   Spent    Left  Speed\n",
      "100 72.5M  100 72.5M    0     0  72.0M      0  0:00:01  0:00:01 --:--:-- 72.0M\n"
     ]
    }
   ],
   "source": [
    "!curl \"https://storage.googleapis.com/kaggle-datasets/1197/14776/planesnet.zip?GoogleAccessId=web-data@kaggle-161607.iam.gserviceaccount.com&Expires=1525696233&Signature=rd9YtBk1YAWdfDk%2BdS1HVxJbfCZoiYfv%2FTchAVcTRiobMubYp28xHVyN3aZdGeT3aWwhM9paEbnMgWwqcyww7rXV4gc8jrz9lozOdDKlllwBiwqrOSfvNOkxMhKhK8TmKalnD3GZJrL25TyGtxkoPbP4FLw7VSLHaDRqhrGLvLUzKKb%2FGAez%2BCGJ35CUAC6HK6Kmu5QcJqn2mfXRPZm0qLNQigvTzsUGGSzZwlKwF%2Fp1rlNvId3qc9A0Lau%2F7FDKb30zt%2BTzse8lpiD1yPdIK%2B6YC4XVccEYeXDGCwLkmav6XESk9z%2Fk%2B9aeWE9WsHdI5tbNlrHI0HMcZ6yWOIYXpw%3D%3D\" > $IMAGE_ROOT/$DATA_BUNDLE_FILENAME"
   ]
  },
  {
   "cell_type": "code",
   "execution_count": 6,
   "metadata": {},
   "outputs": [
    {
     "name": "stdout",
     "output_type": "stream",
     "text": [
      "Archive:  /home/mhuang/data/planes_satellite/planesnet_bundle.zip\n",
      "  inflating: /home/mhuang/data/planes_satellite/planesnet.json  \n",
      "  inflating: /home/mhuang/data/planes_satellite/planesnet.zip  \n"
     ]
    }
   ],
   "source": [
    "!unzip -o $IMAGE_ROOT/$DATA_BUNDLE_FILENAME -d $IMAGE_ROOT"
   ]
  },
  {
   "cell_type": "code",
   "execution_count": 7,
   "metadata": {},
   "outputs": [
    {
     "name": "stdout",
     "output_type": "stream",
     "text": [
      "No errors detected in compressed data of /home/mhuang/data/planes_satellite/planesnet.zip.\r\n"
     ]
    }
   ],
   "source": [
    "!unzip -q -t $IMAGE_ROOT/$DATA_IMAGES_FILENAME"
   ]
  },
  {
   "cell_type": "code",
   "execution_count": 8,
   "metadata": {},
   "outputs": [],
   "source": [
    "!unzip -o -q -j $IMAGE_ROOT/$DATA_IMAGES_FILENAME -d $IMAGE_PATH"
   ]
  },
  {
   "cell_type": "code",
   "execution_count": 9,
   "metadata": {
    "scrolled": false
   },
   "outputs": [
    {
     "name": "stdout",
     "output_type": "stream",
     "text": [
      "total 128000\n",
      "-rw-rw-r-- 1 mhuang mhuang  906 Jan 21 19:37 1__20170729_175335_101d__-118.40592455007884_33.93955085537867.png\n",
      "-rw-rw-r-- 1 mhuang mhuang  764 Jan 21 19:37 1__20170729_175107_1036__-118.41833221627427_33.940172226013956.png\n",
      "-rw-rw-r-- 1 mhuang mhuang  804 Jan 21 19:37 1__20170728_180813_1039__-121.58701779603875_38.694769242571724.png\n",
      "-rw-rw-r-- 1 mhuang mhuang  789 Jan 21 19:37 1__20170728_175003_102a__-118.4037708318591_33.941100279947925.png\n",
      "-rw-rw-r-- 1 mhuang mhuang  863 Jan 21 19:37 1__20170728_175002_102a__-118.40332877746077_33.94671287238693.png\n",
      "-rw-rw-r-- 1 mhuang mhuang  914 Jan 21 19:37 1__20170727_175114_0f3f__-118.40323269335445_33.946344345012726.png\n",
      "-rw-rw-r-- 1 mhuang mhuang  929 Jan 21 19:37 1__20170727_175114_0f3f__-118.38581188623972_33.93494470621571.png\n",
      "-rw-rw-r-- 1 mhuang mhuang  709 Jan 21 19:37 1__20170726_180807_1022__-122.38824470631792_37.61969954191162.png\n",
      "-rw-rw-r-- 1 mhuang mhuang  841 Jan 21 19:37 1__20170726_174854_0f10__-117.8611940333088_33.68107837904123.png\n",
      "ls: write error: Broken pipe\n"
     ]
    }
   ],
   "source": [
    "!ls -ltr $IMAGE_PATH | head"
   ]
  },
  {
   "cell_type": "markdown",
   "metadata": {},
   "source": [
    "## split images into train and validate using using sklearn"
   ]
  },
  {
   "cell_type": "code",
   "execution_count": 10,
   "metadata": {},
   "outputs": [],
   "source": [
    "import shutil\n",
    "import glob\n",
    "import os.path as path\n",
    "from sklearn.cross_validation import train_test_split\n",
    "\n"
   ]
  },
  {
   "cell_type": "code",
   "execution_count": 11,
   "metadata": {},
   "outputs": [],
   "source": [
    "!rm -rf $IMAGE_PATH/train $IMAGE_PATH/valid $IMAGE_PATH/test"
   ]
  },
  {
   "cell_type": "markdown",
   "metadata": {},
   "source": [
    "### split negative images first"
   ]
  },
  {
   "cell_type": "code",
   "execution_count": 12,
   "metadata": {},
   "outputs": [],
   "source": [
    "# reserve some files for testing\n",
    "TEST_RATIO = 0.05"
   ]
  },
  {
   "cell_type": "code",
   "execution_count": 13,
   "metadata": {
    "scrolled": true
   },
   "outputs": [],
   "source": [
    "!mkdir -p $IMAGE_PATH/train/0 $IMAGE_PATH/test/0\n",
    "\n",
    "# load negave images which always start with \"0_\"\n",
    "\n",
    "X_neg = y_neg = glob.glob(path.join(IMAGE_PATH, '0_*.png'))\n",
    "X_neg_train, X_neg_test, y_neg_train, y_neg_test = train_test_split(X_neg, y_neg, test_size=TEST_RATIO, random_state=None)\n",
    "\n",
    "# train\n",
    "\n",
    "for x in X_neg_train:\n",
    "    \n",
    "    try:\n",
    "        shutil.move(x, IMAGE_PATH + \"/train/0\")\n",
    "    except OSError as err: \n",
    "        print(\"Error '{}' when moving file {} to target dir {}\".format(err, x, target_dir))\n",
    "\n",
    "# test\n",
    "\n",
    "for x in X_neg_test:\n",
    "    \n",
    "    try:\n",
    "        shutil.move(x, IMAGE_PATH + \"/test/0\")\n",
    "    except OSError as err: \n",
    "        print(\"Error '{}' when moving file {} to target dir {}\".format(err, x, target_dir))\n",
    "        \n"
   ]
  },
  {
   "cell_type": "markdown",
   "metadata": {},
   "source": [
    "### then split positive images "
   ]
  },
  {
   "cell_type": "code",
   "execution_count": 14,
   "metadata": {},
   "outputs": [],
   "source": [
    "!mkdir -p $IMAGE_PATH/train/1 $IMAGE_PATH/test/1\n",
    "\n",
    "# load positive images which always start with \"1_\"\n",
    "\n",
    "X_pos = y_pos = glob.glob(path.join(IMAGE_PATH, '1_*.png'))\n",
    "X_pos_train, X_pos_test, y_pos_train, y_pos_test = train_test_split(X_pos, y_pos, test_size=TEST_RATIO, random_state=None)\n",
    "\n",
    "# train\n",
    "\n",
    "for x in X_pos_train:\n",
    "    \n",
    "    try:\n",
    "        shutil.move(x, IMAGE_PATH + \"/train/1\")\n",
    "    except OSError as err: \n",
    "        print(\"Error '{}' when moving file {} to target dir {}\".format(err, x, target_dir))\n",
    "\n",
    "# test\n",
    "\n",
    "for x in X_pos_test:\n",
    "    \n",
    "    try:\n",
    "        shutil.move(x, IMAGE_PATH + \"/test/1\")\n",
    "    except OSError as err: \n",
    "        print(\"Error '{}' when moving file {} to target dir {}\".format(err, x, target_dir))"
   ]
  },
  {
   "cell_type": "markdown",
   "metadata": {},
   "source": [
    "## create CNN model"
   ]
  },
  {
   "cell_type": "code",
   "execution_count": 15,
   "metadata": {},
   "outputs": [
    {
     "name": "stderr",
     "output_type": "stream",
     "text": [
      "Using TensorFlow backend.\n"
     ]
    }
   ],
   "source": [
    "# imports\n",
    "\n",
    "from keras.models import Sequential\n",
    "from keras.layers import Dense, Flatten, Conv2D, MaxPooling2D, Activation, Dropout, InputLayer, BatchNormalization\n",
    "from keras.optimizers import RMSprop, Adam\n",
    "from keras.utils import np_utils\n",
    "from keras import initializers\n",
    "from keras import backend as K\n",
    "from keras.callbacks import TensorBoard"
   ]
  },
  {
   "cell_type": "markdown",
   "metadata": {},
   "source": [
    "### model params"
   ]
  },
  {
   "cell_type": "code",
   "execution_count": 16,
   "metadata": {},
   "outputs": [],
   "source": [
    "pool_size = (2, 2)                    # size of poolin area for max pooling\n",
    "prob_drop_conv = 0.25                  # drop probability for dropout @ conv layer\n",
    "prob_drop_hidden = 0.5                # drop probability for dropout @ fc layer\n",
    "image_shape=(20,20,3)"
   ]
  },
  {
   "cell_type": "code",
   "execution_count": 17,
   "metadata": {
    "scrolled": true
   },
   "outputs": [
    {
     "name": "stdout",
     "output_type": "stream",
     "text": [
      "_________________________________________________________________\n",
      "Layer (type)                 Output Shape              Param #   \n",
      "=================================================================\n",
      "input_1 (InputLayer)         (None, 20, 20, 3)         0         \n",
      "_________________________________________________________________\n",
      "batch_normalization_1 (Batch (None, 20, 20, 3)         12        \n",
      "_________________________________________________________________\n",
      "conv2d_1 (Conv2D)            (None, 18, 18, 32)        896       \n",
      "_________________________________________________________________\n",
      "activation_1 (Activation)    (None, 18, 18, 32)        0         \n",
      "_________________________________________________________________\n",
      "max_pooling2d_1 (MaxPooling2 (None, 9, 9, 32)          0         \n",
      "_________________________________________________________________\n",
      "dropout_1 (Dropout)          (None, 9, 9, 32)          0         \n",
      "_________________________________________________________________\n",
      "conv2d_2 (Conv2D)            (None, 7, 7, 64)          18496     \n",
      "_________________________________________________________________\n",
      "activation_2 (Activation)    (None, 7, 7, 64)          0         \n",
      "_________________________________________________________________\n",
      "dropout_2 (Dropout)          (None, 7, 7, 64)          0         \n",
      "_________________________________________________________________\n",
      "conv2d_3 (Conv2D)            (None, 5, 5, 128)         73856     \n",
      "_________________________________________________________________\n",
      "activation_3 (Activation)    (None, 5, 5, 128)         0         \n",
      "_________________________________________________________________\n",
      "max_pooling2d_2 (MaxPooling2 (None, 3, 3, 128)         0         \n",
      "_________________________________________________________________\n",
      "flatten_1 (Flatten)          (None, 1152)              0         \n",
      "_________________________________________________________________\n",
      "dropout_3 (Dropout)          (None, 1152)              0         \n",
      "_________________________________________________________________\n",
      "dense_1 (Dense)              (None, 2)                 2306      \n",
      "_________________________________________________________________\n",
      "activation_4 (Activation)    (None, 2)                 0         \n",
      "=================================================================\n",
      "Total params: 95,566\n",
      "Trainable params: 95,560\n",
      "Non-trainable params: 6\n",
      "_________________________________________________________________\n"
     ]
    }
   ],
   "source": [
    "model = Sequential()\n",
    "\n",
    "# input layer\n",
    "model.add(InputLayer(input_shape=image_shape))\n",
    "\n",
    "# batch normalization\n",
    "model.add(BatchNormalization())\n",
    "\n",
    "# conv1 layer\n",
    "model.add(Conv2D(32, (3,3), padding='valid', kernel_initializer='random_normal'))\n",
    "model.add(Activation('relu'))\n",
    "model.add(MaxPooling2D(pool_size=pool_size, strides=(2, 2), padding='same'))\n",
    "model.add(Dropout(prob_drop_conv))\n",
    "\n",
    "# conv2 layer\n",
    "model.add(Conv2D(64, (3,3), padding='valid', kernel_initializer='random_normal'))\n",
    "model.add(Activation('relu'))\n",
    "# model.add(MaxPooling2D(pool_size=pool_size, strides=(2, 2), padding='same'))\n",
    "model.add(Dropout(prob_drop_conv))\n",
    "\n",
    "# conv3 layer\n",
    "model.add(Conv2D(128, (3,3), padding='valid', kernel_initializer='random_normal'))\n",
    "model.add(Activation('relu'))\n",
    "\n",
    "# max pooling and flatten\n",
    "model.add(MaxPooling2D(pool_size=pool_size, strides=(2, 2), padding='same'))\n",
    "model.add(Flatten())\n",
    "model.add(Dropout(prob_drop_conv))\n",
    "\n",
    "# fc1 layer\n",
    "# what \"units\" values work best here ??\n",
    "# model.add(Dense(units=60, kernel_initializer='random_normal'))\n",
    "# model.add(Activation('relu'))\n",
    "# model.add(Dropout(prob_drop_hidden))\n",
    "\n",
    "# fc2 layer\n",
    "model.add(Dense(units=2, kernel_initializer='random_normal'))\n",
    "model.add(Activation('sigmoid'))\n",
    "\n",
    "rms = RMSprop(lr=0.001, rho=0.9)\n",
    "adam = Adam(lr=0.001)\n",
    "          \n",
    "model.compile(optimizer=adam, loss='binary_crossentropy', metrics=['binary_accuracy'])\n",
    "model.summary()"
   ]
  },
  {
   "cell_type": "markdown",
   "metadata": {},
   "source": [
    "##  set up data generators using Keras Image Generator"
   ]
  },
  {
   "cell_type": "markdown",
   "metadata": {},
   "source": [
    "### training parameters"
   ]
  },
  {
   "cell_type": "code",
   "execution_count": 18,
   "metadata": {},
   "outputs": [],
   "source": [
    "BATCH_SIZE=32\n",
    "VALIDATION_SPLIT=0.20\n",
    "EPOCHS=200"
   ]
  },
  {
   "cell_type": "markdown",
   "metadata": {},
   "source": [
    "### training and validation data generator"
   ]
  },
  {
   "cell_type": "code",
   "execution_count": 19,
   "metadata": {},
   "outputs": [
    {
     "name": "stdout",
     "output_type": "stream",
     "text": [
      "Found 24320 images belonging to 2 classes.\n",
      "Found 6080 images belonging to 2 classes.\n"
     ]
    }
   ],
   "source": [
    "from keras.preprocessing import image\n",
    "\n",
    "IMAGE_SIZE=(20,20)\n",
    "\n",
    "train_datagen = image.ImageDataGenerator(\n",
    "    rescale=1./255,\n",
    "    validation_split=VALIDATION_SPLIT,\n",
    "    rotation_range=45.0,\n",
    "    width_shift_range=0.0,\n",
    "    height_shift_range=0.0,\n",
    "    shear_range=0.0,\n",
    "    zoom_range=0.0,\n",
    "    horizontal_flip=True,\n",
    "    vertical_flip=True,\n",
    "    fill_mode='nearest',    \n",
    "    )\n",
    "\n",
    "train_generator = train_datagen.flow_from_directory(\n",
    "    IMAGE_PATH + \"/train\",\n",
    "    target_size=IMAGE_SIZE,\n",
    "    color_mode=\"rgb\",\n",
    "    batch_size=BATCH_SIZE,\n",
    "    class_mode='categorical',\n",
    "    subset='training',\n",
    "#    save_to_dir='/home/mhuang/augmented_images',\n",
    "#    save_prefix='aug-'\n",
    "    )\n",
    "\n",
    "valid_generator = train_datagen.flow_from_directory(\n",
    "    IMAGE_PATH + \"/train\",\n",
    "    target_size=IMAGE_SIZE,\n",
    "    color_mode=\"rgb\",\n",
    "    batch_size=BATCH_SIZE,\n",
    "    class_mode='categorical',\n",
    "    subset='validation'\n",
    "    )\n"
   ]
  },
  {
   "cell_type": "markdown",
   "metadata": {},
   "source": [
    "### evaluation data generator"
   ]
  },
  {
   "cell_type": "code",
   "execution_count": 20,
   "metadata": {},
   "outputs": [
    {
     "name": "stdout",
     "output_type": "stream",
     "text": [
      "Found 1600 images belonging to 2 classes.\n"
     ]
    }
   ],
   "source": [
    "test_datagen = image.ImageDataGenerator(\n",
    "    rescale=1./255,\n",
    "    )\n",
    "\n",
    "test_generator = test_datagen.flow_from_directory(\n",
    "    IMAGE_PATH + \"/test\",\n",
    "    target_size=IMAGE_SIZE,\n",
    "    color_mode=\"rgb\",\n",
    "    batch_size=BATCH_SIZE,\n",
    "    class_mode='categorical',\n",
    "    )\n",
    "\n"
   ]
  },
  {
   "cell_type": "markdown",
   "metadata": {},
   "source": [
    "## plot a few images"
   ]
  },
  {
   "cell_type": "code",
   "execution_count": 21,
   "metadata": {},
   "outputs": [],
   "source": [
    "def plots(ims, figsize=(12,8), dpi=96, rows=1, interp=False, titles=None, main_title=\"Diagram\"):\n",
    "    f = plt.figure(figsize=figsize, dpi=dpi)\n",
    "    plt.title(main_title)\n",
    "    plt.axis('off')\n",
    "    for i in range(len(ims)):\n",
    "        sp = f.add_subplot(rows, len(ims)//rows, i+1)\n",
    "        if titles is not None:\n",
    "            sp.set_title(titles[i], fontsize=10)\n",
    "        plt.imshow(ims[i], interpolation=None if interp else 'none', cmap='gray')\n",
    "        plt.axis('off')"
   ]
  },
  {
   "cell_type": "code",
   "execution_count": 22,
   "metadata": {},
   "outputs": [
    {
     "name": "stdout",
     "output_type": "stream",
     "text": [
      "0 (32, 20, 20, 3)\n"
     ]
    },
    {
     "data": {
      "image/png": "[encoded data removed]",
      "text/plain": [
       "<matplotlib.figure.Figure at 0x7f953809a550>"
      ]
     },
     "metadata": {},
     "output_type": "display_data"
    }
   ],
   "source": [
    "batches=0\n",
    "\n",
    "for x_batch, y_batch in train_generator:\n",
    "    print(batches, x_batch.shape)\n",
    "    label_id = y_batch.argmax(axis=1)\n",
    "    \n",
    "    #num_to_dump = 2\n",
    "    #print(batches, x_batch[:num_to_dump,:,:,:])\n",
    "    #print(batches, label_id[:num_to_dump])\n",
    "\n",
    "    plots(x_batch, titles=label_id, rows=4, main_title=\"Labeled Training Data\")\n",
    "    batches += 1\n",
    "    if batches >= 1:\n",
    "        break"
   ]
  },
  {
   "cell_type": "markdown",
   "metadata": {},
   "source": [
    "## train model"
   ]
  },
  {
   "cell_type": "markdown",
   "metadata": {},
   "source": [
    "### early stop callback"
   ]
  },
  {
   "cell_type": "code",
   "execution_count": 23,
   "metadata": {},
   "outputs": [],
   "source": [
    "from keras.callbacks import EarlyStopping\n",
    "\n",
    "PATIENCE = 20\n",
    "\n",
    "early_stopping_calllback = EarlyStopping(monitor='val_loss', min_delta=0, patience=PATIENCE, verbose=1, mode='auto')"
   ]
  },
  {
   "cell_type": "markdown",
   "metadata": {},
   "source": [
    "### tensorboard callback"
   ]
  },
  {
   "cell_type": "code",
   "execution_count": 24,
   "metadata": {},
   "outputs": [
    {
     "name": "stdout",
     "output_type": "stream",
     "text": [
      "tensorboard log path: /home/mhuang/tensorboard_logs/tutorial/planes_satellite/20180505-095001\n"
     ]
    }
   ],
   "source": [
    "from keras.callbacks import TensorBoard\n",
    "import time\n",
    "\n",
    "timestamp = time.strftime(\"%Y%m%d-%H%M%S\")\n",
    "log_dir = '/home/mhuang/tensorboard_logs/tutorial/planes_satellite/' + timestamp\n",
    "print(\"tensorboard log path: {}\".format(log_dir))\n",
    "\n",
    "tensorboard_callback = TensorBoard(log_dir=log_dir, histogram_freq=0, write_graph=True, write_grads=True, batch_size=2*BATCH_SIZE, write_images=True)"
   ]
  },
  {
   "cell_type": "markdown",
   "metadata": {},
   "source": [
    "### model checkpoint callback"
   ]
  },
  {
   "cell_type": "code",
   "execution_count": 25,
   "metadata": {},
   "outputs": [],
   "source": [
    "from keras.callbacks import ModelCheckpoint\n",
    "\n",
    "checkpoint_root = '/home/mhuang/model_checkpoints/planes_satellite'\n",
    "checkpoint_filename = 'weights.{epoch:02d}-{val_loss:.4f}.hdf5'\n",
    "checkpoint_filepath = checkpoint_root + '/' + checkpoint_filename\n",
    "\n",
    "!mkdir -p $checkpoint_root\n",
    "\n",
    "model_checkpoint_callback = ModelCheckpoint(checkpoint_filepath, save_best_only=True, period=1, verbose=1)"
   ]
  },
  {
   "cell_type": "markdown",
   "metadata": {},
   "source": [
    "### << TRAINING MODEL >> "
   ]
  },
  {
   "cell_type": "code",
   "execution_count": 26,
   "metadata": {},
   "outputs": [
    {
     "name": "stdout",
     "output_type": "stream",
     "text": [
      "Epoch 1/200\n",
      "760/760 [==============================] - 21s 28ms/step - loss: 0.2433 - binary_accuracy: 0.9001 - val_loss: 0.1878 - val_binary_accuracy: 0.9291\n",
      "\n",
      "Epoch 00001: val_loss improved from inf to 0.18779, saving model to /home/mhuang/model_checkpoints/planes_satellite/weights.01-0.1878.hdf5\n",
      "Epoch 2/200\n",
      "760/760 [==============================] - 19s 25ms/step - loss: 0.1662 - binary_accuracy: 0.9331 - val_loss: 0.1626 - val_binary_accuracy: 0.9545\n",
      "\n",
      "Epoch 00002: val_loss improved from 0.18779 to 0.16263, saving model to /home/mhuang/model_checkpoints/planes_satellite/weights.02-0.1626.hdf5\n",
      "Epoch 3/200\n",
      "760/760 [==============================] - 20s 26ms/step - loss: 0.1319 - binary_accuracy: 0.9467 - val_loss: 0.1378 - val_binary_accuracy: 0.9549\n",
      "\n",
      "Epoch 00003: val_loss improved from 0.16263 to 0.13784, saving model to /home/mhuang/model_checkpoints/planes_satellite/weights.03-0.1378.hdf5\n",
      "Epoch 4/200\n",
      "760/760 [==============================] - 19s 25ms/step - loss: 0.1212 - binary_accuracy: 0.9522 - val_loss: 0.1378 - val_binary_accuracy: 0.9562\n",
      "\n",
      "Epoch 00004: val_loss improved from 0.13784 to 0.13777, saving model to /home/mhuang/model_checkpoints/planes_satellite/weights.04-0.1378.hdf5\n",
      "Epoch 5/200\n",
      "760/760 [==============================] - 19s 26ms/step - loss: 0.1093 - binary_accuracy: 0.9578 - val_loss: 0.1023 - val_binary_accuracy: 0.9625\n",
      "\n",
      "Epoch 00005: val_loss improved from 0.13777 to 0.10234, saving model to /home/mhuang/model_checkpoints/planes_satellite/weights.05-0.1023.hdf5\n",
      "Epoch 6/200\n",
      "760/760 [==============================] - 20s 26ms/step - loss: 0.1035 - binary_accuracy: 0.9595 - val_loss: 0.1033 - val_binary_accuracy: 0.9692\n",
      "\n",
      "Epoch 00006: val_loss did not improve\n",
      "Epoch 7/200\n",
      "760/760 [==============================] - 20s 26ms/step - loss: 0.0988 - binary_accuracy: 0.9627 - val_loss: 0.0898 - val_binary_accuracy: 0.9703\n",
      "\n",
      "Epoch 00007: val_loss improved from 0.10234 to 0.08983, saving model to /home/mhuang/model_checkpoints/planes_satellite/weights.07-0.0898.hdf5\n",
      "Epoch 8/200\n",
      "760/760 [==============================] - 19s 25ms/step - loss: 0.0984 - binary_accuracy: 0.9622 - val_loss: 0.0990 - val_binary_accuracy: 0.9688\n",
      "\n",
      "Epoch 00008: val_loss did not improve\n",
      "Epoch 9/200\n",
      "760/760 [==============================] - 19s 25ms/step - loss: 0.0884 - binary_accuracy: 0.9661 - val_loss: 0.0867 - val_binary_accuracy: 0.9754\n",
      "\n",
      "Epoch 00009: val_loss improved from 0.08983 to 0.08671, saving model to /home/mhuang/model_checkpoints/planes_satellite/weights.09-0.0867.hdf5\n",
      "Epoch 10/200\n",
      "760/760 [==============================] - 20s 26ms/step - loss: 0.0859 - binary_accuracy: 0.9677 - val_loss: 0.0851 - val_binary_accuracy: 0.9704\n",
      "\n",
      "Epoch 00010: val_loss improved from 0.08671 to 0.08514, saving model to /home/mhuang/model_checkpoints/planes_satellite/weights.10-0.0851.hdf5\n",
      "Epoch 11/200\n",
      "760/760 [==============================] - 20s 26ms/step - loss: 0.0841 - binary_accuracy: 0.9679 - val_loss: 0.0785 - val_binary_accuracy: 0.9767\n",
      "\n",
      "Epoch 00011: val_loss improved from 0.08514 to 0.07852, saving model to /home/mhuang/model_checkpoints/planes_satellite/weights.11-0.0785.hdf5\n",
      "Epoch 12/200\n",
      "760/760 [==============================] - 19s 25ms/step - loss: 0.0853 - binary_accuracy: 0.9685 - val_loss: 0.0921 - val_binary_accuracy: 0.9670\n",
      "\n",
      "Epoch 00012: val_loss did not improve\n",
      "Epoch 13/200\n",
      "760/760 [==============================] - 19s 25ms/step - loss: 0.0838 - binary_accuracy: 0.9683 - val_loss: 0.0734 - val_binary_accuracy: 0.9758\n",
      "\n",
      "Epoch 00013: val_loss improved from 0.07852 to 0.07337, saving model to /home/mhuang/model_checkpoints/planes_satellite/weights.13-0.0734.hdf5\n",
      "Epoch 14/200\n",
      "760/760 [==============================] - 19s 25ms/step - loss: 0.0829 - binary_accuracy: 0.9691 - val_loss: 0.1042 - val_binary_accuracy: 0.9605\n",
      "\n",
      "Epoch 00014: val_loss did not improve\n",
      "Epoch 15/200\n",
      "760/760 [==============================] - 19s 26ms/step - loss: 0.0776 - binary_accuracy: 0.9707 - val_loss: 0.0883 - val_binary_accuracy: 0.9699\n",
      "\n",
      "Epoch 00015: val_loss did not improve\n",
      "Epoch 16/200\n",
      "760/760 [==============================] - 19s 25ms/step - loss: 0.0770 - binary_accuracy: 0.9701 - val_loss: 0.0740 - val_binary_accuracy: 0.9752\n",
      "\n",
      "Epoch 00016: val_loss did not improve\n",
      "Epoch 17/200\n",
      "760/760 [==============================] - 19s 25ms/step - loss: 0.0775 - binary_accuracy: 0.9712 - val_loss: 0.0756 - val_binary_accuracy: 0.9767\n",
      "\n",
      "Epoch 00017: val_loss did not improve\n",
      "Epoch 18/200\n",
      "760/760 [==============================] - 19s 25ms/step - loss: 0.0801 - binary_accuracy: 0.9698 - val_loss: 0.0769 - val_binary_accuracy: 0.9739\n",
      "\n",
      "Epoch 00018: val_loss did not improve\n",
      "Epoch 19/200\n",
      "760/760 [==============================] - 19s 25ms/step - loss: 0.0738 - binary_accuracy: 0.9723 - val_loss: 0.0670 - val_binary_accuracy: 0.9781\n",
      "\n",
      "Epoch 00019: val_loss improved from 0.07337 to 0.06696, saving model to /home/mhuang/model_checkpoints/planes_satellite/weights.19-0.0670.hdf5\n",
      "Epoch 20/200\n",
      "760/760 [==============================] - 19s 25ms/step - loss: 0.0758 - binary_accuracy: 0.9722 - val_loss: 0.0728 - val_binary_accuracy: 0.9758\n",
      "\n",
      "Epoch 00020: val_loss did not improve\n",
      "Epoch 21/200\n",
      "760/760 [==============================] - 20s 26ms/step - loss: 0.0723 - binary_accuracy: 0.9732 - val_loss: 0.0753 - val_binary_accuracy: 0.9742\n",
      "\n",
      "Epoch 00021: val_loss did not improve\n",
      "Epoch 22/200\n",
      "760/760 [==============================] - 19s 25ms/step - loss: 0.0762 - binary_accuracy: 0.9711 - val_loss: 0.0668 - val_binary_accuracy: 0.9782\n",
      "\n",
      "Epoch 00022: val_loss improved from 0.06696 to 0.06681, saving model to /home/mhuang/model_checkpoints/planes_satellite/weights.22-0.0668.hdf5\n",
      "Epoch 23/200\n",
      "760/760 [==============================] - 19s 26ms/step - loss: 0.0725 - binary_accuracy: 0.9730 - val_loss: 0.0768 - val_binary_accuracy: 0.9727\n",
      "\n",
      "Epoch 00023: val_loss did not improve\n",
      "Epoch 24/200\n",
      "760/760 [==============================] - 20s 26ms/step - loss: 0.0709 - binary_accuracy: 0.9749 - val_loss: 0.0898 - val_binary_accuracy: 0.9685\n",
      "\n",
      "Epoch 00024: val_loss did not improve\n",
      "Epoch 25/200\n",
      "760/760 [==============================] - 19s 25ms/step - loss: 0.0747 - binary_accuracy: 0.9720 - val_loss: 0.0587 - val_binary_accuracy: 0.9809\n",
      "\n",
      "Epoch 00025: val_loss improved from 0.06681 to 0.05873, saving model to /home/mhuang/model_checkpoints/planes_satellite/weights.25-0.0587.hdf5\n",
      "Epoch 26/200\n",
      "760/760 [==============================] - 19s 25ms/step - loss: 0.0718 - binary_accuracy: 0.9731 - val_loss: 0.0657 - val_binary_accuracy: 0.9790\n",
      "\n",
      "Epoch 00026: val_loss did not improve\n",
      "Epoch 27/200\n",
      "760/760 [==============================] - 19s 25ms/step - loss: 0.0713 - binary_accuracy: 0.9736 - val_loss: 0.0611 - val_binary_accuracy: 0.9802\n",
      "\n",
      "Epoch 00027: val_loss did not improve\n",
      "Epoch 28/200\n",
      "760/760 [==============================] - 19s 25ms/step - loss: 0.0669 - binary_accuracy: 0.9747 - val_loss: 0.0879 - val_binary_accuracy: 0.9706\n",
      "\n",
      "Epoch 00028: val_loss did not improve\n",
      "Epoch 29/200\n",
      "760/760 [==============================] - 19s 25ms/step - loss: 0.0700 - binary_accuracy: 0.9753 - val_loss: 0.0672 - val_binary_accuracy: 0.9781\n",
      "\n",
      "Epoch 00029: val_loss did not improve\n",
      "Epoch 30/200\n",
      "760/760 [==============================] - 20s 26ms/step - loss: 0.0673 - binary_accuracy: 0.9755 - val_loss: 0.0636 - val_binary_accuracy: 0.9796\n",
      "\n",
      "Epoch 00030: val_loss did not improve\n",
      "Epoch 31/200\n",
      "760/760 [==============================] - 19s 25ms/step - loss: 0.0680 - binary_accuracy: 0.9738 - val_loss: 0.0801 - val_binary_accuracy: 0.9689\n",
      "\n",
      "Epoch 00031: val_loss did not improve\n",
      "Epoch 32/200\n",
      "760/760 [==============================] - 19s 25ms/step - loss: 0.0667 - binary_accuracy: 0.9759 - val_loss: 0.0582 - val_binary_accuracy: 0.9823\n",
      "\n",
      "Epoch 00032: val_loss improved from 0.05873 to 0.05815, saving model to /home/mhuang/model_checkpoints/planes_satellite/weights.32-0.0582.hdf5\n",
      "Epoch 33/200\n",
      "760/760 [==============================] - 19s 25ms/step - loss: 0.0648 - binary_accuracy: 0.9754 - val_loss: 0.0598 - val_binary_accuracy: 0.9802\n",
      "\n",
      "Epoch 00033: val_loss did not improve\n",
      "Epoch 34/200\n",
      "760/760 [==============================] - 19s 25ms/step - loss: 0.0683 - binary_accuracy: 0.9744 - val_loss: 0.0635 - val_binary_accuracy: 0.9789\n",
      "\n",
      "Epoch 00034: val_loss did not improve\n",
      "Epoch 35/200\n"
     ]
    },
    {
     "name": "stdout",
     "output_type": "stream",
     "text": [
      "760/760 [==============================] - 19s 25ms/step - loss: 0.0661 - binary_accuracy: 0.9745 - val_loss: 0.0607 - val_binary_accuracy: 0.9803\n",
      "\n",
      "Epoch 00035: val_loss did not improve\n",
      "Epoch 36/200\n",
      "760/760 [==============================] - 20s 26ms/step - loss: 0.0660 - binary_accuracy: 0.9758 - val_loss: 0.0643 - val_binary_accuracy: 0.9789\n",
      "\n",
      "Epoch 00036: val_loss did not improve\n",
      "Epoch 37/200\n",
      "760/760 [==============================] - 19s 25ms/step - loss: 0.0671 - binary_accuracy: 0.9750 - val_loss: 0.0922 - val_binary_accuracy: 0.9626\n",
      "\n",
      "Epoch 00037: val_loss did not improve\n",
      "Epoch 38/200\n",
      "760/760 [==============================] - 20s 26ms/step - loss: 0.0651 - binary_accuracy: 0.9763 - val_loss: 0.0619 - val_binary_accuracy: 0.9780\n",
      "\n",
      "Epoch 00038: val_loss did not improve\n",
      "Epoch 39/200\n",
      "760/760 [==============================] - 20s 27ms/step - loss: 0.0619 - binary_accuracy: 0.9781 - val_loss: 0.0766 - val_binary_accuracy: 0.9717\n",
      "\n",
      "Epoch 00039: val_loss did not improve\n",
      "Epoch 40/200\n",
      "760/760 [==============================] - 19s 25ms/step - loss: 0.0662 - binary_accuracy: 0.9760 - val_loss: 0.0516 - val_binary_accuracy: 0.9844\n",
      "\n",
      "Epoch 00040: val_loss improved from 0.05815 to 0.05160, saving model to /home/mhuang/model_checkpoints/planes_satellite/weights.40-0.0516.hdf5\n",
      "Epoch 41/200\n",
      "760/760 [==============================] - 19s 25ms/step - loss: 0.0628 - binary_accuracy: 0.9763 - val_loss: 0.0573 - val_binary_accuracy: 0.9796\n",
      "\n",
      "Epoch 00041: val_loss did not improve\n",
      "Epoch 42/200\n",
      "760/760 [==============================] - 19s 25ms/step - loss: 0.0649 - binary_accuracy: 0.9760 - val_loss: 0.0567 - val_binary_accuracy: 0.9799\n",
      "\n",
      "Epoch 00042: val_loss did not improve\n",
      "Epoch 43/200\n",
      "760/760 [==============================] - 19s 25ms/step - loss: 0.0625 - binary_accuracy: 0.9776 - val_loss: 0.0471 - val_binary_accuracy: 0.9848\n",
      "\n",
      "Epoch 00043: val_loss improved from 0.05160 to 0.04709, saving model to /home/mhuang/model_checkpoints/planes_satellite/weights.43-0.0471.hdf5\n",
      "Epoch 44/200\n",
      "760/760 [==============================] - 20s 26ms/step - loss: 0.0643 - binary_accuracy: 0.9762 - val_loss: 0.0483 - val_binary_accuracy: 0.9862\n",
      "\n",
      "Epoch 00044: val_loss did not improve\n",
      "Epoch 45/200\n",
      "760/760 [==============================] - 19s 25ms/step - loss: 0.0610 - binary_accuracy: 0.9772 - val_loss: 0.0521 - val_binary_accuracy: 0.9792\n",
      "\n",
      "Epoch 00045: val_loss did not improve\n",
      "Epoch 46/200\n",
      "760/760 [==============================] - 19s 25ms/step - loss: 0.0633 - binary_accuracy: 0.9775 - val_loss: 0.0635 - val_binary_accuracy: 0.9814\n",
      "\n",
      "Epoch 00046: val_loss did not improve\n",
      "Epoch 47/200\n",
      "760/760 [==============================] - 20s 26ms/step - loss: 0.0629 - binary_accuracy: 0.9772 - val_loss: 0.0552 - val_binary_accuracy: 0.9812\n",
      "\n",
      "Epoch 00047: val_loss did not improve\n",
      "Epoch 48/200\n",
      "760/760 [==============================] - 19s 25ms/step - loss: 0.0592 - binary_accuracy: 0.9782 - val_loss: 0.0484 - val_binary_accuracy: 0.9850\n",
      "\n",
      "Epoch 00048: val_loss did not improve\n",
      "Epoch 49/200\n",
      "760/760 [==============================] - 19s 26ms/step - loss: 0.0656 - binary_accuracy: 0.9761 - val_loss: 0.0624 - val_binary_accuracy: 0.9789\n",
      "\n",
      "Epoch 00049: val_loss did not improve\n",
      "Epoch 50/200\n",
      "760/760 [==============================] - 19s 25ms/step - loss: 0.0612 - binary_accuracy: 0.9779 - val_loss: 0.0534 - val_binary_accuracy: 0.9821\n",
      "\n",
      "Epoch 00050: val_loss did not improve\n",
      "Epoch 51/200\n",
      "760/760 [==============================] - 19s 25ms/step - loss: 0.0625 - binary_accuracy: 0.9780 - val_loss: 0.0528 - val_binary_accuracy: 0.9820\n",
      "\n",
      "Epoch 00051: val_loss did not improve\n",
      "Epoch 52/200\n",
      "760/760 [==============================] - 19s 25ms/step - loss: 0.0591 - binary_accuracy: 0.9782 - val_loss: 0.0521 - val_binary_accuracy: 0.9830\n",
      "\n",
      "Epoch 00052: val_loss did not improve\n",
      "Epoch 53/200\n",
      "760/760 [==============================] - 20s 26ms/step - loss: 0.0632 - binary_accuracy: 0.9767 - val_loss: 0.0549 - val_binary_accuracy: 0.9834\n",
      "\n",
      "Epoch 00053: val_loss did not improve\n",
      "Epoch 54/200\n",
      "760/760 [==============================] - 19s 25ms/step - loss: 0.0596 - binary_accuracy: 0.9786 - val_loss: 0.0535 - val_binary_accuracy: 0.9814\n",
      "\n",
      "Epoch 00054: val_loss did not improve\n",
      "Epoch 55/200\n",
      "760/760 [==============================] - 19s 25ms/step - loss: 0.0591 - binary_accuracy: 0.9789 - val_loss: 0.0840 - val_binary_accuracy: 0.9691\n",
      "\n",
      "Epoch 00055: val_loss did not improve\n",
      "Epoch 56/200\n",
      "760/760 [==============================] - 19s 25ms/step - loss: 0.0602 - binary_accuracy: 0.9779 - val_loss: 0.0530 - val_binary_accuracy: 0.9827\n",
      "\n",
      "Epoch 00056: val_loss did not improve\n",
      "Epoch 57/200\n",
      "760/760 [==============================] - 19s 25ms/step - loss: 0.0597 - binary_accuracy: 0.9788 - val_loss: 0.0655 - val_binary_accuracy: 0.9758\n",
      "\n",
      "Epoch 00057: val_loss did not improve\n",
      "Epoch 58/200\n",
      "760/760 [==============================] - 20s 26ms/step - loss: 0.0592 - binary_accuracy: 0.9776 - val_loss: 0.0717 - val_binary_accuracy: 0.9731\n",
      "\n",
      "Epoch 00058: val_loss did not improve\n",
      "Epoch 59/200\n",
      "760/760 [==============================] - 19s 25ms/step - loss: 0.0587 - binary_accuracy: 0.9784 - val_loss: 0.0819 - val_binary_accuracy: 0.9717\n",
      "\n",
      "Epoch 00059: val_loss did not improve\n",
      "Epoch 60/200\n",
      "760/760 [==============================] - 19s 25ms/step - loss: 0.0595 - binary_accuracy: 0.9790 - val_loss: 0.0466 - val_binary_accuracy: 0.9859\n",
      "\n",
      "Epoch 00060: val_loss improved from 0.04709 to 0.04658, saving model to /home/mhuang/model_checkpoints/planes_satellite/weights.60-0.0466.hdf5\n",
      "Epoch 61/200\n",
      "760/760 [==============================] - 19s 25ms/step - loss: 0.0568 - binary_accuracy: 0.9799 - val_loss: 0.0574 - val_binary_accuracy: 0.9783\n",
      "\n",
      "Epoch 00061: val_loss did not improve\n",
      "Epoch 62/200\n",
      "760/760 [==============================] - 20s 27ms/step - loss: 0.0590 - binary_accuracy: 0.9795 - val_loss: 0.0514 - val_binary_accuracy: 0.9832\n",
      "\n",
      "Epoch 00062: val_loss did not improve\n",
      "Epoch 63/200\n",
      "760/760 [==============================] - 19s 25ms/step - loss: 0.0589 - binary_accuracy: 0.9781 - val_loss: 0.0596 - val_binary_accuracy: 0.9813\n",
      "\n",
      "Epoch 00063: val_loss did not improve\n",
      "Epoch 64/200\n",
      "760/760 [==============================] - 19s 25ms/step - loss: 0.0600 - binary_accuracy: 0.9781 - val_loss: 0.0557 - val_binary_accuracy: 0.9844\n",
      "\n",
      "Epoch 00064: val_loss did not improve\n",
      "Epoch 65/200\n",
      "760/760 [==============================] - 19s 25ms/step - loss: 0.0587 - binary_accuracy: 0.9787 - val_loss: 0.0733 - val_binary_accuracy: 0.9768\n",
      "\n",
      "Epoch 00065: val_loss did not improve\n",
      "Epoch 66/200\n",
      "760/760 [==============================] - 19s 25ms/step - loss: 0.0595 - binary_accuracy: 0.9778 - val_loss: 0.0523 - val_binary_accuracy: 0.9857\n",
      "\n",
      "Epoch 00066: val_loss did not improve\n",
      "Epoch 67/200\n",
      "760/760 [==============================] - 19s 25ms/step - loss: 0.0585 - binary_accuracy: 0.9792 - val_loss: 0.0610 - val_binary_accuracy: 0.9808\n",
      "\n",
      "Epoch 00067: val_loss did not improve\n",
      "Epoch 68/200\n",
      "760/760 [==============================] - 19s 25ms/step - loss: 0.0593 - binary_accuracy: 0.9787 - val_loss: 0.0478 - val_binary_accuracy: 0.9859\n",
      "\n",
      "Epoch 00068: val_loss did not improve\n",
      "Epoch 69/200\n",
      "760/760 [==============================] - 20s 26ms/step - loss: 0.0597 - binary_accuracy: 0.9781 - val_loss: 0.0476 - val_binary_accuracy: 0.9832\n",
      "\n",
      "Epoch 00069: val_loss did not improve\n",
      "Epoch 70/200\n",
      "760/760 [==============================] - 19s 25ms/step - loss: 0.0564 - binary_accuracy: 0.9800 - val_loss: 0.0481 - val_binary_accuracy: 0.9821\n",
      "\n",
      "Epoch 00076: val_loss did not improve\n",
      "Epoch 77/200\n",
      "760/760 [==============================] - 20s 26ms/step - loss: 0.0573 - binary_accuracy: 0.9800 - val_loss: 0.0409 - val_binary_accuracy: 0.9880\n",
      "\n",
      "Epoch 00077: val_loss improved from 0.04658 to 0.04094, saving model to /home/mhuang/model_checkpoints/planes_satellite/weights.77-0.0409.hdf5\n",
      "Epoch 78/200\n",
      "760/760 [==============================] - 19s 25ms/step - loss: 0.0558 - binary_accuracy: 0.9793 - val_loss: 0.0460 - val_binary_accuracy: 0.9836\n",
      "\n",
      "Epoch 00078: val_loss did not improve\n",
      "Epoch 79/200\n",
      "760/760 [==============================] - 19s 25ms/step - loss: 0.0592 - binary_accuracy: 0.9785 - val_loss: 0.0546 - val_binary_accuracy: 0.9814\n",
      "\n",
      "Epoch 00079: val_loss did not improve\n",
      "Epoch 80/200\n"
     ]
    },
    {
     "name": "stdout",
     "output_type": "stream",
     "text": [
      "760/760 [==============================] - 20s 26ms/step - loss: 0.0566 - binary_accuracy: 0.9796 - val_loss: 0.0508 - val_binary_accuracy: 0.9831\n",
      "\n",
      "Epoch 00080: val_loss did not improve\n",
      "Epoch 81/200\n",
      "760/760 [==============================] - 19s 25ms/step - loss: 0.0562 - binary_accuracy: 0.9792 - val_loss: 0.0492 - val_binary_accuracy: 0.9841\n",
      "\n",
      "Epoch 00081: val_loss did not improve\n",
      "Epoch 82/200\n",
      "760/760 [==============================] - 19s 25ms/step - loss: 0.0572 - binary_accuracy: 0.9789 - val_loss: 0.0704 - val_binary_accuracy: 0.9765\n",
      "\n",
      "Epoch 00082: val_loss did not improve\n",
      "Epoch 83/200\n",
      "760/760 [==============================] - 19s 25ms/step - loss: 0.0530 - binary_accuracy: 0.9809 - val_loss: 0.0500 - val_binary_accuracy: 0.9832\n",
      "\n",
      "Epoch 00083: val_loss did not improve\n",
      "Epoch 84/200\n",
      "760/760 [==============================] - 19s 25ms/step - loss: 0.0569 - binary_accuracy: 0.9800 - val_loss: 0.0526 - val_binary_accuracy: 0.9839\n",
      "\n",
      "Epoch 00084: val_loss did not improve\n",
      "Epoch 85/200\n",
      "760/760 [==============================] - 19s 25ms/step - loss: 0.0555 - binary_accuracy: 0.9787 - val_loss: 0.0597 - val_binary_accuracy: 0.9817\n",
      "\n",
      "Epoch 00085: val_loss did not improve\n",
      "Epoch 86/200\n",
      "760/760 [==============================] - 19s 25ms/step - loss: 0.0533 - binary_accuracy: 0.9800 - val_loss: 0.0584 - val_binary_accuracy: 0.9806\n",
      "\n",
      "Epoch 00086: val_loss did not improve\n",
      "Epoch 87/200\n",
      "760/760 [==============================] - 19s 25ms/step - loss: 0.0527 - binary_accuracy: 0.9824 - val_loss: 0.0450 - val_binary_accuracy: 0.9860\n",
      "\n",
      "Epoch 00087: val_loss did not improve\n",
      "Epoch 88/200\n",
      " 63/760 [=>............................] - ETA: 11s - loss: 0.0626 - binary_accuracy: 0.9777"
     ]
    },
    {
     "name": "stderr",
     "output_type": "stream",
     "text": [
      "IOPub message rate exceeded.\n",
      "The notebook server will temporarily stop sending output\n",
      "to the client in order to avoid crashing it.\n",
      "To change this limit, set the config variable\n",
      "`--NotebookApp.iopub_msg_rate_limit`.\n",
      "\n",
      "Current values:\n",
      "NotebookApp.iopub_msg_rate_limit=1000.0 (msgs/sec)\n",
      "NotebookApp.rate_limit_window=3.0 (secs)\n",
      "\n"
     ]
    }
   ],
   "source": [
    "history = model.fit_generator(train_generator, \n",
    "                             epochs=EPOCHS,\n",
    "                             verbose=1,\n",
    "                             shuffle=True,\n",
    "                             validation_data=valid_generator,\n",
    "                             callbacks=[early_stopping_calllback, tensorboard_callback, model_checkpoint_callback]\n",
    "                             )"
   ]
  },
  {
   "cell_type": "markdown",
   "metadata": {},
   "source": [
    "## evaluate"
   ]
  },
  {
   "cell_type": "markdown",
   "metadata": {},
   "source": [
    "### current model and weights"
   ]
  },
  {
   "cell_type": "code",
   "execution_count": 27,
   "metadata": {},
   "outputs": [
    {
     "name": "stdout",
     "output_type": "stream",
     "text": [
      "Summary: Loss over the test dataset: 0.0620, Accuracy: 0.9794\n"
     ]
    }
   ],
   "source": [
    "evaluation = model.evaluate_generator(test_generator)\n",
    "print('Summary: Loss over the test dataset: %.4f, Accuracy: %.4f' % (evaluation[0], evaluation[1]))"
   ]
  },
  {
   "cell_type": "markdown",
   "metadata": {},
   "source": [
    "### evaluate using best saved model and weights"
   ]
  },
  {
   "cell_type": "code",
   "execution_count": 28,
   "metadata": {},
   "outputs": [
    {
     "name": "stdout",
     "output_type": "stream",
     "text": [
      "/home/mhuang/model_checkpoints/planes_satellite/weights.77-0.0409.hdf5\n"
     ]
    }
   ],
   "source": [
    "list_of_models = glob.glob(checkpoint_root + '/*.hdf5')\n",
    "latest_model = max(list_of_models, key=path.getctime)\n",
    "print(latest_model)"
   ]
  },
  {
   "cell_type": "code",
   "execution_count": 29,
   "metadata": {},
   "outputs": [],
   "source": [
    "from keras.models import load_model\n",
    "\n",
    "best_model = load_model(latest_model)"
   ]
  },
  {
   "cell_type": "code",
   "execution_count": 30,
   "metadata": {},
   "outputs": [
    {
     "name": "stdout",
     "output_type": "stream",
     "text": [
      "Summary: Loss over the test dataset: 0.0556, Accuracy: 0.9825\n"
     ]
    }
   ],
   "source": [
    "evaluation = best_model.evaluate_generator(test_generator)\n",
    "print('Summary: Loss over the test dataset: %.4f, Accuracy: %.4f' % (evaluation[0], evaluation[1]))"
   ]
  },
  {
   "cell_type": "markdown",
   "metadata": {},
   "source": [
    "### using best model, continue training using smaller learning rate"
   ]
  },
  {
   "cell_type": "markdown",
   "metadata": {},
   "source": [
    "        \n",
    "best_model.compile(optimizer=Adam(lr=0.0001), loss='binary_crossentropy', metrics=['binary_accuracy'])"
   ]
  },
  {
   "cell_type": "markdown",
   "metadata": {},
   "source": [
    "history = best_model.fit_generator(train_generator, \n",
    "                             epochs=EPOCHS,\n",
    "                             verbose=1,\n",
    "                             shuffle=True,\n",
    "                             validation_data=valid_generator,\n",
    "                             callbacks=[early_stopping_calllback, tensorboard_callback, model_checkpoint_callback]\n",
    "                             )"
   ]
  },
  {
   "cell_type": "markdown",
   "metadata": {},
   "source": [
    "## predict"
   ]
  },
  {
   "cell_type": "markdown",
   "metadata": {},
   "source": [
    "### plot some predictions"
   ]
  },
  {
   "cell_type": "code",
   "execution_count": 31,
   "metadata": {},
   "outputs": [
    {
     "data": {
      "image/png": "[encoded data removed]",
      "text/plain": [
       "<matplotlib.figure.Figure at 0x7f94bac3a5f8>"
      ]
     },
     "metadata": {},
     "output_type": "display_data"
    }
   ],
   "source": [
    "# predict a batch\n",
    "\n",
    "(X_batch, y_batch) = next(test_generator)\n",
    "\n",
    "y_batch_true = [str(val) for val in y_batch.argmax(axis=1)]\n",
    "\n",
    "# make prediction\n",
    "predictions = best_model.predict(X_batch)\n",
    "\n",
    "y_batch_predict = [str(val) for val in predictions.argmax(axis=1)]\n",
    "\n",
    "labels_tuple = zip(y_batch_predict, y_batch_true)\n",
    "labels = ['/'.join(t) for t in labels_tuple]\n",
    "\n",
    "plots(X_batch, titles=labels, rows=4, main_title=\"Predictions\")\n",
    "\n",
    "\n"
   ]
  },
  {
   "cell_type": "markdown",
   "metadata": {},
   "source": [
    "### plot some mis-predictions"
   ]
  },
  {
   "cell_type": "code",
   "execution_count": 32,
   "metadata": {},
   "outputs": [
    {
     "name": "stdout",
     "output_type": "stream",
     "text": [
      "Found 1600 images belonging to 2 classes.\n"
     ]
    }
   ],
   "source": [
    "# define larger batch size for generator\n",
    "\n",
    "large_test_generator = test_datagen.flow_from_directory(\n",
    "    IMAGE_PATH + \"/test\",\n",
    "    target_size=IMAGE_SIZE,\n",
    "    color_mode=\"rgb\",\n",
    "    batch_size=2*BATCH_SIZE,\n",
    "    class_mode='categorical',\n",
    "    )"
   ]
  },
  {
   "cell_type": "code",
   "execution_count": 38,
   "metadata": {},
   "outputs": [
    {
     "data": {
      "image/png": "[encoded data removed]",
      "text/plain": [
       "<matplotlib.figure.Figure at 0x7f94bad2c048>"
      ]
     },
     "metadata": {},
     "output_type": "display_data"
    }
   ],
   "source": [
    "# predict a larger batch\n",
    "\n",
    "(X_batch, y_batch) = next(large_test_generator)\n",
    "\n",
    "y_batch_true = [str(val) for val in y_batch.argmax(axis=1)]\n",
    "\n",
    "# make prediction\n",
    "predictions = best_model.predict(X_batch)\n",
    "\n",
    "y_batch_predict = [str(val) for val in predictions.argmax(axis=1)]\n",
    "\n",
    "labels_tuple = zip(y_batch_predict, y_batch_true)\n",
    "labels = ['/'.join(t) for t in labels_tuple]\n",
    "\n",
    "errors = np.array(y_batch.argmax(axis=1)) - np.array(predictions.argmax(axis=1))\n",
    "\n",
    "error_idx = np.nonzero(errors)[0]\n",
    "\n",
    "if len(error_idx) > 0:\n",
    "    X_batch_error = X_batch[error_idx]\n",
    "    labels_error = [labels[idx] for idx in error_idx]\n",
    "    \n",
    "    rows = 1 + (len(error_idx) // 8)\n",
    "    \n",
    "    plots(X_batch_error, titles=labels_error, rows=rows, main_title=\"Wrong Predictions\")"
   ]
  }
 ],
 "metadata": {
  "kernelspec": {
   "display_name": "Python [conda env:gpu_keras2_tf16_py36]",
   "language": "python",
   "name": "conda-env-gpu_keras2_tf16_py36-py"
  },
  "language_info": {
   "codemirror_mode": {
    "name": "ipython",
    "version": 3
   },
   "file_extension": ".py",
   "mimetype": "text/x-python",
   "name": "python",
   "nbconvert_exporter": "python",
   "pygments_lexer": "ipython3",
   "version": "3.6.4"
  }
 },
 "nbformat": 4,
 "nbformat_minor": 2
}
