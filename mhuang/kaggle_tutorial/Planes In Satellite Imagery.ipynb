{
 "cells": [
  {
   "cell_type": "markdown",
   "metadata": {},
   "source": [
    "## boilerplate imports"
   ]
  },
  {
   "cell_type": "code",
   "execution_count": 1,
   "metadata": {},
   "outputs": [],
   "source": [
    "import pandas as pd\n",
    "import matplotlib.pyplot as plt\n",
    "import seaborn as sns\n",
    "import numpy as np\n",
    "from scipy.stats import norm\n",
    "from sklearn.preprocessing import StandardScaler\n",
    "from scipy import stats\n",
    "from scipy import misc\n",
    "import warnings\n",
    "warnings.filterwarnings('ignore')\n",
    "%matplotlib inline"
   ]
  },
  {
   "cell_type": "markdown",
   "metadata": {},
   "source": [
    "## Download data "
   ]
  },
  {
   "cell_type": "code",
   "execution_count": 2,
   "metadata": {},
   "outputs": [],
   "source": [
    "IMAGE_ROOT = \"/home/mhuang/data/planes_satellite\"\n",
    "IMAGE_PATH = IMAGE_ROOT + \"/images\"\n",
    "\n",
    "DATA_BUNDLE_FILENAME = \"planesnet_bundle.zip\"\n",
    "DATA_IMAGES_FILENAME = \"planesnet.zip\""
   ]
  },
  {
   "cell_type": "code",
   "execution_count": 3,
   "metadata": {},
   "outputs": [],
   "source": [
    "!rm -rf $IMAGE_ROOT"
   ]
  },
  {
   "cell_type": "code",
   "execution_count": 4,
   "metadata": {},
   "outputs": [],
   "source": [
    "!mkdir -p $IMAGE_ROOT"
   ]
  },
  {
   "cell_type": "code",
   "execution_count": 5,
   "metadata": {},
   "outputs": [
    {
     "name": "stdout",
     "output_type": "stream",
     "text": [
      "  % Total    % Received % Xferd  Average Speed   Time    Time     Time  Current\n",
      "                                 Dload  Upload   Total   Spent    Left  Speed\n",
      "100 72.5M  100 72.5M    0     0  73.1M      0 --:--:-- --:--:-- --:--:-- 73.1M\n"
     ]
    }
   ],
   "source": [
    "!curl \"https://storage.googleapis.com/kaggle-datasets/1197/14776/planesnet.zip?GoogleAccessId=web-data@kaggle-161607.iam.gserviceaccount.com&Expires=1525360358&Signature=jybY3hauu%2BOnpVI6Ysu2qBnEzDrUi17xgj7T4B%2Br3i9dAeyrWs3R2mozc9C5gXNfMRDLwCpxsVgK4O13rvChH%2BLfGzVQUgkOGADDQG0fr0g8qsoesOsrg7XrKZByF2AaDKXB7gCEWf4oRwaEHKQcEqQvRV1ci34y9VV2ryd9xAHCmbbrXkxIdYyZhiQe%2FUZxqaa0CmS%2FvstA5LtN7tDVCWE8NWUJbMhd8e0i0Zk9in8CyqIlH2jSyxAJI7IvUaELZgagIRAdbfsRkL13fyiQEeiOXHb2Ap34oQshqiyYq%2BJ%2FH3A549OHJRdzlX10bljf6kwOYPwpJQZW73Q%2BO9126Q%3D%3D\" > $IMAGE_ROOT/$DATA_BUNDLE_FILENAME"
   ]
  },
  {
   "cell_type": "code",
   "execution_count": 6,
   "metadata": {},
   "outputs": [
    {
     "name": "stdout",
     "output_type": "stream",
     "text": [
      "Archive:  /home/mhuang/data/planes_satellite/planesnet_bundle.zip\n",
      "  inflating: /home/mhuang/data/planes_satellite/planesnet.json  \n",
      "  inflating: /home/mhuang/data/planes_satellite/planesnet.zip  \n"
     ]
    }
   ],
   "source": [
    "!unzip -o $IMAGE_ROOT/$DATA_BUNDLE_FILENAME -d $IMAGE_ROOT"
   ]
  },
  {
   "cell_type": "code",
   "execution_count": 7,
   "metadata": {},
   "outputs": [
    {
     "name": "stdout",
     "output_type": "stream",
     "text": [
      "No errors detected in compressed data of /home/mhuang/data/planes_satellite/planesnet.zip.\r\n"
     ]
    }
   ],
   "source": [
    "!unzip -q -t $IMAGE_ROOT/$DATA_IMAGES_FILENAME"
   ]
  },
  {
   "cell_type": "code",
   "execution_count": 8,
   "metadata": {},
   "outputs": [],
   "source": [
    "!unzip -o -q -j $IMAGE_ROOT/$DATA_IMAGES_FILENAME -d $IMAGE_PATH"
   ]
  },
  {
   "cell_type": "code",
   "execution_count": 9,
   "metadata": {
    "scrolled": false
   },
   "outputs": [
    {
     "name": "stdout",
     "output_type": "stream",
     "text": [
      "total 128000\n",
      "-rw-rw-r-- 1 mhuang mhuang  906 Jan 21 19:37 1__20170729_175335_101d__-118.40592455007884_33.93955085537867.png\n",
      "-rw-rw-r-- 1 mhuang mhuang  764 Jan 21 19:37 1__20170729_175107_1036__-118.41833221627427_33.940172226013956.png\n",
      "-rw-rw-r-- 1 mhuang mhuang  804 Jan 21 19:37 1__20170728_180813_1039__-121.58701779603875_38.694769242571724.png\n",
      "-rw-rw-r-- 1 mhuang mhuang  789 Jan 21 19:37 1__20170728_175003_102a__-118.4037708318591_33.941100279947925.png\n",
      "-rw-rw-r-- 1 mhuang mhuang  863 Jan 21 19:37 1__20170728_175002_102a__-118.40332877746077_33.94671287238693.png\n",
      "-rw-rw-r-- 1 mhuang mhuang  914 Jan 21 19:37 1__20170727_175114_0f3f__-118.40323269335445_33.946344345012726.png\n",
      "-rw-rw-r-- 1 mhuang mhuang  929 Jan 21 19:37 1__20170727_175114_0f3f__-118.38581188623972_33.93494470621571.png\n",
      "-rw-rw-r-- 1 mhuang mhuang  709 Jan 21 19:37 1__20170726_180807_1022__-122.38824470631792_37.61969954191162.png\n",
      "-rw-rw-r-- 1 mhuang mhuang  841 Jan 21 19:37 1__20170726_174854_0f10__-117.8611940333088_33.68107837904123.png\n",
      "ls: write error: Broken pipe\n"
     ]
    }
   ],
   "source": [
    "!ls -ltr $IMAGE_PATH | head"
   ]
  },
  {
   "cell_type": "markdown",
   "metadata": {},
   "source": [
    "## split images into train and validate using using sklearn"
   ]
  },
  {
   "cell_type": "code",
   "execution_count": 10,
   "metadata": {},
   "outputs": [],
   "source": [
    "import shutil\n",
    "import glob\n",
    "import os.path as path\n",
    "from sklearn.cross_validation import train_test_split\n",
    "\n"
   ]
  },
  {
   "cell_type": "code",
   "execution_count": 11,
   "metadata": {},
   "outputs": [],
   "source": [
    "!rm -rf $IMAGE_PATH/train $IMAGE_PATH/valid $IMAGE_PATH/test"
   ]
  },
  {
   "cell_type": "markdown",
   "metadata": {},
   "source": [
    "### split negative images first"
   ]
  },
  {
   "cell_type": "code",
   "execution_count": 12,
   "metadata": {},
   "outputs": [],
   "source": [
    "# reserve some files for testing\n",
    "TEST_RATIO = 0.05"
   ]
  },
  {
   "cell_type": "code",
   "execution_count": 13,
   "metadata": {
    "scrolled": true
   },
   "outputs": [],
   "source": [
    "!mkdir -p $IMAGE_PATH/train/0 $IMAGE_PATH/test/0\n",
    "\n",
    "# load negave images which always start with \"0_\"\n",
    "\n",
    "X_neg = y_neg = glob.glob(path.join(IMAGE_PATH, '0_*.png'))\n",
    "X_neg_train, X_neg_test, y_neg_train, y_neg_test = train_test_split(X_neg, y_neg, test_size=TEST_RATIO, random_state=None)\n",
    "\n",
    "# train\n",
    "\n",
    "for x in X_neg_train:\n",
    "    \n",
    "    try:\n",
    "        shutil.move(x, IMAGE_PATH + \"/train/0\")\n",
    "    except OSError as err: \n",
    "        print(\"Error '{}' when moving file {} to target dir {}\".format(err, x, target_dir))\n",
    "\n",
    "# test\n",
    "\n",
    "for x in X_neg_test:\n",
    "    \n",
    "    try:\n",
    "        shutil.move(x, IMAGE_PATH + \"/test/0\")\n",
    "    except OSError as err: \n",
    "        print(\"Error '{}' when moving file {} to target dir {}\".format(err, x, target_dir))\n",
    "        \n"
   ]
  },
  {
   "cell_type": "markdown",
   "metadata": {},
   "source": [
    "### then split positive images "
   ]
  },
  {
   "cell_type": "code",
   "execution_count": 14,
   "metadata": {},
   "outputs": [],
   "source": [
    "!mkdir -p $IMAGE_PATH/train/1 $IMAGE_PATH/test/1\n",
    "\n",
    "# load positive images which always start with \"1_\"\n",
    "\n",
    "X_pos = y_pos = glob.glob(path.join(IMAGE_PATH, '1_*.png'))\n",
    "X_pos_train, X_pos_test, y_pos_train, y_pos_test = train_test_split(X_pos, y_pos, test_size=TEST_RATIO, random_state=None)\n",
    "\n",
    "# train\n",
    "\n",
    "for x in X_pos_train:\n",
    "    \n",
    "    try:\n",
    "        shutil.move(x, IMAGE_PATH + \"/train/1\")\n",
    "    except OSError as err: \n",
    "        print(\"Error '{}' when moving file {} to target dir {}\".format(err, x, target_dir))\n",
    "\n",
    "# test\n",
    "\n",
    "for x in X_pos_test:\n",
    "    \n",
    "    try:\n",
    "        shutil.move(x, IMAGE_PATH + \"/test/1\")\n",
    "    except OSError as err: \n",
    "        print(\"Error '{}' when moving file {} to target dir {}\".format(err, x, target_dir))"
   ]
  },
  {
   "cell_type": "markdown",
   "metadata": {},
   "source": [
    "## create CNN model"
   ]
  },
  {
   "cell_type": "code",
   "execution_count": 15,
   "metadata": {},
   "outputs": [
    {
     "name": "stderr",
     "output_type": "stream",
     "text": [
      "Using TensorFlow backend.\n"
     ]
    }
   ],
   "source": [
    "# imports\n",
    "\n",
    "from keras.models import Sequential\n",
    "from keras.layers import Dense, Flatten, Conv2D, MaxPooling2D, Activation, Dropout, InputLayer, BatchNormalization\n",
    "from keras.optimizers import RMSprop, Adam\n",
    "from keras.utils import np_utils\n",
    "from keras import initializers\n",
    "from keras import backend as K\n",
    "from keras.callbacks import TensorBoard"
   ]
  },
  {
   "cell_type": "markdown",
   "metadata": {},
   "source": [
    "### model params"
   ]
  },
  {
   "cell_type": "code",
   "execution_count": 16,
   "metadata": {},
   "outputs": [],
   "source": [
    "pool_size = (2, 2)                    # size of poolin area for max pooling\n",
    "prob_drop_conv = 0.25                  # drop probability for dropout @ conv layer\n",
    "prob_drop_hidden = 0.5                # drop probability for dropout @ fc layer\n",
    "image_shape=(20,20,3)"
   ]
  },
  {
   "cell_type": "code",
   "execution_count": 17,
   "metadata": {
    "scrolled": true
   },
   "outputs": [
    {
     "name": "stdout",
     "output_type": "stream",
     "text": [
      "_________________________________________________________________\n",
      "Layer (type)                 Output Shape              Param #   \n",
      "=================================================================\n",
      "input_1 (InputLayer)         (None, 20, 20, 3)         0         \n",
      "_________________________________________________________________\n",
      "batch_normalization_1 (Batch (None, 20, 20, 3)         12        \n",
      "_________________________________________________________________\n",
      "conv2d_1 (Conv2D)            (None, 20, 20, 32)        896       \n",
      "_________________________________________________________________\n",
      "activation_1 (Activation)    (None, 20, 20, 32)        0         \n",
      "_________________________________________________________________\n",
      "max_pooling2d_1 (MaxPooling2 (None, 10, 10, 32)        0         \n",
      "_________________________________________________________________\n",
      "dropout_1 (Dropout)          (None, 10, 10, 32)        0         \n",
      "_________________________________________________________________\n",
      "conv2d_2 (Conv2D)            (None, 10, 10, 64)        18496     \n",
      "_________________________________________________________________\n",
      "activation_2 (Activation)    (None, 10, 10, 64)        0         \n",
      "_________________________________________________________________\n",
      "max_pooling2d_2 (MaxPooling2 (None, 5, 5, 64)          0         \n",
      "_________________________________________________________________\n",
      "dropout_2 (Dropout)          (None, 5, 5, 64)          0         \n",
      "_________________________________________________________________\n",
      "conv2d_3 (Conv2D)            (None, 5, 5, 128)         73856     \n",
      "_________________________________________________________________\n",
      "activation_3 (Activation)    (None, 5, 5, 128)         0         \n",
      "_________________________________________________________________\n",
      "max_pooling2d_3 (MaxPooling2 (None, 3, 3, 128)         0         \n",
      "_________________________________________________________________\n",
      "flatten_1 (Flatten)          (None, 1152)              0         \n",
      "_________________________________________________________________\n",
      "dropout_3 (Dropout)          (None, 1152)              0         \n",
      "_________________________________________________________________\n",
      "dense_1 (Dense)              (None, 250)               288250    \n",
      "_________________________________________________________________\n",
      "activation_4 (Activation)    (None, 250)               0         \n",
      "_________________________________________________________________\n",
      "dropout_4 (Dropout)          (None, 250)               0         \n",
      "_________________________________________________________________\n",
      "dense_2 (Dense)              (None, 2)                 502       \n",
      "_________________________________________________________________\n",
      "activation_5 (Activation)    (None, 2)                 0         \n",
      "=================================================================\n",
      "Total params: 382,012\n",
      "Trainable params: 382,006\n",
      "Non-trainable params: 6\n",
      "_________________________________________________________________\n"
     ]
    }
   ],
   "source": [
    "model = Sequential()\n",
    "\n",
    "# input layer\n",
    "model.add(InputLayer(input_shape=image_shape))\n",
    "\n",
    "# batch normalization\n",
    "model.add(BatchNormalization())\n",
    "\n",
    "# conv1 layer\n",
    "model.add(Conv2D(32, (3,3), padding='same', kernel_initializer='random_normal'))\n",
    "model.add(Activation('relu'))\n",
    "model.add(MaxPooling2D(pool_size=pool_size, strides=(2, 2), padding='same'))\n",
    "model.add(Dropout(prob_drop_conv))\n",
    "\n",
    "# conv2 layer\n",
    "model.add(Conv2D(64, (3,3), padding='same', kernel_initializer='random_normal'))\n",
    "model.add(Activation('relu'))\n",
    "model.add(MaxPooling2D(pool_size=pool_size, strides=(2, 2), padding='same'))\n",
    "model.add(Dropout(prob_drop_conv))\n",
    "\n",
    "# conv3 layer\n",
    "model.add(Conv2D(128, (3,3), padding='same', kernel_initializer='random_normal'))\n",
    "model.add(Activation('relu'))\n",
    "model.add(MaxPooling2D(pool_size=pool_size, strides=(2, 2), padding='same'))\n",
    "model.add(Flatten())\n",
    "model.add(Dropout(prob_drop_conv))\n",
    "\n",
    "# fc1 layer\n",
    "# what \"units\" values work best here ??\n",
    "model.add(Dense(units=250, kernel_initializer='random_normal'))\n",
    "model.add(Activation('relu'))\n",
    "model.add(Dropout(prob_drop_hidden))\n",
    "\n",
    "# fc2 layer\n",
    "model.add(Dense(units=2, kernel_initializer='random_normal'))\n",
    "model.add(Activation('softmax'))\n",
    "          \n",
    "model.compile(optimizer=RMSprop(lr=0.001, rho=0.9), loss='binary_crossentropy', metrics=['binary_accuracy'])\n",
    "model.summary()"
   ]
  },
  {
   "cell_type": "markdown",
   "metadata": {},
   "source": [
    "##  set up data generators using Keras Image Generator"
   ]
  },
  {
   "cell_type": "markdown",
   "metadata": {},
   "source": [
    "### training parameters"
   ]
  },
  {
   "cell_type": "code",
   "execution_count": 18,
   "metadata": {},
   "outputs": [],
   "source": [
    "BATCH_SIZE=32\n",
    "VALIDATION_SPLIT=0.20\n",
    "EPOCHS=50"
   ]
  },
  {
   "cell_type": "markdown",
   "metadata": {},
   "source": [
    "### training and validation data generator"
   ]
  },
  {
   "cell_type": "code",
   "execution_count": 19,
   "metadata": {},
   "outputs": [
    {
     "name": "stdout",
     "output_type": "stream",
     "text": [
      "Found 24320 images belonging to 2 classes.\n",
      "Found 6080 images belonging to 2 classes.\n"
     ]
    }
   ],
   "source": [
    "from keras.preprocessing import image\n",
    "\n",
    "IMAGE_SIZE=(20,20)\n",
    "\n",
    "train_datagen = image.ImageDataGenerator(\n",
    "    rescale=1./255,\n",
    "    validation_split=VALIDATION_SPLIT,\n",
    "    )\n",
    "\n",
    "train_generator = train_datagen.flow_from_directory(\n",
    "    IMAGE_PATH + \"/train\",\n",
    "    target_size=IMAGE_SIZE,\n",
    "    color_mode=\"rgb\",\n",
    "    batch_size=BATCH_SIZE,\n",
    "    class_mode='categorical',\n",
    "    subset='training'\n",
    "    )\n",
    "\n",
    "valid_generator = train_datagen.flow_from_directory(\n",
    "    IMAGE_PATH + \"/train\",\n",
    "    target_size=IMAGE_SIZE,\n",
    "    color_mode=\"rgb\",\n",
    "    batch_size=BATCH_SIZE,\n",
    "    class_mode='categorical',\n",
    "    subset='validation'\n",
    "    )\n"
   ]
  },
  {
   "cell_type": "markdown",
   "metadata": {},
   "source": [
    "### evaluation data generator"
   ]
  },
  {
   "cell_type": "code",
   "execution_count": 67,
   "metadata": {},
   "outputs": [
    {
     "name": "stdout",
     "output_type": "stream",
     "text": [
      "Found 1600 images belonging to 2 classes.\n"
     ]
    }
   ],
   "source": [
    "test_datagen = image.ImageDataGenerator(\n",
    "    rescale=1./255,\n",
    "    )\n",
    "\n",
    "test_generator = test_datagen.flow_from_directory(\n",
    "    IMAGE_PATH + \"/test\",\n",
    "    target_size=IMAGE_SIZE,\n",
    "    color_mode=\"rgb\",\n",
    "    batch_size=BATCH_SIZE,\n",
    "    class_mode='categorical',\n",
    "    )\n",
    "\n"
   ]
  },
  {
   "cell_type": "markdown",
   "metadata": {},
   "source": [
    "## plot a few images"
   ]
  },
  {
   "cell_type": "code",
   "execution_count": 240,
   "metadata": {},
   "outputs": [],
   "source": [
    "def plots(ims, figsize=(12,8), dpi=96, rows=1, interp=False, titles=None, main_title=\"Diagram\"):\n",
    "    f = plt.figure(figsize=figsize, dpi=dpi)\n",
    "    plt.title(main_title)\n",
    "    plt.axis('off')\n",
    "    for i in range(len(ims)):\n",
    "        sp = f.add_subplot(rows, len(ims)//rows, i+1)\n",
    "        if titles is not None:\n",
    "            sp.set_title(titles[i], fontsize=10)\n",
    "        plt.imshow(ims[i], interpolation=None if interp else 'none', cmap='gray')\n",
    "        plt.axis('off')"
   ]
  },
  {
   "cell_type": "code",
   "execution_count": 241,
   "metadata": {},
   "outputs": [
    {
     "name": "stdout",
     "output_type": "stream",
     "text": [
      "0 (32, 20, 20, 3)\n"
     ]
    },
    {
     "data": {
      "image/png": "[encoded data removed]",
      "text/plain": [
       "<matplotlib.figure.Figure at 0x7f643e6e7a20>"
      ]
     },
     "metadata": {},
     "output_type": "display_data"
    }
   ],
   "source": [
    "batches=0\n",
    "\n",
    "for x_batch, y_batch in train_generator:\n",
    "    print(batches, x_batch.shape)\n",
    "    label_id = y_batch.argmax(axis=1)\n",
    "    \n",
    "    #num_to_dump = 2\n",
    "    #print(batches, x_batch[:num_to_dump,:,:,:])\n",
    "    #print(batches, label_id[:num_to_dump])\n",
    "\n",
    "    plots(x_batch, titles=label_id, rows=4, main_title=\"Labeled Training Data\")\n",
    "    batches += 1\n",
    "    if batches >= 1:\n",
    "        break"
   ]
  },
  {
   "cell_type": "markdown",
   "metadata": {},
   "source": [
    "## train model"
   ]
  },
  {
   "cell_type": "markdown",
   "metadata": {},
   "source": [
    "### early stop callback"
   ]
  },
  {
   "cell_type": "code",
   "execution_count": 23,
   "metadata": {},
   "outputs": [],
   "source": [
    "from keras.callbacks import EarlyStopping\n",
    "\n",
    "PATIENCE = 10\n",
    "\n",
    "early_stopping_calllback = EarlyStopping(monitor='val_loss', min_delta=0, patience=PATIENCE, verbose=1, mode='auto')"
   ]
  },
  {
   "cell_type": "markdown",
   "metadata": {},
   "source": [
    "### tensorboard callback"
   ]
  },
  {
   "cell_type": "code",
   "execution_count": 24,
   "metadata": {},
   "outputs": [],
   "source": [
    "from keras.callbacks import TensorBoard\n",
    "import time\n",
    "\n",
    "timestamp = time.strftime(\"%Y%m%d-%H%M%S\")\n",
    "log_dir = '/home/mhuang/tensorboard_logs/tutorial/planes_satellite/' + timestamp\n",
    "\n",
    "tensorboard_callback = TensorBoard(log_dir=log_dir, histogram_freq=0, write_graph=True, write_grads=True, batch_size=2*BATCH_SIZE, write_images=True)"
   ]
  },
  {
   "cell_type": "markdown",
   "metadata": {},
   "source": [
    "### model checkpoint callback"
   ]
  },
  {
   "cell_type": "code",
   "execution_count": 25,
   "metadata": {},
   "outputs": [],
   "source": [
    "from keras.callbacks import ModelCheckpoint\n",
    "\n",
    "checkpoint_root = '/home/mhuang/model_checkpoints/planes_satellite'\n",
    "checkpoint_filename = 'weights.{epoch:02d}-{val_loss:.3f}.hdf5'\n",
    "checkpoint_filepath = checkpoint_root + '/' + checkpoint_filename\n",
    "\n",
    "!mkdir -p $checkpoint_root\n",
    "\n",
    "model_checkpoint_callback = ModelCheckpoint(checkpoint_filepath, save_best_only=True, period=1, verbose=1)"
   ]
  },
  {
   "cell_type": "code",
   "execution_count": 26,
   "metadata": {},
   "outputs": [
    {
     "name": "stdout",
     "output_type": "stream",
     "text": [
      "Epoch 1/50\n",
      "760/760 [==============================] - 18s 23ms/step - loss: 0.2173 - binary_accuracy: 0.9119 - val_loss: 0.1825 - val_binary_accuracy: 0.9434\n",
      "\n",
      "Epoch 00001: val_loss improved from inf to 0.18249, saving model to /home/mhuang/slow_disk/model_checkpoints/planes_satellite/weights.01-0.182.hdf5\n",
      "Epoch 2/50\n",
      "760/760 [==============================] - 18s 23ms/step - loss: 0.1310 - binary_accuracy: 0.9512 - val_loss: 0.1226 - val_binary_accuracy: 0.9613\n",
      "\n",
      "Epoch 00002: val_loss improved from 0.18249 to 0.12256, saving model to /home/mhuang/slow_disk/model_checkpoints/planes_satellite/weights.02-0.123.hdf5\n",
      "Epoch 3/50\n",
      "760/760 [==============================] - 17s 23ms/step - loss: 0.1168 - binary_accuracy: 0.9568 - val_loss: 0.1471 - val_binary_accuracy: 0.9612\n",
      "\n",
      "Epoch 00003: val_loss did not improve\n",
      "Epoch 4/50\n",
      "760/760 [==============================] - 17s 23ms/step - loss: 0.1014 - binary_accuracy: 0.9639 - val_loss: 0.1138 - val_binary_accuracy: 0.9661\n",
      "\n",
      "Epoch 00004: val_loss improved from 0.12256 to 0.11379, saving model to /home/mhuang/slow_disk/model_checkpoints/planes_satellite/weights.04-0.114.hdf5\n",
      "Epoch 5/50\n",
      "760/760 [==============================] - 17s 23ms/step - loss: 0.0991 - binary_accuracy: 0.9663 - val_loss: 0.1276 - val_binary_accuracy: 0.9586\n",
      "\n",
      "Epoch 00005: val_loss did not improve\n",
      "Epoch 6/50\n",
      "760/760 [==============================] - 17s 23ms/step - loss: 0.0969 - binary_accuracy: 0.9683 - val_loss: 0.1843 - val_binary_accuracy: 0.9620\n",
      "\n",
      "Epoch 00006: val_loss did not improve\n",
      "Epoch 7/50\n",
      "760/760 [==============================] - 17s 23ms/step - loss: 0.0986 - binary_accuracy: 0.9686 - val_loss: 0.1266 - val_binary_accuracy: 0.9714\n",
      "\n",
      "Epoch 00007: val_loss did not improve\n",
      "Epoch 8/50\n",
      "760/760 [==============================] - 17s 23ms/step - loss: 0.0951 - binary_accuracy: 0.9692 - val_loss: 0.1504 - val_binary_accuracy: 0.9722\n",
      "\n",
      "Epoch 00008: val_loss did not improve\n",
      "Epoch 9/50\n",
      "760/760 [==============================] - 17s 23ms/step - loss: 0.0923 - binary_accuracy: 0.9704 - val_loss: 0.1328 - val_binary_accuracy: 0.9613\n",
      "\n",
      "Epoch 00009: val_loss did not improve\n",
      "Epoch 10/50\n",
      "760/760 [==============================] - 17s 23ms/step - loss: 0.0918 - binary_accuracy: 0.9724 - val_loss: 0.1301 - val_binary_accuracy: 0.9712\n",
      "\n",
      "Epoch 00010: val_loss did not improve\n",
      "Epoch 11/50\n",
      "760/760 [==============================] - 17s 23ms/step - loss: 0.0949 - binary_accuracy: 0.9717 - val_loss: 0.1312 - val_binary_accuracy: 0.9737\n",
      "\n",
      "Epoch 00011: val_loss did not improve\n",
      "Epoch 12/50\n",
      "760/760 [==============================] - 17s 23ms/step - loss: 0.0977 - binary_accuracy: 0.9709 - val_loss: 0.1120 - val_binary_accuracy: 0.9722\n",
      "\n",
      "Epoch 00012: val_loss improved from 0.11379 to 0.11202, saving model to /home/mhuang/slow_disk/model_checkpoints/planes_satellite/weights.12-0.112.hdf5\n",
      "Epoch 13/50\n",
      "760/760 [==============================] - 17s 23ms/step - loss: 0.1030 - binary_accuracy: 0.9712 - val_loss: 0.1624 - val_binary_accuracy: 0.9692\n",
      "\n",
      "Epoch 00013: val_loss did not improve\n",
      "Epoch 14/50\n",
      "760/760 [==============================] - 17s 23ms/step - loss: 0.1042 - binary_accuracy: 0.9699 - val_loss: 0.1925 - val_binary_accuracy: 0.9648\n",
      "\n",
      "Epoch 00014: val_loss did not improve\n",
      "Epoch 15/50\n",
      "760/760 [==============================] - 17s 23ms/step - loss: 0.0936 - binary_accuracy: 0.9704 - val_loss: 0.1634 - val_binary_accuracy: 0.9752\n",
      "\n",
      "Epoch 00015: val_loss did not improve\n",
      "Epoch 16/50\n",
      "760/760 [==============================] - 17s 23ms/step - loss: 0.1010 - binary_accuracy: 0.9713 - val_loss: 0.2017 - val_binary_accuracy: 0.9467\n",
      "\n",
      "Epoch 00016: val_loss did not improve\n",
      "Epoch 17/50\n",
      "760/760 [==============================] - 17s 23ms/step - loss: 0.1050 - binary_accuracy: 0.9692 - val_loss: 0.1419 - val_binary_accuracy: 0.9686\n",
      "\n",
      "Epoch 00017: val_loss did not improve\n",
      "Epoch 18/50\n",
      "760/760 [==============================] - 17s 23ms/step - loss: 0.1063 - binary_accuracy: 0.9699 - val_loss: 0.1617 - val_binary_accuracy: 0.9727\n",
      "\n",
      "Epoch 00018: val_loss did not improve\n",
      "Epoch 19/50\n",
      "760/760 [==============================] - 17s 23ms/step - loss: 0.1079 - binary_accuracy: 0.9686 - val_loss: 0.1617 - val_binary_accuracy: 0.9704\n",
      "\n",
      "Epoch 00019: val_loss did not improve\n",
      "Epoch 20/50\n",
      "760/760 [==============================] - 17s 23ms/step - loss: 0.1068 - binary_accuracy: 0.9693 - val_loss: 0.1610 - val_binary_accuracy: 0.9699\n",
      "\n",
      "Epoch 00020: val_loss did not improve\n",
      "Epoch 21/50\n",
      "760/760 [==============================] - 17s 23ms/step - loss: 0.1070 - binary_accuracy: 0.9700 - val_loss: 0.1657 - val_binary_accuracy: 0.9627\n",
      "\n",
      "Epoch 00021: val_loss did not improve\n",
      "Epoch 22/50\n",
      "760/760 [==============================] - 17s 23ms/step - loss: 0.1048 - binary_accuracy: 0.9701 - val_loss: 0.1330 - val_binary_accuracy: 0.9620\n",
      "\n",
      "Epoch 00022: val_loss did not improve\n",
      "Epoch 00022: early stopping\n"
     ]
    }
   ],
   "source": [
    "history = model.fit_generator(train_generator, \n",
    "                             epochs=EPOCHS,\n",
    "                             verbose=1,\n",
    "                             shuffle=True,\n",
    "                             validation_data=valid_generator,\n",
    "                             callbacks=[early_stopping_calllback, tensorboard_callback, model_checkpoint_callback]\n",
    "                             )"
   ]
  },
  {
   "cell_type": "markdown",
   "metadata": {},
   "source": [
    "## evaluate"
   ]
  },
  {
   "cell_type": "markdown",
   "metadata": {},
   "source": [
    "### current model and weights"
   ]
  },
  {
   "cell_type": "code",
   "execution_count": 27,
   "metadata": {},
   "outputs": [
    {
     "name": "stdout",
     "output_type": "stream",
     "text": [
      "Summary: Loss over the test dataset: 0.0772, Accuracy: 0.9819\n"
     ]
    }
   ],
   "source": [
    "evaluation = model.evaluate_generator(test_generator)\n",
    "print('Summary: Loss over the test dataset: %.4f, Accuracy: %.4f' % (evaluation[0], evaluation[1]))"
   ]
  },
  {
   "cell_type": "markdown",
   "metadata": {},
   "source": [
    "### evaluate using best saved model and weights"
   ]
  },
  {
   "cell_type": "code",
   "execution_count": 28,
   "metadata": {},
   "outputs": [
    {
     "name": "stdout",
     "output_type": "stream",
     "text": [
      "/home/mhuang/slow_disk/model_checkpoints/planes_satellite/weights.12-0.112.hdf5\n"
     ]
    }
   ],
   "source": [
    "list_of_models = glob.glob(checkpoint_root + '/*.hdf5')\n",
    "latest_model = max(list_of_models, key=path.getctime)\n",
    "print(latest_model)"
   ]
  },
  {
   "cell_type": "code",
   "execution_count": 29,
   "metadata": {},
   "outputs": [],
   "source": [
    "from keras.models import load_model\n",
    "\n",
    "best_model = load_model(latest_model)"
   ]
  },
  {
   "cell_type": "code",
   "execution_count": 30,
   "metadata": {},
   "outputs": [
    {
     "name": "stdout",
     "output_type": "stream",
     "text": [
      "Summary: Loss over the test dataset: 0.0676, Accuracy: 0.9825\n"
     ]
    }
   ],
   "source": [
    "evaluation = best_model.evaluate_generator(test_generator)\n",
    "print('Summary: Loss over the test dataset: %.4f, Accuracy: %.4f' % (evaluation[0], evaluation[1]))"
   ]
  },
  {
   "cell_type": "markdown",
   "metadata": {},
   "source": [
    "## predict"
   ]
  },
  {
   "cell_type": "markdown",
   "metadata": {},
   "source": [
    "### plot some predictions"
   ]
  },
  {
   "cell_type": "code",
   "execution_count": 242,
   "metadata": {},
   "outputs": [
    {
     "data": {
      "image/png": "[encoded data removed]",
      "text/plain": [
       "<matplotlib.figure.Figure at 0x7f643e6e8828>"
      ]
     },
     "metadata": {},
     "output_type": "display_data"
    }
   ],
   "source": [
    "# predict a batch\n",
    "\n",
    "(X_batch, y_batch) = next(test_generator)\n",
    "\n",
    "y_batch_true = [str(val) for val in y_batch.argmax(axis=1)]\n",
    "\n",
    "# make prediction\n",
    "predictions = best_model.predict(X_batch)\n",
    "\n",
    "y_batch_predict = [str(val) for val in predictions.argmax(axis=1)]\n",
    "\n",
    "labels_tuple = zip(y_batch_predict, y_batch_true)\n",
    "labels = ['/'.join(t) for t in labels_tuple]\n",
    "\n",
    "plots(X_batch, titles=labels, rows=4, main_title=\"Predictions\")\n",
    "\n",
    "\n"
   ]
  },
  {
   "cell_type": "markdown",
   "metadata": {},
   "source": [
    "### plot some mis-predictions"
   ]
  },
  {
   "cell_type": "code",
   "execution_count": 243,
   "metadata": {},
   "outputs": [
    {
     "name": "stdout",
     "output_type": "stream",
     "text": [
      "Found 1600 images belonging to 2 classes.\n"
     ]
    }
   ],
   "source": [
    "# define larger batch size for generator\n",
    "\n",
    "large_test_generator = test_datagen.flow_from_directory(\n",
    "    IMAGE_PATH + \"/test\",\n",
    "    target_size=IMAGE_SIZE,\n",
    "    color_mode=\"rgb\",\n",
    "    batch_size=2*BATCH_SIZE,\n",
    "    class_mode='categorical',\n",
    "    )"
   ]
  },
  {
   "cell_type": "code",
   "execution_count": 247,
   "metadata": {},
   "outputs": [
    {
     "data": {
      "image/png": "[encoded data removed]",
      "text/plain": [
       "<matplotlib.figure.Figure at 0x7f643e77f828>"
      ]
     },
     "metadata": {},
     "output_type": "display_data"
    }
   ],
   "source": [
    "# predict a larger batch\n",
    "\n",
    "(X_batch, y_batch) = next(large_test_generator)\n",
    "\n",
    "y_batch_true = [str(val) for val in y_batch.argmax(axis=1)]\n",
    "\n",
    "# make prediction\n",
    "predictions = best_model.predict(X_batch)\n",
    "\n",
    "y_batch_predict = [str(val) for val in predictions.argmax(axis=1)]\n",
    "\n",
    "labels_tuple = zip(y_batch_predict, y_batch_true)\n",
    "labels = ['/'.join(t) for t in labels_tuple]\n",
    "\n",
    "errors = np.array(y_batch.argmax(axis=1)) - np.array(predictions.argmax(axis=1))\n",
    "\n",
    "error_idx = np.nonzero(errors)[0]\n",
    "\n",
    "if len(error_idx) > 0:\n",
    "    X_batch_error = X_batch[error_idx]\n",
    "    labels_error = [labels[idx] for idx in error_idx]\n",
    "    \n",
    "    rows = 1 + (len(error_idx) // 8)\n",
    "    \n",
    "    plots(X_batch_error, titles=labels_error, rows=rows, main_title=\"Wrong Predictions\")"
   ]
  }
 ],
 "metadata": {
  "kernelspec": {
   "display_name": "Python [conda env:gpu_keras2_tf16_py36]",
   "language": "python",
   "name": "conda-env-gpu_keras2_tf16_py36-py"
  },
  "language_info": {
   "codemirror_mode": {
    "name": "ipython",
    "version": 3
   },
   "file_extension": ".py",
   "mimetype": "text/x-python",
   "name": "python",
   "nbconvert_exporter": "python",
   "pygments_lexer": "ipython3",
   "version": "3.6.4"
  }
 },
 "nbformat": 4,
 "nbformat_minor": 2
}
