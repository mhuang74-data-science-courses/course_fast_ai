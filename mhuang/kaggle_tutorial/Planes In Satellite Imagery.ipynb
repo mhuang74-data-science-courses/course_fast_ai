{
 "cells": [
  {
   "cell_type": "markdown",
   "metadata": {},
   "source": [
    "## boilerplate imports"
   ]
  },
  {
   "cell_type": "code",
   "execution_count": 1,
   "metadata": {},
   "outputs": [],
   "source": [
    "import pandas as pd\n",
    "import matplotlib.pyplot as plt\n",
    "import seaborn as sns\n",
    "import numpy as np\n",
    "from scipy.stats import norm\n",
    "from sklearn.preprocessing import StandardScaler\n",
    "from scipy import stats\n",
    "from scipy import misc\n",
    "import warnings\n",
    "warnings.filterwarnings('ignore')\n",
    "%matplotlib inline"
   ]
  },
  {
   "cell_type": "markdown",
   "metadata": {},
   "source": [
    "## Download data "
   ]
  },
  {
   "cell_type": "code",
   "execution_count": 2,
   "metadata": {},
   "outputs": [],
   "source": [
    "IMAGE_ROOT = \"/home/mhuang/data/planes_satellite\"\n",
    "IMAGE_PATH = IMAGE_ROOT + \"/images\"\n",
    "\n",
    "DATA_BUNDLE_FILENAME = \"planesnet_bundle.zip\"\n",
    "DATA_IMAGES_FILENAME = \"planesnet.zip\""
   ]
  },
  {
   "cell_type": "code",
   "execution_count": 3,
   "metadata": {},
   "outputs": [],
   "source": [
    "!rm -rf $IMAGE_ROOT"
   ]
  },
  {
   "cell_type": "code",
   "execution_count": 4,
   "metadata": {},
   "outputs": [],
   "source": [
    "!mkdir -p $IMAGE_ROOT"
   ]
  },
  {
   "cell_type": "code",
   "execution_count": 5,
   "metadata": {},
   "outputs": [
    {
     "name": "stdout",
     "output_type": "stream",
     "text": [
      "  % Total    % Received % Xferd  Average Speed   Time    Time     Time  Current\n",
      "                                 Dload  Upload   Total   Spent    Left  Speed\n",
      "100 72.5M  100 72.5M    0     0  66.9M      0  0:00:01  0:00:01 --:--:-- 66.9M\n"
     ]
    }
   ],
   "source": [
    "!curl \"https://storage.googleapis.com/kaggle-datasets/1197/14776/planesnet.zip?GoogleAccessId=web-data@kaggle-161607.iam.gserviceaccount.com&Expires=1525360358&Signature=jybY3hauu%2BOnpVI6Ysu2qBnEzDrUi17xgj7T4B%2Br3i9dAeyrWs3R2mozc9C5gXNfMRDLwCpxsVgK4O13rvChH%2BLfGzVQUgkOGADDQG0fr0g8qsoesOsrg7XrKZByF2AaDKXB7gCEWf4oRwaEHKQcEqQvRV1ci34y9VV2ryd9xAHCmbbrXkxIdYyZhiQe%2FUZxqaa0CmS%2FvstA5LtN7tDVCWE8NWUJbMhd8e0i0Zk9in8CyqIlH2jSyxAJI7IvUaELZgagIRAdbfsRkL13fyiQEeiOXHb2Ap34oQshqiyYq%2BJ%2FH3A549OHJRdzlX10bljf6kwOYPwpJQZW73Q%2BO9126Q%3D%3D\" > $IMAGE_ROOT/$DATA_BUNDLE_FILENAME"
   ]
  },
  {
   "cell_type": "code",
   "execution_count": 6,
   "metadata": {},
   "outputs": [
    {
     "name": "stdout",
     "output_type": "stream",
     "text": [
      "Archive:  /home/mhuang/data/planes_satellite/planesnet_bundle.zip\n",
      "  inflating: /home/mhuang/data/planes_satellite/planesnet.json  \n",
      "  inflating: /home/mhuang/data/planes_satellite/planesnet.zip  \n"
     ]
    }
   ],
   "source": [
    "!unzip -o $IMAGE_ROOT/$DATA_BUNDLE_FILENAME -d $IMAGE_ROOT"
   ]
  },
  {
   "cell_type": "code",
   "execution_count": 7,
   "metadata": {},
   "outputs": [
    {
     "name": "stdout",
     "output_type": "stream",
     "text": [
      "No errors detected in compressed data of /home/mhuang/data/planes_satellite/planesnet.zip.\r\n"
     ]
    }
   ],
   "source": [
    "!unzip -q -t $IMAGE_ROOT/$DATA_IMAGES_FILENAME"
   ]
  },
  {
   "cell_type": "code",
   "execution_count": 8,
   "metadata": {},
   "outputs": [],
   "source": [
    "!unzip -o -q -j $IMAGE_ROOT/$DATA_IMAGES_FILENAME -d $IMAGE_PATH"
   ]
  },
  {
   "cell_type": "code",
   "execution_count": 9,
   "metadata": {
    "scrolled": false
   },
   "outputs": [
    {
     "name": "stdout",
     "output_type": "stream",
     "text": [
      "total 128000\n",
      "-rw-rw-r-- 1 mhuang mhuang  906 Jan 21 19:37 1__20170729_175335_101d__-118.40592455007884_33.93955085537867.png\n",
      "-rw-rw-r-- 1 mhuang mhuang  764 Jan 21 19:37 1__20170729_175107_1036__-118.41833221627427_33.940172226013956.png\n",
      "-rw-rw-r-- 1 mhuang mhuang  804 Jan 21 19:37 1__20170728_180813_1039__-121.58701779603875_38.694769242571724.png\n",
      "-rw-rw-r-- 1 mhuang mhuang  789 Jan 21 19:37 1__20170728_175003_102a__-118.4037708318591_33.941100279947925.png\n",
      "-rw-rw-r-- 1 mhuang mhuang  863 Jan 21 19:37 1__20170728_175002_102a__-118.40332877746077_33.94671287238693.png\n",
      "-rw-rw-r-- 1 mhuang mhuang  914 Jan 21 19:37 1__20170727_175114_0f3f__-118.40323269335445_33.946344345012726.png\n",
      "-rw-rw-r-- 1 mhuang mhuang  929 Jan 21 19:37 1__20170727_175114_0f3f__-118.38581188623972_33.93494470621571.png\n",
      "-rw-rw-r-- 1 mhuang mhuang  709 Jan 21 19:37 1__20170726_180807_1022__-122.38824470631792_37.61969954191162.png\n",
      "-rw-rw-r-- 1 mhuang mhuang  841 Jan 21 19:37 1__20170726_174854_0f10__-117.8611940333088_33.68107837904123.png\n",
      "ls: write error: Broken pipe\n"
     ]
    }
   ],
   "source": [
    "!ls -ltr $IMAGE_PATH | head"
   ]
  },
  {
   "cell_type": "markdown",
   "metadata": {},
   "source": [
    "## split images into train and validate using using sklearn"
   ]
  },
  {
   "cell_type": "code",
   "execution_count": 10,
   "metadata": {},
   "outputs": [],
   "source": [
    "import shutil\n",
    "import glob\n",
    "import os.path as path\n",
    "from sklearn.cross_validation import train_test_split\n",
    "\n"
   ]
  },
  {
   "cell_type": "code",
   "execution_count": 11,
   "metadata": {},
   "outputs": [],
   "source": [
    "!rm -rf $IMAGE_PATH/train $IMAGE_PATH/valid $IMAGE_PATH/test"
   ]
  },
  {
   "cell_type": "markdown",
   "metadata": {},
   "source": [
    "### split negative images first"
   ]
  },
  {
   "cell_type": "code",
   "execution_count": 12,
   "metadata": {},
   "outputs": [],
   "source": [
    "# reserve some files for testing\n",
    "TEST_RATIO = 0.05"
   ]
  },
  {
   "cell_type": "code",
   "execution_count": 13,
   "metadata": {
    "scrolled": true
   },
   "outputs": [],
   "source": [
    "!mkdir -p $IMAGE_PATH/train/0 $IMAGE_PATH/test/0\n",
    "\n",
    "# load negave images which always start with \"0_\"\n",
    "\n",
    "X_neg = y_neg = glob.glob(path.join(IMAGE_PATH, '0_*.png'))\n",
    "X_neg_train, X_neg_test, y_neg_train, y_neg_test = train_test_split(X_neg, y_neg, test_size=TEST_RATIO, random_state=None)\n",
    "\n",
    "# train\n",
    "\n",
    "for x in X_neg_train:\n",
    "    \n",
    "    try:\n",
    "        shutil.move(x, IMAGE_PATH + \"/train/0\")\n",
    "    except OSError as err: \n",
    "        print(\"Error '{}' when moving file {} to target dir {}\".format(err, x, target_dir))\n",
    "\n",
    "# test\n",
    "\n",
    "for x in X_neg_test:\n",
    "    \n",
    "    try:\n",
    "        shutil.move(x, IMAGE_PATH + \"/test/0\")\n",
    "    except OSError as err: \n",
    "        print(\"Error '{}' when moving file {} to target dir {}\".format(err, x, target_dir))\n",
    "        \n"
   ]
  },
  {
   "cell_type": "markdown",
   "metadata": {},
   "source": [
    "### then split positive images "
   ]
  },
  {
   "cell_type": "code",
   "execution_count": 14,
   "metadata": {},
   "outputs": [],
   "source": [
    "!mkdir -p $IMAGE_PATH/train/1 $IMAGE_PATH/test/1\n",
    "\n",
    "# load positive images which always start with \"1_\"\n",
    "\n",
    "X_pos = y_pos = glob.glob(path.join(IMAGE_PATH, '1_*.png'))\n",
    "X_pos_train, X_pos_test, y_pos_train, y_pos_test = train_test_split(X_pos, y_pos, test_size=TEST_RATIO, random_state=None)\n",
    "\n",
    "# train\n",
    "\n",
    "for x in X_pos_train:\n",
    "    \n",
    "    try:\n",
    "        shutil.move(x, IMAGE_PATH + \"/train/1\")\n",
    "    except OSError as err: \n",
    "        print(\"Error '{}' when moving file {} to target dir {}\".format(err, x, target_dir))\n",
    "\n",
    "# test\n",
    "\n",
    "for x in X_pos_test:\n",
    "    \n",
    "    try:\n",
    "        shutil.move(x, IMAGE_PATH + \"/test/1\")\n",
    "    except OSError as err: \n",
    "        print(\"Error '{}' when moving file {} to target dir {}\".format(err, x, target_dir))"
   ]
  },
  {
   "cell_type": "markdown",
   "metadata": {},
   "source": [
    "## create CNN model"
   ]
  },
  {
   "cell_type": "code",
   "execution_count": 15,
   "metadata": {},
   "outputs": [
    {
     "name": "stderr",
     "output_type": "stream",
     "text": [
      "Using TensorFlow backend.\n"
     ]
    }
   ],
   "source": [
    "# imports\n",
    "\n",
    "from keras.models import Sequential\n",
    "from keras.layers import Dense, Flatten, Conv2D, MaxPooling2D, Activation, Dropout, InputLayer, BatchNormalization\n",
    "from keras.optimizers import RMSprop, Adam\n",
    "from keras.utils import np_utils\n",
    "from keras import initializers\n",
    "from keras import backend as K\n",
    "from keras.callbacks import TensorBoard"
   ]
  },
  {
   "cell_type": "markdown",
   "metadata": {},
   "source": [
    "### model params"
   ]
  },
  {
   "cell_type": "code",
   "execution_count": 16,
   "metadata": {},
   "outputs": [],
   "source": [
    "pool_size = (2, 2)                    # size of poolin area for max pooling\n",
    "prob_drop_conv = 0.25                  # drop probability for dropout @ conv layer\n",
    "prob_drop_hidden = 0.5                # drop probability for dropout @ fc layer\n",
    "image_shape=(20,20,3)"
   ]
  },
  {
   "cell_type": "code",
   "execution_count": 31,
   "metadata": {
    "scrolled": true
   },
   "outputs": [
    {
     "name": "stdout",
     "output_type": "stream",
     "text": [
      "_________________________________________________________________\n",
      "Layer (type)                 Output Shape              Param #   \n",
      "=================================================================\n",
      "input_4 (InputLayer)         (None, 20, 20, 3)         0         \n",
      "_________________________________________________________________\n",
      "batch_normalization_4 (Batch (None, 20, 20, 3)         12        \n",
      "_________________________________________________________________\n",
      "conv2d_10 (Conv2D)           (None, 18, 18, 20)        560       \n",
      "_________________________________________________________________\n",
      "activation_16 (Activation)   (None, 18, 18, 20)        0         \n",
      "_________________________________________________________________\n",
      "max_pooling2d_5 (MaxPooling2 (None, 9, 9, 20)          0         \n",
      "_________________________________________________________________\n",
      "dropout_13 (Dropout)         (None, 9, 9, 20)          0         \n",
      "_________________________________________________________________\n",
      "conv2d_11 (Conv2D)           (None, 7, 7, 40)          7240      \n",
      "_________________________________________________________________\n",
      "activation_17 (Activation)   (None, 7, 7, 40)          0         \n",
      "_________________________________________________________________\n",
      "dropout_14 (Dropout)         (None, 7, 7, 40)          0         \n",
      "_________________________________________________________________\n",
      "conv2d_12 (Conv2D)           (None, 5, 5, 60)          21660     \n",
      "_________________________________________________________________\n",
      "activation_18 (Activation)   (None, 5, 5, 60)          0         \n",
      "_________________________________________________________________\n",
      "max_pooling2d_6 (MaxPooling2 (None, 3, 3, 60)          0         \n",
      "_________________________________________________________________\n",
      "flatten_4 (Flatten)          (None, 540)               0         \n",
      "_________________________________________________________________\n",
      "dropout_15 (Dropout)         (None, 540)               0         \n",
      "_________________________________________________________________\n",
      "dense_7 (Dense)              (None, 60)                32460     \n",
      "_________________________________________________________________\n",
      "activation_19 (Activation)   (None, 60)                0         \n",
      "_________________________________________________________________\n",
      "dropout_16 (Dropout)         (None, 60)                0         \n",
      "_________________________________________________________________\n",
      "dense_8 (Dense)              (None, 2)                 122       \n",
      "_________________________________________________________________\n",
      "activation_20 (Activation)   (None, 2)                 0         \n",
      "=================================================================\n",
      "Total params: 62,054\n",
      "Trainable params: 62,048\n",
      "Non-trainable params: 6\n",
      "_________________________________________________________________\n"
     ]
    }
   ],
   "source": [
    "model = Sequential()\n",
    "\n",
    "# input layer\n",
    "model.add(InputLayer(input_shape=image_shape))\n",
    "\n",
    "# batch normalization\n",
    "model.add(BatchNormalization())\n",
    "\n",
    "# conv1 layer\n",
    "model.add(Conv2D(20, (3,3), padding='valid', kernel_initializer='random_normal'))\n",
    "model.add(Activation('relu'))\n",
    "model.add(MaxPooling2D(pool_size=pool_size, strides=(2, 2), padding='same'))\n",
    "model.add(Dropout(prob_drop_conv))\n",
    "\n",
    "# conv2 layer\n",
    "model.add(Conv2D(40, (3,3), padding='valid', kernel_initializer='random_normal'))\n",
    "model.add(Activation('relu'))\n",
    "# model.add(MaxPooling2D(pool_size=pool_size, strides=(2, 2), padding='same'))\n",
    "model.add(Dropout(prob_drop_conv))\n",
    "\n",
    "# conv3 layer\n",
    "model.add(Conv2D(60, (3,3), padding='valid', kernel_initializer='random_normal'))\n",
    "model.add(Activation('relu'))\n",
    "\n",
    "# max pooling and flatten\n",
    "model.add(MaxPooling2D(pool_size=pool_size, strides=(2, 2), padding='same'))\n",
    "model.add(Flatten())\n",
    "model.add(Dropout(prob_drop_conv))\n",
    "\n",
    "# fc1 layer\n",
    "# what \"units\" values work best here ??\n",
    "model.add(Dense(units=60, kernel_initializer='random_normal'))\n",
    "model.add(Activation('relu'))\n",
    "model.add(Dropout(prob_drop_hidden))\n",
    "\n",
    "# fc2 layer\n",
    "model.add(Dense(units=2, kernel_initializer='random_normal'))\n",
    "model.add(Activation('softmax'))\n",
    "\n",
    "rms = RMSprop(lr=0.001, rho=0.9)\n",
    "adam = Adam(lr=0.001)\n",
    "          \n",
    "model.compile(optimizer=adam, loss='binary_crossentropy', metrics=['binary_accuracy'])\n",
    "model.summary()"
   ]
  },
  {
   "cell_type": "markdown",
   "metadata": {},
   "source": [
    "##  set up data generators using Keras Image Generator"
   ]
  },
  {
   "cell_type": "markdown",
   "metadata": {},
   "source": [
    "### training parameters"
   ]
  },
  {
   "cell_type": "code",
   "execution_count": 18,
   "metadata": {},
   "outputs": [],
   "source": [
    "BATCH_SIZE=32\n",
    "VALIDATION_SPLIT=0.20\n",
    "EPOCHS=50"
   ]
  },
  {
   "cell_type": "markdown",
   "metadata": {},
   "source": [
    "### training and validation data generator"
   ]
  },
  {
   "cell_type": "code",
   "execution_count": 19,
   "metadata": {},
   "outputs": [
    {
     "name": "stdout",
     "output_type": "stream",
     "text": [
      "Found 24320 images belonging to 2 classes.\n",
      "Found 6080 images belonging to 2 classes.\n"
     ]
    }
   ],
   "source": [
    "from keras.preprocessing import image\n",
    "\n",
    "IMAGE_SIZE=(20,20)\n",
    "\n",
    "train_datagen = image.ImageDataGenerator(\n",
    "    rescale=1./255,\n",
    "    validation_split=VALIDATION_SPLIT,\n",
    "    rotation_range=0.0,\n",
    "    width_shift_range=0.0,\n",
    "    height_shift_range=0.0,\n",
    "    shear_range=0.0,\n",
    "    zoom_range=0.0,\n",
    "    horizontal_flip=False,\n",
    "    vertical_flip=False,\n",
    "    fill_mode='nearest',    \n",
    "    )\n",
    "\n",
    "train_generator = train_datagen.flow_from_directory(\n",
    "    IMAGE_PATH + \"/train\",\n",
    "    target_size=IMAGE_SIZE,\n",
    "    color_mode=\"rgb\",\n",
    "    batch_size=BATCH_SIZE,\n",
    "    class_mode='categorical',\n",
    "    subset='training'\n",
    "    )\n",
    "\n",
    "valid_generator = train_datagen.flow_from_directory(\n",
    "    IMAGE_PATH + \"/train\",\n",
    "    target_size=IMAGE_SIZE,\n",
    "    color_mode=\"rgb\",\n",
    "    batch_size=BATCH_SIZE,\n",
    "    class_mode='categorical',\n",
    "    subset='validation'\n",
    "    )\n"
   ]
  },
  {
   "cell_type": "markdown",
   "metadata": {},
   "source": [
    "### evaluation data generator"
   ]
  },
  {
   "cell_type": "code",
   "execution_count": 20,
   "metadata": {},
   "outputs": [
    {
     "name": "stdout",
     "output_type": "stream",
     "text": [
      "Found 1600 images belonging to 2 classes.\n"
     ]
    }
   ],
   "source": [
    "test_datagen = image.ImageDataGenerator(\n",
    "    rescale=1./255,\n",
    "    )\n",
    "\n",
    "test_generator = test_datagen.flow_from_directory(\n",
    "    IMAGE_PATH + \"/test\",\n",
    "    target_size=IMAGE_SIZE,\n",
    "    color_mode=\"rgb\",\n",
    "    batch_size=BATCH_SIZE,\n",
    "    class_mode='categorical',\n",
    "    )\n",
    "\n"
   ]
  },
  {
   "cell_type": "markdown",
   "metadata": {},
   "source": [
    "## plot a few images"
   ]
  },
  {
   "cell_type": "code",
   "execution_count": 21,
   "metadata": {},
   "outputs": [],
   "source": [
    "def plots(ims, figsize=(12,8), dpi=96, rows=1, interp=False, titles=None, main_title=\"Diagram\"):\n",
    "    f = plt.figure(figsize=figsize, dpi=dpi)\n",
    "    plt.title(main_title)\n",
    "    plt.axis('off')\n",
    "    for i in range(len(ims)):\n",
    "        sp = f.add_subplot(rows, len(ims)//rows, i+1)\n",
    "        if titles is not None:\n",
    "            sp.set_title(titles[i], fontsize=10)\n",
    "        plt.imshow(ims[i], interpolation=None if interp else 'none', cmap='gray')\n",
    "        plt.axis('off')"
   ]
  },
  {
   "cell_type": "code",
   "execution_count": 22,
   "metadata": {},
   "outputs": [
    {
     "name": "stdout",
     "output_type": "stream",
     "text": [
      "0 (32, 20, 20, 3)\n"
     ]
    },
    {
     "data": {
      "image/png": "[encoded data removed]",
      "text/plain": [
       "<matplotlib.figure.Figure at 0x7f36c2f4c5c0>"
      ]
     },
     "metadata": {},
     "output_type": "display_data"
    }
   ],
   "source": [
    "batches=0\n",
    "\n",
    "for x_batch, y_batch in train_generator:\n",
    "    print(batches, x_batch.shape)\n",
    "    label_id = y_batch.argmax(axis=1)\n",
    "    \n",
    "    #num_to_dump = 2\n",
    "    #print(batches, x_batch[:num_to_dump,:,:,:])\n",
    "    #print(batches, label_id[:num_to_dump])\n",
    "\n",
    "    plots(x_batch, titles=label_id, rows=4, main_title=\"Labeled Training Data\")\n",
    "    batches += 1\n",
    "    if batches >= 1:\n",
    "        break"
   ]
  },
  {
   "cell_type": "markdown",
   "metadata": {},
   "source": [
    "## train model"
   ]
  },
  {
   "cell_type": "markdown",
   "metadata": {},
   "source": [
    "### early stop callback"
   ]
  },
  {
   "cell_type": "code",
   "execution_count": 23,
   "metadata": {},
   "outputs": [],
   "source": [
    "from keras.callbacks import EarlyStopping\n",
    "\n",
    "PATIENCE = 10\n",
    "\n",
    "early_stopping_calllback = EarlyStopping(monitor='val_loss', min_delta=0, patience=PATIENCE, verbose=1, mode='auto')"
   ]
  },
  {
   "cell_type": "markdown",
   "metadata": {},
   "source": [
    "### tensorboard callback"
   ]
  },
  {
   "cell_type": "code",
   "execution_count": 24,
   "metadata": {},
   "outputs": [
    {
     "name": "stdout",
     "output_type": "stream",
     "text": [
      "tensorboard log path: /home/mhuang/tensorboard_logs/tutorial/planes_satellite/20180502-135312\n"
     ]
    }
   ],
   "source": [
    "from keras.callbacks import TensorBoard\n",
    "import time\n",
    "\n",
    "timestamp = time.strftime(\"%Y%m%d-%H%M%S\")\n",
    "log_dir = '/home/mhuang/tensorboard_logs/tutorial/planes_satellite/' + timestamp\n",
    "print(\"tensorboard log path: {}\".format(log_dir))\n",
    "\n",
    "tensorboard_callback = TensorBoard(log_dir=log_dir, histogram_freq=0, write_graph=True, write_grads=True, batch_size=2*BATCH_SIZE, write_images=True)"
   ]
  },
  {
   "cell_type": "markdown",
   "metadata": {},
   "source": [
    "### model checkpoint callback"
   ]
  },
  {
   "cell_type": "code",
   "execution_count": 25,
   "metadata": {},
   "outputs": [],
   "source": [
    "from keras.callbacks import ModelCheckpoint\n",
    "\n",
    "checkpoint_root = '/home/mhuang/model_checkpoints/planes_satellite'\n",
    "checkpoint_filename = 'weights.{epoch:02d}-{val_loss:.4f}.hdf5'\n",
    "checkpoint_filepath = checkpoint_root + '/' + checkpoint_filename\n",
    "\n",
    "!mkdir -p $checkpoint_root\n",
    "\n",
    "model_checkpoint_callback = ModelCheckpoint(checkpoint_filepath, save_best_only=True, period=1, verbose=1)"
   ]
  },
  {
   "cell_type": "markdown",
   "metadata": {},
   "source": [
    "### << TRAINING MODEL >> "
   ]
  },
  {
   "cell_type": "code",
   "execution_count": 32,
   "metadata": {},
   "outputs": [
    {
     "name": "stdout",
     "output_type": "stream",
     "text": [
      "Epoch 1/50\n",
      "760/760 [==============================] - 11s 14ms/step - loss: 0.2530 - binary_accuracy: 0.8929 - val_loss: 0.1903 - val_binary_accuracy: 0.9270\n",
      "\n",
      "Epoch 00001: val_loss did not improve\n",
      "Epoch 2/50\n",
      "760/760 [==============================] - 10s 14ms/step - loss: 0.1523 - binary_accuracy: 0.9418 - val_loss: 0.1557 - val_binary_accuracy: 0.9503\n",
      "\n",
      "Epoch 00002: val_loss did not improve\n",
      "Epoch 3/50\n",
      "760/760 [==============================] - 11s 14ms/step - loss: 0.1186 - binary_accuracy: 0.9547 - val_loss: 0.1333 - val_binary_accuracy: 0.9525\n",
      "\n",
      "Epoch 00003: val_loss did not improve\n",
      "Epoch 4/50\n",
      "760/760 [==============================] - 11s 14ms/step - loss: 0.1031 - binary_accuracy: 0.9609 - val_loss: 0.0993 - val_binary_accuracy: 0.9709\n",
      "\n",
      "Epoch 00004: val_loss did not improve\n",
      "Epoch 5/50\n",
      "760/760 [==============================] - 11s 15ms/step - loss: 0.0900 - binary_accuracy: 0.9666 - val_loss: 0.0820 - val_binary_accuracy: 0.9707\n",
      "\n",
      "Epoch 00005: val_loss did not improve\n",
      "Epoch 6/50\n",
      "760/760 [==============================] - 11s 14ms/step - loss: 0.0842 - binary_accuracy: 0.9697 - val_loss: 0.0855 - val_binary_accuracy: 0.9724\n",
      "\n",
      "Epoch 00006: val_loss did not improve\n",
      "Epoch 7/50\n",
      "760/760 [==============================] - 11s 14ms/step - loss: 0.0752 - binary_accuracy: 0.9738 - val_loss: 0.1025 - val_binary_accuracy: 0.9648\n",
      "\n",
      "Epoch 00007: val_loss did not improve\n",
      "Epoch 8/50\n",
      "760/760 [==============================] - 11s 14ms/step - loss: 0.0761 - binary_accuracy: 0.9724 - val_loss: 0.0895 - val_binary_accuracy: 0.9688\n",
      "\n",
      "Epoch 00008: val_loss did not improve\n",
      "Epoch 9/50\n",
      "760/760 [==============================] - 11s 14ms/step - loss: 0.0725 - binary_accuracy: 0.9745 - val_loss: 0.0988 - val_binary_accuracy: 0.9638\n",
      "\n",
      "Epoch 00009: val_loss did not improve\n",
      "Epoch 10/50\n",
      "760/760 [==============================] - 11s 14ms/step - loss: 0.0643 - binary_accuracy: 0.9774 - val_loss: 0.0940 - val_binary_accuracy: 0.9711\n",
      "\n",
      "Epoch 00010: val_loss did not improve\n",
      "Epoch 11/50\n",
      "760/760 [==============================] - 11s 14ms/step - loss: 0.0653 - binary_accuracy: 0.9771 - val_loss: 0.0838 - val_binary_accuracy: 0.9738\n",
      "\n",
      "Epoch 00011: val_loss did not improve\n",
      "Epoch 12/50\n",
      "760/760 [==============================] - 10s 14ms/step - loss: 0.0625 - binary_accuracy: 0.9772 - val_loss: 0.0934 - val_binary_accuracy: 0.9673\n",
      "\n",
      "Epoch 00012: val_loss did not improve\n",
      "Epoch 13/50\n",
      "760/760 [==============================] - 11s 14ms/step - loss: 0.0589 - binary_accuracy: 0.9791 - val_loss: 0.0951 - val_binary_accuracy: 0.9668\n",
      "\n",
      "Epoch 00013: val_loss did not improve\n",
      "Epoch 14/50\n",
      "760/760 [==============================] - 10s 14ms/step - loss: 0.0583 - binary_accuracy: 0.9789 - val_loss: 0.0683 - val_binary_accuracy: 0.9796\n",
      "\n",
      "Epoch 00014: val_loss improved from 0.06979 to 0.06830, saving model to /home/mhuang/model_checkpoints/planes_satellite/weights.14-0.0683.hdf5\n",
      "Epoch 15/50\n",
      "760/760 [==============================] - 11s 14ms/step - loss: 0.0565 - binary_accuracy: 0.9816 - val_loss: 0.0916 - val_binary_accuracy: 0.9664\n",
      "\n",
      "Epoch 00015: val_loss did not improve\n",
      "Epoch 16/50\n",
      "760/760 [==============================] - 11s 14ms/step - loss: 0.0560 - binary_accuracy: 0.9810 - val_loss: 0.0880 - val_binary_accuracy: 0.9717\n",
      "\n",
      "Epoch 00016: val_loss did not improve\n",
      "Epoch 17/50\n",
      "760/760 [==============================] - 11s 14ms/step - loss: 0.0534 - binary_accuracy: 0.9825 - val_loss: 0.0680 - val_binary_accuracy: 0.9780\n",
      "\n",
      "Epoch 00017: val_loss improved from 0.06830 to 0.06801, saving model to /home/mhuang/model_checkpoints/planes_satellite/weights.17-0.0680.hdf5\n",
      "Epoch 18/50\n",
      "760/760 [==============================] - 11s 14ms/step - loss: 0.0521 - binary_accuracy: 0.9827 - val_loss: 0.0825 - val_binary_accuracy: 0.9770\n",
      "\n",
      "Epoch 00018: val_loss did not improve\n",
      "Epoch 19/50\n",
      "760/760 [==============================] - 11s 14ms/step - loss: 0.0483 - binary_accuracy: 0.9837 - val_loss: 0.0757 - val_binary_accuracy: 0.9768\n",
      "\n",
      "Epoch 00019: val_loss did not improve\n",
      "Epoch 20/50\n",
      "760/760 [==============================] - 11s 14ms/step - loss: 0.0462 - binary_accuracy: 0.9836 - val_loss: 0.0816 - val_binary_accuracy: 0.9773\n",
      "\n",
      "Epoch 00020: val_loss did not improve\n",
      "Epoch 21/50\n",
      "760/760 [==============================] - 11s 14ms/step - loss: 0.0461 - binary_accuracy: 0.9840 - val_loss: 0.0797 - val_binary_accuracy: 0.9785\n",
      "\n",
      "Epoch 00021: val_loss did not improve\n",
      "Epoch 22/50\n",
      "760/760 [==============================] - 11s 14ms/step - loss: 0.0455 - binary_accuracy: 0.9841 - val_loss: 0.0667 - val_binary_accuracy: 0.9806\n",
      "\n",
      "Epoch 00022: val_loss improved from 0.06801 to 0.06674, saving model to /home/mhuang/model_checkpoints/planes_satellite/weights.22-0.0667.hdf5\n",
      "Epoch 23/50\n",
      "760/760 [==============================] - 11s 14ms/step - loss: 0.0482 - binary_accuracy: 0.9835 - val_loss: 0.0718 - val_binary_accuracy: 0.9776\n",
      "\n",
      "Epoch 00023: val_loss did not improve\n",
      "Epoch 24/50\n",
      "760/760 [==============================] - 10s 14ms/step - loss: 0.0408 - binary_accuracy: 0.9859 - val_loss: 0.0686 - val_binary_accuracy: 0.9814\n",
      "\n",
      "Epoch 00024: val_loss did not improve\n",
      "Epoch 25/50\n",
      "760/760 [==============================] - 11s 14ms/step - loss: 0.0461 - binary_accuracy: 0.9838 - val_loss: 0.0743 - val_binary_accuracy: 0.9793\n",
      "\n",
      "Epoch 00025: val_loss did not improve\n",
      "Epoch 26/50\n",
      "760/760 [==============================] - 10s 14ms/step - loss: 0.0434 - binary_accuracy: 0.9854 - val_loss: 0.0909 - val_binary_accuracy: 0.9773\n",
      "\n",
      "Epoch 00026: val_loss did not improve\n",
      "Epoch 27/50\n",
      "760/760 [==============================] - 11s 14ms/step - loss: 0.0395 - binary_accuracy: 0.9873 - val_loss: 0.0751 - val_binary_accuracy: 0.9765\n",
      "\n",
      "Epoch 00027: val_loss did not improve\n",
      "Epoch 28/50\n",
      "760/760 [==============================] - 11s 14ms/step - loss: 0.0416 - binary_accuracy: 0.9860 - val_loss: 0.0786 - val_binary_accuracy: 0.9742\n",
      "\n",
      "Epoch 00028: val_loss did not improve\n",
      "Epoch 29/50\n",
      "760/760 [==============================] - 11s 14ms/step - loss: 0.0408 - binary_accuracy: 0.9851 - val_loss: 0.0813 - val_binary_accuracy: 0.9763\n",
      "\n",
      "Epoch 00029: val_loss did not improve\n",
      "Epoch 30/50\n",
      "760/760 [==============================] - 11s 14ms/step - loss: 0.0417 - binary_accuracy: 0.9856 - val_loss: 0.0961 - val_binary_accuracy: 0.9674\n",
      "\n",
      "Epoch 00030: val_loss did not improve\n",
      "Epoch 31/50\n",
      "760/760 [==============================] - 11s 14ms/step - loss: 0.0420 - binary_accuracy: 0.9865 - val_loss: 0.0776 - val_binary_accuracy: 0.9748\n",
      "\n",
      "Epoch 00031: val_loss did not improve\n",
      "Epoch 32/50\n",
      "760/760 [==============================] - 11s 14ms/step - loss: 0.0389 - binary_accuracy: 0.9865 - val_loss: 0.0643 - val_binary_accuracy: 0.9799\n",
      "\n",
      "Epoch 00032: val_loss improved from 0.06674 to 0.06426, saving model to /home/mhuang/model_checkpoints/planes_satellite/weights.32-0.0643.hdf5\n",
      "Epoch 33/50\n",
      "760/760 [==============================] - 11s 14ms/step - loss: 0.0392 - binary_accuracy: 0.9859 - val_loss: 0.0701 - val_binary_accuracy: 0.9808\n",
      "\n",
      "Epoch 00033: val_loss did not improve\n",
      "Epoch 34/50\n",
      "760/760 [==============================] - 11s 14ms/step - loss: 0.0391 - binary_accuracy: 0.9867 - val_loss: 0.0797 - val_binary_accuracy: 0.9747\n",
      "\n",
      "Epoch 00034: val_loss did not improve\n",
      "Epoch 35/50\n",
      "760/760 [==============================] - 11s 14ms/step - loss: 0.0372 - binary_accuracy: 0.9871 - val_loss: 0.0770 - val_binary_accuracy: 0.9732\n",
      "\n",
      "Epoch 00035: val_loss did not improve\n",
      "Epoch 36/50\n",
      "760/760 [==============================] - 11s 14ms/step - loss: 0.0392 - binary_accuracy: 0.9872 - val_loss: 0.0701 - val_binary_accuracy: 0.9811\n",
      "\n",
      "Epoch 00036: val_loss did not improve\n",
      "Epoch 37/50\n",
      "760/760 [==============================] - 11s 14ms/step - loss: 0.0375 - binary_accuracy: 0.9870 - val_loss: 0.0792 - val_binary_accuracy: 0.9768\n",
      "\n",
      "Epoch 00037: val_loss did not improve\n",
      "Epoch 38/50\n",
      "760/760 [==============================] - 10s 14ms/step - loss: 0.0336 - binary_accuracy: 0.9881 - val_loss: 0.0698 - val_binary_accuracy: 0.9786\n",
      "\n",
      "Epoch 00038: val_loss did not improve\n",
      "Epoch 39/50\n",
      "760/760 [==============================] - 11s 14ms/step - loss: 0.0342 - binary_accuracy: 0.9880 - val_loss: 0.0668 - val_binary_accuracy: 0.9789\n",
      "\n",
      "Epoch 00039: val_loss did not improve\n",
      "Epoch 40/50\n"
     ]
    },
    {
     "name": "stdout",
     "output_type": "stream",
     "text": [
      "760/760 [==============================] - 11s 14ms/step - loss: 0.0347 - binary_accuracy: 0.9870 - val_loss: 0.0823 - val_binary_accuracy: 0.9806\n",
      "\n",
      "Epoch 00040: val_loss did not improve\n",
      "Epoch 41/50\n",
      "760/760 [==============================] - 11s 14ms/step - loss: 0.0336 - binary_accuracy: 0.9886 - val_loss: 0.0942 - val_binary_accuracy: 0.9794\n",
      "\n",
      "Epoch 00041: val_loss did not improve\n",
      "Epoch 42/50\n",
      "760/760 [==============================] - 11s 14ms/step - loss: 0.0346 - binary_accuracy: 0.9885 - val_loss: 0.0807 - val_binary_accuracy: 0.9794\n",
      "\n",
      "Epoch 00042: val_loss did not improve\n",
      "Epoch 00042: early stopping\n"
     ]
    }
   ],
   "source": [
    "history = model.fit_generator(train_generator, \n",
    "                             epochs=EPOCHS,\n",
    "                             verbose=1,\n",
    "                             shuffle=True,\n",
    "                             validation_data=valid_generator,\n",
    "                             callbacks=[early_stopping_calllback, tensorboard_callback, model_checkpoint_callback]\n",
    "                             )"
   ]
  },
  {
   "cell_type": "markdown",
   "metadata": {},
   "source": [
    "## evaluate"
   ]
  },
  {
   "cell_type": "markdown",
   "metadata": {},
   "source": [
    "### current model and weights"
   ]
  },
  {
   "cell_type": "code",
   "execution_count": 37,
   "metadata": {},
   "outputs": [
    {
     "name": "stdout",
     "output_type": "stream",
     "text": [
      "Summary: Loss over the test dataset: 0.0319, Accuracy: 0.9875\n"
     ]
    }
   ],
   "source": [
    "evaluation = model.evaluate_generator(test_generator)\n",
    "print('Summary: Loss over the test dataset: %.4f, Accuracy: %.4f' % (evaluation[0], evaluation[1]))"
   ]
  },
  {
   "cell_type": "markdown",
   "metadata": {},
   "source": [
    "### evaluate using best saved model and weights"
   ]
  },
  {
   "cell_type": "code",
   "execution_count": 34,
   "metadata": {},
   "outputs": [
    {
     "name": "stdout",
     "output_type": "stream",
     "text": [
      "/home/mhuang/model_checkpoints/planes_satellite/weights.32-0.0643.hdf5\n"
     ]
    }
   ],
   "source": [
    "list_of_models = glob.glob(checkpoint_root + '/*.hdf5')\n",
    "latest_model = max(list_of_models, key=path.getctime)\n",
    "print(latest_model)"
   ]
  },
  {
   "cell_type": "code",
   "execution_count": 35,
   "metadata": {},
   "outputs": [],
   "source": [
    "from keras.models import load_model\n",
    "\n",
    "best_model = load_model(latest_model)"
   ]
  },
  {
   "cell_type": "code",
   "execution_count": 38,
   "metadata": {},
   "outputs": [
    {
     "name": "stdout",
     "output_type": "stream",
     "text": [
      "Summary: Loss over the test dataset: 0.0433, Accuracy: 0.9838\n"
     ]
    }
   ],
   "source": [
    "evaluation = best_model.evaluate_generator(test_generator)\n",
    "print('Summary: Loss over the test dataset: %.4f, Accuracy: %.4f' % (evaluation[0], evaluation[1]))"
   ]
  },
  {
   "cell_type": "markdown",
   "metadata": {},
   "source": [
    "### using best model, continue training using smaller learning rate"
   ]
  },
  {
   "cell_type": "code",
   "execution_count": null,
   "metadata": {},
   "outputs": [],
   "source": [
    "        \n",
    "best_model.compile(optimizer=Adam(lr=0.0001), loss='binary_crossentropy', metrics=['binary_accuracy'])"
   ]
  },
  {
   "cell_type": "code",
   "execution_count": null,
   "metadata": {},
   "outputs": [],
   "source": [
    "history = best_model.fit_generator(train_generator, \n",
    "                             epochs=EPOCHS,\n",
    "                             verbose=1,\n",
    "                             shuffle=True,\n",
    "                             validation_data=valid_generator,\n",
    "                             callbacks=[early_stopping_calllback, tensorboard_callback, model_checkpoint_callback]\n",
    "                             )"
   ]
  },
  {
   "cell_type": "markdown",
   "metadata": {},
   "source": [
    "## predict"
   ]
  },
  {
   "cell_type": "markdown",
   "metadata": {},
   "source": [
    "### plot some predictions"
   ]
  },
  {
   "cell_type": "code",
   "execution_count": 39,
   "metadata": {},
   "outputs": [
    {
     "data": {
      "image/png": "[encoded data removed]",
      "text/plain": [
       "<matplotlib.figure.Figure at 0x7f363b872c88>"
      ]
     },
     "metadata": {},
     "output_type": "display_data"
    }
   ],
   "source": [
    "# predict a batch\n",
    "\n",
    "(X_batch, y_batch) = next(test_generator)\n",
    "\n",
    "y_batch_true = [str(val) for val in y_batch.argmax(axis=1)]\n",
    "\n",
    "# make prediction\n",
    "predictions = best_model.predict(X_batch)\n",
    "\n",
    "y_batch_predict = [str(val) for val in predictions.argmax(axis=1)]\n",
    "\n",
    "labels_tuple = zip(y_batch_predict, y_batch_true)\n",
    "labels = ['/'.join(t) for t in labels_tuple]\n",
    "\n",
    "plots(X_batch, titles=labels, rows=4, main_title=\"Predictions\")\n",
    "\n",
    "\n"
   ]
  },
  {
   "cell_type": "markdown",
   "metadata": {},
   "source": [
    "### plot some mis-predictions"
   ]
  },
  {
   "cell_type": "code",
   "execution_count": 40,
   "metadata": {},
   "outputs": [
    {
     "name": "stdout",
     "output_type": "stream",
     "text": [
      "Found 1600 images belonging to 2 classes.\n"
     ]
    }
   ],
   "source": [
    "# define larger batch size for generator\n",
    "\n",
    "large_test_generator = test_datagen.flow_from_directory(\n",
    "    IMAGE_PATH + \"/test\",\n",
    "    target_size=IMAGE_SIZE,\n",
    "    color_mode=\"rgb\",\n",
    "    batch_size=2*BATCH_SIZE,\n",
    "    class_mode='categorical',\n",
    "    )"
   ]
  },
  {
   "cell_type": "code",
   "execution_count": 55,
   "metadata": {},
   "outputs": [
    {
     "data": {
      "image/png": "[encoded data removed]",
      "text/plain": [
       "<matplotlib.figure.Figure at 0x7f363b449a20>"
      ]
     },
     "metadata": {},
     "output_type": "display_data"
    }
   ],
   "source": [
    "# predict a larger batch\n",
    "\n",
    "(X_batch, y_batch) = next(large_test_generator)\n",
    "\n",
    "y_batch_true = [str(val) for val in y_batch.argmax(axis=1)]\n",
    "\n",
    "# make prediction\n",
    "predictions = best_model.predict(X_batch)\n",
    "\n",
    "y_batch_predict = [str(val) for val in predictions.argmax(axis=1)]\n",
    "\n",
    "labels_tuple = zip(y_batch_predict, y_batch_true)\n",
    "labels = ['/'.join(t) for t in labels_tuple]\n",
    "\n",
    "errors = np.array(y_batch.argmax(axis=1)) - np.array(predictions.argmax(axis=1))\n",
    "\n",
    "error_idx = np.nonzero(errors)[0]\n",
    "\n",
    "if len(error_idx) > 0:\n",
    "    X_batch_error = X_batch[error_idx]\n",
    "    labels_error = [labels[idx] for idx in error_idx]\n",
    "    \n",
    "    rows = 1 + (len(error_idx) // 8)\n",
    "    \n",
    "    plots(X_batch_error, titles=labels_error, rows=rows, main_title=\"Wrong Predictions\")"
   ]
  }
 ],
 "metadata": {
  "kernelspec": {
   "display_name": "Python [conda env:gpu_keras2_tf16_py36]",
   "language": "python",
   "name": "conda-env-gpu_keras2_tf16_py36-py"
  },
  "language_info": {
   "codemirror_mode": {
    "name": "ipython",
    "version": 3
   },
   "file_extension": ".py",
   "mimetype": "text/x-python",
   "name": "python",
   "nbconvert_exporter": "python",
   "pygments_lexer": "ipython3",
   "version": "3.6.4"
  }
 },
 "nbformat": 4,
 "nbformat_minor": 2
}
