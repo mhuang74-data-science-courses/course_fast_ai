{
 "cells": [
  {
   "cell_type": "markdown",
   "metadata": {},
   "source": [
    "## boilerplate imports"
   ]
  },
  {
   "cell_type": "code",
   "execution_count": 1,
   "metadata": {},
   "outputs": [],
   "source": [
    "import pandas as pd\n",
    "import matplotlib.pyplot as plt\n",
    "import seaborn as sns\n",
    "import numpy as np\n",
    "from scipy.stats import norm\n",
    "from sklearn.preprocessing import StandardScaler\n",
    "from scipy import stats\n",
    "from scipy import misc\n",
    "import warnings\n",
    "warnings.filterwarnings('ignore')\n",
    "%matplotlib inline"
   ]
  },
  {
   "cell_type": "markdown",
   "metadata": {},
   "source": [
    "## Download data "
   ]
  },
  {
   "cell_type": "code",
   "execution_count": 2,
   "metadata": {},
   "outputs": [],
   "source": [
    "IMAGE_ROOT = \"/home/mhuang/data/planes_satellite\"\n",
    "IMAGE_PATH = IMAGE_ROOT + \"/images\"\n",
    "\n",
    "DATA_BUNDLE_FILENAME = \"planesnet_bundle.zip\"\n",
    "DATA_IMAGES_FILENAME = \"planesnet.zip\""
   ]
  },
  {
   "cell_type": "code",
   "execution_count": 3,
   "metadata": {},
   "outputs": [],
   "source": [
    "!rm -rf $IMAGE_ROOT"
   ]
  },
  {
   "cell_type": "code",
   "execution_count": 4,
   "metadata": {},
   "outputs": [],
   "source": [
    "!mkdir -p $IMAGE_ROOT"
   ]
  },
  {
   "cell_type": "code",
   "execution_count": 5,
   "metadata": {},
   "outputs": [
    {
     "name": "stdout",
     "output_type": "stream",
     "text": [
      "  % Total    % Received % Xferd  Average Speed   Time    Time     Time  Current\n",
      "                                 Dload  Upload   Total   Spent    Left  Speed\n",
      "100 72.5M  100 72.5M    0     0  71.6M      0  0:00:01  0:00:01 --:--:-- 71.6M\n"
     ]
    }
   ],
   "source": [
    "!curl \"https://storage.googleapis.com/kaggle-datasets/1197/14776/planesnet.zip?GoogleAccessId=web-data@kaggle-161607.iam.gserviceaccount.com&Expires=1525360358&Signature=jybY3hauu%2BOnpVI6Ysu2qBnEzDrUi17xgj7T4B%2Br3i9dAeyrWs3R2mozc9C5gXNfMRDLwCpxsVgK4O13rvChH%2BLfGzVQUgkOGADDQG0fr0g8qsoesOsrg7XrKZByF2AaDKXB7gCEWf4oRwaEHKQcEqQvRV1ci34y9VV2ryd9xAHCmbbrXkxIdYyZhiQe%2FUZxqaa0CmS%2FvstA5LtN7tDVCWE8NWUJbMhd8e0i0Zk9in8CyqIlH2jSyxAJI7IvUaELZgagIRAdbfsRkL13fyiQEeiOXHb2Ap34oQshqiyYq%2BJ%2FH3A549OHJRdzlX10bljf6kwOYPwpJQZW73Q%2BO9126Q%3D%3D\" > $IMAGE_ROOT/$DATA_BUNDLE_FILENAME"
   ]
  },
  {
   "cell_type": "code",
   "execution_count": 6,
   "metadata": {},
   "outputs": [
    {
     "name": "stdout",
     "output_type": "stream",
     "text": [
      "Archive:  /home/mhuang/data/planes_satellite/planesnet_bundle.zip\n",
      "  inflating: /home/mhuang/data/planes_satellite/planesnet.json  \n",
      "  inflating: /home/mhuang/data/planes_satellite/planesnet.zip  \n"
     ]
    }
   ],
   "source": [
    "!unzip -o $IMAGE_ROOT/$DATA_BUNDLE_FILENAME -d $IMAGE_ROOT"
   ]
  },
  {
   "cell_type": "code",
   "execution_count": 7,
   "metadata": {},
   "outputs": [
    {
     "name": "stdout",
     "output_type": "stream",
     "text": [
      "No errors detected in compressed data of /home/mhuang/data/planes_satellite/planesnet.zip.\r\n"
     ]
    }
   ],
   "source": [
    "!unzip -q -t $IMAGE_ROOT/$DATA_IMAGES_FILENAME"
   ]
  },
  {
   "cell_type": "code",
   "execution_count": 8,
   "metadata": {},
   "outputs": [],
   "source": [
    "!unzip -o -q -j $IMAGE_ROOT/$DATA_IMAGES_FILENAME -d $IMAGE_PATH"
   ]
  },
  {
   "cell_type": "code",
   "execution_count": 9,
   "metadata": {
    "scrolled": false
   },
   "outputs": [
    {
     "name": "stdout",
     "output_type": "stream",
     "text": [
      "total 128000\n",
      "-rw-rw-r-- 1 mhuang mhuang  906 Jan 21 19:37 1__20170729_175335_101d__-118.40592455007884_33.93955085537867.png\n",
      "-rw-rw-r-- 1 mhuang mhuang  764 Jan 21 19:37 1__20170729_175107_1036__-118.41833221627427_33.940172226013956.png\n",
      "-rw-rw-r-- 1 mhuang mhuang  804 Jan 21 19:37 1__20170728_180813_1039__-121.58701779603875_38.694769242571724.png\n",
      "-rw-rw-r-- 1 mhuang mhuang  789 Jan 21 19:37 1__20170728_175003_102a__-118.4037708318591_33.941100279947925.png\n",
      "-rw-rw-r-- 1 mhuang mhuang  863 Jan 21 19:37 1__20170728_175002_102a__-118.40332877746077_33.94671287238693.png\n",
      "-rw-rw-r-- 1 mhuang mhuang  914 Jan 21 19:37 1__20170727_175114_0f3f__-118.40323269335445_33.946344345012726.png\n",
      "-rw-rw-r-- 1 mhuang mhuang  929 Jan 21 19:37 1__20170727_175114_0f3f__-118.38581188623972_33.93494470621571.png\n",
      "-rw-rw-r-- 1 mhuang mhuang  709 Jan 21 19:37 1__20170726_180807_1022__-122.38824470631792_37.61969954191162.png\n",
      "-rw-rw-r-- 1 mhuang mhuang  841 Jan 21 19:37 1__20170726_174854_0f10__-117.8611940333088_33.68107837904123.png\n",
      "ls: write error: Broken pipe\n"
     ]
    }
   ],
   "source": [
    "!ls -ltr $IMAGE_PATH | head"
   ]
  },
  {
   "cell_type": "markdown",
   "metadata": {},
   "source": [
    "## split images into train and validate using using sklearn"
   ]
  },
  {
   "cell_type": "code",
   "execution_count": 10,
   "metadata": {},
   "outputs": [],
   "source": [
    "import shutil\n",
    "import glob\n",
    "import os.path as path\n",
    "from sklearn.cross_validation import train_test_split\n",
    "\n"
   ]
  },
  {
   "cell_type": "code",
   "execution_count": 11,
   "metadata": {},
   "outputs": [],
   "source": [
    "!rm -rf $IMAGE_PATH/train $IMAGE_PATH/valid $IMAGE_PATH/test"
   ]
  },
  {
   "cell_type": "markdown",
   "metadata": {},
   "source": [
    "### split negative images first"
   ]
  },
  {
   "cell_type": "code",
   "execution_count": 12,
   "metadata": {},
   "outputs": [],
   "source": [
    "# reserve some files for testing\n",
    "TEST_RATIO = 0.05"
   ]
  },
  {
   "cell_type": "code",
   "execution_count": 13,
   "metadata": {
    "scrolled": true
   },
   "outputs": [],
   "source": [
    "!mkdir -p $IMAGE_PATH/train/0 $IMAGE_PATH/test/0\n",
    "\n",
    "# load negave images which always start with \"0_\"\n",
    "\n",
    "X_neg = y_neg = glob.glob(path.join(IMAGE_PATH, '0_*.png'))\n",
    "X_neg_train, X_neg_test, y_neg_train, y_neg_test = train_test_split(X_neg, y_neg, test_size=TEST_RATIO, random_state=None)\n",
    "\n",
    "# train\n",
    "\n",
    "for x in X_neg_train:\n",
    "    \n",
    "    try:\n",
    "        shutil.move(x, IMAGE_PATH + \"/train/0\")\n",
    "    except OSError as err: \n",
    "        print(\"Error '{}' when moving file {} to target dir {}\".format(err, x, target_dir))\n",
    "\n",
    "# test\n",
    "\n",
    "for x in X_neg_test:\n",
    "    \n",
    "    try:\n",
    "        shutil.move(x, IMAGE_PATH + \"/test/0\")\n",
    "    except OSError as err: \n",
    "        print(\"Error '{}' when moving file {} to target dir {}\".format(err, x, target_dir))\n",
    "        \n"
   ]
  },
  {
   "cell_type": "markdown",
   "metadata": {},
   "source": [
    "### then split positive images "
   ]
  },
  {
   "cell_type": "code",
   "execution_count": 14,
   "metadata": {},
   "outputs": [],
   "source": [
    "!mkdir -p $IMAGE_PATH/train/1 $IMAGE_PATH/test/1\n",
    "\n",
    "# load positive images which always start with \"1_\"\n",
    "\n",
    "X_pos = y_pos = glob.glob(path.join(IMAGE_PATH, '1_*.png'))\n",
    "X_pos_train, X_pos_test, y_pos_train, y_pos_test = train_test_split(X_pos, y_pos, test_size=TEST_RATIO, random_state=None)\n",
    "\n",
    "# train\n",
    "\n",
    "for x in X_pos_train:\n",
    "    \n",
    "    try:\n",
    "        shutil.move(x, IMAGE_PATH + \"/train/1\")\n",
    "    except OSError as err: \n",
    "        print(\"Error '{}' when moving file {} to target dir {}\".format(err, x, target_dir))\n",
    "\n",
    "# test\n",
    "\n",
    "for x in X_pos_test:\n",
    "    \n",
    "    try:\n",
    "        shutil.move(x, IMAGE_PATH + \"/test/1\")\n",
    "    except OSError as err: \n",
    "        print(\"Error '{}' when moving file {} to target dir {}\".format(err, x, target_dir))"
   ]
  },
  {
   "cell_type": "markdown",
   "metadata": {},
   "source": [
    "## create CNN model"
   ]
  },
  {
   "cell_type": "code",
   "execution_count": 15,
   "metadata": {},
   "outputs": [
    {
     "name": "stderr",
     "output_type": "stream",
     "text": [
      "Using TensorFlow backend.\n"
     ]
    }
   ],
   "source": [
    "# imports\n",
    "\n",
    "from keras.models import Sequential\n",
    "from keras.layers import Dense, Flatten, Conv2D, MaxPooling2D, Activation, Dropout, InputLayer, BatchNormalization\n",
    "from keras.optimizers import RMSprop, Adam\n",
    "from keras.utils import np_utils\n",
    "from keras import initializers\n",
    "from keras import backend as K\n",
    "from keras.callbacks import TensorBoard"
   ]
  },
  {
   "cell_type": "markdown",
   "metadata": {},
   "source": [
    "### model params"
   ]
  },
  {
   "cell_type": "code",
   "execution_count": 16,
   "metadata": {},
   "outputs": [],
   "source": [
    "pool_size = (2, 2)                    # size of poolin area for max pooling\n",
    "prob_drop_conv = 0.25                  # drop probability for dropout @ conv layer\n",
    "prob_drop_hidden = 0.5                # drop probability for dropout @ fc layer\n",
    "image_shape=(20,20,3)"
   ]
  },
  {
   "cell_type": "code",
   "execution_count": 17,
   "metadata": {
    "scrolled": true
   },
   "outputs": [
    {
     "name": "stdout",
     "output_type": "stream",
     "text": [
      "_________________________________________________________________\n",
      "Layer (type)                 Output Shape              Param #   \n",
      "=================================================================\n",
      "input_1 (InputLayer)         (None, 20, 20, 3)         0         \n",
      "_________________________________________________________________\n",
      "batch_normalization_1 (Batch (None, 20, 20, 3)         12        \n",
      "_________________________________________________________________\n",
      "conv2d_1 (Conv2D)            (None, 18, 18, 20)        560       \n",
      "_________________________________________________________________\n",
      "activation_1 (Activation)    (None, 18, 18, 20)        0         \n",
      "_________________________________________________________________\n",
      "max_pooling2d_1 (MaxPooling2 (None, 9, 9, 20)          0         \n",
      "_________________________________________________________________\n",
      "dropout_1 (Dropout)          (None, 9, 9, 20)          0         \n",
      "_________________________________________________________________\n",
      "conv2d_2 (Conv2D)            (None, 7, 7, 40)          7240      \n",
      "_________________________________________________________________\n",
      "activation_2 (Activation)    (None, 7, 7, 40)          0         \n",
      "_________________________________________________________________\n",
      "dropout_2 (Dropout)          (None, 7, 7, 40)          0         \n",
      "_________________________________________________________________\n",
      "conv2d_3 (Conv2D)            (None, 5, 5, 60)          21660     \n",
      "_________________________________________________________________\n",
      "activation_3 (Activation)    (None, 5, 5, 60)          0         \n",
      "_________________________________________________________________\n",
      "max_pooling2d_2 (MaxPooling2 (None, 3, 3, 60)          0         \n",
      "_________________________________________________________________\n",
      "flatten_1 (Flatten)          (None, 540)               0         \n",
      "_________________________________________________________________\n",
      "dropout_3 (Dropout)          (None, 540)               0         \n",
      "_________________________________________________________________\n",
      "dense_1 (Dense)              (None, 60)                32460     \n",
      "_________________________________________________________________\n",
      "activation_4 (Activation)    (None, 60)                0         \n",
      "_________________________________________________________________\n",
      "dropout_4 (Dropout)          (None, 60)                0         \n",
      "_________________________________________________________________\n",
      "dense_2 (Dense)              (None, 2)                 122       \n",
      "_________________________________________________________________\n",
      "activation_5 (Activation)    (None, 2)                 0         \n",
      "=================================================================\n",
      "Total params: 62,054\n",
      "Trainable params: 62,048\n",
      "Non-trainable params: 6\n",
      "_________________________________________________________________\n"
     ]
    }
   ],
   "source": [
    "model = Sequential()\n",
    "\n",
    "# input layer\n",
    "model.add(InputLayer(input_shape=image_shape))\n",
    "\n",
    "# batch normalization\n",
    "model.add(BatchNormalization())\n",
    "\n",
    "# conv1 layer\n",
    "model.add(Conv2D(20, (3,3), padding='valid', kernel_initializer='random_normal'))\n",
    "model.add(Activation('relu'))\n",
    "model.add(MaxPooling2D(pool_size=pool_size, strides=(2, 2), padding='same'))\n",
    "model.add(Dropout(prob_drop_conv))\n",
    "\n",
    "# conv2 layer\n",
    "model.add(Conv2D(40, (3,3), padding='valid', kernel_initializer='random_normal'))\n",
    "model.add(Activation('relu'))\n",
    "# model.add(MaxPooling2D(pool_size=pool_size, strides=(2, 2), padding='same'))\n",
    "model.add(Dropout(prob_drop_conv))\n",
    "\n",
    "# conv3 layer\n",
    "model.add(Conv2D(60, (3,3), padding='valid', kernel_initializer='random_normal'))\n",
    "model.add(Activation('relu'))\n",
    "\n",
    "# max pooling and flatten\n",
    "model.add(MaxPooling2D(pool_size=pool_size, strides=(2, 2), padding='same'))\n",
    "model.add(Flatten())\n",
    "model.add(Dropout(prob_drop_conv))\n",
    "\n",
    "# fc1 layer\n",
    "# what \"units\" values work best here ??\n",
    "model.add(Dense(units=60, kernel_initializer='random_normal'))\n",
    "model.add(Activation('relu'))\n",
    "model.add(Dropout(prob_drop_hidden))\n",
    "\n",
    "# fc2 layer\n",
    "model.add(Dense(units=2, kernel_initializer='random_normal'))\n",
    "model.add(Activation('sigmoid'))\n",
    "\n",
    "rms = RMSprop(lr=0.001, rho=0.9)\n",
    "adam = Adam(lr=0.001)\n",
    "          \n",
    "model.compile(optimizer=adam, loss='binary_crossentropy', metrics=['binary_accuracy'])\n",
    "model.summary()"
   ]
  },
  {
   "cell_type": "markdown",
   "metadata": {},
   "source": [
    "##  set up data generators using Keras Image Generator"
   ]
  },
  {
   "cell_type": "markdown",
   "metadata": {},
   "source": [
    "### training parameters"
   ]
  },
  {
   "cell_type": "code",
   "execution_count": 18,
   "metadata": {},
   "outputs": [],
   "source": [
    "BATCH_SIZE=32\n",
    "VALIDATION_SPLIT=0.20\n",
    "EPOCHS=100"
   ]
  },
  {
   "cell_type": "markdown",
   "metadata": {},
   "source": [
    "### training and validation data generator"
   ]
  },
  {
   "cell_type": "code",
   "execution_count": 19,
   "metadata": {},
   "outputs": [
    {
     "name": "stdout",
     "output_type": "stream",
     "text": [
      "Found 24320 images belonging to 2 classes.\n",
      "Found 6080 images belonging to 2 classes.\n"
     ]
    }
   ],
   "source": [
    "from keras.preprocessing import image\n",
    "\n",
    "IMAGE_SIZE=(20,20)\n",
    "\n",
    "train_datagen = image.ImageDataGenerator(\n",
    "    rescale=1./255,\n",
    "    validation_split=VALIDATION_SPLIT,\n",
    "    rotation_range=90.0,\n",
    "    width_shift_range=0.0,\n",
    "    height_shift_range=0.0,\n",
    "    shear_range=0.0,\n",
    "    zoom_range=0.0,\n",
    "    horizontal_flip=True,\n",
    "    vertical_flip=True,\n",
    "    fill_mode='nearest',    \n",
    "    )\n",
    "\n",
    "train_generator = train_datagen.flow_from_directory(\n",
    "    IMAGE_PATH + \"/train\",\n",
    "    target_size=IMAGE_SIZE,\n",
    "    color_mode=\"rgb\",\n",
    "    batch_size=BATCH_SIZE,\n",
    "    class_mode='categorical',\n",
    "    subset='training',\n",
    "#    save_to_dir='/home/mhuang/augmented_images',\n",
    "#    save_prefix='aug-'\n",
    "    )\n",
    "\n",
    "valid_generator = train_datagen.flow_from_directory(\n",
    "    IMAGE_PATH + \"/train\",\n",
    "    target_size=IMAGE_SIZE,\n",
    "    color_mode=\"rgb\",\n",
    "    batch_size=BATCH_SIZE,\n",
    "    class_mode='categorical',\n",
    "    subset='validation'\n",
    "    )\n"
   ]
  },
  {
   "cell_type": "markdown",
   "metadata": {},
   "source": [
    "### evaluation data generator"
   ]
  },
  {
   "cell_type": "code",
   "execution_count": 20,
   "metadata": {},
   "outputs": [
    {
     "name": "stdout",
     "output_type": "stream",
     "text": [
      "Found 1600 images belonging to 2 classes.\n"
     ]
    }
   ],
   "source": [
    "test_datagen = image.ImageDataGenerator(\n",
    "    rescale=1./255,\n",
    "    )\n",
    "\n",
    "test_generator = test_datagen.flow_from_directory(\n",
    "    IMAGE_PATH + \"/test\",\n",
    "    target_size=IMAGE_SIZE,\n",
    "    color_mode=\"rgb\",\n",
    "    batch_size=BATCH_SIZE,\n",
    "    class_mode='categorical',\n",
    "    )\n",
    "\n"
   ]
  },
  {
   "cell_type": "markdown",
   "metadata": {},
   "source": [
    "## plot a few images"
   ]
  },
  {
   "cell_type": "code",
   "execution_count": 21,
   "metadata": {},
   "outputs": [],
   "source": [
    "def plots(ims, figsize=(12,8), dpi=96, rows=1, interp=False, titles=None, main_title=\"Diagram\"):\n",
    "    f = plt.figure(figsize=figsize, dpi=dpi)\n",
    "    plt.title(main_title)\n",
    "    plt.axis('off')\n",
    "    for i in range(len(ims)):\n",
    "        sp = f.add_subplot(rows, len(ims)//rows, i+1)\n",
    "        if titles is not None:\n",
    "            sp.set_title(titles[i], fontsize=10)\n",
    "        plt.imshow(ims[i], interpolation=None if interp else 'none', cmap='gray')\n",
    "        plt.axis('off')"
   ]
  },
  {
   "cell_type": "code",
   "execution_count": 22,
   "metadata": {},
   "outputs": [
    {
     "name": "stdout",
     "output_type": "stream",
     "text": [
      "0 (32, 20, 20, 3)\n"
     ]
    },
    {
     "data": {
      "image/png": "[encoded data removed]",
      "text/plain": [
       "<matplotlib.figure.Figure at 0x7f12ecf8b588>"
      ]
     },
     "metadata": {},
     "output_type": "display_data"
    }
   ],
   "source": [
    "batches=0\n",
    "\n",
    "for x_batch, y_batch in train_generator:\n",
    "    print(batches, x_batch.shape)\n",
    "    label_id = y_batch.argmax(axis=1)\n",
    "    \n",
    "    #num_to_dump = 2\n",
    "    #print(batches, x_batch[:num_to_dump,:,:,:])\n",
    "    #print(batches, label_id[:num_to_dump])\n",
    "\n",
    "    plots(x_batch, titles=label_id, rows=4, main_title=\"Labeled Training Data\")\n",
    "    batches += 1\n",
    "    if batches >= 1:\n",
    "        break"
   ]
  },
  {
   "cell_type": "markdown",
   "metadata": {},
   "source": [
    "## train model"
   ]
  },
  {
   "cell_type": "markdown",
   "metadata": {},
   "source": [
    "### early stop callback"
   ]
  },
  {
   "cell_type": "code",
   "execution_count": 23,
   "metadata": {},
   "outputs": [],
   "source": [
    "from keras.callbacks import EarlyStopping\n",
    "\n",
    "PATIENCE = 20\n",
    "\n",
    "early_stopping_calllback = EarlyStopping(monitor='val_loss', min_delta=0, patience=PATIENCE, verbose=1, mode='auto')"
   ]
  },
  {
   "cell_type": "markdown",
   "metadata": {},
   "source": [
    "### tensorboard callback"
   ]
  },
  {
   "cell_type": "code",
   "execution_count": 24,
   "metadata": {},
   "outputs": [
    {
     "name": "stdout",
     "output_type": "stream",
     "text": [
      "tensorboard log path: /home/mhuang/tensorboard_logs/tutorial/planes_satellite/20180502-171213\n"
     ]
    }
   ],
   "source": [
    "from keras.callbacks import TensorBoard\n",
    "import time\n",
    "\n",
    "timestamp = time.strftime(\"%Y%m%d-%H%M%S\")\n",
    "log_dir = '/home/mhuang/tensorboard_logs/tutorial/planes_satellite/' + timestamp\n",
    "print(\"tensorboard log path: {}\".format(log_dir))\n",
    "\n",
    "tensorboard_callback = TensorBoard(log_dir=log_dir, histogram_freq=0, write_graph=True, write_grads=True, batch_size=2*BATCH_SIZE, write_images=True)"
   ]
  },
  {
   "cell_type": "markdown",
   "metadata": {},
   "source": [
    "### model checkpoint callback"
   ]
  },
  {
   "cell_type": "code",
   "execution_count": 25,
   "metadata": {},
   "outputs": [],
   "source": [
    "from keras.callbacks import ModelCheckpoint\n",
    "\n",
    "checkpoint_root = '/home/mhuang/model_checkpoints/planes_satellite'\n",
    "checkpoint_filename = 'weights.{epoch:02d}-{val_loss:.4f}.hdf5'\n",
    "checkpoint_filepath = checkpoint_root + '/' + checkpoint_filename\n",
    "\n",
    "!mkdir -p $checkpoint_root\n",
    "\n",
    "model_checkpoint_callback = ModelCheckpoint(checkpoint_filepath, save_best_only=True, period=1, verbose=1)"
   ]
  },
  {
   "cell_type": "markdown",
   "metadata": {},
   "source": [
    "### << TRAINING MODEL >> "
   ]
  },
  {
   "cell_type": "code",
   "execution_count": 26,
   "metadata": {},
   "outputs": [
    {
     "name": "stdout",
     "output_type": "stream",
     "text": [
      "Epoch 1/100\n",
      "760/760 [==============================] - 21s 27ms/step - loss: 0.3037 - binary_accuracy: 0.8649 - val_loss: 0.3336 - val_binary_accuracy: 0.8406\n",
      "\n",
      "Epoch 00001: val_loss improved from inf to 0.33355, saving model to /home/mhuang/model_checkpoints/planes_satellite/weights.01-0.3336.hdf5\n",
      "Epoch 2/100\n",
      "760/760 [==============================] - 20s 26ms/step - loss: 0.2265 - binary_accuracy: 0.9057 - val_loss: 0.2186 - val_binary_accuracy: 0.9197\n",
      "\n",
      "Epoch 00002: val_loss improved from 0.33355 to 0.21862, saving model to /home/mhuang/model_checkpoints/planes_satellite/weights.02-0.2186.hdf5\n",
      "Epoch 3/100\n",
      "760/760 [==============================] - 19s 25ms/step - loss: 0.1927 - binary_accuracy: 0.9224 - val_loss: 0.1830 - val_binary_accuracy: 0.9380\n",
      "\n",
      "Epoch 00003: val_loss improved from 0.21862 to 0.18297, saving model to /home/mhuang/model_checkpoints/planes_satellite/weights.03-0.1830.hdf5\n",
      "Epoch 4/100\n",
      "760/760 [==============================] - 20s 26ms/step - loss: 0.1691 - binary_accuracy: 0.9317 - val_loss: 0.1695 - val_binary_accuracy: 0.9444\n",
      "\n",
      "Epoch 00004: val_loss improved from 0.18297 to 0.16947, saving model to /home/mhuang/model_checkpoints/planes_satellite/weights.04-0.1695.hdf5\n",
      "Epoch 5/100\n",
      "760/760 [==============================] - 20s 26ms/step - loss: 0.1541 - binary_accuracy: 0.9397 - val_loss: 0.1812 - val_binary_accuracy: 0.9363\n",
      "\n",
      "Epoch 00005: val_loss did not improve\n",
      "Epoch 6/100\n",
      "760/760 [==============================] - 20s 26ms/step - loss: 0.1520 - binary_accuracy: 0.9416 - val_loss: 0.1503 - val_binary_accuracy: 0.9538\n",
      "\n",
      "Epoch 00006: val_loss improved from 0.16947 to 0.15033, saving model to /home/mhuang/model_checkpoints/planes_satellite/weights.06-0.1503.hdf5\n",
      "Epoch 7/100\n",
      "760/760 [==============================] - 19s 25ms/step - loss: 0.1425 - binary_accuracy: 0.9458 - val_loss: 0.1502 - val_binary_accuracy: 0.9472\n",
      "\n",
      "Epoch 00007: val_loss improved from 0.15033 to 0.15019, saving model to /home/mhuang/model_checkpoints/planes_satellite/weights.07-0.1502.hdf5\n",
      "Epoch 8/100\n",
      "760/760 [==============================] - 19s 25ms/step - loss: 0.1309 - binary_accuracy: 0.9491 - val_loss: 0.1204 - val_binary_accuracy: 0.9701\n",
      "\n",
      "Epoch 00008: val_loss improved from 0.15019 to 0.12039, saving model to /home/mhuang/model_checkpoints/planes_satellite/weights.08-0.1204.hdf5\n",
      "Epoch 9/100\n",
      "760/760 [==============================] - 20s 26ms/step - loss: 0.1274 - binary_accuracy: 0.9507 - val_loss: 0.1693 - val_binary_accuracy: 0.9242\n",
      "\n",
      "Epoch 00009: val_loss did not improve\n",
      "Epoch 10/100\n",
      "760/760 [==============================] - 20s 26ms/step - loss: 0.1254 - binary_accuracy: 0.9530 - val_loss: 0.1115 - val_binary_accuracy: 0.9668\n",
      "\n",
      "Epoch 00010: val_loss improved from 0.12039 to 0.11147, saving model to /home/mhuang/model_checkpoints/planes_satellite/weights.10-0.1115.hdf5\n",
      "Epoch 11/100\n",
      "760/760 [==============================] - 20s 26ms/step - loss: 0.1260 - binary_accuracy: 0.9517 - val_loss: 0.1497 - val_binary_accuracy: 0.9421\n",
      "\n",
      "Epoch 00011: val_loss did not improve\n",
      "Epoch 12/100\n",
      "760/760 [==============================] - 19s 26ms/step - loss: 0.1233 - binary_accuracy: 0.9527 - val_loss: 0.1027 - val_binary_accuracy: 0.9666\n",
      "\n",
      "Epoch 00012: val_loss improved from 0.11147 to 0.10268, saving model to /home/mhuang/model_checkpoints/planes_satellite/weights.12-0.1027.hdf5\n",
      "Epoch 13/100\n",
      "760/760 [==============================] - 20s 27ms/step - loss: 0.1181 - binary_accuracy: 0.9552 - val_loss: 0.0817 - val_binary_accuracy: 0.9745\n",
      "\n",
      "Epoch 00013: val_loss improved from 0.10268 to 0.08165, saving model to /home/mhuang/model_checkpoints/planes_satellite/weights.13-0.0817.hdf5\n",
      "Epoch 14/100\n",
      "760/760 [==============================] - 20s 26ms/step - loss: 0.1177 - binary_accuracy: 0.9564 - val_loss: 0.1050 - val_binary_accuracy: 0.9646\n",
      "\n",
      "Epoch 00014: val_loss did not improve\n",
      "Epoch 15/100\n",
      "760/760 [==============================] - 19s 25ms/step - loss: 0.1158 - binary_accuracy: 0.9546 - val_loss: 0.0831 - val_binary_accuracy: 0.9735\n",
      "\n",
      "Epoch 00015: val_loss did not improve\n",
      "Epoch 16/100\n",
      "760/760 [==============================] - 20s 26ms/step - loss: 0.1121 - binary_accuracy: 0.9565 - val_loss: 0.0915 - val_binary_accuracy: 0.9688\n",
      "\n",
      "Epoch 00016: val_loss did not improve\n",
      "Epoch 17/100\n",
      "760/760 [==============================] - 19s 25ms/step - loss: 0.1129 - binary_accuracy: 0.9570 - val_loss: 0.0914 - val_binary_accuracy: 0.9688\n",
      "\n",
      "Epoch 00017: val_loss did not improve\n",
      "Epoch 18/100\n",
      "760/760 [==============================] - 19s 25ms/step - loss: 0.1141 - binary_accuracy: 0.9576 - val_loss: 0.0764 - val_binary_accuracy: 0.9745\n",
      "\n",
      "Epoch 00018: val_loss improved from 0.08165 to 0.07640, saving model to /home/mhuang/model_checkpoints/planes_satellite/weights.18-0.0764.hdf5\n",
      "Epoch 19/100\n",
      "760/760 [==============================] - 20s 26ms/step - loss: 0.1115 - binary_accuracy: 0.9594 - val_loss: 0.0860 - val_binary_accuracy: 0.9722\n",
      "\n",
      "Epoch 00019: val_loss did not improve\n",
      "Epoch 20/100\n",
      "760/760 [==============================] - 20s 26ms/step - loss: 0.1110 - binary_accuracy: 0.9583 - val_loss: 0.0811 - val_binary_accuracy: 0.9734\n",
      "\n",
      "Epoch 00020: val_loss did not improve\n",
      "Epoch 21/100\n",
      "760/760 [==============================] - 19s 25ms/step - loss: 0.1046 - binary_accuracy: 0.9614 - val_loss: 0.0938 - val_binary_accuracy: 0.9641\n",
      "\n",
      "Epoch 00021: val_loss did not improve\n",
      "Epoch 22/100\n",
      "760/760 [==============================] - 19s 26ms/step - loss: 0.1056 - binary_accuracy: 0.9590 - val_loss: 0.1046 - val_binary_accuracy: 0.9649\n",
      "\n",
      "Epoch 00022: val_loss did not improve\n",
      "Epoch 23/100\n",
      "760/760 [==============================] - 19s 25ms/step - loss: 0.1096 - binary_accuracy: 0.9604 - val_loss: 0.1142 - val_binary_accuracy: 0.9584\n",
      "\n",
      "Epoch 00023: val_loss did not improve\n",
      "Epoch 24/100\n",
      "760/760 [==============================] - 20s 26ms/step - loss: 0.1077 - binary_accuracy: 0.9593 - val_loss: 0.0993 - val_binary_accuracy: 0.9661\n",
      "\n",
      "Epoch 00024: val_loss did not improve\n",
      "Epoch 25/100\n",
      "760/760 [==============================] - 19s 26ms/step - loss: 0.1040 - binary_accuracy: 0.9606 - val_loss: 0.0965 - val_binary_accuracy: 0.9707\n",
      "\n",
      "Epoch 00025: val_loss did not improve\n",
      "Epoch 26/100\n",
      "760/760 [==============================] - 19s 25ms/step - loss: 0.1015 - binary_accuracy: 0.9620 - val_loss: 0.0887 - val_binary_accuracy: 0.9704\n",
      "\n",
      "Epoch 00026: val_loss did not improve\n",
      "Epoch 27/100\n",
      "760/760 [==============================] - 19s 25ms/step - loss: 0.1038 - binary_accuracy: 0.9599 - val_loss: 0.0731 - val_binary_accuracy: 0.9779\n",
      "\n",
      "Epoch 00027: val_loss improved from 0.07640 to 0.07314, saving model to /home/mhuang/model_checkpoints/planes_satellite/weights.27-0.0731.hdf5\n",
      "Epoch 28/100\n",
      "760/760 [==============================] - 20s 26ms/step - loss: 0.0990 - binary_accuracy: 0.9638 - val_loss: 0.0790 - val_binary_accuracy: 0.9745\n",
      "\n",
      "Epoch 00028: val_loss did not improve\n",
      "Epoch 29/100\n",
      "760/760 [==============================] - 20s 26ms/step - loss: 0.1012 - binary_accuracy: 0.9615 - val_loss: 0.0795 - val_binary_accuracy: 0.9773\n",
      "\n",
      "Epoch 00029: val_loss did not improve\n",
      "Epoch 30/100\n",
      "760/760 [==============================] - 19s 25ms/step - loss: 0.0999 - binary_accuracy: 0.9626 - val_loss: 0.0792 - val_binary_accuracy: 0.9750\n",
      "\n",
      "Epoch 00030: val_loss did not improve\n",
      "Epoch 31/100\n",
      "760/760 [==============================] - 20s 26ms/step - loss: 0.1008 - binary_accuracy: 0.9640 - val_loss: 0.0733 - val_binary_accuracy: 0.9708\n",
      "\n",
      "Epoch 00031: val_loss did not improve\n",
      "Epoch 32/100\n",
      "760/760 [==============================] - 19s 25ms/step - loss: 0.1008 - binary_accuracy: 0.9627 - val_loss: 0.0909 - val_binary_accuracy: 0.9694\n",
      "\n",
      "Epoch 00032: val_loss did not improve\n",
      "Epoch 33/100\n",
      "760/760 [==============================] - 19s 25ms/step - loss: 0.1032 - binary_accuracy: 0.9622 - val_loss: 0.1011 - val_binary_accuracy: 0.9668\n",
      "\n",
      "Epoch 00033: val_loss did not improve\n",
      "Epoch 34/100\n",
      "760/760 [==============================] - 19s 25ms/step - loss: 0.0976 - binary_accuracy: 0.9642 - val_loss: 0.0918 - val_binary_accuracy: 0.9720\n",
      "\n",
      "Epoch 00034: val_loss did not improve\n",
      "Epoch 35/100\n",
      "760/760 [==============================] - 19s 25ms/step - loss: 0.0953 - binary_accuracy: 0.9640 - val_loss: 0.1037 - val_binary_accuracy: 0.9576\n",
      "\n",
      "Epoch 00035: val_loss did not improve\n",
      "Epoch 36/100\n"
     ]
    },
    {
     "name": "stdout",
     "output_type": "stream",
     "text": [
      "760/760 [==============================] - 19s 25ms/step - loss: 0.0965 - binary_accuracy: 0.9646 - val_loss: 0.0805 - val_binary_accuracy: 0.9752\n",
      "\n",
      "Epoch 00036: val_loss did not improve\n",
      "Epoch 37/100\n",
      "760/760 [==============================] - 19s 25ms/step - loss: 0.0959 - binary_accuracy: 0.9646 - val_loss: 0.0955 - val_binary_accuracy: 0.9679\n",
      "\n",
      "Epoch 00037: val_loss did not improve\n",
      "Epoch 38/100\n",
      "760/760 [==============================] - 19s 25ms/step - loss: 0.0956 - binary_accuracy: 0.9648 - val_loss: 0.0848 - val_binary_accuracy: 0.9682\n",
      "\n",
      "Epoch 00038: val_loss did not improve\n",
      "Epoch 39/100\n",
      "760/760 [==============================] - 19s 25ms/step - loss: 0.0971 - binary_accuracy: 0.9633 - val_loss: 0.0869 - val_binary_accuracy: 0.9666\n",
      "\n",
      "Epoch 00039: val_loss did not improve\n",
      "Epoch 40/100\n",
      "760/760 [==============================] - 20s 26ms/step - loss: 0.0978 - binary_accuracy: 0.9638 - val_loss: 0.0767 - val_binary_accuracy: 0.9730\n",
      "\n",
      "Epoch 00040: val_loss did not improve\n",
      "Epoch 41/100\n",
      "760/760 [==============================] - 19s 25ms/step - loss: 0.0941 - binary_accuracy: 0.9650 - val_loss: 0.1119 - val_binary_accuracy: 0.9577\n",
      "\n",
      "Epoch 00041: val_loss did not improve\n",
      "Epoch 42/100\n",
      "760/760 [==============================] - 19s 25ms/step - loss: 0.0949 - binary_accuracy: 0.9648 - val_loss: 0.0804 - val_binary_accuracy: 0.9719\n",
      "\n",
      "Epoch 00042: val_loss did not improve\n",
      "Epoch 43/100\n",
      "760/760 [==============================] - 19s 25ms/step - loss: 0.0937 - binary_accuracy: 0.9653 - val_loss: 0.0758 - val_binary_accuracy: 0.9748\n",
      "\n",
      "Epoch 00043: val_loss did not improve\n",
      "Epoch 44/100\n",
      "760/760 [==============================] - 19s 26ms/step - loss: 0.0944 - binary_accuracy: 0.9639 - val_loss: 0.0928 - val_binary_accuracy: 0.9625\n",
      "\n",
      "Epoch 00044: val_loss did not improve\n",
      "Epoch 45/100\n",
      "760/760 [==============================] - 20s 26ms/step - loss: 0.0929 - binary_accuracy: 0.9663 - val_loss: 0.0692 - val_binary_accuracy: 0.9762\n",
      "\n",
      "Epoch 00045: val_loss improved from 0.07314 to 0.06921, saving model to /home/mhuang/model_checkpoints/planes_satellite/weights.45-0.0692.hdf5\n",
      "Epoch 46/100\n",
      "760/760 [==============================] - 20s 26ms/step - loss: 0.0934 - binary_accuracy: 0.9650 - val_loss: 0.0891 - val_binary_accuracy: 0.9675\n",
      "\n",
      "Epoch 00046: val_loss did not improve\n",
      "Epoch 47/100\n",
      "760/760 [==============================] - 19s 25ms/step - loss: 0.0925 - binary_accuracy: 0.9651 - val_loss: 0.0796 - val_binary_accuracy: 0.9771\n",
      "\n",
      "Epoch 00047: val_loss did not improve\n",
      "Epoch 48/100\n",
      "760/760 [==============================] - 19s 25ms/step - loss: 0.0898 - binary_accuracy: 0.9658 - val_loss: 0.0673 - val_binary_accuracy: 0.9777\n",
      "\n",
      "Epoch 00048: val_loss improved from 0.06921 to 0.06730, saving model to /home/mhuang/model_checkpoints/planes_satellite/weights.48-0.0673.hdf5\n",
      "Epoch 49/100\n",
      "760/760 [==============================] - 20s 26ms/step - loss: 0.0933 - binary_accuracy: 0.9644 - val_loss: 0.0794 - val_binary_accuracy: 0.9750\n",
      "\n",
      "Epoch 00049: val_loss did not improve\n",
      "Epoch 50/100\n",
      "760/760 [==============================] - 19s 25ms/step - loss: 0.0949 - binary_accuracy: 0.9654 - val_loss: 0.0705 - val_binary_accuracy: 0.9789\n",
      "\n",
      "Epoch 00050: val_loss did not improve\n",
      "Epoch 51/100\n",
      "760/760 [==============================] - 19s 25ms/step - loss: 0.0925 - binary_accuracy: 0.9664 - val_loss: 0.0690 - val_binary_accuracy: 0.9765\n",
      "\n",
      "Epoch 00051: val_loss did not improve\n",
      "Epoch 52/100\n",
      "760/760 [==============================] - 19s 25ms/step - loss: 0.0899 - binary_accuracy: 0.9678 - val_loss: 0.0817 - val_binary_accuracy: 0.9747\n",
      "\n",
      "Epoch 00052: val_loss did not improve\n",
      "Epoch 53/100\n",
      "760/760 [==============================] - 19s 25ms/step - loss: 0.0903 - binary_accuracy: 0.9672 - val_loss: 0.0942 - val_binary_accuracy: 0.9655\n",
      "\n",
      "Epoch 00053: val_loss did not improve\n",
      "Epoch 54/100\n",
      "760/760 [==============================] - 20s 26ms/step - loss: 0.0930 - binary_accuracy: 0.9664 - val_loss: 0.0713 - val_binary_accuracy: 0.9757\n",
      "\n",
      "Epoch 00054: val_loss did not improve\n",
      "Epoch 55/100\n",
      "760/760 [==============================] - 19s 25ms/step - loss: 0.0908 - binary_accuracy: 0.9666 - val_loss: 0.0915 - val_binary_accuracy: 0.9680\n",
      "\n",
      "Epoch 00055: val_loss did not improve\n",
      "Epoch 56/100\n",
      "760/760 [==============================] - 19s 25ms/step - loss: 0.0939 - binary_accuracy: 0.9666 - val_loss: 0.0652 - val_binary_accuracy: 0.9793\n",
      "\n",
      "Epoch 00056: val_loss improved from 0.06730 to 0.06516, saving model to /home/mhuang/model_checkpoints/planes_satellite/weights.56-0.0652.hdf5\n",
      "Epoch 57/100\n",
      "760/760 [==============================] - 19s 25ms/step - loss: 0.0903 - binary_accuracy: 0.9669 - val_loss: 0.0867 - val_binary_accuracy: 0.9678\n",
      "\n",
      "Epoch 00057: val_loss did not improve\n",
      "Epoch 58/100\n",
      "760/760 [==============================] - 19s 25ms/step - loss: 0.0896 - binary_accuracy: 0.9663 - val_loss: 0.0747 - val_binary_accuracy: 0.9752\n",
      "\n",
      "Epoch 00058: val_loss did not improve\n",
      "Epoch 59/100\n",
      "760/760 [==============================] - 19s 25ms/step - loss: 0.0900 - binary_accuracy: 0.9672 - val_loss: 0.0789 - val_binary_accuracy: 0.9706\n",
      "\n",
      "Epoch 00059: val_loss did not improve\n",
      "Epoch 60/100\n",
      "760/760 [==============================] - 19s 25ms/step - loss: 0.0892 - binary_accuracy: 0.9677 - val_loss: 0.0550 - val_binary_accuracy: 0.9814\n",
      "\n",
      "Epoch 00060: val_loss improved from 0.06516 to 0.05501, saving model to /home/mhuang/model_checkpoints/planes_satellite/weights.60-0.0550.hdf5\n",
      "Epoch 61/100\n",
      "760/760 [==============================] - 19s 25ms/step - loss: 0.0883 - binary_accuracy: 0.9684 - val_loss: 0.0721 - val_binary_accuracy: 0.9761\n",
      "\n",
      "Epoch 00061: val_loss did not improve\n",
      "Epoch 62/100\n",
      "760/760 [==============================] - 20s 26ms/step - loss: 0.0874 - binary_accuracy: 0.9683 - val_loss: 0.0697 - val_binary_accuracy: 0.9783\n",
      "\n",
      "Epoch 00062: val_loss did not improve\n",
      "Epoch 63/100\n",
      "760/760 [==============================] - 19s 25ms/step - loss: 0.0863 - binary_accuracy: 0.9683 - val_loss: 0.0698 - val_binary_accuracy: 0.9760\n",
      "\n",
      "Epoch 00063: val_loss did not improve\n",
      "Epoch 64/100\n",
      "760/760 [==============================] - 19s 25ms/step - loss: 0.0933 - binary_accuracy: 0.9672 - val_loss: 0.0725 - val_binary_accuracy: 0.9730\n",
      "\n",
      "Epoch 00064: val_loss did not improve\n",
      "Epoch 65/100\n",
      "760/760 [==============================] - 20s 26ms/step - loss: 0.0912 - binary_accuracy: 0.9663 - val_loss: 0.0643 - val_binary_accuracy: 0.9798\n",
      "\n",
      "Epoch 00065: val_loss did not improve\n",
      "Epoch 66/100\n",
      "760/760 [==============================] - 19s 26ms/step - loss: 0.0893 - binary_accuracy: 0.9675 - val_loss: 0.0702 - val_binary_accuracy: 0.9770\n",
      "\n",
      "Epoch 00066: val_loss did not improve\n",
      "Epoch 67/100\n",
      "760/760 [==============================] - 19s 25ms/step - loss: 0.0881 - binary_accuracy: 0.9658 - val_loss: 0.0683 - val_binary_accuracy: 0.9765\n",
      "\n",
      "Epoch 00067: val_loss did not improve\n",
      "Epoch 68/100\n",
      "760/760 [==============================] - 19s 25ms/step - loss: 0.0900 - binary_accuracy: 0.9682 - val_loss: 0.0629 - val_binary_accuracy: 0.9794\n",
      "\n",
      "Epoch 00068: val_loss did not improve\n",
      "Epoch 69/100\n",
      "760/760 [==============================] - 19s 25ms/step - loss: 0.0880 - binary_accuracy: 0.9684 - val_loss: 0.0647 - val_binary_accuracy: 0.9771\n",
      "\n",
      "Epoch 00069: val_loss did not improve\n",
      "Epoch 70/100\n",
      "760/760 [==============================] - 19s 25ms/step - loss: 0.0872 - binary_accuracy: 0.9686 - val_loss: 0.0657 - val_binary_accuracy: 0.9775\n",
      "\n",
      "Epoch 00070: val_loss did not improve\n",
      "Epoch 71/100\n",
      "760/760 [==============================] - 20s 26ms/step - loss: 0.0878 - binary_accuracy: 0.9688 - val_loss: 0.0955 - val_binary_accuracy: 0.9590\n",
      "\n",
      "Epoch 00071: val_loss did not improve\n",
      "Epoch 72/100\n",
      "760/760 [==============================] - 19s 26ms/step - loss: 0.0873 - binary_accuracy: 0.9684 - val_loss: 0.0647 - val_binary_accuracy: 0.9794\n",
      "\n",
      "Epoch 00072: val_loss did not improve\n",
      "Epoch 73/100\n",
      "760/760 [==============================] - 19s 25ms/step - loss: 0.0891 - binary_accuracy: 0.9670 - val_loss: 0.0748 - val_binary_accuracy: 0.9722\n",
      "\n",
      "Epoch 00073: val_loss did not improve\n",
      "Epoch 74/100\n",
      "760/760 [==============================] - 19s 25ms/step - loss: 0.0897 - binary_accuracy: 0.9672 - val_loss: 0.0716 - val_binary_accuracy: 0.9757\n",
      "\n",
      "Epoch 00074: val_loss did not improve\n",
      "Epoch 75/100\n"
     ]
    },
    {
     "name": "stdout",
     "output_type": "stream",
     "text": [
      "760/760 [==============================] - 19s 25ms/step - loss: 0.0827 - binary_accuracy: 0.9694 - val_loss: 0.0605 - val_binary_accuracy: 0.9811\n",
      "\n",
      "Epoch 00075: val_loss did not improve\n",
      "Epoch 76/100\n",
      "760/760 [==============================] - 19s 25ms/step - loss: 0.0846 - binary_accuracy: 0.9691 - val_loss: 0.0830 - val_binary_accuracy: 0.9717\n",
      "\n",
      "Epoch 00076: val_loss did not improve\n",
      "Epoch 77/100\n",
      "760/760 [==============================] - 19s 25ms/step - loss: 0.0840 - binary_accuracy: 0.9687 - val_loss: 0.0721 - val_binary_accuracy: 0.9748\n",
      "\n",
      "Epoch 00077: val_loss did not improve\n",
      "Epoch 78/100\n",
      "760/760 [==============================] - 19s 26ms/step - loss: 0.0887 - binary_accuracy: 0.9688 - val_loss: 0.0945 - val_binary_accuracy: 0.9633\n",
      "\n",
      "Epoch 00078: val_loss did not improve\n",
      "Epoch 79/100\n",
      "760/760 [==============================] - 19s 25ms/step - loss: 0.0852 - binary_accuracy: 0.9679 - val_loss: 0.0794 - val_binary_accuracy: 0.9709\n",
      "\n",
      "Epoch 00079: val_loss did not improve\n",
      "Epoch 80/100\n",
      "760/760 [==============================] - 19s 25ms/step - loss: 0.0854 - binary_accuracy: 0.9690 - val_loss: 0.0651 - val_binary_accuracy: 0.9745\n",
      "\n",
      "Epoch 00080: val_loss did not improve\n",
      "Epoch 00080: early stopping\n"
     ]
    }
   ],
   "source": [
    "history = model.fit_generator(train_generator, \n",
    "                             epochs=EPOCHS,\n",
    "                             verbose=1,\n",
    "                             shuffle=True,\n",
    "                             validation_data=valid_generator,\n",
    "                             callbacks=[early_stopping_calllback, tensorboard_callback, model_checkpoint_callback]\n",
    "                             )"
   ]
  },
  {
   "cell_type": "markdown",
   "metadata": {},
   "source": [
    "## evaluate"
   ]
  },
  {
   "cell_type": "markdown",
   "metadata": {},
   "source": [
    "### current model and weights"
   ]
  },
  {
   "cell_type": "code",
   "execution_count": 36,
   "metadata": {},
   "outputs": [
    {
     "name": "stdout",
     "output_type": "stream",
     "text": [
      "Summary: Loss over the test dataset: 0.0861, Accuracy: 0.9669\n"
     ]
    }
   ],
   "source": [
    "evaluation = model.evaluate_generator(test_generator)\n",
    "print('Summary: Loss over the test dataset: %.4f, Accuracy: %.4f' % (evaluation[0], evaluation[1]))"
   ]
  },
  {
   "cell_type": "markdown",
   "metadata": {},
   "source": [
    "### evaluate using best saved model and weights"
   ]
  },
  {
   "cell_type": "code",
   "execution_count": 28,
   "metadata": {},
   "outputs": [
    {
     "name": "stdout",
     "output_type": "stream",
     "text": [
      "/home/mhuang/model_checkpoints/planes_satellite/weights.60-0.0550.hdf5\n"
     ]
    }
   ],
   "source": [
    "list_of_models = glob.glob(checkpoint_root + '/*.hdf5')\n",
    "latest_model = max(list_of_models, key=path.getctime)\n",
    "print(latest_model)"
   ]
  },
  {
   "cell_type": "code",
   "execution_count": 29,
   "metadata": {},
   "outputs": [],
   "source": [
    "from keras.models import load_model\n",
    "\n",
    "best_model = load_model(latest_model)"
   ]
  },
  {
   "cell_type": "code",
   "execution_count": 30,
   "metadata": {},
   "outputs": [
    {
     "name": "stdout",
     "output_type": "stream",
     "text": [
      "Summary: Loss over the test dataset: 0.0655, Accuracy: 0.9788\n"
     ]
    }
   ],
   "source": [
    "evaluation = best_model.evaluate_generator(test_generator)\n",
    "print('Summary: Loss over the test dataset: %.4f, Accuracy: %.4f' % (evaluation[0], evaluation[1]))"
   ]
  },
  {
   "cell_type": "markdown",
   "metadata": {},
   "source": [
    "### using best model, continue training using smaller learning rate"
   ]
  },
  {
   "cell_type": "markdown",
   "metadata": {},
   "source": [
    "        \n",
    "best_model.compile(optimizer=Adam(lr=0.0001), loss='binary_crossentropy', metrics=['binary_accuracy'])"
   ]
  },
  {
   "cell_type": "markdown",
   "metadata": {},
   "source": [
    "history = best_model.fit_generator(train_generator, \n",
    "                             epochs=EPOCHS,\n",
    "                             verbose=1,\n",
    "                             shuffle=True,\n",
    "                             validation_data=valid_generator,\n",
    "                             callbacks=[early_stopping_calllback, tensorboard_callback, model_checkpoint_callback]\n",
    "                             )"
   ]
  },
  {
   "cell_type": "markdown",
   "metadata": {},
   "source": [
    "## predict"
   ]
  },
  {
   "cell_type": "markdown",
   "metadata": {},
   "source": [
    "### plot some predictions"
   ]
  },
  {
   "cell_type": "code",
   "execution_count": 33,
   "metadata": {},
   "outputs": [
    {
     "data": {
      "image/png": "[encoded data removed]",
      "text/plain": [
       "<matplotlib.figure.Figure at 0x7f12763b4940>"
      ]
     },
     "metadata": {},
     "output_type": "display_data"
    }
   ],
   "source": [
    "# predict a batch\n",
    "\n",
    "(X_batch, y_batch) = next(test_generator)\n",
    "\n",
    "y_batch_true = [str(val) for val in y_batch.argmax(axis=1)]\n",
    "\n",
    "# make prediction\n",
    "predictions = best_model.predict(X_batch)\n",
    "\n",
    "y_batch_predict = [str(val) for val in predictions.argmax(axis=1)]\n",
    "\n",
    "labels_tuple = zip(y_batch_predict, y_batch_true)\n",
    "labels = ['/'.join(t) for t in labels_tuple]\n",
    "\n",
    "plots(X_batch, titles=labels, rows=4, main_title=\"Predictions\")\n",
    "\n",
    "\n"
   ]
  },
  {
   "cell_type": "markdown",
   "metadata": {},
   "source": [
    "### plot some mis-predictions"
   ]
  },
  {
   "cell_type": "code",
   "execution_count": 34,
   "metadata": {},
   "outputs": [
    {
     "name": "stdout",
     "output_type": "stream",
     "text": [
      "Found 1600 images belonging to 2 classes.\n"
     ]
    }
   ],
   "source": [
    "# define larger batch size for generator\n",
    "\n",
    "large_test_generator = test_datagen.flow_from_directory(\n",
    "    IMAGE_PATH + \"/test\",\n",
    "    target_size=IMAGE_SIZE,\n",
    "    color_mode=\"rgb\",\n",
    "    batch_size=2*BATCH_SIZE,\n",
    "    class_mode='categorical',\n",
    "    )"
   ]
  },
  {
   "cell_type": "code",
   "execution_count": 35,
   "metadata": {},
   "outputs": [
    {
     "data": {
      "image/png": "[encoded data removed]",
      "text/plain": [
       "<matplotlib.figure.Figure at 0x7f1277c88cf8>"
      ]
     },
     "metadata": {},
     "output_type": "display_data"
    }
   ],
   "source": [
    "# predict a larger batch\n",
    "\n",
    "(X_batch, y_batch) = next(large_test_generator)\n",
    "\n",
    "y_batch_true = [str(val) for val in y_batch.argmax(axis=1)]\n",
    "\n",
    "# make prediction\n",
    "predictions = best_model.predict(X_batch)\n",
    "\n",
    "y_batch_predict = [str(val) for val in predictions.argmax(axis=1)]\n",
    "\n",
    "labels_tuple = zip(y_batch_predict, y_batch_true)\n",
    "labels = ['/'.join(t) for t in labels_tuple]\n",
    "\n",
    "errors = np.array(y_batch.argmax(axis=1)) - np.array(predictions.argmax(axis=1))\n",
    "\n",
    "error_idx = np.nonzero(errors)[0]\n",
    "\n",
    "if len(error_idx) > 0:\n",
    "    X_batch_error = X_batch[error_idx]\n",
    "    labels_error = [labels[idx] for idx in error_idx]\n",
    "    \n",
    "    rows = 1 + (len(error_idx) // 8)\n",
    "    \n",
    "    plots(X_batch_error, titles=labels_error, rows=rows, main_title=\"Wrong Predictions\")"
   ]
  }
 ],
 "metadata": {
  "kernelspec": {
   "display_name": "Python [conda env:gpu_keras2_tf16_py36]",
   "language": "python",
   "name": "conda-env-gpu_keras2_tf16_py36-py"
  },
  "language_info": {
   "codemirror_mode": {
    "name": "ipython",
    "version": 3
   },
   "file_extension": ".py",
   "mimetype": "text/x-python",
   "name": "python",
   "nbconvert_exporter": "python",
   "pygments_lexer": "ipython3",
   "version": "3.6.4"
  }
 },
 "nbformat": 4,
 "nbformat_minor": 2
}
