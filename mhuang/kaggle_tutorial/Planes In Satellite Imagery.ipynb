{
 "cells": [
  {
   "cell_type": "markdown",
   "metadata": {},
   "source": [
    "## boilerplate imports"
   ]
  },
  {
   "cell_type": "code",
   "execution_count": 1,
   "metadata": {},
   "outputs": [],
   "source": [
    "import pandas as pd\n",
    "import matplotlib.pyplot as plt\n",
    "import seaborn as sns\n",
    "import numpy as np\n",
    "from scipy.stats import norm\n",
    "from sklearn.preprocessing import StandardScaler\n",
    "from scipy import stats\n",
    "from scipy import misc\n",
    "import warnings\n",
    "warnings.filterwarnings('ignore')\n",
    "%matplotlib inline"
   ]
  },
  {
   "cell_type": "markdown",
   "metadata": {},
   "source": [
    "## Download data "
   ]
  },
  {
   "cell_type": "code",
   "execution_count": 2,
   "metadata": {},
   "outputs": [],
   "source": [
    "IMAGE_ROOT = \"/home/mhuang/data/planes_satellite\"\n",
    "IMAGE_PATH = IMAGE_ROOT + \"/images\"\n",
    "\n",
    "DATA_BUNDLE_FILENAME = \"planesnet_bundle.zip\"\n",
    "DATA_IMAGES_FILENAME = \"planesnet.zip\""
   ]
  },
  {
   "cell_type": "code",
   "execution_count": 3,
   "metadata": {},
   "outputs": [],
   "source": [
    "!rm -rf $IMAGE_ROOT"
   ]
  },
  {
   "cell_type": "code",
   "execution_count": 4,
   "metadata": {},
   "outputs": [],
   "source": [
    "!mkdir -p $IMAGE_ROOT"
   ]
  },
  {
   "cell_type": "code",
   "execution_count": 5,
   "metadata": {},
   "outputs": [
    {
     "name": "stdout",
     "output_type": "stream",
     "text": [
      "  % Total    % Received % Xferd  Average Speed   Time    Time     Time  Current\n",
      "                                 Dload  Upload   Total   Spent    Left  Speed\n",
      "100 72.5M  100 72.5M    0     0  78.1M      0 --:--:-- --:--:-- --:--:-- 78.2M\n"
     ]
    }
   ],
   "source": [
    "!curl \"https://storage.googleapis.com/kaggle-datasets/1197/14776/planesnet.zip?GoogleAccessId=web-data@kaggle-161607.iam.gserviceaccount.com&Expires=1525360358&Signature=jybY3hauu%2BOnpVI6Ysu2qBnEzDrUi17xgj7T4B%2Br3i9dAeyrWs3R2mozc9C5gXNfMRDLwCpxsVgK4O13rvChH%2BLfGzVQUgkOGADDQG0fr0g8qsoesOsrg7XrKZByF2AaDKXB7gCEWf4oRwaEHKQcEqQvRV1ci34y9VV2ryd9xAHCmbbrXkxIdYyZhiQe%2FUZxqaa0CmS%2FvstA5LtN7tDVCWE8NWUJbMhd8e0i0Zk9in8CyqIlH2jSyxAJI7IvUaELZgagIRAdbfsRkL13fyiQEeiOXHb2Ap34oQshqiyYq%2BJ%2FH3A549OHJRdzlX10bljf6kwOYPwpJQZW73Q%2BO9126Q%3D%3D\" > $IMAGE_ROOT/$DATA_BUNDLE_FILENAME"
   ]
  },
  {
   "cell_type": "code",
   "execution_count": 6,
   "metadata": {},
   "outputs": [
    {
     "name": "stdout",
     "output_type": "stream",
     "text": [
      "Archive:  /home/mhuang/data/planes_satellite/planesnet_bundle.zip\n",
      "  inflating: /home/mhuang/data/planes_satellite/planesnet.json  \n",
      "  inflating: /home/mhuang/data/planes_satellite/planesnet.zip  \n"
     ]
    }
   ],
   "source": [
    "!unzip -o $IMAGE_ROOT/$DATA_BUNDLE_FILENAME -d $IMAGE_ROOT"
   ]
  },
  {
   "cell_type": "code",
   "execution_count": 7,
   "metadata": {},
   "outputs": [
    {
     "name": "stdout",
     "output_type": "stream",
     "text": [
      "No errors detected in compressed data of /home/mhuang/data/planes_satellite/planesnet.zip.\r\n"
     ]
    }
   ],
   "source": [
    "!unzip -q -t $IMAGE_ROOT/$DATA_IMAGES_FILENAME"
   ]
  },
  {
   "cell_type": "code",
   "execution_count": 8,
   "metadata": {},
   "outputs": [],
   "source": [
    "!unzip -o -q -j $IMAGE_ROOT/$DATA_IMAGES_FILENAME -d $IMAGE_PATH"
   ]
  },
  {
   "cell_type": "code",
   "execution_count": 9,
   "metadata": {
    "scrolled": false
   },
   "outputs": [
    {
     "name": "stdout",
     "output_type": "stream",
     "text": [
      "total 128000\n",
      "-rw-rw-r-- 1 mhuang mhuang  906 Jan 21 19:37 1__20170729_175335_101d__-118.40592455007884_33.93955085537867.png\n",
      "-rw-rw-r-- 1 mhuang mhuang  764 Jan 21 19:37 1__20170729_175107_1036__-118.41833221627427_33.940172226013956.png\n",
      "-rw-rw-r-- 1 mhuang mhuang  804 Jan 21 19:37 1__20170728_180813_1039__-121.58701779603875_38.694769242571724.png\n",
      "-rw-rw-r-- 1 mhuang mhuang  789 Jan 21 19:37 1__20170728_175003_102a__-118.4037708318591_33.941100279947925.png\n",
      "-rw-rw-r-- 1 mhuang mhuang  863 Jan 21 19:37 1__20170728_175002_102a__-118.40332877746077_33.94671287238693.png\n",
      "-rw-rw-r-- 1 mhuang mhuang  914 Jan 21 19:37 1__20170727_175114_0f3f__-118.40323269335445_33.946344345012726.png\n",
      "-rw-rw-r-- 1 mhuang mhuang  929 Jan 21 19:37 1__20170727_175114_0f3f__-118.38581188623972_33.93494470621571.png\n",
      "-rw-rw-r-- 1 mhuang mhuang  709 Jan 21 19:37 1__20170726_180807_1022__-122.38824470631792_37.61969954191162.png\n",
      "-rw-rw-r-- 1 mhuang mhuang  841 Jan 21 19:37 1__20170726_174854_0f10__-117.8611940333088_33.68107837904123.png\n",
      "ls: write error: Broken pipe\n"
     ]
    }
   ],
   "source": [
    "!ls -ltr $IMAGE_PATH | head"
   ]
  },
  {
   "cell_type": "markdown",
   "metadata": {},
   "source": [
    "## split images into train and validate using using sklearn"
   ]
  },
  {
   "cell_type": "code",
   "execution_count": 10,
   "metadata": {},
   "outputs": [],
   "source": [
    "!rm -rf $IMAGE_PATH/train $IMAGE_PATH/valid $IMAGE_PATH/test\n",
    "!mkdir -p $IMAGE_PATH/train/0 $IMAGE_PATH/train/1 $IMAGE_PATH/test/unknown"
   ]
  },
  {
   "cell_type": "code",
   "execution_count": 11,
   "metadata": {},
   "outputs": [],
   "source": [
    "import shutil\n",
    "import glob\n",
    "import os.path as path\n",
    "from sklearn.cross_validation import train_test_split\n",
    "\n"
   ]
  },
  {
   "cell_type": "markdown",
   "metadata": {},
   "source": [
    "### split negative images first"
   ]
  },
  {
   "cell_type": "code",
   "execution_count": 12,
   "metadata": {},
   "outputs": [],
   "source": [
    "# reserve some files for testing\n",
    "TEST_RATIO = 0.05"
   ]
  },
  {
   "cell_type": "code",
   "execution_count": 13,
   "metadata": {
    "scrolled": true
   },
   "outputs": [],
   "source": [
    "# load negave images which always start with \"0_\"\n",
    "\n",
    "X_neg = y_neg = glob.glob(path.join(IMAGE_PATH, '0_*.png'))\n",
    "X_neg_train, X_neg_test, y_neg_train, y_neg_test = train_test_split(X_neg, y_neg, test_size=TEST_RATIO, random_state=None)\n",
    "\n",
    "# train\n",
    "\n",
    "for x in X_neg_train:\n",
    "    \n",
    "    try:\n",
    "        shutil.move(x, IMAGE_PATH + \"/train/0\")\n",
    "    except OSError as err: \n",
    "        print(\"Error '{}' when moving file {} to target dir {}\".format(err, x, target_dir))\n",
    "\n",
    "# test\n",
    "\n",
    "for x in X_neg_test:\n",
    "    \n",
    "    try:\n",
    "        shutil.move(x, IMAGE_PATH + \"/test/unknown\")\n",
    "    except OSError as err: \n",
    "        print(\"Error '{}' when moving file {} to target dir {}\".format(err, x, target_dir))\n",
    "        \n"
   ]
  },
  {
   "cell_type": "markdown",
   "metadata": {},
   "source": [
    "### then split positive images "
   ]
  },
  {
   "cell_type": "code",
   "execution_count": 14,
   "metadata": {},
   "outputs": [],
   "source": [
    "# load positive images which always start with \"1_\"\n",
    "\n",
    "X_pos = y_pos = glob.glob(path.join(IMAGE_PATH, '1_*.png'))\n",
    "X_pos_train, X_pos_test, y_pos_train, y_pos_test = train_test_split(X_pos, y_pos, test_size=TEST_RATIO, random_state=None)\n",
    "\n",
    "# train\n",
    "\n",
    "for x in X_pos_train:\n",
    "    \n",
    "    try:\n",
    "        shutil.move(x, IMAGE_PATH + \"/train/1\")\n",
    "    except OSError as err: \n",
    "        print(\"Error '{}' when moving file {} to target dir {}\".format(err, x, target_dir))\n",
    "\n",
    "# test\n",
    "\n",
    "for x in X_pos_test:\n",
    "    \n",
    "    try:\n",
    "        shutil.move(x, IMAGE_PATH + \"/test/unknown\")\n",
    "    except OSError as err: \n",
    "        print(\"Error '{}' when moving file {} to target dir {}\".format(err, x, target_dir))"
   ]
  },
  {
   "cell_type": "markdown",
   "metadata": {},
   "source": [
    "## create CNN model"
   ]
  },
  {
   "cell_type": "code",
   "execution_count": 15,
   "metadata": {},
   "outputs": [
    {
     "name": "stderr",
     "output_type": "stream",
     "text": [
      "Using TensorFlow backend.\n"
     ]
    }
   ],
   "source": [
    "# imports\n",
    "\n",
    "from keras.models import Sequential\n",
    "from keras.layers import Dense, Flatten, Conv2D, MaxPooling2D, Activation, Dropout, InputLayer, BatchNormalization\n",
    "from keras.optimizers import RMSprop, Adam\n",
    "from keras.utils import np_utils\n",
    "from keras import initializers\n",
    "from keras import backend as K\n",
    "from keras.callbacks import TensorBoard"
   ]
  },
  {
   "cell_type": "markdown",
   "metadata": {},
   "source": [
    "### training params"
   ]
  },
  {
   "cell_type": "code",
   "execution_count": 16,
   "metadata": {},
   "outputs": [],
   "source": [
    "pool_size = (2, 2)                    # size of poolin area for max pooling\n",
    "prob_drop_conv = 0.25                  # drop probability for dropout @ conv layer\n",
    "prob_drop_hidden = 0.5                # drop probability for dropout @ fc layer\n",
    "image_shape=(20,20,3)"
   ]
  },
  {
   "cell_type": "code",
   "execution_count": 17,
   "metadata": {
    "scrolled": true
   },
   "outputs": [
    {
     "name": "stdout",
     "output_type": "stream",
     "text": [
      "_________________________________________________________________\n",
      "Layer (type)                 Output Shape              Param #   \n",
      "=================================================================\n",
      "input_1 (InputLayer)         (None, 20, 20, 3)         0         \n",
      "_________________________________________________________________\n",
      "batch_normalization_1 (Batch (None, 20, 20, 3)         12        \n",
      "_________________________________________________________________\n",
      "conv2d_1 (Conv2D)            (None, 20, 20, 32)        896       \n",
      "_________________________________________________________________\n",
      "activation_1 (Activation)    (None, 20, 20, 32)        0         \n",
      "_________________________________________________________________\n",
      "max_pooling2d_1 (MaxPooling2 (None, 10, 10, 32)        0         \n",
      "_________________________________________________________________\n",
      "dropout_1 (Dropout)          (None, 10, 10, 32)        0         \n",
      "_________________________________________________________________\n",
      "conv2d_2 (Conv2D)            (None, 10, 10, 64)        18496     \n",
      "_________________________________________________________________\n",
      "activation_2 (Activation)    (None, 10, 10, 64)        0         \n",
      "_________________________________________________________________\n",
      "max_pooling2d_2 (MaxPooling2 (None, 5, 5, 64)          0         \n",
      "_________________________________________________________________\n",
      "dropout_2 (Dropout)          (None, 5, 5, 64)          0         \n",
      "_________________________________________________________________\n",
      "conv2d_3 (Conv2D)            (None, 5, 5, 128)         73856     \n",
      "_________________________________________________________________\n",
      "activation_3 (Activation)    (None, 5, 5, 128)         0         \n",
      "_________________________________________________________________\n",
      "max_pooling2d_3 (MaxPooling2 (None, 3, 3, 128)         0         \n",
      "_________________________________________________________________\n",
      "flatten_1 (Flatten)          (None, 1152)              0         \n",
      "_________________________________________________________________\n",
      "dropout_3 (Dropout)          (None, 1152)              0         \n",
      "_________________________________________________________________\n",
      "dense_1 (Dense)              (None, 250)               288250    \n",
      "_________________________________________________________________\n",
      "activation_4 (Activation)    (None, 250)               0         \n",
      "_________________________________________________________________\n",
      "dropout_4 (Dropout)          (None, 250)               0         \n",
      "_________________________________________________________________\n",
      "dense_2 (Dense)              (None, 2)                 502       \n",
      "_________________________________________________________________\n",
      "activation_5 (Activation)    (None, 2)                 0         \n",
      "=================================================================\n",
      "Total params: 382,012\n",
      "Trainable params: 382,006\n",
      "Non-trainable params: 6\n",
      "_________________________________________________________________\n"
     ]
    }
   ],
   "source": [
    "model = Sequential()\n",
    "\n",
    "# input layer\n",
    "model.add(InputLayer(input_shape=image_shape))\n",
    "\n",
    "# batch normalization\n",
    "model.add(BatchNormalization())\n",
    "\n",
    "# conv1 layer\n",
    "model.add(Conv2D(32, (3,3), padding='same', kernel_initializer='random_normal'))\n",
    "model.add(Activation('relu'))\n",
    "model.add(MaxPooling2D(pool_size=pool_size, strides=(2, 2), padding='same'))\n",
    "model.add(Dropout(prob_drop_conv))\n",
    "\n",
    "# conv2 layer\n",
    "model.add(Conv2D(64, (3,3), padding='same', kernel_initializer='random_normal'))\n",
    "model.add(Activation('relu'))\n",
    "model.add(MaxPooling2D(pool_size=pool_size, strides=(2, 2), padding='same'))\n",
    "model.add(Dropout(prob_drop_conv))\n",
    "\n",
    "# conv3 layer\n",
    "model.add(Conv2D(128, (3,3), padding='same', kernel_initializer='random_normal'))\n",
    "model.add(Activation('relu'))\n",
    "model.add(MaxPooling2D(pool_size=pool_size, strides=(2, 2), padding='same'))\n",
    "model.add(Flatten())\n",
    "model.add(Dropout(prob_drop_conv))\n",
    "\n",
    "# fc1 layer\n",
    "# what \"units\" values work best here ??\n",
    "model.add(Dense(units=250, kernel_initializer='random_normal'))\n",
    "model.add(Activation('relu'))\n",
    "model.add(Dropout(prob_drop_hidden))\n",
    "\n",
    "# fc2 layer\n",
    "model.add(Dense(units=2, kernel_initializer='random_normal'))\n",
    "model.add(Activation('softmax'))\n",
    "          \n",
    "model.compile(optimizer=RMSprop(lr=0.001, rho=0.9), loss='binary_crossentropy', metrics=['accuracy'])\n",
    "model.summary()"
   ]
  },
  {
   "cell_type": "markdown",
   "metadata": {},
   "source": [
    "##  set up data generators using Keras Image Generator"
   ]
  },
  {
   "cell_type": "markdown",
   "metadata": {},
   "source": [
    "### training parameters"
   ]
  },
  {
   "cell_type": "code",
   "execution_count": 18,
   "metadata": {},
   "outputs": [],
   "source": [
    "BATCH_SIZE=32\n",
    "VALIDATION_SPLIT=0.20\n",
    "EPOCHS=50"
   ]
  },
  {
   "cell_type": "code",
   "execution_count": 19,
   "metadata": {},
   "outputs": [
    {
     "name": "stdout",
     "output_type": "stream",
     "text": [
      "Found 24320 images belonging to 2 classes.\n",
      "Found 6080 images belonging to 2 classes.\n"
     ]
    }
   ],
   "source": [
    "from keras.preprocessing import image\n",
    "\n",
    "IMAGE_SIZE=(20,20)\n",
    "\n",
    "train_datagen = image.ImageDataGenerator(\n",
    "    rescale=1./255,\n",
    "    validation_split=VALIDATION_SPLIT,\n",
    "    )\n",
    "\n",
    "train_generator = train_datagen.flow_from_directory(\n",
    "    IMAGE_PATH + \"/train\",\n",
    "    target_size=IMAGE_SIZE,\n",
    "    color_mode=\"rgb\",\n",
    "    batch_size=BATCH_SIZE,\n",
    "    class_mode='categorical',\n",
    "    subset='training'\n",
    "    )\n",
    "\n",
    "valid_generator = train_datagen.flow_from_directory(\n",
    "    IMAGE_PATH + \"/train\",\n",
    "    target_size=IMAGE_SIZE,\n",
    "    color_mode=\"rgb\",\n",
    "    batch_size=BATCH_SIZE,\n",
    "    class_mode='categorical',\n",
    "    subset='validation'\n",
    "    )\n"
   ]
  },
  {
   "cell_type": "markdown",
   "metadata": {},
   "source": [
    "## plot a few images"
   ]
  },
  {
   "cell_type": "code",
   "execution_count": 20,
   "metadata": {},
   "outputs": [],
   "source": [
    "def plots(ims, figsize=(12,1), dpi=150, rows=1, interp=False, titles=None):\n",
    "    f = plt.figure(figsize=figsize, dpi=dpi)\n",
    "    for i in range(len(ims)):\n",
    "        sp = f.add_subplot(rows, len(ims)//rows, i+1)\n",
    "        if titles is not None:\n",
    "            sp.set_title(titles[i], fontsize=8)\n",
    "        plt.imshow(ims[i], interpolation=None if interp else 'none', cmap='gray')\n",
    "        plt.axis('off')"
   ]
  },
  {
   "cell_type": "code",
   "execution_count": 21,
   "metadata": {},
   "outputs": [
    {
     "name": "stdout",
     "output_type": "stream",
     "text": [
      "0 (32, 20, 20, 3)\n",
      "0 [[[[ 0.73333335  0.68235296  0.62352943]\n",
      "   [ 0.75686282  0.70588237  0.65490198]\n",
      "   [ 0.77254909  0.72549021  0.67058825]\n",
      "   ..., \n",
      "   [ 0.71764708  0.65882355  0.59215689]\n",
      "   [ 0.74117649  0.67843139  0.60392159]\n",
      "   [ 0.81960791  0.74901962  0.67843139]]\n",
      "\n",
      "  [[ 0.75686282  0.70588237  0.64313728]\n",
      "   [ 0.79215693  0.74117649  0.68627453]\n",
      "   [ 0.83529419  0.78039223  0.72156864]\n",
      "   ..., \n",
      "   [ 0.72156864  0.67058825  0.60000002]\n",
      "   [ 0.77647066  0.71372551  0.64705884]\n",
      "   [ 0.84313732  0.76862752  0.7019608 ]]\n",
      "\n",
      "  [[ 0.79215693  0.74117649  0.67843139]\n",
      "   [ 0.85098046  0.79215693  0.73333335]\n",
      "   [ 0.8705883   0.81176478  0.74901962]\n",
      "   ..., \n",
      "   [ 0.77254909  0.71372551  0.64313728]\n",
      "   [ 0.81960791  0.75294125  0.68627453]\n",
      "   [ 0.84313732  0.76862752  0.70588237]]\n",
      "\n",
      "  ..., \n",
      "  [[ 0.7960785   0.72941178  0.66666669]\n",
      "   [ 0.82745105  0.75686282  0.69411767]\n",
      "   [ 0.83137262  0.75686282  0.68627453]\n",
      "   ..., \n",
      "   [ 0.7843138   0.72941178  0.66274512]\n",
      "   [ 0.74117649  0.69411767  0.63137257]\n",
      "   [ 0.73725492  0.68627453  0.61176473]]\n",
      "\n",
      "  [[ 0.77254909  0.70980394  0.64705884]\n",
      "   [ 0.77254909  0.70588237  0.64313728]\n",
      "   [ 0.75294125  0.6901961   0.61960787]\n",
      "   ..., \n",
      "   [ 0.7960785   0.74117649  0.67843139]\n",
      "   [ 0.73333335  0.68627453  0.62352943]\n",
      "   [ 0.73333335  0.68235296  0.60784316]]\n",
      "\n",
      "  [[ 0.74901962  0.6901961   0.627451  ]\n",
      "   [ 0.76078439  0.7019608   0.63137257]\n",
      "   [ 0.74901962  0.68627453  0.6156863 ]\n",
      "   ..., \n",
      "   [ 0.77647066  0.72549021  0.66666669]\n",
      "   [ 0.72549021  0.67843139  0.61176473]\n",
      "   [ 0.72941178  0.68627453  0.60392159]]]\n",
      "\n",
      "\n",
      " [[[ 0.66666669  0.60000002  0.51372552]\n",
      "   [ 0.62352943  0.56078434  0.4784314 ]\n",
      "   [ 0.58039218  0.52941179  0.46274513]\n",
      "   ..., \n",
      "   [ 0.7843138   0.7019608   0.61176473]\n",
      "   [ 0.78039223  0.6901961   0.59215689]\n",
      "   [ 0.77254909  0.67450982  0.57254905]]\n",
      "\n",
      "  [[ 0.60784316  0.53725493  0.45882356]\n",
      "   [ 0.58823532  0.52941179  0.45098042]\n",
      "   [ 0.60000002  0.5411765   0.47450984]\n",
      "   ..., \n",
      "   [ 0.76862752  0.68627453  0.59607846]\n",
      "   [ 0.78039223  0.69411767  0.60000002]\n",
      "   [ 0.79215693  0.69411767  0.59607846]]\n",
      "\n",
      "  [[ 0.52156866  0.4666667   0.38823533]\n",
      "   [ 0.56470591  0.50588238  0.43137258]\n",
      "   [ 0.63137257  0.56862748  0.49411768]\n",
      "   ..., \n",
      "   [ 0.7960785   0.70980394  0.62352943]\n",
      "   [ 0.81568635  0.72941178  0.63921571]\n",
      "   [ 0.7960785   0.70588237  0.61176473]]\n",
      "\n",
      "  ..., \n",
      "  [[ 0.627451    0.5529412   0.48627454]\n",
      "   [ 0.63137257  0.56078434  0.49803925]\n",
      "   [ 0.627451    0.56078434  0.4784314 ]\n",
      "   ..., \n",
      "   [ 0.8705883   0.78823537  0.69803923]\n",
      "   [ 0.89411771  0.80392164  0.73333335]\n",
      "   [ 0.85098046  0.76862752  0.70588237]]\n",
      "\n",
      "  [[ 0.65882355  0.57647061  0.51372552]\n",
      "   [ 0.66666669  0.58823532  0.52941179]\n",
      "   [ 0.65490198  0.58039218  0.50196081]\n",
      "   ..., \n",
      "   [ 0.88235301  0.7960785   0.71764708]\n",
      "   [ 0.87843144  0.78823537  0.71764708]\n",
      "   [ 0.87450987  0.78039223  0.71372551]]\n",
      "\n",
      "  [[ 0.627451    0.5529412   0.48627454]\n",
      "   [ 0.65098041  0.57647061  0.50980395]\n",
      "   [ 0.67058825  0.59215689  0.52156866]\n",
      "   ..., \n",
      "   [ 0.82745105  0.74901962  0.67450982]\n",
      "   [ 0.83529419  0.75686282  0.68235296]\n",
      "   [ 0.84705889  0.75686282  0.69411767]]]]\n",
      "0 [0 0]\n"
     ]
    },
    {
     "data": {
      "image/png": "[encoded data removed]",
      "text/plain": [
       "<matplotlib.figure.Figure at 0x7f137c31bf98>"
      ]
     },
     "metadata": {},
     "output_type": "display_data"
    }
   ],
   "source": [
    "batches=0\n",
    "\n",
    "for x_batch, y_batch in train_generator:\n",
    "    print(batches, x_batch.shape)\n",
    "    label_id = y_batch.argmax(axis=1)\n",
    "    num_to_dump = 2\n",
    "    print(batches, x_batch[:num_to_dump,:,:,:])\n",
    "    print(batches, label_id[:num_to_dump])\n",
    "    num_to_plot = min(10, x_batch.shape[0])\n",
    "    plots(x_batch[:num_to_plot, :, :, :], titles=label_id[:num_to_plot])\n",
    "    batches += 1\n",
    "    if batches >= 1:\n",
    "        break"
   ]
  },
  {
   "cell_type": "markdown",
   "metadata": {},
   "source": [
    "## train model"
   ]
  },
  {
   "cell_type": "code",
   "execution_count": 22,
   "metadata": {},
   "outputs": [],
   "source": [
    "from keras.callbacks import EarlyStopping\n",
    "\n",
    "# Early stopping callback\n",
    "PATIENCE = 5\n",
    "early_stopping_calllback = EarlyStopping(monitor='loss', min_delta=0, patience=PATIENCE, verbose=1, mode='auto')"
   ]
  },
  {
   "cell_type": "code",
   "execution_count": 23,
   "metadata": {},
   "outputs": [],
   "source": [
    "from keras.callbacks import TensorBoard\n",
    "import time\n",
    "\n",
    "timestamp = time.strftime(\"%Y%m%d-%H%m%S\")\n",
    "log_dir = '/home/mhuang/tensorboard_logs/tutorial/planes_satellite/' + timestamp\n",
    "tensorboard_callback = TensorBoard(log_dir=log_dir, histogram_freq=0, write_graph=True, write_grads=True, batch_size=2*BATCH_SIZE, write_images=True)"
   ]
  },
  {
   "cell_type": "code",
   "execution_count": 24,
   "metadata": {},
   "outputs": [
    {
     "name": "stdout",
     "output_type": "stream",
     "text": [
      "Epoch 1/50\n",
      "760/760 [==============================] - 12s 16ms/step - loss: 0.2098 - acc: 0.9161 - val_loss: 0.1457 - val_acc: 0.9480\n",
      "Epoch 2/50\n",
      "760/760 [==============================] - 12s 15ms/step - loss: 0.1280 - acc: 0.9528 - val_loss: 0.1145 - val_acc: 0.9632\n",
      "Epoch 3/50\n",
      "760/760 [==============================] - 12s 15ms/step - loss: 0.1104 - acc: 0.9611 - val_loss: 0.1519 - val_acc: 0.9559\n",
      "Epoch 4/50\n",
      "760/760 [==============================] - 12s 15ms/step - loss: 0.0985 - acc: 0.9656 - val_loss: 0.1694 - val_acc: 0.9530\n",
      "Epoch 5/50\n",
      "760/760 [==============================] - 12s 15ms/step - loss: 0.0972 - acc: 0.9671 - val_loss: 0.1199 - val_acc: 0.9692\n",
      "Epoch 6/50\n",
      "760/760 [==============================] - 12s 15ms/step - loss: 0.0964 - acc: 0.9688 - val_loss: 0.1033 - val_acc: 0.9740\n",
      "Epoch 7/50\n",
      "760/760 [==============================] - 12s 15ms/step - loss: 0.0925 - acc: 0.9713 - val_loss: 0.1327 - val_acc: 0.9656\n",
      "Epoch 8/50\n",
      "760/760 [==============================] - 12s 15ms/step - loss: 0.0887 - acc: 0.9730 - val_loss: 0.0831 - val_acc: 0.9785\n",
      "Epoch 9/50\n",
      "760/760 [==============================] - 12s 15ms/step - loss: 0.0909 - acc: 0.9726 - val_loss: 0.1720 - val_acc: 0.9699\n",
      "Epoch 10/50\n",
      "760/760 [==============================] - 12s 15ms/step - loss: 0.0874 - acc: 0.9738 - val_loss: 0.1526 - val_acc: 0.9553\n",
      "Epoch 11/50\n",
      "760/760 [==============================] - 12s 15ms/step - loss: 0.0929 - acc: 0.9729 - val_loss: 0.0888 - val_acc: 0.9798\n",
      "Epoch 12/50\n",
      "760/760 [==============================] - 12s 15ms/step - loss: 0.0901 - acc: 0.9739 - val_loss: 0.1422 - val_acc: 0.9743\n",
      "Epoch 13/50\n",
      "760/760 [==============================] - 12s 15ms/step - loss: 0.0861 - acc: 0.9753 - val_loss: 0.1360 - val_acc: 0.9755\n",
      "Epoch 14/50\n",
      "760/760 [==============================] - 12s 15ms/step - loss: 0.0940 - acc: 0.9729 - val_loss: 0.1684 - val_acc: 0.9702\n",
      "Epoch 15/50\n",
      "760/760 [==============================] - 12s 15ms/step - loss: 0.0936 - acc: 0.9719 - val_loss: 0.1150 - val_acc: 0.9773\n",
      "Epoch 16/50\n",
      "760/760 [==============================] - 12s 15ms/step - loss: 0.0975 - acc: 0.9705 - val_loss: 0.1172 - val_acc: 0.9717\n",
      "Epoch 17/50\n",
      "760/760 [==============================] - 12s 15ms/step - loss: 0.0979 - acc: 0.9725 - val_loss: 0.2228 - val_acc: 0.9610\n",
      "Epoch 18/50\n",
      "760/760 [==============================] - 12s 15ms/step - loss: 0.0938 - acc: 0.9720 - val_loss: 0.1571 - val_acc: 0.9627\n",
      "Epoch 00018: early stopping\n"
     ]
    }
   ],
   "source": [
    "history = model.fit_generator(train_generator, \n",
    "                             epochs=EPOCHS,\n",
    "                             verbose=1,\n",
    "                             shuffle=True,\n",
    "                             validation_data=valid_generator,\n",
    "                             callbacks=[early_stopping_calllback, tensorboard_callback]\n",
    "                             )"
   ]
  },
  {
   "cell_type": "code",
   "execution_count": 25,
   "metadata": {},
   "outputs": [
    {
     "data": {
      "text/plain": [
       "{'acc': [0.91607730263157894,\n",
       "  0.95279605263157896,\n",
       "  0.96114309210526316,\n",
       "  0.96558388157894737,\n",
       "  0.9670641447368421,\n",
       "  0.96875,\n",
       "  0.97125822368421055,\n",
       "  0.97298519736842104,\n",
       "  0.97261513157894741,\n",
       "  0.97380756578947369,\n",
       "  0.97286184210526316,\n",
       "  0.97393092105263157,\n",
       "  0.97528782894736843,\n",
       "  0.97294407894736845,\n",
       "  0.97187500000000004,\n",
       "  0.97051809210526319,\n",
       "  0.97245065789473684,\n",
       "  0.97199835526315792],\n",
       " 'loss': [0.20978933875142647,\n",
       "  0.12797024836028484,\n",
       "  0.11042028673255118,\n",
       "  0.098461616168864757,\n",
       "  0.097214984622673667,\n",
       "  0.096425147005778089,\n",
       "  0.09253726964046731,\n",
       "  0.088723257429841107,\n",
       "  0.09090651379479632,\n",
       "  0.087430751698967038,\n",
       "  0.092916904847319723,\n",
       "  0.090064072750790633,\n",
       "  0.086135006895384128,\n",
       "  0.094034890235582827,\n",
       "  0.093561798966096066,\n",
       "  0.097547196078487206,\n",
       "  0.09789439739341009,\n",
       "  0.093750795864004408],\n",
       " 'val_acc': [0.94802631578947372,\n",
       "  0.9631578947368421,\n",
       "  0.95592105263157889,\n",
       "  0.95296052631578942,\n",
       "  0.96924342105263162,\n",
       "  0.97401315789473686,\n",
       "  0.96562499999999996,\n",
       "  0.97845394736842106,\n",
       "  0.96990131578947369,\n",
       "  0.95526315789473681,\n",
       "  0.97976973684210522,\n",
       "  0.9743421052631579,\n",
       "  0.97549342105263159,\n",
       "  0.97023026315789473,\n",
       "  0.97730263157894737,\n",
       "  0.97171052631578947,\n",
       "  0.96101973684210529,\n",
       "  0.96266447368421049],\n",
       " 'val_loss': [0.1456858627302082,\n",
       "  0.11448613395424266,\n",
       "  0.15188269723010692,\n",
       "  0.16941453708629858,\n",
       "  0.11993907476334195,\n",
       "  0.10326256542221496,\n",
       "  0.13272506904445197,\n",
       "  0.08309021011779183,\n",
       "  0.17196557188504621,\n",
       "  0.15256421246418828,\n",
       "  0.088757036763586497,\n",
       "  0.14223115630447863,\n",
       "  0.13601546065979883,\n",
       "  0.16843709239834234,\n",
       "  0.11502785375831943,\n",
       "  0.11719628957737434,\n",
       "  0.22275423721263282,\n",
       "  0.15710041473962758]}"
      ]
     },
     "execution_count": 25,
     "metadata": {},
     "output_type": "execute_result"
    }
   ],
   "source": [
    "history.history"
   ]
  }
 ],
 "metadata": {
  "kernelspec": {
   "display_name": "Python [conda env:gpu_keras2_tf16_py36]",
   "language": "python",
   "name": "conda-env-gpu_keras2_tf16_py36-py"
  },
  "language_info": {
   "codemirror_mode": {
    "name": "ipython",
    "version": 3
   },
   "file_extension": ".py",
   "mimetype": "text/x-python",
   "name": "python",
   "nbconvert_exporter": "python",
   "pygments_lexer": "ipython3",
   "version": "3.6.4"
  }
 },
 "nbformat": 4,
 "nbformat_minor": 2
}
