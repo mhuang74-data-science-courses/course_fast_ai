{
 "cells": [
  {
   "cell_type": "markdown",
   "metadata": {},
   "source": [
    "## boilerplate imports"
   ]
  },
  {
   "cell_type": "code",
   "execution_count": 1,
   "metadata": {},
   "outputs": [],
   "source": [
    "import pandas as pd\n",
    "import matplotlib.pyplot as plt\n",
    "import seaborn as sns\n",
    "import numpy as np\n",
    "from scipy.stats import norm\n",
    "from sklearn.preprocessing import StandardScaler\n",
    "from scipy import stats\n",
    "from scipy import misc\n",
    "import warnings\n",
    "warnings.filterwarnings('ignore')\n",
    "%matplotlib inline"
   ]
  },
  {
   "cell_type": "markdown",
   "metadata": {},
   "source": [
    "## Download data "
   ]
  },
  {
   "cell_type": "code",
   "execution_count": 2,
   "metadata": {},
   "outputs": [],
   "source": [
    "IMAGE_ROOT = \"/home/mhuang/data/planes_satellite\"\n",
    "IMAGE_PATH = IMAGE_ROOT + \"/images\"\n",
    "\n",
    "DATA_BUNDLE_FILENAME = \"planesnet_bundle.zip\"\n",
    "DATA_IMAGES_FILENAME = \"planesnet.zip\""
   ]
  },
  {
   "cell_type": "code",
   "execution_count": 3,
   "metadata": {},
   "outputs": [],
   "source": [
    "!rm -rf $IMAGE_ROOT"
   ]
  },
  {
   "cell_type": "code",
   "execution_count": 4,
   "metadata": {},
   "outputs": [],
   "source": [
    "!mkdir -p $IMAGE_ROOT"
   ]
  },
  {
   "cell_type": "markdown",
   "metadata": {},
   "source": [
    "### get data from kaggle datasets"
   ]
  },
  {
   "cell_type": "markdown",
   "metadata": {},
   "source": [
    "For some reason can't download using Kaggle's \"Download\" link. So download via link beload and try to grab the latest cloud download link.\n",
    "\n",
    "https://www.kaggle.com/rhammell/planesnet/data"
   ]
  },
  {
   "cell_type": "markdown",
   "metadata": {},
   "source": [
    "!curl \"https://storage.googleapis.com/kaggle-datasets/1197/14776/planesnet.zip?GoogleAccessId=web-data@kaggle-161607.iam.gserviceaccount.com&Expires=1525696233&Signature=rd9YtBk1YAWdfDk%2BdS1HVxJbfCZoiYfv%2FTchAVcTRiobMubYp28xHVyN3aZdGeT3aWwhM9paEbnMgWwqcyww7rXV4gc8jrz9lozOdDKlllwBiwqrOSfvNOkxMhKhK8TmKalnD3GZJrL25TyGtxkoPbP4FLw7VSLHaDRqhrGLvLUzKKb%2FGAez%2BCGJ35CUAC6HK6Kmu5QcJqn2mfXRPZm0qLNQigvTzsUGGSzZwlKwF%2Fp1rlNvId3qc9A0Lau%2F7FDKb30zt%2BTzse8lpiD1yPdIK%2B6YC4XVccEYeXDGCwLkmav6XESk9z%2Fk%2B9aeWE9WsHdI5tbNlrHI0HMcZ6yWOIYXpw%3D%3D\" > $IMAGE_ROOT/$DATA_BUNDLE_FILENAME"
   ]
  },
  {
   "cell_type": "code",
   "execution_count": 5,
   "metadata": {},
   "outputs": [
    {
     "name": "stdout",
     "output_type": "stream",
     "text": [
      "Archive:  /home/mhuang/downloads/planesnet_bundle.zip\n",
      "  inflating: /home/mhuang/data/planes_satellite/planesnet.json  \n",
      "  inflating: /home/mhuang/data/planes_satellite/planesnet.zip  \n"
     ]
    }
   ],
   "source": [
    "!unzip -o /home/mhuang/downloads/$DATA_BUNDLE_FILENAME -d $IMAGE_ROOT"
   ]
  },
  {
   "cell_type": "code",
   "execution_count": 6,
   "metadata": {},
   "outputs": [
    {
     "name": "stdout",
     "output_type": "stream",
     "text": [
      "No errors detected in compressed data of /home/mhuang/data/planes_satellite/planesnet.zip.\r\n"
     ]
    }
   ],
   "source": [
    "!unzip -q -t $IMAGE_ROOT/$DATA_IMAGES_FILENAME"
   ]
  },
  {
   "cell_type": "code",
   "execution_count": 7,
   "metadata": {},
   "outputs": [],
   "source": [
    "!unzip -o -q -j $IMAGE_ROOT/$DATA_IMAGES_FILENAME -d $IMAGE_PATH"
   ]
  },
  {
   "cell_type": "code",
   "execution_count": 8,
   "metadata": {
    "scrolled": false
   },
   "outputs": [
    {
     "name": "stdout",
     "output_type": "stream",
     "text": [
      "total 128000\n",
      "-rw-rw-r-- 1 mhuang mhuang  906 Jan 21 19:37 1__20170729_175335_101d__-118.40592455007884_33.93955085537867.png\n",
      "-rw-rw-r-- 1 mhuang mhuang  764 Jan 21 19:37 1__20170729_175107_1036__-118.41833221627427_33.940172226013956.png\n",
      "-rw-rw-r-- 1 mhuang mhuang  804 Jan 21 19:37 1__20170728_180813_1039__-121.58701779603875_38.694769242571724.png\n",
      "-rw-rw-r-- 1 mhuang mhuang  789 Jan 21 19:37 1__20170728_175003_102a__-118.4037708318591_33.941100279947925.png\n",
      "-rw-rw-r-- 1 mhuang mhuang  863 Jan 21 19:37 1__20170728_175002_102a__-118.40332877746077_33.94671287238693.png\n",
      "-rw-rw-r-- 1 mhuang mhuang  914 Jan 21 19:37 1__20170727_175114_0f3f__-118.40323269335445_33.946344345012726.png\n",
      "-rw-rw-r-- 1 mhuang mhuang  929 Jan 21 19:37 1__20170727_175114_0f3f__-118.38581188623972_33.93494470621571.png\n",
      "-rw-rw-r-- 1 mhuang mhuang  709 Jan 21 19:37 1__20170726_180807_1022__-122.38824470631792_37.61969954191162.png\n",
      "-rw-rw-r-- 1 mhuang mhuang  841 Jan 21 19:37 1__20170726_174854_0f10__-117.8611940333088_33.68107837904123.png\n",
      "ls: write error: Broken pipe\n"
     ]
    }
   ],
   "source": [
    "!ls -ltr $IMAGE_PATH | head"
   ]
  },
  {
   "cell_type": "markdown",
   "metadata": {},
   "source": [
    "## split images into train and validate using using sklearn"
   ]
  },
  {
   "cell_type": "code",
   "execution_count": 9,
   "metadata": {},
   "outputs": [],
   "source": [
    "import shutil\n",
    "import glob\n",
    "import os.path as path\n",
    "from sklearn.cross_validation import train_test_split\n",
    "\n"
   ]
  },
  {
   "cell_type": "code",
   "execution_count": 10,
   "metadata": {},
   "outputs": [],
   "source": [
    "!rm -rf $IMAGE_PATH/train $IMAGE_PATH/valid $IMAGE_PATH/test"
   ]
  },
  {
   "cell_type": "markdown",
   "metadata": {},
   "source": [
    "### split negative images first"
   ]
  },
  {
   "cell_type": "code",
   "execution_count": 11,
   "metadata": {},
   "outputs": [],
   "source": [
    "# reserve some files for testing\n",
    "TEST_RATIO = 0.05"
   ]
  },
  {
   "cell_type": "code",
   "execution_count": 12,
   "metadata": {
    "scrolled": true
   },
   "outputs": [],
   "source": [
    "!mkdir -p $IMAGE_PATH/train/0 $IMAGE_PATH/test/0\n",
    "\n",
    "# load negave images which always start with \"0_\"\n",
    "\n",
    "X_neg = y_neg = glob.glob(path.join(IMAGE_PATH, '0_*.png'))\n",
    "X_neg_train, X_neg_test, y_neg_train, y_neg_test = train_test_split(X_neg, y_neg, test_size=TEST_RATIO, random_state=None)\n",
    "\n",
    "# train\n",
    "\n",
    "for x in X_neg_train:\n",
    "    \n",
    "    try:\n",
    "        shutil.move(x, IMAGE_PATH + \"/train/0\")\n",
    "    except OSError as err: \n",
    "        print(\"Error '{}' when moving file {} to target dir {}\".format(err, x, target_dir))\n",
    "\n",
    "# test\n",
    "\n",
    "for x in X_neg_test:\n",
    "    \n",
    "    try:\n",
    "        shutil.move(x, IMAGE_PATH + \"/test/0\")\n",
    "    except OSError as err: \n",
    "        print(\"Error '{}' when moving file {} to target dir {}\".format(err, x, target_dir))\n",
    "        \n"
   ]
  },
  {
   "cell_type": "markdown",
   "metadata": {},
   "source": [
    "### then split positive images "
   ]
  },
  {
   "cell_type": "code",
   "execution_count": 13,
   "metadata": {},
   "outputs": [],
   "source": [
    "!mkdir -p $IMAGE_PATH/train/1 $IMAGE_PATH/test/1\n",
    "\n",
    "# load positive images which always start with \"1_\"\n",
    "\n",
    "X_pos = y_pos = glob.glob(path.join(IMAGE_PATH, '1_*.png'))\n",
    "X_pos_train, X_pos_test, y_pos_train, y_pos_test = train_test_split(X_pos, y_pos, test_size=TEST_RATIO, random_state=None)\n",
    "\n",
    "# train\n",
    "\n",
    "for x in X_pos_train:\n",
    "    \n",
    "    try:\n",
    "        shutil.move(x, IMAGE_PATH + \"/train/1\")\n",
    "    except OSError as err: \n",
    "        print(\"Error '{}' when moving file {} to target dir {}\".format(err, x, target_dir))\n",
    "\n",
    "# test\n",
    "\n",
    "for x in X_pos_test:\n",
    "    \n",
    "    try:\n",
    "        shutil.move(x, IMAGE_PATH + \"/test/1\")\n",
    "    except OSError as err: \n",
    "        print(\"Error '{}' when moving file {} to target dir {}\".format(err, x, target_dir))"
   ]
  },
  {
   "cell_type": "markdown",
   "metadata": {},
   "source": [
    "## create CNN model"
   ]
  },
  {
   "cell_type": "code",
   "execution_count": 14,
   "metadata": {},
   "outputs": [
    {
     "name": "stderr",
     "output_type": "stream",
     "text": [
      "Using TensorFlow backend.\n"
     ]
    }
   ],
   "source": [
    "# imports\n",
    "\n",
    "from keras.models import Sequential\n",
    "from keras.layers import Dense, Flatten, Conv2D, MaxPooling2D, Activation, Dropout, InputLayer, BatchNormalization\n",
    "from keras.optimizers import RMSprop, Adam\n",
    "from keras.utils import np_utils\n",
    "from keras import initializers\n",
    "from keras import backend as K\n",
    "from keras.callbacks import TensorBoard"
   ]
  },
  {
   "cell_type": "markdown",
   "metadata": {},
   "source": [
    "### model params"
   ]
  },
  {
   "cell_type": "code",
   "execution_count": 15,
   "metadata": {},
   "outputs": [],
   "source": [
    "pool_size = (2, 2)                    # size of poolin area for max pooling\n",
    "prob_drop_conv = 0.25                  # drop probability for dropout @ conv layer\n",
    "prob_drop_hidden = 0.5                # drop probability for dropout @ fc layer\n",
    "image_shape=(20,20,3)"
   ]
  },
  {
   "cell_type": "code",
   "execution_count": 16,
   "metadata": {
    "scrolled": false
   },
   "outputs": [
    {
     "name": "stdout",
     "output_type": "stream",
     "text": [
      "_________________________________________________________________\n",
      "Layer (type)                 Output Shape              Param #   \n",
      "=================================================================\n",
      "input_1 (InputLayer)         (None, 20, 20, 3)         0         \n",
      "_________________________________________________________________\n",
      "batch_normalization_1 (Batch (None, 20, 20, 3)         12        \n",
      "_________________________________________________________________\n",
      "conv2d_1 (Conv2D)            (None, 18, 18, 32)        896       \n",
      "_________________________________________________________________\n",
      "activation_1 (Activation)    (None, 18, 18, 32)        0         \n",
      "_________________________________________________________________\n",
      "max_pooling2d_1 (MaxPooling2 (None, 9, 9, 32)          0         \n",
      "_________________________________________________________________\n",
      "dropout_1 (Dropout)          (None, 9, 9, 32)          0         \n",
      "_________________________________________________________________\n",
      "conv2d_2 (Conv2D)            (None, 7, 7, 64)          18496     \n",
      "_________________________________________________________________\n",
      "activation_2 (Activation)    (None, 7, 7, 64)          0         \n",
      "_________________________________________________________________\n",
      "dropout_2 (Dropout)          (None, 7, 7, 64)          0         \n",
      "_________________________________________________________________\n",
      "conv2d_3 (Conv2D)            (None, 5, 5, 128)         73856     \n",
      "_________________________________________________________________\n",
      "activation_3 (Activation)    (None, 5, 5, 128)         0         \n",
      "_________________________________________________________________\n",
      "max_pooling2d_2 (MaxPooling2 (None, 3, 3, 128)         0         \n",
      "_________________________________________________________________\n",
      "flatten_1 (Flatten)          (None, 1152)              0         \n",
      "_________________________________________________________________\n",
      "dropout_3 (Dropout)          (None, 1152)              0         \n",
      "_________________________________________________________________\n",
      "dense_1 (Dense)              (None, 2)                 2306      \n",
      "_________________________________________________________________\n",
      "activation_4 (Activation)    (None, 2)                 0         \n",
      "=================================================================\n",
      "Total params: 95,566\n",
      "Trainable params: 95,560\n",
      "Non-trainable params: 6\n",
      "_________________________________________________________________\n"
     ]
    }
   ],
   "source": [
    "model = Sequential()\n",
    "\n",
    "# input layer\n",
    "model.add(InputLayer(input_shape=image_shape))\n",
    "\n",
    "# batch normalization\n",
    "model.add(BatchNormalization())\n",
    "\n",
    "# conv1 layer\n",
    "model.add(Conv2D(32, (3,3), padding='valid', kernel_initializer='random_normal'))\n",
    "model.add(Activation('relu'))\n",
    "model.add(MaxPooling2D(pool_size=pool_size, strides=(2, 2), padding='same'))\n",
    "model.add(Dropout(prob_drop_conv))\n",
    "\n",
    "# conv2 layer\n",
    "model.add(Conv2D(64, (3,3), padding='valid', kernel_initializer='random_normal'))\n",
    "model.add(Activation('relu'))\n",
    "# model.add(MaxPooling2D(pool_size=pool_size, strides=(2, 2), padding='same'))\n",
    "model.add(Dropout(prob_drop_conv))\n",
    "\n",
    "# conv3 layer\n",
    "model.add(Conv2D(128, (3,3), padding='valid', kernel_initializer='random_normal'))\n",
    "model.add(Activation('relu'))\n",
    "\n",
    "# max pooling and flatten\n",
    "model.add(MaxPooling2D(pool_size=pool_size, strides=(2, 2), padding='same'))\n",
    "model.add(Flatten())\n",
    "model.add(Dropout(prob_drop_conv))\n",
    "\n",
    "# fc1 layer\n",
    "# what \"units\" values work best here ??\n",
    "# model.add(Dense(units=60, kernel_initializer='random_normal'))\n",
    "# model.add(Activation('relu'))\n",
    "# model.add(Dropout(prob_drop_hidden))\n",
    "\n",
    "# fc2 layer\n",
    "model.add(Dense(units=2, kernel_initializer='random_normal'))\n",
    "model.add(Activation('sigmoid'))\n",
    "\n",
    "rms = RMSprop(lr=0.001, rho=0.9)\n",
    "adam = Adam(lr=0.001)\n",
    "          \n",
    "model.compile(optimizer=adam, loss='binary_crossentropy', metrics=['binary_accuracy'])\n",
    "model.summary()"
   ]
  },
  {
   "cell_type": "markdown",
   "metadata": {},
   "source": [
    "##  set up data generators using Keras Image Generator"
   ]
  },
  {
   "cell_type": "markdown",
   "metadata": {},
   "source": [
    "### training parameters"
   ]
  },
  {
   "cell_type": "code",
   "execution_count": 17,
   "metadata": {},
   "outputs": [],
   "source": [
    "BATCH_SIZE=32\n",
    "VALIDATION_SPLIT=0.20\n",
    "EPOCHS=300"
   ]
  },
  {
   "cell_type": "markdown",
   "metadata": {},
   "source": [
    "### training and validation data generator"
   ]
  },
  {
   "cell_type": "code",
   "execution_count": 18,
   "metadata": {},
   "outputs": [
    {
     "name": "stdout",
     "output_type": "stream",
     "text": [
      "Found 24320 images belonging to 2 classes.\n",
      "Found 6080 images belonging to 2 classes.\n"
     ]
    }
   ],
   "source": [
    "from keras.preprocessing import image\n",
    "\n",
    "IMAGE_SIZE=(20,20)\n",
    "\n",
    "train_datagen = image.ImageDataGenerator(\n",
    "    rescale=1./255,\n",
    "    validation_split=VALIDATION_SPLIT,\n",
    "    rotation_range=90.0,\n",
    "    width_shift_range=0.0,\n",
    "    height_shift_range=0.0,\n",
    "    shear_range=0.0,\n",
    "    zoom_range=0.0,\n",
    "    horizontal_flip=True,\n",
    "    vertical_flip=True,\n",
    "    fill_mode='nearest',    \n",
    "    )\n",
    "\n",
    "train_generator = train_datagen.flow_from_directory(\n",
    "    IMAGE_PATH + \"/train\",\n",
    "    target_size=IMAGE_SIZE,\n",
    "    color_mode=\"rgb\",\n",
    "    batch_size=BATCH_SIZE,\n",
    "    class_mode='categorical',\n",
    "    subset='training',\n",
    "#    save_to_dir='/home/mhuang/augmented_images',\n",
    "#    save_prefix='aug-'\n",
    "    )\n",
    "\n",
    "valid_generator = train_datagen.flow_from_directory(\n",
    "    IMAGE_PATH + \"/train\",\n",
    "    target_size=IMAGE_SIZE,\n",
    "    color_mode=\"rgb\",\n",
    "    batch_size=BATCH_SIZE,\n",
    "    class_mode='categorical',\n",
    "    subset='validation'\n",
    "    )\n"
   ]
  },
  {
   "cell_type": "markdown",
   "metadata": {},
   "source": [
    "### evaluation data generator"
   ]
  },
  {
   "cell_type": "code",
   "execution_count": 19,
   "metadata": {},
   "outputs": [
    {
     "name": "stdout",
     "output_type": "stream",
     "text": [
      "Found 1600 images belonging to 2 classes.\n"
     ]
    }
   ],
   "source": [
    "test_datagen = image.ImageDataGenerator(\n",
    "    rescale=1./255,\n",
    "    )\n",
    "\n",
    "test_generator = test_datagen.flow_from_directory(\n",
    "    IMAGE_PATH + \"/test\",\n",
    "    target_size=IMAGE_SIZE,\n",
    "    color_mode=\"rgb\",\n",
    "    batch_size=BATCH_SIZE,\n",
    "    class_mode='categorical',\n",
    "    )\n",
    "\n"
   ]
  },
  {
   "cell_type": "markdown",
   "metadata": {},
   "source": [
    "## plot a few images"
   ]
  },
  {
   "cell_type": "code",
   "execution_count": 20,
   "metadata": {},
   "outputs": [],
   "source": [
    "def plots(ims, figsize=(12,8), dpi=96, rows=1, interp=False, titles=None, main_title=\"Diagram\"):\n",
    "    f = plt.figure(figsize=figsize, dpi=dpi)\n",
    "    plt.title(main_title)\n",
    "    plt.axis('off')\n",
    "    for i in range(len(ims)):\n",
    "        sp = f.add_subplot(rows, len(ims)//rows, i+1)\n",
    "        if titles is not None:\n",
    "            sp.set_title(titles[i], fontsize=10)\n",
    "        plt.imshow(ims[i], interpolation=None if interp else 'none', cmap='gray')\n",
    "        plt.axis('off')"
   ]
  },
  {
   "cell_type": "code",
   "execution_count": 21,
   "metadata": {},
   "outputs": [
    {
     "name": "stdout",
     "output_type": "stream",
     "text": [
      "0 (32, 20, 20, 3)\n"
     ]
    },
    {
     "data": {
      "image/png": "[encoded data removed]",
      "text/plain": [
       "<matplotlib.figure.Figure at 0x7f6e80110518>"
      ]
     },
     "metadata": {},
     "output_type": "display_data"
    }
   ],
   "source": [
    "batches=0\n",
    "\n",
    "for x_batch, y_batch in train_generator:\n",
    "    print(batches, x_batch.shape)\n",
    "    label_id = y_batch.argmax(axis=1)\n",
    "    #label_id = y_batch\n",
    "    \n",
    "    #num_to_dump = 2\n",
    "    #print(batches, x_batch[:num_to_dump,:,:,:])\n",
    "    #print(batches, label_id[:num_to_dump])\n",
    "\n",
    "    plots(x_batch, titles=label_id, rows=4, main_title=\"Labeled Training Data\")\n",
    "    batches += 1\n",
    "    if batches >= 1:\n",
    "        break"
   ]
  },
  {
   "cell_type": "markdown",
   "metadata": {},
   "source": [
    "## train model"
   ]
  },
  {
   "cell_type": "markdown",
   "metadata": {},
   "source": [
    "### early stop callback"
   ]
  },
  {
   "cell_type": "code",
   "execution_count": 22,
   "metadata": {},
   "outputs": [],
   "source": [
    "from keras.callbacks import EarlyStopping\n",
    "\n",
    "PATIENCE = 30\n",
    "\n",
    "early_stopping_calllback = EarlyStopping(monitor='val_loss', min_delta=0, patience=PATIENCE, verbose=1, mode='auto')"
   ]
  },
  {
   "cell_type": "markdown",
   "metadata": {},
   "source": [
    "### tensorboard callback"
   ]
  },
  {
   "cell_type": "code",
   "execution_count": 23,
   "metadata": {},
   "outputs": [
    {
     "name": "stdout",
     "output_type": "stream",
     "text": [
      "tensorboard log path: /home/mhuang/tensorboard_logs/tutorial/planes_satellite/20180508-140206\n"
     ]
    }
   ],
   "source": [
    "from keras.callbacks import TensorBoard\n",
    "import time\n",
    "\n",
    "timestamp = time.strftime(\"%Y%m%d-%H%M%S\")\n",
    "log_dir = '/home/mhuang/tensorboard_logs/tutorial/planes_satellite/' + timestamp\n",
    "print(\"tensorboard log path: {}\".format(log_dir))\n",
    "\n",
    "tensorboard_callback = TensorBoard(log_dir=log_dir, histogram_freq=0, write_graph=True, write_grads=True, batch_size=2*BATCH_SIZE, write_images=True)"
   ]
  },
  {
   "cell_type": "markdown",
   "metadata": {},
   "source": [
    "### model checkpoint callback"
   ]
  },
  {
   "cell_type": "code",
   "execution_count": null,
   "metadata": {},
   "outputs": [],
   "source": [
    "from keras.callbacks import ModelCheckpoint\n",
    "\n",
    "checkpoint_root = '/home/mhuang/model_checkpoints/planes_satellite'\n",
    "checkpoint_filename = 'weights.{epoch:02d}-{val_loss:.4f}.hdf5'\n",
    "checkpoint_filepath = checkpoint_root + '/' + checkpoint_filename\n",
    "\n",
    "!mkdir -p $checkpoint_root\n",
    "\n",
    "model_checkpoint_callback = ModelCheckpoint(checkpoint_filepath, save_best_only=True, period=1, verbose=1)"
   ]
  },
  {
   "cell_type": "markdown",
   "metadata": {},
   "source": [
    "### << TRAINING MODEL >> "
   ]
  },
  {
   "cell_type": "code",
   "execution_count": null,
   "metadata": {},
   "outputs": [
    {
     "name": "stdout",
     "output_type": "stream",
     "text": [
      "Epoch 1/300\n",
      "760/760 [==============================] - 29s 38ms/step - loss: 0.2551 - binary_accuracy: 0.8912 - val_loss: 0.2002 - val_binary_accuracy: 0.9261\n",
      "\n",
      "Epoch 00001: val_loss improved from inf to 0.20024, saving model to /home/mhuang/model_checkpoints/planes_satellite/weights.01-0.2002.hdf5\n",
      "Epoch 2/300\n",
      "760/760 [==============================] - 17s 23ms/step - loss: 0.1817 - binary_accuracy: 0.9246 - val_loss: 0.1585 - val_binary_accuracy: 0.9553\n",
      "\n",
      "Epoch 00002: val_loss improved from 0.20024 to 0.15849, saving model to /home/mhuang/model_checkpoints/planes_satellite/weights.02-0.1585.hdf5\n",
      "Epoch 3/300\n",
      "760/760 [==============================] - 17s 23ms/step - loss: 0.1523 - binary_accuracy: 0.9390 - val_loss: 0.1416 - val_binary_accuracy: 0.9559\n",
      "\n",
      "Epoch 00003: val_loss improved from 0.15849 to 0.14165, saving model to /home/mhuang/model_checkpoints/planes_satellite/weights.03-0.1416.hdf5\n",
      "Epoch 4/300\n",
      "760/760 [==============================] - 17s 22ms/step - loss: 0.1353 - binary_accuracy: 0.9451 - val_loss: 0.1120 - val_binary_accuracy: 0.9648\n",
      "\n",
      "Epoch 00004: val_loss improved from 0.14165 to 0.11203, saving model to /home/mhuang/model_checkpoints/planes_satellite/weights.04-0.1120.hdf5\n",
      "Epoch 5/300\n",
      "760/760 [==============================] - 18s 24ms/step - loss: 0.1265 - binary_accuracy: 0.9513 - val_loss: 0.1454 - val_binary_accuracy: 0.9525\n",
      "\n",
      "Epoch 00005: val_loss did not improve\n",
      "Epoch 6/300\n",
      "760/760 [==============================] - 17s 23ms/step - loss: 0.1219 - binary_accuracy: 0.9521 - val_loss: 0.1080 - val_binary_accuracy: 0.9632\n",
      "\n",
      "Epoch 00006: val_loss improved from 0.11203 to 0.10798, saving model to /home/mhuang/model_checkpoints/planes_satellite/weights.06-0.1080.hdf5\n",
      "Epoch 7/300\n",
      "760/760 [==============================] - 17s 23ms/step - loss: 0.1150 - binary_accuracy: 0.9531 - val_loss: 0.1090 - val_binary_accuracy: 0.9611\n",
      "\n",
      "Epoch 00007: val_loss did not improve\n",
      "Epoch 8/300\n",
      "760/760 [==============================] - 17s 23ms/step - loss: 0.1077 - binary_accuracy: 0.9575 - val_loss: 0.0945 - val_binary_accuracy: 0.9688\n",
      "\n",
      "Epoch 00008: val_loss improved from 0.10798 to 0.09449, saving model to /home/mhuang/model_checkpoints/planes_satellite/weights.08-0.0945.hdf5\n",
      "Epoch 9/300\n",
      "760/760 [==============================] - 17s 23ms/step - loss: 0.1075 - binary_accuracy: 0.9583 - val_loss: 0.0876 - val_binary_accuracy: 0.9716\n",
      "\n",
      "Epoch 00009: val_loss improved from 0.09449 to 0.08755, saving model to /home/mhuang/model_checkpoints/planes_satellite/weights.09-0.0876.hdf5\n",
      "Epoch 10/300\n",
      "760/760 [==============================] - 17s 22ms/step - loss: 0.1067 - binary_accuracy: 0.9597 - val_loss: 0.1192 - val_binary_accuracy: 0.9593\n",
      "\n",
      "Epoch 00010: val_loss did not improve\n",
      "Epoch 11/300\n",
      "760/760 [==============================] - 18s 24ms/step - loss: 0.1029 - binary_accuracy: 0.9598 - val_loss: 0.0897 - val_binary_accuracy: 0.9739\n",
      "\n",
      "Epoch 00011: val_loss did not improve\n",
      "Epoch 12/300\n",
      "760/760 [==============================] - 17s 23ms/step - loss: 0.1030 - binary_accuracy: 0.9602 - val_loss: 0.0923 - val_binary_accuracy: 0.9711\n",
      "\n",
      "Epoch 00012: val_loss did not improve\n",
      "Epoch 13/300\n",
      "760/760 [==============================] - 17s 23ms/step - loss: 0.0989 - binary_accuracy: 0.9623 - val_loss: 0.0835 - val_binary_accuracy: 0.9741\n",
      "\n",
      "Epoch 00013: val_loss improved from 0.08755 to 0.08351, saving model to /home/mhuang/model_checkpoints/planes_satellite/weights.13-0.0835.hdf5\n",
      "Epoch 14/300\n",
      "760/760 [==============================] - 17s 23ms/step - loss: 0.0977 - binary_accuracy: 0.9623 - val_loss: 0.0794 - val_binary_accuracy: 0.9751\n",
      "\n",
      "Epoch 00014: val_loss improved from 0.08351 to 0.07944, saving model to /home/mhuang/model_checkpoints/planes_satellite/weights.14-0.0794.hdf5\n",
      "Epoch 15/300\n",
      "760/760 [==============================] - 17s 23ms/step - loss: 0.0947 - binary_accuracy: 0.9641 - val_loss: 0.0747 - val_binary_accuracy: 0.9752\n",
      "\n",
      "Epoch 00015: val_loss improved from 0.07944 to 0.07465, saving model to /home/mhuang/model_checkpoints/planes_satellite/weights.15-0.0747.hdf5\n",
      "Epoch 16/300\n",
      "760/760 [==============================] - 17s 23ms/step - loss: 0.0960 - binary_accuracy: 0.9625 - val_loss: 0.0898 - val_binary_accuracy: 0.9697\n",
      "\n",
      "Epoch 00016: val_loss did not improve\n",
      "Epoch 17/300\n",
      "760/760 [==============================] - 17s 23ms/step - loss: 0.0942 - binary_accuracy: 0.9643 - val_loss: 0.1069 - val_binary_accuracy: 0.9583\n",
      "\n",
      "Epoch 00017: val_loss did not improve\n",
      "Epoch 18/300\n",
      "760/760 [==============================] - 17s 22ms/step - loss: 0.0936 - binary_accuracy: 0.9641 - val_loss: 0.0960 - val_binary_accuracy: 0.9655\n",
      "\n",
      "Epoch 00018: val_loss did not improve\n",
      "Epoch 19/300\n",
      "760/760 [==============================] - 17s 23ms/step - loss: 0.0905 - binary_accuracy: 0.9652 - val_loss: 0.1382 - val_binary_accuracy: 0.9399\n",
      "\n",
      "Epoch 00019: val_loss did not improve\n",
      "Epoch 20/300\n",
      "760/760 [==============================] - 17s 22ms/step - loss: 0.0882 - binary_accuracy: 0.9662 - val_loss: 0.0661 - val_binary_accuracy: 0.9802\n",
      "\n",
      "Epoch 00020: val_loss improved from 0.07465 to 0.06612, saving model to /home/mhuang/model_checkpoints/planes_satellite/weights.20-0.0661.hdf5\n",
      "Epoch 21/300\n",
      "760/760 [==============================] - 17s 23ms/step - loss: 0.0917 - binary_accuracy: 0.9655 - val_loss: 0.0869 - val_binary_accuracy: 0.9747\n",
      "\n",
      "Epoch 00021: val_loss did not improve\n",
      "Epoch 22/300\n",
      "760/760 [==============================] - 17s 23ms/step - loss: 0.0873 - binary_accuracy: 0.9664 - val_loss: 0.0776 - val_binary_accuracy: 0.9717\n",
      "\n",
      "Epoch 00022: val_loss did not improve\n",
      "Epoch 23/300\n",
      "760/760 [==============================] - 17s 23ms/step - loss: 0.0880 - binary_accuracy: 0.9681 - val_loss: 0.0671 - val_binary_accuracy: 0.9799\n",
      "\n",
      "Epoch 00023: val_loss did not improve\n",
      "Epoch 24/300\n",
      "760/760 [==============================] - 18s 24ms/step - loss: 0.0893 - binary_accuracy: 0.9653 - val_loss: 0.0737 - val_binary_accuracy: 0.9757\n",
      "\n",
      "Epoch 00024: val_loss did not improve\n",
      "Epoch 25/300\n",
      "760/760 [==============================] - 17s 23ms/step - loss: 0.0867 - binary_accuracy: 0.9668 - val_loss: 0.0958 - val_binary_accuracy: 0.9632\n",
      "\n",
      "Epoch 00025: val_loss did not improve\n",
      "Epoch 26/300\n",
      "760/760 [==============================] - 17s 23ms/step - loss: 0.0859 - binary_accuracy: 0.9677 - val_loss: 0.0867 - val_binary_accuracy: 0.9674\n",
      "\n",
      "Epoch 00026: val_loss did not improve\n",
      "Epoch 27/300\n",
      "760/760 [==============================] - 17s 23ms/step - loss: 0.0845 - binary_accuracy: 0.9687 - val_loss: 0.0672 - val_binary_accuracy: 0.9794\n",
      "\n",
      "Epoch 00027: val_loss did not improve\n",
      "Epoch 28/300\n",
      "760/760 [==============================] - 17s 23ms/step - loss: 0.0841 - binary_accuracy: 0.9682 - val_loss: 0.0774 - val_binary_accuracy: 0.9727\n",
      "\n",
      "Epoch 00028: val_loss did not improve\n",
      "Epoch 29/300\n",
      "760/760 [==============================] - 17s 23ms/step - loss: 0.0853 - binary_accuracy: 0.9696 - val_loss: 0.0578 - val_binary_accuracy: 0.9809\n",
      "\n",
      "Epoch 00029: val_loss improved from 0.06612 to 0.05781, saving model to /home/mhuang/model_checkpoints/planes_satellite/weights.29-0.0578.hdf5\n",
      "Epoch 30/300\n",
      "760/760 [==============================] - 17s 22ms/step - loss: 0.0832 - binary_accuracy: 0.9686 - val_loss: 0.0626 - val_binary_accuracy: 0.9807\n",
      "\n",
      "Epoch 00030: val_loss did not improve\n",
      "Epoch 31/300\n",
      "760/760 [==============================] - 17s 23ms/step - loss: 0.0815 - binary_accuracy: 0.9698 - val_loss: 0.0568 - val_binary_accuracy: 0.9800\n",
      "\n",
      "Epoch 00031: val_loss improved from 0.05781 to 0.05682, saving model to /home/mhuang/model_checkpoints/planes_satellite/weights.31-0.0568.hdf5\n",
      "Epoch 32/300\n",
      "760/760 [==============================] - 17s 23ms/step - loss: 0.0830 - binary_accuracy: 0.9689 - val_loss: 0.0799 - val_binary_accuracy: 0.9718\n",
      "\n",
      "Epoch 00032: val_loss did not improve\n",
      "Epoch 33/300\n",
      "760/760 [==============================] - 17s 23ms/step - loss: 0.0781 - binary_accuracy: 0.9704 - val_loss: 0.0712 - val_binary_accuracy: 0.9781\n",
      "\n",
      "Epoch 00033: val_loss did not improve\n",
      "Epoch 34/300\n",
      "760/760 [==============================] - 17s 23ms/step - loss: 0.0789 - binary_accuracy: 0.9714 - val_loss: 0.0692 - val_binary_accuracy: 0.9759\n",
      "\n",
      "Epoch 00034: val_loss did not improve\n",
      "Epoch 35/300\n"
     ]
    },
    {
     "name": "stdout",
     "output_type": "stream",
     "text": [
      "760/760 [==============================] - 17s 22ms/step - loss: 0.0818 - binary_accuracy: 0.9705 - val_loss: 0.0875 - val_binary_accuracy: 0.9692\n",
      "\n",
      "Epoch 00035: val_loss did not improve\n",
      "Epoch 36/300\n",
      "760/760 [==============================] - 17s 23ms/step - loss: 0.0788 - binary_accuracy: 0.9706 - val_loss: 0.0778 - val_binary_accuracy: 0.9690\n",
      "\n",
      "Epoch 00036: val_loss did not improve\n",
      "Epoch 37/300\n",
      "760/760 [==============================] - 17s 23ms/step - loss: 0.0786 - binary_accuracy: 0.9703 - val_loss: 0.0578 - val_binary_accuracy: 0.9799\n",
      "\n",
      "Epoch 00037: val_loss did not improve\n",
      "Epoch 38/300\n",
      "760/760 [==============================] - 17s 23ms/step - loss: 0.0803 - binary_accuracy: 0.9713 - val_loss: 0.0634 - val_binary_accuracy: 0.9779\n",
      "\n",
      "Epoch 00038: val_loss did not improve\n",
      "Epoch 39/300\n",
      "760/760 [==============================] - 17s 23ms/step - loss: 0.0828 - binary_accuracy: 0.9684 - val_loss: 0.0756 - val_binary_accuracy: 0.9750\n",
      "\n",
      "Epoch 00039: val_loss did not improve\n",
      "Epoch 40/300\n",
      "760/760 [==============================] - 17s 23ms/step - loss: 0.0794 - binary_accuracy: 0.9707 - val_loss: 0.0684 - val_binary_accuracy: 0.9745\n",
      "\n",
      "Epoch 00040: val_loss did not improve\n",
      "Epoch 41/300\n",
      "760/760 [==============================] - 17s 23ms/step - loss: 0.0786 - binary_accuracy: 0.9712 - val_loss: 0.0709 - val_binary_accuracy: 0.9762\n",
      "\n",
      "Epoch 00041: val_loss did not improve\n",
      "Epoch 42/300\n",
      "760/760 [==============================] - 17s 23ms/step - loss: 0.0763 - binary_accuracy: 0.9725 - val_loss: 0.0622 - val_binary_accuracy: 0.9808\n",
      "\n",
      "Epoch 00042: val_loss did not improve\n",
      "Epoch 43/300\n",
      "760/760 [==============================] - 17s 23ms/step - loss: 0.0783 - binary_accuracy: 0.9720 - val_loss: 0.0562 - val_binary_accuracy: 0.9811\n",
      "\n",
      "Epoch 00043: val_loss improved from 0.05682 to 0.05620, saving model to /home/mhuang/model_checkpoints/planes_satellite/weights.43-0.0562.hdf5\n",
      "Epoch 44/300\n",
      "760/760 [==============================] - 17s 23ms/step - loss: 0.0793 - binary_accuracy: 0.9709 - val_loss: 0.0516 - val_binary_accuracy: 0.9812\n",
      "\n",
      "Epoch 00044: val_loss improved from 0.05620 to 0.05162, saving model to /home/mhuang/model_checkpoints/planes_satellite/weights.44-0.0516.hdf5\n",
      "Epoch 45/300\n",
      "760/760 [==============================] - 17s 23ms/step - loss: 0.0762 - binary_accuracy: 0.9729 - val_loss: 0.0821 - val_binary_accuracy: 0.9722\n",
      "\n",
      "Epoch 00045: val_loss did not improve\n",
      "Epoch 46/300\n",
      "760/760 [==============================] - 17s 23ms/step - loss: 0.0796 - binary_accuracy: 0.9718 - val_loss: 0.0604 - val_binary_accuracy: 0.9820\n",
      "\n",
      "Epoch 00046: val_loss did not improve\n",
      "Epoch 47/300\n",
      "760/760 [==============================] - 17s 23ms/step - loss: 0.0754 - binary_accuracy: 0.9710 - val_loss: 0.0549 - val_binary_accuracy: 0.9817\n",
      "\n",
      "Epoch 00047: val_loss did not improve\n",
      "Epoch 48/300\n",
      "760/760 [==============================] - 17s 23ms/step - loss: 0.0792 - binary_accuracy: 0.9709 - val_loss: 0.0790 - val_binary_accuracy: 0.9711\n",
      "\n",
      "Epoch 00048: val_loss did not improve\n",
      "Epoch 49/300\n",
      "760/760 [==============================] - 17s 23ms/step - loss: 0.0772 - binary_accuracy: 0.9731 - val_loss: 0.0585 - val_binary_accuracy: 0.9794\n",
      "\n",
      "Epoch 00049: val_loss did not improve\n",
      "Epoch 50/300\n",
      "760/760 [==============================] - 17s 23ms/step - loss: 0.0742 - binary_accuracy: 0.9717 - val_loss: 0.0573 - val_binary_accuracy: 0.9826\n",
      "\n",
      "Epoch 00050: val_loss did not improve\n",
      "Epoch 51/300\n",
      "760/760 [==============================] - 17s 23ms/step - loss: 0.0745 - binary_accuracy: 0.9727 - val_loss: 0.0807 - val_binary_accuracy: 0.9702\n",
      "\n",
      "Epoch 00051: val_loss did not improve\n",
      "Epoch 52/300\n",
      "760/760 [==============================] - 17s 23ms/step - loss: 0.0771 - binary_accuracy: 0.9717 - val_loss: 0.0576 - val_binary_accuracy: 0.9780\n",
      "\n",
      "Epoch 00052: val_loss did not improve\n",
      "Epoch 53/300\n",
      "760/760 [==============================] - 17s 23ms/step - loss: 0.0759 - binary_accuracy: 0.9711 - val_loss: 0.0713 - val_binary_accuracy: 0.9755\n",
      "\n",
      "Epoch 00053: val_loss did not improve\n",
      "Epoch 54/300\n",
      "760/760 [==============================] - 17s 23ms/step - loss: 0.0731 - binary_accuracy: 0.9735 - val_loss: 0.0567 - val_binary_accuracy: 0.9814\n",
      "\n",
      "Epoch 00054: val_loss did not improve\n",
      "Epoch 55/300\n",
      "760/760 [==============================] - 17s 22ms/step - loss: 0.0730 - binary_accuracy: 0.9732 - val_loss: 0.0489 - val_binary_accuracy: 0.9839\n",
      "\n",
      "Epoch 00055: val_loss improved from 0.05162 to 0.04890, saving model to /home/mhuang/model_checkpoints/planes_satellite/weights.55-0.0489.hdf5\n",
      "Epoch 56/300\n",
      "760/760 [==============================] - 17s 22ms/step - loss: 0.0770 - binary_accuracy: 0.9719 - val_loss: 0.0733 - val_binary_accuracy: 0.9744\n",
      "\n",
      "Epoch 00056: val_loss did not improve\n",
      "Epoch 57/300\n",
      "760/760 [==============================] - 17s 23ms/step - loss: 0.0748 - binary_accuracy: 0.9724 - val_loss: 0.0853 - val_binary_accuracy: 0.9671\n",
      "\n",
      "Epoch 00057: val_loss did not improve\n",
      "Epoch 58/300\n",
      "760/760 [==============================] - 17s 23ms/step - loss: 0.0720 - binary_accuracy: 0.9734 - val_loss: 0.0696 - val_binary_accuracy: 0.9757\n",
      "\n",
      "Epoch 00058: val_loss did not improve\n",
      "Epoch 59/300\n",
      "760/760 [==============================] - 17s 23ms/step - loss: 0.0739 - binary_accuracy: 0.9731 - val_loss: 0.0608 - val_binary_accuracy: 0.9822\n",
      "\n",
      "Epoch 00059: val_loss did not improve\n",
      "Epoch 60/300\n",
      "760/760 [==============================] - 17s 23ms/step - loss: 0.0711 - binary_accuracy: 0.9739 - val_loss: 0.0943 - val_binary_accuracy: 0.9664\n",
      "\n",
      "Epoch 00060: val_loss did not improve\n",
      "Epoch 61/300\n",
      "760/760 [==============================] - 17s 23ms/step - loss: 0.0730 - binary_accuracy: 0.9737 - val_loss: 0.0500 - val_binary_accuracy: 0.9845\n",
      "\n",
      "Epoch 00061: val_loss did not improve\n",
      "Epoch 62/300\n",
      "760/760 [==============================] - 17s 23ms/step - loss: 0.0720 - binary_accuracy: 0.9750 - val_loss: 0.0767 - val_binary_accuracy: 0.9717\n",
      "\n",
      "Epoch 00062: val_loss did not improve\n",
      "Epoch 63/300\n",
      "548/760 [====================>.........] - ETA: 3s - loss: 0.0738 - binary_accuracy: 0.9736"
     ]
    }
   ],
   "source": [
    "history = model.fit_generator(train_generator, \n",
    "                             epochs=EPOCHS,\n",
    "                             verbose=1,\n",
    "                             shuffle=True,\n",
    "                             validation_data=valid_generator,\n",
    "                             callbacks=[early_stopping_calllback, tensorboard_callback, model_checkpoint_callback]\n",
    "                             )"
   ]
  },
  {
   "cell_type": "markdown",
   "metadata": {},
   "source": [
    "## evaluate"
   ]
  },
  {
   "cell_type": "markdown",
   "metadata": {},
   "source": [
    "### current model and weights"
   ]
  },
  {
   "cell_type": "code",
   "execution_count": null,
   "metadata": {},
   "outputs": [],
   "source": [
    "evaluation = model.evaluate_generator(test_generator)\n",
    "print('Summary: Loss over the test dataset: %.4f, Accuracy: %.4f' % (evaluation[0], evaluation[1]))"
   ]
  },
  {
   "cell_type": "markdown",
   "metadata": {},
   "source": [
    "### evaluate using best saved model and weights"
   ]
  },
  {
   "cell_type": "code",
   "execution_count": null,
   "metadata": {},
   "outputs": [],
   "source": [
    "list_of_models = glob.glob(checkpoint_root + '/*.hdf5')\n",
    "latest_model = max(list_of_models, key=path.getctime)\n",
    "print(latest_model)"
   ]
  },
  {
   "cell_type": "code",
   "execution_count": null,
   "metadata": {},
   "outputs": [],
   "source": [
    "from keras.models import load_model\n",
    "\n",
    "best_model = load_model(latest_model)"
   ]
  },
  {
   "cell_type": "code",
   "execution_count": null,
   "metadata": {},
   "outputs": [],
   "source": [
    "evaluation = best_model.evaluate_generator(test_generator)\n",
    "print('Summary: Loss over the test dataset: %.4f, Accuracy: %.4f' % (evaluation[0], evaluation[1]))"
   ]
  },
  {
   "cell_type": "markdown",
   "metadata": {},
   "source": [
    "### using best model, continue training using smaller learning rate"
   ]
  },
  {
   "cell_type": "markdown",
   "metadata": {},
   "source": [
    "        \n",
    "best_model.compile(optimizer=Adam(lr=0.0001), loss='binary_crossentropy', metrics=['binary_accuracy'])"
   ]
  },
  {
   "cell_type": "markdown",
   "metadata": {},
   "source": [
    "history = best_model.fit_generator(train_generator, \n",
    "                             epochs=EPOCHS,\n",
    "                             verbose=1,\n",
    "                             shuffle=True,\n",
    "                             validation_data=valid_generator,\n",
    "                             callbacks=[early_stopping_calllback, tensorboard_callback, model_checkpoint_callback]\n",
    "                             )"
   ]
  },
  {
   "cell_type": "markdown",
   "metadata": {},
   "source": [
    "## predict"
   ]
  },
  {
   "cell_type": "markdown",
   "metadata": {},
   "source": [
    "### plot some predictions"
   ]
  },
  {
   "cell_type": "code",
   "execution_count": null,
   "metadata": {},
   "outputs": [],
   "source": [
    "# predict a batch\n",
    "\n",
    "(X_batch, y_batch) = next(test_generator)\n",
    "\n",
    "y_batch_true = [str(val) for val in y_batch.argmax(axis=1)]\n",
    "\n",
    "# make prediction\n",
    "predictions = best_model.predict(X_batch)\n",
    "\n",
    "y_batch_predict = [str(val) for val in predictions.argmax(axis=1)]\n",
    "\n",
    "labels_tuple = zip(y_batch_predict, y_batch_true)\n",
    "labels = ['/'.join(t) for t in labels_tuple]\n",
    "\n",
    "plots(X_batch, titles=labels, rows=4, main_title=\"Predictions\")\n",
    "\n",
    "\n"
   ]
  },
  {
   "cell_type": "markdown",
   "metadata": {},
   "source": [
    "### plot some mis-predictions"
   ]
  },
  {
   "cell_type": "code",
   "execution_count": null,
   "metadata": {},
   "outputs": [],
   "source": [
    "# define larger batch size for generator\n",
    "\n",
    "large_test_generator = test_datagen.flow_from_directory(\n",
    "    IMAGE_PATH + \"/test\",\n",
    "    target_size=IMAGE_SIZE,\n",
    "    color_mode=\"rgb\",\n",
    "    batch_size=2*BATCH_SIZE,\n",
    "    class_mode='categorical',\n",
    "    )"
   ]
  },
  {
   "cell_type": "code",
   "execution_count": null,
   "metadata": {},
   "outputs": [],
   "source": [
    "# predict a larger batch\n",
    "\n",
    "(X_batch, y_batch) = next(large_test_generator)\n",
    "\n",
    "y_batch_true = [str(val) for val in y_batch.argmax(axis=1)]\n",
    "\n",
    "# make prediction\n",
    "predictions = best_model.predict(X_batch)\n",
    "\n",
    "y_batch_predict = [str(val) for val in predictions.argmax(axis=1)]\n",
    "\n",
    "labels_tuple = zip(y_batch_predict, y_batch_true)\n",
    "labels = ['/'.join(t) for t in labels_tuple]\n",
    "\n",
    "errors = np.array(y_batch.argmax(axis=1)) - np.array(predictions.argmax(axis=1))\n",
    "\n",
    "error_idx = np.nonzero(errors)[0]\n",
    "\n",
    "if len(error_idx) > 0:\n",
    "    X_batch_error = X_batch[error_idx]\n",
    "    labels_error = [labels[idx] for idx in error_idx]\n",
    "    \n",
    "    rows = 1 + (len(error_idx) // 8)\n",
    "    \n",
    "    plots(X_batch_error, titles=labels_error, rows=rows, main_title=\"Wrong Predictions\")"
   ]
  }
 ],
 "metadata": {
  "kernelspec": {
   "display_name": "Python [conda env:gpu_keras2_tf16_py36]",
   "language": "python",
   "name": "conda-env-gpu_keras2_tf16_py36-py"
  },
  "language_info": {
   "codemirror_mode": {
    "name": "ipython",
    "version": 3
   },
   "file_extension": ".py",
   "mimetype": "text/x-python",
   "name": "python",
   "nbconvert_exporter": "python",
   "pygments_lexer": "ipython3",
   "version": "3.6.4"
  }
 },
 "nbformat": 4,
 "nbformat_minor": 2
}
